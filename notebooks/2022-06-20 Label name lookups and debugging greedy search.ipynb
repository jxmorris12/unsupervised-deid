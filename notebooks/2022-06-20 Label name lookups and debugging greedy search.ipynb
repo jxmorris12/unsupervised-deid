{
 "cells": [
  {
   "cell_type": "code",
   "execution_count": 2,
   "id": "4fdd6c61-83e2-43aa-a3ce-bb83bb119cdb",
   "metadata": {},
   "outputs": [
    {
     "name": "stdout",
     "output_type": "stream",
     "text": [
      "Initializing WikipediaDataModule with num_workers = 8 and mask token `<mask>`\n",
      "loading wiki_bio[1.2.0] split train[:100%]\n",
      "loading wiki_bio[1.2.0] split val[:100%]\n",
      "loading wiki_bio[1.2.0] split test[:100%]\n",
      "                        "
     ]
    }
   ],
   "source": [
    "import sys\n",
    "sys.path.append('/home/jxm3/research/deidentification/unsupervised-deidentification')\n",
    "\n",
    "from dataloader import WikipediaDataModule\n",
    "\n",
    "import numpy as np\n",
    "\n",
    "\n",
    "num_cpus = 8\n",
    "\n",
    "dm = WikipediaDataModule(\n",
    "    document_model_name_or_path='roberta-base',\n",
    "    profile_model_name_or_path='google/tapas-base',\n",
    "    dataset_name='wiki_bio',\n",
    "    dataset_train_split='train[:100%]',\n",
    "    dataset_val_split='val[:100%]',\n",
    "    dataset_test_split='test[:100%]',\n",
    "    dataset_version='1.2.0',\n",
    "    num_workers=num_cpus,\n",
    "    train_batch_size=256,\n",
    "    eval_batch_size=256,\n",
    "    max_seq_length=128,\n",
    "    sample_spans=False,\n",
    ")\n",
    "dm.setup(\"fit\")"
   ]
  },
  {
   "cell_type": "code",
   "execution_count": 3,
   "id": "ddc881ad-6c92-4172-a985-648af9485408",
   "metadata": {},
   "outputs": [],
   "source": [
    "label_names = np.array(list(dm.test_dataset['name']) + list(dm.val_dataset['name']) + list(dm.train_dataset['name']))"
   ]
  },
  {
   "cell_type": "code",
   "execution_count": null,
   "id": "ac84c2fa-314a-4fd5-bb66-48fed87ebe58",
   "metadata": {},
   "outputs": [],
   "source": []
  },
  {
   "cell_type": "code",
   "execution_count": 4,
   "id": "0f9cd3d3-274f-41f3-b6ad-5ed6d09ba3a7",
   "metadata": {},
   "outputs": [
    {
     "data": {
      "text/plain": [
       "'Barbara Murray'"
      ]
     },
     "execution_count": 4,
     "metadata": {},
     "output_type": "execute_result"
    }
   ],
   "source": [
    "label_names[510514]"
   ]
  },
  {
   "cell_type": "code",
   "execution_count": 5,
   "id": "db7a336d-4ccb-4862-b730-0b8e206ab10b",
   "metadata": {},
   "outputs": [
    {
     "data": {
      "text/plain": [
       "\"barbara ann murray -lrb- 27 september 1929 -- 20 may 2014 -rrb- was an english actress .\\nmurray had a very busy career in the 1940s and '50s as a fresh-faced leading lady in many british films such as `` passport to pimlico '' -lrb- 1949 -rrb- and `` meet mr. lucifer '' -lrb- 1953 -rrb- .\\nfilm work continued into the 1960s -lrb- including a role in the tony hancock film `` the punch and judy man '' -rrb- but she was to appear more frequently on television , and is possibly best known for her role as lady pamela wilder in the 1960s drama series `` the plane makers '' -lrb- and the sequel , `` the power game '' -rrb- .\\nher other tv credits include : `` the escape of r.d. 7 '' , `` danger man '' , `` the saint '' , `` department s '' , `` strange report '' , `` the pallisers '' -lrb- in which she played a major role as madame max goestler , a wealthy foreign widow -rrb- , `` the mackinnons '' , `` doctor who '' -lrb- in the serial `` black orchid '' -rrb- , `` albert and victoria '' and `` the bretts '' .\\nmurray had three daughters from her marriage to the actor john justin , but after twelve years of marriage , the couple divorced in 1964 .\\nher second marriage , to bill holmes , an english teacher who had previously acted under the name peter holmes , was also dissolved .\\n\""
      ]
     },
     "execution_count": 5,
     "metadata": {},
     "output_type": "execute_result"
    }
   ],
   "source": [
    "dm.train_dataset[510514 - len(dm.val_dataset['name']) - len(dm.test_dataset['name'])]['target_text']"
   ]
  },
  {
   "cell_type": "code",
   "execution_count": 8,
   "id": "48721676-c2db-42a9-954f-b44a33f994f8",
   "metadata": {},
   "outputs": [
    {
     "data": {
      "text/plain": [
       "'Sir William Laird Clowes'"
      ]
     },
     "execution_count": 8,
     "metadata": {},
     "output_type": "execute_result"
    }
   ],
   "source": [
    "label_names[9]"
   ]
  },
  {
   "cell_type": "code",
   "execution_count": null,
   "id": "28d03721-db6a-4bb2-a9cd-f6bd8e5a37d4",
   "metadata": {},
   "outputs": [],
   "source": []
  }
 ],
 "metadata": {
  "kernelspec": {
   "display_name": "Python 3",
   "language": "python",
   "name": "python3"
  },
  "language_info": {
   "codemirror_mode": {
    "name": "ipython",
    "version": 3
   },
   "file_extension": ".py",
   "mimetype": "text/x-python",
   "name": "python",
   "nbconvert_exporter": "python",
   "pygments_lexer": "ipython3",
   "version": "3.9.7"
  }
 },
 "nbformat": 4,
 "nbformat_minor": 5
}
