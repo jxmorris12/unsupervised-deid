{
 "cells": [
  {
   "cell_type": "code",
   "execution_count": 3,
   "id": "4d35095a-c613-4f46-b197-093b6fda44aa",
   "metadata": {},
   "outputs": [
    {
     "name": "stdout",
     "output_type": "stream",
     "text": [
      "Initializing WikipediaDataModule with num_workers = 8 and mask token `<mask>`\n",
      "loading wiki_bio[1.2.0] split train[:256]\n",
      "loading wiki_bio[1.2.0] split val[:256]\n",
      "loading wiki_bio[1.2.0] split test[:100%]\n",
      "                        "
     ]
    }
   ],
   "source": [
    "import sys\n",
    "sys.path.append('/home/jxm3/research/deidentification/unsupervised-deidentification')\n",
    "\n",
    "from dataloader import WikipediaDataModule\n",
    "\n",
    "num_cpus = 8\n",
    "\n",
    "dm = WikipediaDataModule(\n",
    "    document_model_name_or_path='roberta-base',\n",
    "    profile_model_name_or_path='google/tapas-base',\n",
    "    dataset_name='wiki_bio',\n",
    "    dataset_train_split='train[:256]',\n",
    "    dataset_val_split='val[:256]',\n",
    "    dataset_test_split='test[:100%]',\n",
    "    dataset_version='1.2.0',\n",
    "    num_workers=num_cpus,\n",
    "    train_batch_size=256,\n",
    "    eval_batch_size=256,\n",
    "    max_seq_length=128,\n",
    "    sample_spans=False,\n",
    ")\n",
    "dm.setup(\"fit\")"
   ]
  },
  {
   "cell_type": "code",
   "execution_count": 7,
   "id": "32e3dfcb-2778-413f-b4da-09a870225923",
   "metadata": {},
   "outputs": [],
   "source": [
    "import pandas as pd\n",
    "all_words = pd.DataFrame([word for document in dm.test_dataset[\"document\"] for word in document.split()], columns=['word'])"
   ]
  },
  {
   "cell_type": "code",
   "execution_count": 15,
   "id": "1479128d-0751-42e0-a16c-7f921a8deb0c",
   "metadata": {},
   "outputs": [],
   "source": [
    "import pickle\n",
    "idf = pickle.load(open('../test_val_train_100_idf.p', 'rb'))"
   ]
  },
  {
   "cell_type": "code",
   "execution_count": 16,
   "id": "e4ec9600-9cf8-4e17-970f-9cc97383c1bb",
   "metadata": {},
   "outputs": [],
   "source": [
    "all_words['idf'] = all_words['word'].map(lambda word: idf[word] if word.isalnum() else 0.0)"
   ]
  },
  {
   "cell_type": "code",
   "execution_count": 14,
   "id": "604f8347-5155-4d85-a63f-0f5c6d89e74d",
   "metadata": {},
   "outputs": [
    {
     "data": {
      "text/plain": [
       "<AxesSubplot:>"
      ]
     },
     "execution_count": 14,
     "metadata": {},
     "output_type": "execute_result"
    },
    {
     "data": {
      "image/png": "[encoded data removed]",
      "text/plain": [
       "<Figure size 432x288 with 1 Axes>"
      ]
     },
     "metadata": {
      "needs_background": "light"
     },
     "output_type": "display_data"
    }
   ],
   "source": [
    "all_words['idf'].hist()"
   ]
  },
  {
   "cell_type": "code",
   "execution_count": 23,
   "id": "2e5bed1c-711e-4a99-9da6-bceefc434315",
   "metadata": {},
   "outputs": [],
   "source": [
    "real_words = all_words[all_words['word'].map(lambda s: s.isalnum())]"
   ]
  },
  {
   "cell_type": "code",
   "execution_count": 24,
   "id": "6429325f-7242-49c3-bb94-ec662319ecc3",
   "metadata": {},
   "outputs": [
    {
     "data": {
      "text/plain": [
       "<AxesSubplot:>"
      ]
     },
     "execution_count": 24,
     "metadata": {},
     "output_type": "execute_result"
    },
    {
     "data": {
      "image/png": "[encoded data removed]",
      "text/plain": [
       "<Figure size 432x288 with 1 Axes>"
      ]
     },
     "metadata": {
      "needs_background": "light"
     },
     "output_type": "display_data"
    }
   ],
   "source": [
    "real_words['idf'].hist()"
   ]
  },
  {
   "cell_type": "code",
   "execution_count": 25,
   "id": "321aeae8-0109-474f-9272-6fd4468bff6e",
   "metadata": {},
   "outputs": [
    {
     "name": "stdout",
     "output_type": "stream",
     "text": [
      "0.0 0.02632505999650725\n",
      "0.1 0.2231668755220113\n",
      "0.2 0.7574916085316836\n",
      "0.30000000000000004 1.5308201910654393\n",
      "0.4 2.5931347491133714\n",
      "0.5 3.433411223104665\n",
      "0.6000000000000001 4.225546488366417\n",
      "0.7000000000000001 5.092897518672954\n",
      "0.8 6.221167463031721\n",
      "0.9 7.977694462485977\n"
     ]
    }
   ],
   "source": [
    "import numpy as np\n",
    "\n",
    "\n",
    "for q in np.arange(0, 1.0, 0.1):\n",
    "    print(q, real_words.quantile(q=q)['idf'])"
   ]
  },
  {
   "cell_type": "code",
   "execution_count": null,
   "id": "0848d25a-a603-4390-9e7d-bc8970e2b38d",
   "metadata": {},
   "outputs": [],
   "source": []
  }
 ],
 "metadata": {
  "kernelspec": {
   "display_name": "Python 3",
   "language": "python",
   "name": "python3"
  },
  "language_info": {
   "codemirror_mode": {
    "name": "ipython",
    "version": 3
   },
   "file_extension": ".py",
   "mimetype": "text/x-python",
   "name": "python",
   "nbconvert_exporter": "python",
   "pygments_lexer": "ipython3",
   "version": "3.9.7"
  }
 },
 "nbformat": 4,
 "nbformat_minor": 5
}
