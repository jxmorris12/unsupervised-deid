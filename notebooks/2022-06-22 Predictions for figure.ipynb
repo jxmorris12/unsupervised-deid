{
 "cells": [
  {
   "cell_type": "code",
   "execution_count": 1,
   "id": "908d2612-c0e1-46c7-96a5-f2fcbf1fdb2f",
   "metadata": {},
   "outputs": [
    {
     "name": "stdout",
     "output_type": "stream",
     "text": [
      "Initializing WikipediaDataModule with num_workers = 8 and mask token `<mask>`\n",
      "loading wiki_bio[1.2.0] split train[:100%]\n",
      "loading wiki_bio[1.2.0] split val[:100%]\n",
      "loading wiki_bio[1.2.0] split test[:100%]\n",
      "                        "
     ]
    }
   ],
   "source": [
    "import sys\n",
    "sys.path.append('/home/jxm3/research/deidentification/unsupervised-deidentification')\n",
    "\n",
    "from dataloader import WikipediaDataModule\n",
    "\n",
    "import numpy as np\n",
    "\n",
    "\n",
    "num_cpus = 8\n",
    "\n",
    "dm = WikipediaDataModule(\n",
    "    document_model_name_or_path='roberta-base',\n",
    "    profile_model_name_or_path='google/tapas-base',\n",
    "    dataset_name='wiki_bio',\n",
    "    dataset_train_split='train[:100%]',\n",
    "    dataset_val_split='val[:100%]',\n",
    "    dataset_test_split='test[:100%]',\n",
    "    dataset_version='1.2.0',\n",
    "    num_workers=num_cpus,\n",
    "    train_batch_size=256,\n",
    "    eval_batch_size=256,\n",
    "    max_seq_length=128,\n",
    "    sample_spans=False,\n",
    ")\n",
    "dm.setup(\"fit\")"
   ]
  },
  {
   "cell_type": "code",
   "execution_count": 2,
   "id": "9b05a583-41f5-4d9c-b464-56f03b477a20",
   "metadata": {},
   "outputs": [
    {
     "name": "stdout",
     "output_type": "stream",
     "text": [
      ">> loaded 582659 train embeddings from /home/jxm3/research/deidentification/unsupervised-deidentification/embeddings/profile/model_3_2/train.pkl\n",
      ">> loaded 72831 val embeddings from /home/jxm3/research/deidentification/unsupervised-deidentification/embeddings/profile/model_3_2/val.pkl\n",
      ">> loaded 72831 test embeddings from /home/jxm3/research/deidentification/unsupervised-deidentification/embeddings/profile/model_3_2/test.pkl\n",
      "concatenating train, val, and test profile embeddings\n",
      "all_profile_embeddings: torch.Size([728321, 3072])\n",
      ">> loaded 582659 train embeddings from /home/jxm3/research/deidentification/unsupervised-deidentification/embeddings/profile/model_3_3__placeholder/train.pkl\n",
      ">> loaded 72831 val embeddings from /home/jxm3/research/deidentification/unsupervised-deidentification/embeddings/profile/model_3_3__placeholder/val.pkl\n",
      ">> loaded 72831 test embeddings from /home/jxm3/research/deidentification/unsupervised-deidentification/embeddings/profile/model_3_3__placeholder/test.pkl\n",
      "concatenating train, val, and test profile embeddings\n",
      "all_profile_embeddings: torch.Size([728321, 3072])\n"
     ]
    }
   ],
   "source": [
    "import torch\n",
    "from utils import get_profile_embeddings_by_model_key\n",
    "\n",
    "def get_profile_embeddings(model_key: str):\n",
    "    profile_embeddings = get_profile_embeddings_by_model_key(model_key=model_key)\n",
    "\n",
    "    print(\"concatenating train, val, and test profile embeddings\")\n",
    "    all_profile_embeddings = torch.cat(\n",
    "        (profile_embeddings['test'], profile_embeddings['val'], profile_embeddings['train']), dim=0\n",
    "    )\n",
    "\n",
    "    print(\"all_profile_embeddings:\", all_profile_embeddings.shape)\n",
    "    return all_profile_embeddings\n",
    "\n",
    "rt_profile_embeddings = get_profile_embeddings('model_3_2')\n",
    "rr_profile_embeddings = get_profile_embeddings('model_3_3__placeholder')"
   ]
  },
  {
   "cell_type": "code",
   "execution_count": 3,
   "id": "f3343789-79a2-44d8-bbe5-4ef8c563b5a0",
   "metadata": {},
   "outputs": [
    {
     "name": "stderr",
     "output_type": "stream",
     "text": [
      "Some weights of the model checkpoint at roberta-base were not used when initializing RobertaModel: ['lm_head.decoder.weight', 'lm_head.layer_norm.weight', 'lm_head.layer_norm.bias', 'lm_head.bias', 'lm_head.dense.bias', 'lm_head.dense.weight']\n",
      "- This IS expected if you are initializing RobertaModel from the checkpoint of a model trained on another task or with another architecture (e.g. initializing a BertForSequenceClassification model from a BertForPreTraining model).\n",
      "- This IS NOT expected if you are initializing RobertaModel from the checkpoint of a model that you expect to be exactly identical (initializing a BertForSequenceClassification model from a BertForSequenceClassification model).\n"
     ]
    },
    {
     "name": "stdout",
     "output_type": "stream",
     "text": [
      "Initialized model with learning_rate = 0.0001 and patience 6\n"
     ]
    },
    {
     "name": "stderr",
     "output_type": "stream",
     "text": [
      "Some weights of the model checkpoint at roberta-base were not used when initializing RobertaModel: ['lm_head.decoder.weight', 'lm_head.layer_norm.weight', 'lm_head.layer_norm.bias', 'lm_head.bias', 'lm_head.dense.bias', 'lm_head.dense.weight']\n",
      "- This IS expected if you are initializing RobertaModel from the checkpoint of a model trained on another task or with another architecture (e.g. initializing a BertForSequenceClassification model from a BertForPreTraining model).\n",
      "- This IS NOT expected if you are initializing RobertaModel from the checkpoint of a model that you expect to be exactly identical (initializing a BertForSequenceClassification model from a BertForSequenceClassification model).\n",
      "Some weights of the model checkpoint at roberta-base were not used when initializing RobertaModel: ['lm_head.decoder.weight', 'lm_head.layer_norm.weight', 'lm_head.layer_norm.bias', 'lm_head.bias', 'lm_head.dense.bias', 'lm_head.dense.weight']\n",
      "- This IS expected if you are initializing RobertaModel from the checkpoint of a model trained on another task or with another architecture (e.g. initializing a BertForSequenceClassification model from a BertForPreTraining model).\n",
      "- This IS NOT expected if you are initializing RobertaModel from the checkpoint of a model that you expect to be exactly identical (initializing a BertForSequenceClassification model from a BertForSequenceClassification model).\n"
     ]
    },
    {
     "name": "stdout",
     "output_type": "stream",
     "text": [
      "Initialized model with learning_rate = 0.0001 and patience 6\n"
     ]
    }
   ],
   "source": [
    "import sys\n",
    "sys.path.append('/home/jxm3/research/deidentification/unsupervised-deidentification')\n",
    "\n",
    "from model import AbstractModel, CoordinateAscentModel\n",
    "\n",
    "from model_cfg import model_paths_dict\n",
    "\n",
    "rt = CoordinateAscentModel.load_from_checkpoint(model_paths_dict['model_3_2'])\n",
    "rr = CoordinateAscentModel.load_from_checkpoint(model_paths_dict['model_3_3__placeholder'])"
   ]
  },
  {
   "cell_type": "code",
   "execution_count": 4,
   "id": "194bb981-c44f-4d3b-8af5-f519ef0f9409",
   "metadata": {},
   "outputs": [],
   "source": [
    "import torch\n",
    "import transformers\n",
    "\n",
    "from model import AbstractModel\n",
    "\n",
    "class ModelWrapper:\n",
    "    document_tokenizer: transformers.AutoTokenizer\n",
    "    profile_embeddings: torch.Tensor\n",
    "    max_seq_length: int\n",
    "    \n",
    "    def __init__(self,\n",
    "            model: AbstractModel,\n",
    "            document_tokenizer: transformers.AutoTokenizer,\n",
    "            profile_embeddings: torch.Tensor,\n",
    "            max_seq_length: int = 128\n",
    "        ):\n",
    "        self.model = model\n",
    "        self.model.eval()\n",
    "        self.document_tokenizer = document_tokenizer\n",
    "        self.profile_embeddings = profile_embeddings.clone().detach()\n",
    "        self.max_seq_length = max_seq_length\n",
    "                 \n",
    "    def to(self, device):\n",
    "        self.model.to(device)\n",
    "        self.profile_embeddings = self.profile_embeddings.to(device)\n",
    "        return self # so semantics `model = MyModelWrapper().to('cuda')` works properly\n",
    "\n",
    "    def __call__(self, text_input_list):\n",
    "        model_device = next(self.model.parameters()).device\n",
    "\n",
    "        tokenized_documents = self.document_tokenizer.batch_encode_plus(\n",
    "            text_input_list,\n",
    "            max_length=self.max_seq_length,\n",
    "            padding='max_length',\n",
    "            truncation=True,\n",
    "            return_tensors='pt',\n",
    "        )\n",
    "        batch = {f\"document__{k}\": v for k,v in tokenized_documents.items()}\n",
    "\n",
    "        with torch.no_grad():\n",
    "            document_embeddings = self.model.forward_document(batch=batch, document_type='document')\n",
    "            document_to_profile_logits = document_embeddings @ (self.profile_embeddings.T)\n",
    "        # breakpoint()\n",
    "        assert document_to_profile_logits.shape == (len(text_input_list), len(self.profile_embeddings))\n",
    "        return document_to_profile_logits\n",
    "\n",
    "    \n",
    "rt_mw = ModelWrapper(rt, dm.document_tokenizer, rt_profile_embeddings).to('cuda')\n",
    "rr_mw = ModelWrapper(rr, dm.document_tokenizer, rr_profile_embeddings).to('cuda')\n"
   ]
  },
  {
   "cell_type": "code",
   "execution_count": 5,
   "id": "7437d457-dd39-4fd6-b37a-f5d24c70ff60",
   "metadata": {},
   "outputs": [],
   "source": [
    "from typing import List, Tuple\n",
    "\n",
    "from IPython.display import HTML, display\n",
    "import html\n",
    "\n",
    "wrap_th = lambda s: f'<th>{s}</th>'\n",
    "wrap_td = lambda s: f'<td>{s}</td>'\n",
    "\n",
    "def get_person(i: int):\n",
    "    if i < len(dm.test_dataset):\n",
    "        return dm.test_dataset[i]\n",
    "    elif i < (len(dm.test_dataset) + len(dm.val_dataset)):\n",
    "        return dm.val_dataset[i - len(dm.test_dataset)]\n",
    "    else:\n",
    "        return dm.train_dataset[i - len(dm.test_dataset) - len(dm.val_dataset)]\n",
    "\n",
    "def table_from_table_rows(rows_str: str) -> List[Tuple[str, str]]:\n",
    "    return [[el.strip() for el in r.split('||')] for r in rows_str.split('\\n')]\n",
    "\n",
    "def make_prof_html(profile: str) -> str:\n",
    "    table = table_from_table_rows(profile)\n",
    "    s = '<table style=\"border: 1px solid black\"><tbody>'\n",
    "    # print('table:', table)\n",
    "    for rkey, rval in table:\n",
    "        s += '<tr>'\n",
    "        s += f'<th><b>{rkey}</b></th>'\n",
    "        s += f'<td>{rval}</td>'\n",
    "        s += '</tr>'\n",
    "    s += '</tbody></table>'\n",
    "    return s\n",
    "\n",
    "def display_profile_by_index(idx: int):\n",
    "    display(HTML(make_prof_html(get_person(idx)['profile'])))\n"
   ]
  },
  {
   "cell_type": "code",
   "execution_count": 6,
   "id": "941e00f2-3aac-4997-b1de-1c572281ab5f",
   "metadata": {},
   "outputs": [],
   "source": [
    "label_names = np.array(list(dm.test_dataset['name']) + list(dm.val_dataset['name']) + list(dm.train_dataset['name']))"
   ]
  },
  {
   "cell_type": "code",
   "execution_count": 61,
   "id": "1630c8fa-bbe5-40cb-a48c-92bbc473b95e",
   "metadata": {},
   "outputs": [],
   "source": [
    "def call_rr(s: str, include_train = True):\n",
    "    probs = rr_mw([s]).squeeze()\n",
    "    if not include_train:\n",
    "        probs = probs[:72831*2]\n",
    "    probs = probs.softmax(dim=0)\n",
    "    return (label_names[probs.argmax()], probs.argmax().item(), probs.max().item())\n",
    "\n",
    "def call_rt(s: str, include_train: bool = True):\n",
    "    probs = rt_mw([s]).squeeze()\n",
    "    if not include_train:\n",
    "        probs = probs[:72831*2]\n",
    "    probs = probs.softmax(dim=0)\n",
    "    return (label_names[probs.argmax()], probs.argmax().item(), probs.max().item())"
   ]
  },
  {
   "cell_type": "code",
   "execution_count": 10,
   "id": "926b3cb6-0af2-4088-b2f6-457021865a77",
   "metadata": {},
   "outputs": [
    {
     "data": {
      "text/html": [
       "<div>\n",
       "<style scoped>\n",
       "    .dataframe tbody tr th:only-of-type {\n",
       "        vertical-align: middle;\n",
       "    }\n",
       "\n",
       "    .dataframe tbody tr th {\n",
       "        vertical-align: top;\n",
       "    }\n",
       "\n",
       "    .dataframe thead th {\n",
       "        text-align: right;\n",
       "    }\n",
       "</style>\n",
       "<table border=\"1\" class=\"dataframe\">\n",
       "  <thead>\n",
       "    <tr style=\"text-align: right;\">\n",
       "      <th></th>\n",
       "      <th>document</th>\n",
       "    </tr>\n",
       "  </thead>\n",
       "  <tbody>\n",
       "    <tr>\n",
       "      <th>0</th>\n",
       "      <td>leonard shenoff randle ( born february 12 , 19...</td>\n",
       "    </tr>\n",
       "    <tr>\n",
       "      <th>1</th>\n",
       "      <td>philippe adnot ( born 25 august 1945 in rhèges...</td>\n",
       "    </tr>\n",
       "    <tr>\n",
       "      <th>2</th>\n",
       "      <td>miroslav popov ( born 14 june 1995 in dvůr krá...</td>\n",
       "    </tr>\n",
       "    <tr>\n",
       "      <th>3</th>\n",
       "      <td>john `` jack '' reynolds ( 21 february 1869 --...</td>\n",
       "    </tr>\n",
       "    <tr>\n",
       "      <th>4</th>\n",
       "      <td>william ato ankrah , ( born 7th july 1979 ) be...</td>\n",
       "    </tr>\n",
       "  </tbody>\n",
       "</table>\n",
       "</div>"
      ],
      "text/plain": [
       "                                            document\n",
       "0  leonard shenoff randle ( born february 12 , 19...\n",
       "1  philippe adnot ( born 25 august 1945 in rhèges...\n",
       "2  miroslav popov ( born 14 june 1995 in dvůr krá...\n",
       "3  john `` jack '' reynolds ( 21 february 1869 --...\n",
       "4  william ato ankrah , ( born 7th july 1979 ) be..."
      ]
     },
     "execution_count": 10,
     "metadata": {},
     "output_type": "execute_result"
    }
   ],
   "source": [
    "import pandas as pd\n",
    "\n",
    "test_docs = pd.DataFrame(dm.test_dataset['document'], columns=['document'])\n",
    "test_docs.head()"
   ]
  },
  {
   "cell_type": "code",
   "execution_count": 12,
   "id": "41ee29e1-21a2-4a5b-bb16-602bc8e9c24a",
   "metadata": {},
   "outputs": [],
   "source": [
    "test_docs['num_words'] = test_docs['document'].map(lambda doc: (1 + doc.count(' ')))"
   ]
  },
  {
   "cell_type": "code",
   "execution_count": 33,
   "id": "3ca2276f-4a44-476a-92f0-b70477dcae26",
   "metadata": {},
   "outputs": [
    {
     "name": "stdout",
     "output_type": "stream",
     "text": [
      "matt murphy is a canadian musician and actor .\n",
      "he is perhaps best known as the vocalist and guitarist of 1990s band the super friendz .\n",
      "\n",
      "glen tourville is a retired american soccer player who currently serves as an assistant coach with the ohio state buckeyes women 's soccer team .\n",
      "\n",
      "carlos alcántara cuevas ( born 1 february 1985 ) is a spanish footballer who plays for la hoya lorca cf as a left back .\n",
      "\n",
      "erkki kerttula ( 5 november 1909 -- 4 november 1989 ) was a finnish fencer .\n",
      "he competed at the 1948 and 1952 summer olympics .\n",
      "\n",
      "tommy jönsson ( born march 4 , 1976 ) is a former swedish football player , who played as defender and retired in 2010 .\n",
      "\n"
     ]
    }
   ],
   "source": [
    "idx = 9_150\n",
    "print(\n",
    "    '\\n'.join(\n",
    "        test_docs.sort_values(by='num_words')['document'].iloc[idx : idx+5].tolist()\n",
    "    )\n",
    ")"
   ]
  },
  {
   "cell_type": "code",
   "execution_count": 62,
   "id": "edfb1391-528e-4032-b6a0-cec20d897805",
   "metadata": {},
   "outputs": [
    {
     "data": {
      "text/plain": [
       "('Tommy Jönsson', 52471, 0.9964974522590637)"
      ]
     },
     "execution_count": 62,
     "metadata": {},
     "output_type": "execute_result"
    }
   ],
   "source": [
    "s = \"tommy jönsson ( born march 4 , 1976 ) is a former swedish football player , who played as defender and retired in 2010 .\"\n",
    "call_rr(s, include_train=False)"
   ]
  },
  {
   "cell_type": "code",
   "execution_count": 72,
   "id": "76865ec9-ac0c-49b2-8c2e-ddfe00781d05",
   "metadata": {},
   "outputs": [],
   "source": [
    "def print_all_possible_masks(s: str):\n",
    "    words = s.split(' ')\n",
    "    for i in range(len(words)):\n",
    "        s2_words = words.copy()\n",
    "        s2_words[i] = '<mask>'\n",
    "        s2_pred = list(call_rr(' '.join(s2_words), include_train=False))\n",
    "        s2_pred[-1] = f'{s2_pred[-1]:.3f}'\n",
    "        print(words[i], '\\t', '\\t'.join(map(str,s2_pred)))"
   ]
  },
  {
   "cell_type": "code",
   "execution_count": 73,
   "id": "21f64efc-91a0-4e64-bbc8-b78d2f3620b7",
   "metadata": {},
   "outputs": [
    {
     "name": "stdout",
     "output_type": "stream",
     "text": [
      "tommy \t Tommy Jönsson\t52471\t0.994\n",
      "jönsson \t Tommy Jönsson\t52471\t0.971\n",
      "( \t Tommy Jönsson\t52471\t0.993\n",
      "born \t Tommy Jönsson\t52471\t0.997\n",
      "march \t Tommy Jönsson\t52471\t0.995\n",
      "4 \t Tommy Jönsson\t52471\t0.994\n",
      ", \t Tommy Jönsson\t52471\t0.997\n",
      "1976 \t Tommy Jönsson\t52471\t0.994\n",
      ") \t Tommy Jönsson\t52471\t0.997\n",
      "is \t Tommy Jönsson\t52471\t0.996\n",
      "a \t Tommy Jönsson\t52471\t0.996\n",
      "former \t Tommy Jönsson\t52471\t0.996\n",
      "swedish \t Tommy Jönsson\t52471\t0.997\n",
      "football \t Tommy Jönsson\t52471\t0.997\n",
      "player \t Tommy Jönsson\t52471\t0.997\n",
      ", \t Tommy Jönsson\t52471\t0.996\n",
      "who \t Tommy Jönsson\t52471\t0.997\n",
      "played \t Tommy Jönsson\t52471\t0.996\n",
      "as \t Tommy Jönsson\t52471\t0.996\n",
      "defender \t Tommy Jönsson\t52471\t0.996\n",
      "and \t Tommy Jönsson\t52471\t0.996\n",
      "retired \t Tommy Jönsson\t52471\t0.994\n",
      "in \t Tommy Jönsson\t52471\t0.997\n",
      "2010 \t Tommy Jönsson\t52471\t0.995\n",
      ". \t Tommy Jönsson\t52471\t0.996\n"
     ]
    }
   ],
   "source": [
    "print_all_possible_masks(s)"
   ]
  },
  {
   "cell_type": "code",
   "execution_count": 76,
   "id": "fd50719b-1a31-4df0-8bae-cae614c013ae",
   "metadata": {},
   "outputs": [
    {
     "name": "stdout",
     "output_type": "stream",
     "text": [
      "tommy \t Tommy Jönsson\t52471\t0.899\n",
      "<mask> \t Tommy Jönsson\t52471\t0.971\n",
      "( \t Tommy Jönsson\t52471\t0.964\n",
      "born \t Tommy Jönsson\t52471\t0.971\n",
      "march \t Tommy Jönsson\t52471\t0.953\n",
      "4 \t Tommy Jönsson\t52471\t0.942\n",
      ", \t Tommy Jönsson\t52471\t0.969\n",
      "1976 \t Tommy Jönsson\t52471\t0.940\n",
      ") \t Tommy Jönsson\t52471\t0.974\n",
      "is \t Tommy Jönsson\t52471\t0.971\n",
      "a \t Tommy Jönsson\t52471\t0.971\n",
      "former \t Tommy Jönsson\t52471\t0.968\n",
      "swedish \t Tommy Jönsson\t52471\t0.964\n",
      "football \t Tommy Jönsson\t52471\t0.973\n",
      "player \t Tommy Jönsson\t52471\t0.975\n",
      ", \t Tommy Jönsson\t52471\t0.956\n",
      "who \t Tommy Jönsson\t52471\t0.971\n",
      "played \t Tommy Jönsson\t52471\t0.973\n",
      "as \t Tommy Jönsson\t52471\t0.971\n",
      "defender \t Tommy Jönsson\t52471\t0.909\n",
      "and \t Tommy Jönsson\t52471\t0.970\n",
      "retired \t Tommy Jönsson\t52471\t0.909\n",
      "in \t Tommy Jönsson\t52471\t0.971\n",
      "2010 \t Tommy Jönsson\t52471\t0.960\n",
      ". \t Tommy Jönsson\t52471\t0.966\n"
     ]
    }
   ],
   "source": [
    "s2 = \"tommy <mask> ( born march 4 , 1976 ) is a former swedish football player , who played as defender and retired in 2010 .\"\n",
    "print_all_possible_masks(s2)"
   ]
  },
  {
   "cell_type": "code",
   "execution_count": 78,
   "id": "70be7918-87e8-4d10-a8b7-8064d31afdbf",
   "metadata": {},
   "outputs": [
    {
     "name": "stdout",
     "output_type": "stream",
     "text": [
      "<mask> \t Tommy Jönsson\t52471\t0.899\n",
      "<mask> \t Tommy Jönsson\t52471\t0.899\n",
      "( \t Tommy Jönsson\t52471\t0.734\n",
      "born \t Tommy Jönsson\t52471\t0.898\n",
      "march \t Tommy Jönsson\t52471\t0.571\n",
      "4 \t Tommy Jönsson\t52471\t0.610\n",
      ", \t Tommy Jönsson\t52471\t0.970\n",
      "1976 \t Tommy Jönsson\t52471\t0.527\n",
      ") \t Tommy Jönsson\t52471\t0.887\n",
      "is \t Tommy Jönsson\t52471\t0.899\n",
      "a \t Tommy Jönsson\t52471\t0.895\n",
      "former \t Tommy Jönsson\t52471\t0.893\n",
      "swedish \t Tommy Jönsson\t52471\t0.410\n",
      "football \t Tommy Jönsson\t52471\t0.911\n",
      "player \t Tommy Jönsson\t52471\t0.914\n",
      ", \t Tommy Jönsson\t52471\t0.827\n",
      "who \t Tommy Jönsson\t52471\t0.898\n",
      "played \t Tommy Jönsson\t52471\t0.911\n",
      "as \t Tommy Jönsson\t52471\t0.897\n",
      "defender \t Tommy Jönsson\t52471\t0.767\n",
      "and \t Tommy Jönsson\t52471\t0.892\n",
      "retired \t Tommy Jönsson\t52471\t0.669\n",
      "in \t Tommy Jönsson\t52471\t0.897\n",
      "2010 \t Tommy Jönsson\t52471\t0.917\n",
      ". \t Tommy Jönsson\t52471\t0.868\n"
     ]
    }
   ],
   "source": [
    "s3 = \"<mask> <mask> ( born march 4 , 1976 ) is a former swedish football player , who played as defender and retired in 2010 .\"\n",
    "print_all_possible_masks(s3)"
   ]
  },
  {
   "cell_type": "code",
   "execution_count": 79,
   "id": "72d09f29-5c59-4e7c-9925-d5cfb2ad1018",
   "metadata": {},
   "outputs": [
    {
     "name": "stdout",
     "output_type": "stream",
     "text": [
      "<mask> \t Tommy Jönsson\t52471\t0.410\n",
      "<mask> \t Tommy Jönsson\t52471\t0.410\n",
      "( \t Juan Diego González\t21768\t0.235\n",
      "born \t Tommy Jönsson\t52471\t0.423\n",
      "march \t Andrei Trofimov\t15775\t0.111\n",
      "4 \t Franck Bernhard\t46653\t0.341\n",
      ", \t Tommy Jönsson\t52471\t0.236\n",
      "1976 \t Vincent Cobos\t57781\t0.448\n",
      ") \t Tommy Jönsson\t52471\t0.578\n",
      "is \t Tommy Jönsson\t52471\t0.407\n",
      "a \t Tommy Jönsson\t52471\t0.399\n",
      "former \t Tommy Jönsson\t52471\t0.444\n",
      "<mask> \t Tommy Jönsson\t52471\t0.410\n",
      "football \t Tommy Jönsson\t52471\t0.538\n",
      "player \t Tommy Jönsson\t52471\t0.420\n",
      ", \t Tommy Jönsson\t52471\t0.519\n",
      "who \t Tommy Jönsson\t52471\t0.422\n",
      "played \t Tommy Jönsson\t52471\t0.430\n",
      "as \t Tommy Jönsson\t52471\t0.419\n",
      "defender \t Tommy Jönsson\t52471\t0.107\n",
      "and \t Tommy Jönsson\t52471\t0.424\n",
      "retired \t Tommy Jönsson\t52471\t0.729\n",
      "in \t Tommy Jönsson\t52471\t0.450\n",
      "2010 \t Tommy Jönsson\t52471\t0.383\n",
      ". \t Tommy Jönsson\t52471\t0.356\n"
     ]
    }
   ],
   "source": [
    "print_all_possible_masks(\"<mask> <mask> ( born march 4 , 1976 ) is a former <mask> football player , who played as defender and retired in 2010 .\")"
   ]
  },
  {
   "cell_type": "code",
   "execution_count": 68,
   "id": "dd1951f4-a804-4ead-a8ac-6cd45b955963",
   "metadata": {},
   "outputs": [
    {
     "name": "stdout",
     "output_type": "stream",
     "text": [
      "<mask> \t Tommy Jönsson\t52471\t0.38\n",
      "<mask> \t Tommy Jönsson\t52471\t0.38\n",
      "( \t Eduardo Rergis\t29984\t0.37\n",
      "born \t Tommy Jönsson\t52471\t0.39\n",
      "march \t Andrei Trofimov\t15775\t0.13\n",
      "4 \t Kamel Habri\t122141\t0.24\n",
      ", \t Tommy Jönsson\t52471\t0.19\n",
      "1976 \t Vincent Cobos\t57781\t0.34\n",
      ") \t Tommy Jönsson\t52471\t0.45\n",
      "is \t Tommy Jönsson\t52471\t0.38\n",
      "a \t Tommy Jönsson\t52471\t0.34\n",
      "former \t Tommy Jönsson\t52471\t0.36\n",
      "<mask> \t Tommy Jönsson\t52471\t0.38\n",
      "football \t Tommy Jönsson\t52471\t0.47\n",
      "player \t Tommy Jönsson\t52471\t0.40\n",
      ", \t Tommy Jönsson\t52471\t0.50\n",
      "who \t Tommy Jönsson\t52471\t0.44\n",
      "played \t Tommy Jönsson\t52471\t0.47\n",
      "as \t Tommy Jönsson\t52471\t0.52\n",
      "defender \t Tommy Jönsson\t52471\t0.07\n",
      "and \t Tommy Jönsson\t52471\t0.51\n",
      "retired \t Tommy Jönsson\t52471\t0.15\n",
      "in \t Tommy Jönsson\t52471\t0.11\n",
      "<mask> \t Tommy Jönsson\t52471\t0.38\n",
      ". \t Tommy Jönsson\t52471\t0.23\n"
     ]
    }
   ],
   "source": [
    "print_all_possible_masks(\"<mask> <mask> ( born march 4 , 1976 ) is a former <mask> football player , who played as defender and retired in <mask> .\")"
   ]
  },
  {
   "cell_type": "code",
   "execution_count": 70,
   "id": "6985749f-4265-47fd-bdfe-8acc6e686be5",
   "metadata": {},
   "outputs": [
    {
     "name": "stdout",
     "output_type": "stream",
     "text": [
      "<mask> \t Vincent Cobos\t57781\t0.34\n",
      "<mask> \t Vincent Cobos\t57781\t0.34\n",
      "( \t Eduardo Rergis\t29984\t0.14\n",
      "born \t Vincent Cobos\t57781\t0.35\n",
      "march \t Bo Svensson\t3691\t0.23\n",
      "4 \t Mouloud Akloul\t27467\t0.06\n",
      ", \t Vincent Cobos\t57781\t0.11\n",
      "<mask> \t Vincent Cobos\t57781\t0.34\n",
      ") \t Vincent Cobos\t57781\t0.58\n",
      "is \t Vincent Cobos\t57781\t0.34\n",
      "a \t Vincent Cobos\t57781\t0.31\n",
      "former \t Vincent Cobos\t57781\t0.35\n",
      "<mask> \t Vincent Cobos\t57781\t0.34\n",
      "football \t Vincent Cobos\t57781\t0.33\n",
      "player \t Vincent Cobos\t57781\t0.37\n",
      ", \t Vincent Cobos\t57781\t0.75\n",
      "who \t Vincent Cobos\t57781\t0.46\n",
      "played \t Vincent Cobos\t57781\t0.44\n",
      "as \t Vincent Cobos\t57781\t0.46\n",
      "defender \t Vincent Cobos\t57781\t0.22\n",
      "and \t Vincent Cobos\t57781\t0.48\n",
      "retired \t Vincent Cobos\t57781\t0.20\n",
      "in \t Vincent Cobos\t57781\t0.10\n",
      "<mask> \t Vincent Cobos\t57781\t0.34\n",
      ". \t Vincent Cobos\t57781\t0.19\n"
     ]
    }
   ],
   "source": [
    "print_all_possible_masks(\"<mask> <mask> ( born march 4 , <mask> ) is a former <mask> football player , who played as defender and retired in <mask> .\")"
   ]
  },
  {
   "cell_type": "code",
   "execution_count": null,
   "id": "dacca0fe-45e1-4e1f-a1f6-1c27b6977c78",
   "metadata": {},
   "outputs": [],
   "source": []
  }
 ],
 "metadata": {
  "kernelspec": {
   "display_name": "Python 3",
   "language": "python",
   "name": "python3"
  },
  "language_info": {
   "codemirror_mode": {
    "name": "ipython",
    "version": 3
   },
   "file_extension": ".py",
   "mimetype": "text/x-python",
   "name": "python",
   "nbconvert_exporter": "python",
   "pygments_lexer": "ipython3",
   "version": "3.9.7"
  }
 },
 "nbformat": 4,
 "nbformat_minor": 5
}
