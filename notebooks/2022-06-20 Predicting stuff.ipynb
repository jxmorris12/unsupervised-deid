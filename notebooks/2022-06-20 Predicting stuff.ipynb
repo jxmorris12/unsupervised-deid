{
 "cells": [
  {
   "cell_type": "code",
   "execution_count": 1,
   "id": "908d2612-c0e1-46c7-96a5-f2fcbf1fdb2f",
   "metadata": {},
   "outputs": [
    {
     "name": "stdout",
     "output_type": "stream",
     "text": [
      "Initializing WikipediaDataModule with num_workers = 8 and mask token `<mask>`\n",
      "loading wiki_bio[1.2.0] split train[:100%]\n",
      "loading wiki_bio[1.2.0] split val[:100%]\n",
      "loading wiki_bio[1.2.0] split test[:100%]\n",
      "                        "
     ]
    }
   ],
   "source": [
    "import sys\n",
    "sys.path.append('/home/jxm3/research/deidentification/unsupervised-deidentification')\n",
    "\n",
    "from datamodule import WikipediaDataModule\n",
    "\n",
    "import numpy as np\n",
    "\n",
    "\n",
    "num_cpus = 8\n",
    "\n",
    "dm = WikipediaDataModule(\n",
    "    document_model_name_or_path='roberta-base',\n",
    "    profile_model_name_or_path='google/tapas-base',\n",
    "    dataset_name='wiki_bio',\n",
    "    dataset_train_split='train[:100%]',\n",
    "    dataset_val_split='val[:100%]',\n",
    "    dataset_test_split='test[:100%]',\n",
    "    dataset_version='1.2.0',\n",
    "    num_workers=num_cpus,\n",
    "    train_batch_size=256,\n",
    "    eval_batch_size=256,\n",
    "    max_seq_length=128,\n",
    "    sample_spans=False,\n",
    ")\n",
    "dm.setup(\"fit\")"
   ]
  },
  {
   "cell_type": "code",
   "execution_count": 2,
   "id": "9b05a583-41f5-4d9c-b464-56f03b477a20",
   "metadata": {},
   "outputs": [
    {
     "name": "stdout",
     "output_type": "stream",
     "text": [
      ">> loaded 582659 train embeddings from /home/jxm3/research/deidentification/unsupervised-deidentification/embeddings/profile/model_3_2/train.pkl\n",
      ">> loaded 72831 val embeddings from /home/jxm3/research/deidentification/unsupervised-deidentification/embeddings/profile/model_3_2/val.pkl\n",
      ">> loaded 72831 test embeddings from /home/jxm3/research/deidentification/unsupervised-deidentification/embeddings/profile/model_3_2/test.pkl\n",
      "concatenating train, val, and test profile embeddings\n",
      "all_profile_embeddings: torch.Size([728321, 3072])\n",
      ">> loaded 582659 train embeddings from /home/jxm3/research/deidentification/unsupervised-deidentification/embeddings/profile/model_3_3__placeholder/train.pkl\n",
      ">> loaded 72831 val embeddings from /home/jxm3/research/deidentification/unsupervised-deidentification/embeddings/profile/model_3_3__placeholder/val.pkl\n",
      ">> loaded 72831 test embeddings from /home/jxm3/research/deidentification/unsupervised-deidentification/embeddings/profile/model_3_3__placeholder/test.pkl\n",
      "concatenating train, val, and test profile embeddings\n",
      "all_profile_embeddings: torch.Size([728321, 3072])\n"
     ]
    }
   ],
   "source": [
    "import torch\n",
    "from utils import get_profile_embeddings_by_model_key\n",
    "\n",
    "def get_profile_embeddings(model_key: str):\n",
    "    profile_embeddings = get_profile_embeddings_by_model_key(model_key=model_key)\n",
    "\n",
    "    print(\"concatenating train, val, and test profile embeddings\")\n",
    "    all_profile_embeddings = torch.cat(\n",
    "        (profile_embeddings['test'], profile_embeddings['val'], profile_embeddings['train']), dim=0\n",
    "    )\n",
    "\n",
    "    print(\"all_profile_embeddings:\", all_profile_embeddings.shape)\n",
    "    return all_profile_embeddings\n",
    "\n",
    "rt_profile_embeddings = get_profile_embeddings('model_3_2')\n",
    "rr_profile_embeddings = get_profile_embeddings('model_3_3__placeholder')"
   ]
  },
  {
   "cell_type": "code",
   "execution_count": 3,
   "id": "f3343789-79a2-44d8-bbe5-4ef8c563b5a0",
   "metadata": {},
   "outputs": [
    {
     "name": "stderr",
     "output_type": "stream",
     "text": [
      "Some weights of the model checkpoint at roberta-base were not used when initializing RobertaModel: ['lm_head.layer_norm.bias', 'lm_head.layer_norm.weight', 'lm_head.dense.weight', 'lm_head.dense.bias', 'lm_head.bias', 'lm_head.decoder.weight']\n",
      "- This IS expected if you are initializing RobertaModel from the checkpoint of a model trained on another task or with another architecture (e.g. initializing a BertForSequenceClassification model from a BertForPreTraining model).\n",
      "- This IS NOT expected if you are initializing RobertaModel from the checkpoint of a model that you expect to be exactly identical (initializing a BertForSequenceClassification model from a BertForSequenceClassification model).\n"
     ]
    },
    {
     "name": "stdout",
     "output_type": "stream",
     "text": [
      "Initialized model with learning_rate = 0.0001 and patience 6\n"
     ]
    },
    {
     "name": "stderr",
     "output_type": "stream",
     "text": [
      "Some weights of the model checkpoint at roberta-base were not used when initializing RobertaModel: ['lm_head.layer_norm.bias', 'lm_head.layer_norm.weight', 'lm_head.dense.weight', 'lm_head.dense.bias', 'lm_head.bias', 'lm_head.decoder.weight']\n",
      "- This IS expected if you are initializing RobertaModel from the checkpoint of a model trained on another task or with another architecture (e.g. initializing a BertForSequenceClassification model from a BertForPreTraining model).\n",
      "- This IS NOT expected if you are initializing RobertaModel from the checkpoint of a model that you expect to be exactly identical (initializing a BertForSequenceClassification model from a BertForSequenceClassification model).\n",
      "Some weights of the model checkpoint at roberta-base were not used when initializing RobertaModel: ['lm_head.layer_norm.bias', 'lm_head.layer_norm.weight', 'lm_head.dense.weight', 'lm_head.dense.bias', 'lm_head.bias', 'lm_head.decoder.weight']\n",
      "- This IS expected if you are initializing RobertaModel from the checkpoint of a model trained on another task or with another architecture (e.g. initializing a BertForSequenceClassification model from a BertForPreTraining model).\n",
      "- This IS NOT expected if you are initializing RobertaModel from the checkpoint of a model that you expect to be exactly identical (initializing a BertForSequenceClassification model from a BertForSequenceClassification model).\n"
     ]
    },
    {
     "name": "stdout",
     "output_type": "stream",
     "text": [
      "Initialized model with learning_rate = 0.0001 and patience 6\n"
     ]
    }
   ],
   "source": [
    "import sys\n",
    "sys.path.append('/home/jxm3/research/deidentification/unsupervised-deidentification')\n",
    "\n",
    "from model import AbstractModel, CoordinateAscentModel\n",
    "\n",
    "from model_cfg import model_paths_dict\n",
    "\n",
    "rt = CoordinateAscentModel.load_from_checkpoint(model_paths_dict['model_3_2'])\n",
    "rr = CoordinateAscentModel.load_from_checkpoint(model_paths_dict['model_3_3__placeholder'])"
   ]
  },
  {
   "cell_type": "code",
   "execution_count": 4,
   "id": "194bb981-c44f-4d3b-8af5-f519ef0f9409",
   "metadata": {},
   "outputs": [],
   "source": [
    "import torch\n",
    "import transformers\n",
    "\n",
    "from model import AbstractModel\n",
    "\n",
    "class ModelWrapper:\n",
    "    document_tokenizer: transformers.AutoTokenizer\n",
    "    profile_embeddings: torch.Tensor\n",
    "    max_seq_length: int\n",
    "    \n",
    "    def __init__(self,\n",
    "            model: AbstractModel,\n",
    "            document_tokenizer: transformers.AutoTokenizer,\n",
    "            profile_embeddings: torch.Tensor,\n",
    "            max_seq_length: int = 128\n",
    "        ):\n",
    "        self.model = model\n",
    "        self.model.eval()\n",
    "        self.document_tokenizer = document_tokenizer\n",
    "        self.profile_embeddings = profile_embeddings.clone().detach()\n",
    "        self.max_seq_length = max_seq_length\n",
    "                 \n",
    "    def to(self, device):\n",
    "        self.model.to(device)\n",
    "        self.profile_embeddings = self.profile_embeddings.to(device)\n",
    "        return self # so semantics `model = MyModelWrapper().to('cuda')` works properly\n",
    "\n",
    "    def __call__(self, text_input_list):\n",
    "        model_device = next(self.model.parameters()).device\n",
    "\n",
    "        tokenized_documents = self.document_tokenizer.batch_encode_plus(\n",
    "            text_input_list,\n",
    "            max_length=self.max_seq_length,\n",
    "            padding='max_length',\n",
    "            truncation=True,\n",
    "            return_tensors='pt',\n",
    "        )\n",
    "        batch = {f\"document__{k}\": v for k,v in tokenized_documents.items()}\n",
    "\n",
    "        with torch.no_grad():\n",
    "            document_embeddings = self.model.forward_document(batch=batch, document_type='document')\n",
    "            document_to_profile_logits = document_embeddings @ (self.profile_embeddings.T)\n",
    "        # breakpoint()\n",
    "        assert document_to_profile_logits.shape == (len(text_input_list), len(self.profile_embeddings))\n",
    "        return document_to_profile_logits\n",
    "\n",
    "    \n",
    "rt_mw = ModelWrapper(rt, dm.document_tokenizer, rt_profile_embeddings).to('cuda')\n",
    "rr_mw = ModelWrapper(rr, dm.document_tokenizer, rr_profile_embeddings).to('cuda')"
   ]
  },
  {
   "cell_type": "code",
   "execution_count": 5,
   "id": "926b3cb6-0af2-4088-b2f6-457021865a77",
   "metadata": {},
   "outputs": [],
   "source": [
    "def call_rr(s: str):\n",
    "    probs = rr_mw([s]).softmax(1)\n",
    "    return (label_names[probs.argmax()], probs.argmax().item(), probs.max().item())\n",
    "\n",
    "def call_rt(s: str):\n",
    "    probs = rt_mw([s]).softmax(1)\n",
    "    return (label_names[probs.argmax()], probs.argmax().item(), probs.max().item())"
   ]
  },
  {
   "cell_type": "code",
   "execution_count": 25,
   "id": "9f3a2653-4169-4250-92ea-e0b2390fde94",
   "metadata": {},
   "outputs": [],
   "source": [
    "def get_person(i: int):\n",
    "    if i < len(dm.test_dataset):\n",
    "        return dm.test_dataset[i]\n",
    "    elif i < (len(dm.test_dataset) + len(dm.val_dataset)):\n",
    "        return dm.val_dataset[i - len(dm.test_dataset)]\n",
    "    else:\n",
    "        return dm.train_dataset[i - len(dm.test_dataset) - len(dm.val_dataset)]\n",
    "    \n",
    "from typing import List, Tuple\n",
    "\n",
    "from IPython.display import HTML, display\n",
    "import html\n",
    "\n",
    "wrap_th = lambda s: f'<th>{s}</th>'\n",
    "wrap_td = lambda s: f'<td>{s}</td>'\n",
    "\n",
    "def table_from_table_rows(rows_str: str) -> List[Tuple[str, str]]:\n",
    "    return [[el.strip() for el in r.split('||')] for r in rows_str.split('\\n')]\n",
    "\n",
    "def make_prof_html(profile: str) -> str:\n",
    "    table = table_from_table_rows(profile)\n",
    "    s = '<table style=\"border: 1px solid black\"><tbody>'\n",
    "    # print('table:', table)\n",
    "    for rkey, rval in table:\n",
    "        s += '<tr>'\n",
    "        s += f'<th><b>{rkey}</b></th>'\n",
    "        s += f'<td>{rval}</td>'\n",
    "        s += '</tr>'\n",
    "    s += '</tbody></table>'\n",
    "    return s\n",
    "\n",
    "def display_profile_by_index(idx: int):\n",
    "    display(HTML(make_prof_html(get_person(idx)['profile'])))"
   ]
  },
  {
   "cell_type": "code",
   "execution_count": 6,
   "id": "ba3b63b4-34c0-4452-ad6d-056595957d84",
   "metadata": {},
   "outputs": [],
   "source": [
    "label_names = np.array(list(dm.test_dataset['name']) + list(dm.val_dataset['name']) + list(dm.train_dataset['name']))"
   ]
  },
  {
   "cell_type": "code",
   "execution_count": 7,
   "id": "dbd5f0de-4320-4212-bba4-2004f0011b05",
   "metadata": {},
   "outputs": [],
   "source": [
    "kris_janson = \"kris tiffany maslog janson ( born december 21, 1989 ) simply known as kris janson, is a filipino beauty pageant titleholder from cebu city, crowned binibining pilipinas intercontinental 2014 at the binibining pilipinas 2014 pageant held on march 30th, 2014 at the smart araneta coliseum, quezon city, philippines.\""
   ]
  },
  {
   "cell_type": "code",
   "execution_count": 8,
   "id": "6ce60885-373a-4bfb-9aea-bb08717dbba1",
   "metadata": {},
   "outputs": [
    {
     "data": {
      "text/plain": [
       "('Kris Janson', 49, 0.9884936213493347)"
      ]
     },
     "execution_count": 8,
     "metadata": {},
     "output_type": "execute_result"
    }
   ],
   "source": [
    "call_rr(kris_janson)"
   ]
  },
  {
   "cell_type": "code",
   "execution_count": 9,
   "id": "656fb7dd-5db3-42b9-aa3a-ce0ff7db96cc",
   "metadata": {},
   "outputs": [
    {
     "data": {
      "text/plain": [
       "('Kris Janson', 49, 0.9869921207427979)"
      ]
     },
     "execution_count": 9,
     "metadata": {},
     "output_type": "execute_result"
    }
   ],
   "source": [
    "call_rt(kris_janson)"
   ]
  },
  {
   "cell_type": "code",
   "execution_count": 10,
   "id": "02e7bc76-d2ec-4190-9bc2-af1222f7752d",
   "metadata": {},
   "outputs": [
    {
     "data": {
      "text/plain": [
       "('Kris Janson', 49, 0.9884936213493347)"
      ]
     },
     "execution_count": 10,
     "metadata": {},
     "output_type": "execute_result"
    }
   ],
   "source": [
    "call_rr(\"kris tiffany maslog janson ( born december 21, 1989 ) simply known as kris janson, is a filipino beauty pageant titleholder from cebu city, crowned binibining pilipinas intercontinental 2014 at the binibining pilipinas 2014 pageant held on march 30th, 2014 at the smart araneta coliseum, quezon city, philippines.\")"
   ]
  },
  {
   "cell_type": "code",
   "execution_count": 11,
   "id": "c8a0f26e-da90-40e0-a9f4-de1f860b6eb9",
   "metadata": {},
   "outputs": [
    {
     "data": {
      "text/plain": [
       "('Dillon Sheppard',\n",
       " 'dillon sheppard -lrb- born 27 february 1979 -rrb- is a south african football -lrb- soccer -rrb- left-winger who plays for premier soccer league club bidvest wits and south africa .\\n')"
      ]
     },
     "execution_count": 11,
     "metadata": {},
     "output_type": "execute_result"
    }
   ],
   "source": [
    "dm.test_dataset[6]['name'], dm.test_dataset[6]['target_text']"
   ]
  },
  {
   "cell_type": "code",
   "execution_count": 12,
   "id": "2af81499-c6bc-4fc1-aa88-9267375b1d76",
   "metadata": {},
   "outputs": [
    {
     "data": {
      "text/plain": [
       "('Dillon Sheppard', 6, 0.8875733017921448)"
      ]
     },
     "execution_count": 12,
     "metadata": {},
     "output_type": "execute_result"
    }
   ],
   "source": [
    "call_rt(\"'dillon sheppard -lrb- born 27 february 1979 -rrb- is a south african football -lrb- soccer -rrb- left-winger who plays for premier soccer league club bidvest wits and south africa .\")"
   ]
  },
  {
   "cell_type": "code",
   "execution_count": 13,
   "id": "d973cd96-1eca-4340-bbdc-78883784abd0",
   "metadata": {},
   "outputs": [
    {
     "data": {
      "text/plain": [
       "('Dillon Sheppard', 6, 0.9624467492103577)"
      ]
     },
     "execution_count": 13,
     "metadata": {},
     "output_type": "execute_result"
    }
   ],
   "source": [
    "call_rr(\"'dillon sheppard -lrb- born 27 february 1979 -rrb- is a south african football -lrb- soccer -rrb- left-winger who plays for premier soccer league club bidvest wits and south africa .\")"
   ]
  },
  {
   "cell_type": "code",
   "execution_count": 14,
   "id": "97d2167e-e3fc-4b19-a533-09129aa647f0",
   "metadata": {},
   "outputs": [
    {
     "data": {
      "text/plain": [
       "('Dillon Sheppard', 6, 0.9376591444015503)"
      ]
     },
     "execution_count": 14,
     "metadata": {},
     "output_type": "execute_result"
    }
   ],
   "source": [
    "call_rt(\"'<mask> sheppard -lrb- born 27 february 1979 -rrb- is a south african football -lrb- soccer -rrb- left-winger who plays for premier soccer league club bidvest wits and south africa .\")"
   ]
  },
  {
   "cell_type": "code",
   "execution_count": 15,
   "id": "1ac683de-c4de-46af-be01-5ea6beec86c7",
   "metadata": {},
   "outputs": [
    {
     "data": {
      "text/plain": [
       "('Dillon Sheppard', 6, 0.9239954352378845)"
      ]
     },
     "execution_count": 15,
     "metadata": {},
     "output_type": "execute_result"
    }
   ],
   "source": [
    "call_rr(\"'<mask> sheppard -lrb- born 27 february 1979 -rrb- is a south african football -lrb- soccer -rrb- left-winger who plays for premier soccer league club bidvest wits and south africa .\")"
   ]
  },
  {
   "cell_type": "code",
   "execution_count": 16,
   "id": "158a75db-8a0b-42e1-a592-071c62a6cad1",
   "metadata": {},
   "outputs": [
    {
     "data": {
      "text/plain": [
       "('Dillon Sheppard', 6, 0.3441327214241028)"
      ]
     },
     "execution_count": 16,
     "metadata": {},
     "output_type": "execute_result"
    }
   ],
   "source": [
    "call_rt(\"'<mask> <mask> -lrb- born 27 february 1979 -rrb- is a south african football -lrb- soccer -rrb- left-winger who plays for premier soccer league club bidvest wits and south africa .\")"
   ]
  },
  {
   "cell_type": "code",
   "execution_count": 17,
   "id": "5872f9f7-fc8e-4c64-8fa7-bb196a45625d",
   "metadata": {},
   "outputs": [
    {
     "data": {
      "text/plain": [
       "('Thando Mngomeni', 488791, 0.15380197763442993)"
      ]
     },
     "execution_count": 17,
     "metadata": {},
     "output_type": "execute_result"
    }
   ],
   "source": [
    "call_rr(\"'<mask> <mask> -lrb- born 27 february 1979 -rrb- is a south african football -lrb- soccer -rrb- left-winger who plays for premier soccer league club bidvest wits and south africa .\")"
   ]
  },
  {
   "cell_type": "code",
   "execution_count": 26,
   "id": "e11f7329-bda1-49cf-8ea3-d0cc044e9723",
   "metadata": {},
   "outputs": [
    {
     "data": {
      "text/html": [
       "<table style=\"border: 1px solid black\"><tbody><tr><th><b>fullname</b></th><td>thando mngomeni</td></tr><tr><th><b>name</b></th><td>thando mngomeni</td></tr><tr><th><b>caps</b></th><td>11 32 29 9 36 16 43</td></tr><tr><th><b>article_title</b></th><td>thando mngomeni</td></tr><tr><th><b>nationalyears</b></th><td>2004-2007</td></tr><tr><th><b>position</b></th><td>midfielder</td></tr><tr><th><b>pcupdate</b></th><td>1 june 2011</td></tr><tr><th><b>years</b></th><td>2002 2007 -- 2008 2008 -- 2009 2009 -- 2013 -- 2004 2004 -- 2005 2005 -- 2006</td></tr><tr><th><b>currentclub</b></th><td>bidvest wits</td></tr><tr><th><b>clubs</b></th><td>supersport sundowns bidvest wits united helsingborgs if bush bucks engen santos mamelodi</td></tr><tr><th><b>nationalteam</b></th><td>south africa</td></tr><tr><th><b>birth_place</b></th><td>cape town , south africa</td></tr><tr><th><b>clubnumber</b></th><td>10</td></tr><tr><th><b>ntupdate</b></th><td>1 june 2011</td></tr><tr><th><b>birth_date</b></th><td>11 february 1983</td></tr><tr><th><b>nationalcaps</b></th><td>5</td></tr><tr><th><b>goals</b></th><td>7 9 3 0 3 0 3</td></tr><tr><th><b>height</b></th><td>1.87 0</td></tr></tbody></table>"
      ],
      "text/plain": [
       "<IPython.core.display.HTML object>"
      ]
     },
     "metadata": {},
     "output_type": "display_data"
    }
   ],
   "source": [
    "display_profile_by_index(488_791)"
   ]
  },
  {
   "cell_type": "code",
   "execution_count": 27,
   "id": "86ac36e6-f092-47f5-861a-83220ac905a6",
   "metadata": {},
   "outputs": [
    {
     "data": {
      "text/html": [
       "<table style=\"border: 1px solid black\"><tbody><tr><th><b>nationalgoals</b></th><td>0 0 0 0</td></tr><tr><th><b>fullname</b></th><td>dillon douglas sheppard</td></tr><tr><th><b>position</b></th><td>left-winger</td></tr><tr><th><b>pcupdate</b></th><td>23 august 2014</td></tr><tr><th><b>years</b></th><td>1999 -- 2011 2011 -- 2013 2013 -- 2014 2014 -- -- 2004 2004 2005 2006 -- 2009 2009</td></tr><tr><th><b>ntupdate</b></th><td>2 june 2012</td></tr><tr><th><b>nationalcaps</b></th><td>1 9 9 18</td></tr><tr><th><b>height</b></th><td>1.80 m ftin 0 on</td></tr><tr><th><b>youthclubs</b></th><td>school of excellence</td></tr><tr><th><b>caps</b></th><td>24 105 4 10 37 39 33 14 0</td></tr><tr><th><b>nationalteam</b></th><td>south south africa africa u-17 south africa u-20 south africa u-23</td></tr><tr><th><b>birth_date</b></th><td>27 february 1979</td></tr><tr><th><b>article_title</b></th><td>dillon sheppard</td></tr><tr><th><b>currentclub</b></th><td>bidvest wits</td></tr><tr><th><b>clubs</b></th><td>school mamelodi sundowns platinum stars golden arrows maritzburg united of excellence ajax cape town dynamo moscow panionios</td></tr><tr><th><b>name</b></th><td>dillon sheppard</td></tr><tr><th><b>nationalyears</b></th><td>1996 2007 1997 -- 1999 2000 -- 2002 2000 --</td></tr><tr><th><b>birth_place</b></th><td>durban , south africa</td></tr><tr><th><b>clubnumber</b></th><td>29</td></tr><tr><th><b>goals</b></th><td>1 15 0 0 1 3 4 0 0</td></tr></tbody></table>"
      ],
      "text/plain": [
       "<IPython.core.display.HTML object>"
      ]
     },
     "metadata": {},
     "output_type": "display_data"
    }
   ],
   "source": [
    "display_profile_by_index(6)"
   ]
  },
  {
   "cell_type": "code",
   "execution_count": 28,
   "id": "39ae2919-f9ee-48ac-9bc3-73a09046366f",
   "metadata": {},
   "outputs": [
    {
     "data": {
      "text/plain": [
       "PreTrainedTokenizer(name_or_path='google/tapas-base', vocab_size=30522, model_max_len=512, is_fast=False, padding_side='right', special_tokens={'unk_token': '[UNK]', 'sep_token': '[SEP]', 'pad_token': '[PAD]', 'cls_token': '[CLS]', 'mask_token': '[MASK]', 'additional_special_tokens': ['[EMPTY]']})"
      ]
     },
     "execution_count": 28,
     "metadata": {},
     "output_type": "execute_result"
    }
   ],
   "source": [
    "dm.profile_tokenizer"
   ]
  },
  {
   "cell_type": "code",
   "execution_count": 36,
   "id": "c9d1ba38-31a7-44fe-a121-a9e95d6265fd",
   "metadata": {},
   "outputs": [],
   "source": [
    "from utils import try_encode_table_tapas, get_profile_df\n",
    "dillon_sheppard = get_profile_df(get_person(6)['input_text']['table']['column_header'], get_person(6)['input_text']['table']['content'])"
   ]
  },
  {
   "cell_type": "code",
   "execution_count": 49,
   "id": "ba7dceba-19d1-4a78-8be2-4f25a1ec3509",
   "metadata": {},
   "outputs": [
    {
     "data": {
      "text/plain": [
       "'[CLS] who is this person? [SEP] nationalgoals fullname position pcupdate years ntupdate nationalcaps height youthclubs caps nationalteam birth _ date article _ title currentclub clubs name nationalyears birth _ place clubnumber goals 0 0 0 0 dillon douglas sheppard left - winger 23 august 2014 1999 - - 2011 2011 2 june 2012 1 9 9 18 1. 80 m ftin school of excellence 24 105 4 10 37 south south africa africa u 27 february 1979 dillon sheppard bidvest wits school mamelodi dillon sheppard 1996 2007 1997 - - durban, south africa 29 1 15 0 0 1'"
      ]
     },
     "execution_count": 49,
     "metadata": {},
     "output_type": "execute_result"
    }
   ],
   "source": [
    "dillon_sheppard_encoded = try_encode_table_tapas(df=dillon_sheppard, tokenizer=dm.profile_tokenizer, query=\"who is this person?\", max_length=128, num_cols=50)\n",
    "# dm.profile_tokenizer.decode(dillon_sheppard_encoded['input_ids'])\n",
    "dm.profile_tokenizer.decode(dillon_sheppard_encoded['input_ids'].squeeze())"
   ]
  },
  {
   "cell_type": "code",
   "execution_count": 55,
   "id": "39e3f092-3828-40a0-b09f-1ff0d5932d0b",
   "metadata": {},
   "outputs": [
    {
     "name": "stdout",
     "output_type": "stream",
     "text": [
      "<mask> <mask> -lrb- born 27 february 1979 -rrb- is a south african football -lrb- soccer -rrb- left-winger who plays for premier soccer league club bidvest wits and south africa .\n",
      "('Thando Mngomeni', 488791, 0.0968029797077179)\n",
      "'<mask> <mask> -lrb- born 27 february 1979 -rrb- is a south african football -lrb- soccer -rrb- left-winger who plays for premier soccer league club bidvest wits and south africa .\n",
      "('Thando Mngomeni', 488791, 0.15380197763442993)\n",
      "'<mask> <mask> <mask> born 27 february 1979 -rrb- is a south african football -lrb- soccer -rrb- left-winger who plays for premier soccer league club bidvest wits and south africa .\n",
      "('Buhle Mkhwanazi', 245060, 0.056675318628549576)\n",
      "'<mask> <mask> -lrb- <mask> 27 february 1979 -rrb- is a south african football -lrb- soccer -rrb- left-winger who plays for premier soccer league club bidvest wits and south africa .\n",
      "('Thando Mngomeni', 488791, 0.1603737771511078)\n",
      "'<mask> <mask> -lrb- born <mask> february 1979 -rrb- is a south african football -lrb- soccer -rrb- left-winger who plays for premier soccer league club bidvest wits and south africa .\n",
      "('Wylie Human', 319324, 0.22726161777973175)\n",
      "'<mask> <mask> -lrb- born 27 <mask> 1979 -rrb- is a south african football -lrb- soccer -rrb- left-winger who plays for premier soccer league club bidvest wits and south africa .\n",
      "('Thando Mngomeni', 488791, 0.16492296755313873)\n",
      "'<mask> <mask> -lrb- born 27 february <mask> -rrb- is a south african football -lrb- soccer -rrb- left-winger who plays for premier soccer league club bidvest wits and south africa .\n",
      "('Buhle Mkhwanazi', 245060, 0.06847501546144485)\n",
      "'<mask> <mask> -lrb- born 27 february 1979 <mask> is a south african football -lrb- soccer -rrb- left-winger who plays for premier soccer league club bidvest wits and south africa .\n",
      "('Thando Mngomeni', 488791, 0.1788737028837204)\n",
      "'<mask> <mask> -lrb- born 27 february 1979 -rrb- <mask> a south african football -lrb- soccer -rrb- left-winger who plays for premier soccer league club bidvest wits and south africa .\n",
      "('Thando Mngomeni', 488791, 0.17853336036205292)\n",
      "'<mask> <mask> -lrb- born 27 february 1979 -rrb- is <mask> south african football -lrb- soccer -rrb- left-winger who plays for premier soccer league club bidvest wits and south africa .\n",
      "('Thando Mngomeni', 488791, 0.16115017235279083)\n",
      "'<mask> <mask> -lrb- born 27 february 1979 -rrb- is a <mask> african football -lrb- soccer -rrb- left-winger who plays for premier soccer league club bidvest wits and south africa .\n",
      "('Thando Mngomeni', 488791, 0.18032114207744598)\n",
      "'<mask> <mask> -lrb- born 27 february 1979 -rrb- is a south <mask> football -lrb- soccer -rrb- left-winger who plays for premier soccer league club bidvest wits and south africa .\n",
      "('Thando Mngomeni', 488791, 0.1811743974685669)\n",
      "'<mask> <mask> -lrb- born 27 february 1979 -rrb- is a south african <mask> -lrb- soccer -rrb- left-winger who plays for premier soccer league club bidvest wits and south africa .\n",
      "('Thando Mngomeni', 488791, 0.1195908710360527)\n",
      "'<mask> <mask> -lrb- born 27 february 1979 -rrb- is a south african football <mask> soccer -rrb- left-winger who plays for premier soccer league club bidvest wits and south africa .\n",
      "('Thando Mngomeni', 488791, 0.2052256464958191)\n",
      "'<mask> <mask> -lrb- born 27 february 1979 -rrb- is a south african football -lrb- <mask> -rrb- left-winger who plays for premier soccer league club bidvest wits and south africa .\n",
      "('Thando Mngomeni', 488791, 0.18977105617523193)\n",
      "'<mask> <mask> -lrb- born 27 february 1979 -rrb- is a south african football -lrb- soccer <mask> left-winger who plays for premier soccer league club bidvest wits and south africa .\n",
      "('Wylie Human', 319324, 0.10647469758987427)\n",
      "'<mask> <mask> -lrb- born 27 february 1979 -rrb- is a south african football -lrb- soccer -rrb- <mask> who plays for premier soccer league club bidvest wits and south africa .\n",
      "('Thando Mngomeni', 488791, 0.20530734956264496)\n",
      "'<mask> <mask> -lrb- born 27 february 1979 -rrb- is a south african football -lrb- soccer -rrb- left-winger <mask> plays for premier soccer league club bidvest wits and south africa .\n",
      "('Thando Mngomeni', 488791, 0.1564275026321411)\n",
      "'<mask> <mask> -lrb- born 27 february 1979 -rrb- is a south african football -lrb- soccer -rrb- left-winger who <mask> for premier soccer league club bidvest wits and south africa .\n",
      "('Thando Mngomeni', 488791, 0.13946689665317535)\n",
      "'<mask> <mask> -lrb- born 27 february 1979 -rrb- is a south african football -lrb- soccer -rrb- left-winger who plays <mask> premier soccer league club bidvest wits and south africa .\n",
      "('Thando Mngomeni', 488791, 0.15165436267852783)\n",
      "'<mask> <mask> -lrb- born 27 february 1979 -rrb- is a south african football -lrb- soccer -rrb- left-winger who plays for <mask> soccer league club bidvest wits and south africa .\n",
      "('Thando Mngomeni', 488791, 0.18086162209510803)\n",
      "'<mask> <mask> -lrb- born 27 february 1979 -rrb- is a south african football -lrb- soccer -rrb- left-winger who plays for premier <mask> league club bidvest wits and south africa .\n",
      "('Thando Mngomeni', 488791, 0.1507084220647812)\n",
      "'<mask> <mask> -lrb- born 27 february 1979 -rrb- is a south african football -lrb- soccer -rrb- left-winger who plays for premier soccer <mask> club bidvest wits and south africa .\n",
      "('Thando Mngomeni', 488791, 0.16310210525989532)\n",
      "'<mask> <mask> -lrb- born 27 february 1979 -rrb- is a south african football -lrb- soccer -rrb- left-winger who plays for premier soccer league <mask> bidvest wits and south africa .\n",
      "('Thando Mngomeni', 488791, 0.16047444939613342)\n",
      "'<mask> <mask> -lrb- born 27 february 1979 -rrb- is a south african football -lrb- soccer -rrb- left-winger who plays for premier soccer league club <mask> wits and south africa .\n",
      "('Wylie Human', 319324, 0.44148489832878113)\n",
      "'<mask> <mask> -lrb- born 27 february 1979 -rrb- is a south african football -lrb- soccer -rrb- left-winger who plays for premier soccer league club bidvest <mask> and south africa .\n",
      "('Wylie Human', 319324, 0.24509188532829285)\n",
      "'<mask> <mask> -lrb- born 27 february 1979 -rrb- is a south african football -lrb- soccer -rrb- left-winger who plays for premier soccer league club bidvest wits <mask> south africa .\n",
      "('Thando Mngomeni', 488791, 0.16491380333900452)\n",
      "'<mask> <mask> -lrb- born 27 february 1979 -rrb- is a south african football -lrb- soccer -rrb- left-winger who plays for premier soccer league club bidvest wits and <mask> africa .\n",
      "('Thando Mngomeni', 488791, 0.16172835230827332)\n",
      "'<mask> <mask> -lrb- born 27 february 1979 -rrb- is a south african football -lrb- soccer -rrb- left-winger who plays for premier soccer league club bidvest wits and south <mask> .\n",
      "('Thando Mngomeni', 488791, 0.14359667897224426)\n",
      "'<mask> <mask> -lrb- born 27 february 1979 -rrb- is a south african football -lrb- soccer -rrb- left-winger who plays for premier soccer league club bidvest wits and south africa <mask>\n",
      "('Thando Mngomeni', 488791, 0.1749216616153717)\n"
     ]
    }
   ],
   "source": [
    "dillon_sheppard_text = \"'<mask> <mask> -lrb- born 27 february 1979 -rrb- is a south african football -lrb- soccer -rrb- left-winger who plays for premier soccer league club bidvest wits and south africa .\"\n",
    "dillon_sheppard_words = dillon_sheppard_text.split(' ')\n",
    "for i in range(len(dillon_sheppard_words)):\n",
    "    ds_masked_version = dillon_sheppard_words[:]\n",
    "    ds_masked_version[i] = '<mask>'\n",
    "    ds_masked_text = ' '.join(ds_masked_version)\n",
    "    print(ds_masked_text)\n",
    "    print(call_rr(ds_masked_text))"
   ]
  },
  {
   "cell_type": "code",
   "execution_count": 56,
   "id": "3293db21-68b8-49ad-b8f0-c38bcdd24f7f",
   "metadata": {},
   "outputs": [
    {
     "data": {
      "text/plain": [
       "('Kris Janson', 49, 0.9884936213493347)"
      ]
     },
     "execution_count": 56,
     "metadata": {},
     "output_type": "execute_result"
    }
   ],
   "source": [
    "kris_janson = \"\"\"kris tiffany maslog janson ( born december 21, 1989 ) simply known as kris janson, is a filipino beauty pageant titleholder from cebu city, crowned binibining pilipinas intercontinental 2014 at the binibining pilipinas 2014 pageant held on march 30th, 2014 at the smart araneta coliseum, quezon city, philippines.\"\"\"\n",
    "call_rr(kris_janson)"
   ]
  },
  {
   "cell_type": "code",
   "execution_count": 59,
   "id": "eff61cbc-0e45-485e-90fb-7d5f40795d7a",
   "metadata": {},
   "outputs": [
    {
     "data": {
      "text/plain": [
       "('N. R. Narayana Murthy', 193508, 0.0613858699798584)"
      ]
     },
     "execution_count": 59,
     "metadata": {},
     "output_type": "execute_result"
    }
   ],
   "source": [
    "kris_janson_masked = \"\"\"<mask> <mask> <mask> <mask> ( <mask> <mask> <mask>, <mask> ) <mask> <mask> <mask> <mask> <mask>, < <mask> <mask> 30th, <mask> <mask> the smart <mask> <mask>, <mask> city, philippines.\"\"\"\n",
    "call_rr(kris_janson_masked)"
   ]
  },
  {
   "cell_type": "code",
   "execution_count": 60,
   "id": "ae76219c-78f8-4682-a34c-4e656b9a09da",
   "metadata": {},
   "outputs": [
    {
     "data": {
      "text/plain": [
       "('Mike Velarde', 725672, 0.1449543535709381)"
      ]
     },
     "execution_count": 60,
     "metadata": {},
     "output_type": "execute_result"
    }
   ],
   "source": [
    "call_rt(kris_janson_masked)"
   ]
  },
  {
   "cell_type": "code",
   "execution_count": 61,
   "id": "1088d875-4ec4-49da-8691-9b9788d5dfe1",
   "metadata": {},
   "outputs": [
    {
     "data": {
      "text/plain": [
       "('Kris Janson', 49, 0.8139309287071228)"
      ]
     },
     "execution_count": 61,
     "metadata": {},
     "output_type": "execute_result"
    }
   ],
   "source": [
    "kris_janson_masked_prev = \"\"\"<mask> <mask> <mask> <mask> ( <mask> <mask> <mask>, <mask> ) <mask> <mask> <mask> kris janson, <mask> <mask> <mask> <mask> <mask> <mask> <mask> <mask> <mask>, <mask> <mask> <mask> <mask> <mask> <mask> <mask> <mask> <mask> <mask> <mask> <mask> <mask> <mask> <mask>, <mask> <mask> <mask> <mask> araneta <mask>, <mask> <mask>, <mask>.\"\"\"\n",
    "call_rt(kris_janson_masked_prev)"
   ]
  },
  {
   "cell_type": "code",
   "execution_count": 89,
   "id": "631aca53-c0e7-4c1e-b0bf-5f5e3068b828",
   "metadata": {},
   "outputs": [
    {
     "data": {
      "text/plain": [
       "43"
      ]
     },
     "execution_count": 89,
     "metadata": {},
     "output_type": "execute_result"
    }
   ],
   "source": [
    "\"\"\"<mask> <mask> <mask> <mask> ( <mask> <mask> <mask>, <mask> ) <mask> <mask> <mask> kris janson, <mask> <mask> <mask> <mask> <mask> <mask> <mask> <mask> <mask>, <mask> <mask> <mask> <mask> <mask> <mask> <mask> <mask> <mask> <mask> <mask> <mask> <mask> <mask> <mask>, <mask> <mask> <mask> <mask> araneta <mask>, <mask> <mask>, <mask>.\"\"\".count('<mask>')"
   ]
  },
  {
   "cell_type": "code",
   "execution_count": 66,
   "id": "570ac6e2-1718-4ad4-b5b7-03c85c1bd31b",
   "metadata": {},
   "outputs": [
    {
     "data": {
      "text/html": [
       "<table style=\"border: 1px solid black\"><tbody><tr><th><b>eye_color</b></th><td>brown</td></tr><tr><th><b>name</b></th><td>kris janson</td></tr><tr><th><b>birth_name</b></th><td>kris tiffany maslog janson</td></tr><tr><th><b>hometown</b></th><td>cebu city , cebu</td></tr><tr><th><b>title</b></th><td>binibining pilipinas intercontinental 2014 ,</td></tr><tr><th><b>competitions</b></th><td>binibining pilipinas 2014</td></tr><tr><th><b>hair_color</b></th><td>brown</td></tr><tr><th><b>birth_date</b></th><td>21 december 1989</td></tr><tr><th><b>article_title</b></th><td>kris janson</td></tr><tr><th><b>height</b></th><td>1.73</td></tr></tbody></table>"
      ],
      "text/plain": [
       "<IPython.core.display.HTML object>"
      ]
     },
     "metadata": {},
     "output_type": "display_data"
    }
   ],
   "source": [
    "display_profile_by_index(49)"
   ]
  },
  {
   "cell_type": "code",
   "execution_count": 86,
   "id": "aa78fdd1-48ff-40e6-9ccc-4c10a7f00a74",
   "metadata": {},
   "outputs": [
    {
     "name": "stdout",
     "output_type": "stream",
     "text": [
      "('Kris Janson', 49, 0.9600957632064819)\n",
      "('Kris Janson', 49, 0.9804427027702332)\n",
      "('Kris Janson', 49, 0.9705662727355957)\n",
      "('Kimberly Anastacia Karlsson', 655131, 0.48285189270973206)\n",
      "('Angeli Gomez', 134511, 0.16611042618751526)\n"
     ]
    }
   ],
   "source": [
    "# an intermediate during beam search\n",
    "print(call_rr(\"kris <mask> maslog janson ( born <mask> <mask>, <mask> ) simply known as kris janson, is <mask> filipino <mask> <mask> titleholder <mask> cebu city, crowned <mask> pilipinas <mask> 2014 at the binibining pilipinas 2014 <mask> held on march 30th, 2014 at the smart <mask> coliseum, quezon city, philippines.\"))\n",
    "\n",
    "# same thing, with additional kris masked\n",
    "print(call_rr(\"kris <mask> maslog janson ( born <mask> <mask>, <mask> ) simply known as <mask> janson, is <mask> filipino <mask> <mask> titleholder <mask> cebu city, crowned <mask> pilipinas <mask> 2014 at the binibining pilipinas 2014 <mask> held on march 30th, 2014 at the smart <mask> coliseum, quezon city, philippines.\"))\n",
    "\n",
    "# same thing, with both kris and janson masked\n",
    "print(call_rr(\"kris <mask> maslog <mask> ( born <mask> <mask>, <mask> ) simply known as <mask> <mask>, is <mask> filipino <mask> <mask> titleholder <mask> cebu city, crowned <mask> pilipinas <mask> 2014 at the binibining pilipinas 2014 <mask> held on march 30th, 2014 at the smart <mask> coliseum, quezon city, philippines.\"))\n",
    "\n",
    "# same thing, with all three masked\n",
    "print(call_rr(\"<mask> <mask> <mask> <mask> ( born <mask> <mask>, <mask> ) simply known as <mask> <mask>, is <mask> filipino <mask> <mask> titleholder <mask> cebu city, crowned <mask> pilipinas <mask> 2014 at the binibining pilipinas 2014 <mask> held on march 30th, 2014 at the smart <mask> coliseum, quezon city, philippines.\"))\n",
    "\n",
    "# with everything I can think of masked \n",
    "print(call_rr(\"<mask> <mask> <mask> <mask> ( born <mask> <mask>, <mask> ) simply known as <mask> <mask>, is a <mask> <mask> <mask> titleholder from <mask> <mask>, crowned <mask> <mask> <mask> <mask> at the <mask> <mask> <mask> <mask> held on march 30th, <mask> at the smart araneta coliseum, quezon city, <mask>.\"))\n"
   ]
  },
  {
   "cell_type": "code",
   "execution_count": 74,
   "id": "9cfdbae8-11c0-4e4d-9f8d-d7d48e1d085f",
   "metadata": {},
   "outputs": [
    {
     "data": {
      "text/plain": [
       "('Gwendoline Ruais', 437639, 0.04145599156618118)"
      ]
     },
     "execution_count": 74,
     "metadata": {},
     "output_type": "execute_result"
    }
   ],
   "source": [
    "call_rt(\"<mask> <mask> <mask> <mask> ( born <mask> <mask>, <mask> ) simply known as <mask> <mask>, is a <mask> <mask> <mask> titleholder from <mask> <mask>, crowned <mask> <mask> <mask> <mask> at the <mask> <mask> <mask> <mask> held on march 30th, <mask> at the smart araneta coliseum, quezon city, <mask>.\")"
   ]
  },
  {
   "cell_type": "code",
   "execution_count": 71,
   "id": "16afacf3-466c-4c90-9e0b-f8332a1bc1de",
   "metadata": {},
   "outputs": [
    {
     "name": "stdout",
     "output_type": "stream",
     "text": [
      "<mask> <mask> maslog <mask> ( born <mask> <mask>, <mask> )  known as <mask> <mask>, is a <mask> <mask> <mask> titleholder from <mask> <mask>, crowned <mask> <mask> <mask> <mask> at the <mask> <mask> <mask> <mask> held on march 30th, <mask> at the smart araneta coliseum, quezon city, <mask>.\n"
     ]
    }
   ],
   "source": [
    "print(\"<mask> <mask> maslog <mask> ( born <mask> <mask>, <mask> ) simply known as <mask> <mask>, is a <mask> <mask> <mask> titleholder from <mask> <mask>, crowned <mask> <mask> <mask> <mask> at the <mask> <mask> <mask> <mask> held on march 30th, <mask> at the smart araneta coliseum, quezon city, <mask>.\")\n",
    "# HOW TF CAN IT FIGURE THIS OUT???\n",
    "# Nvm it's the middle name 'maslog'."
   ]
  },
  {
   "cell_type": "code",
   "execution_count": 93,
   "id": "ca12596d-8afe-4a0f-a790-4e15308711e5",
   "metadata": {},
   "outputs": [
    {
     "name": "stdout",
     "output_type": "stream",
     "text": [
      "('Kris Janson', 49, 0.9915623068809509)\n"
     ]
    }
   ],
   "source": [
    "print((call_rr(\"<mask> <mask> maslog <mask> ( born <mask> <mask>, <mask> ) simply known as <mask> <mask>, is a <mask> <mask> <mask> titleholder from <mask> <mask>, crowned <mask> <mask> <mask> <mask> at the <mask> <mask> <mask> <mask> held on march 30th, <mask> at the smart araneta coliseum, quezon city, <mask>.\")))\n"
   ]
  },
  {
   "cell_type": "code",
   "execution_count": 78,
   "id": "14340f42-4c63-4e0c-8155-bd5aaaa0cc28",
   "metadata": {},
   "outputs": [
    {
     "data": {
      "text/plain": [
       "'<mask> <mask> maslog <mask> ( born <mask> <mask>, <mask> ) simply known as <mask> <mask>, is a <mask> <mask> <mask> titleholder from <mask> <mask>, crowned <mask> <mask> <mask> <mask> at the <mask> <mask> <mask> <mask> held on march 30th, <mask> at the smart araneta coliseum, quezon city, <mask>.'"
      ]
     },
     "execution_count": 78,
     "metadata": {},
     "output_type": "execute_result"
    }
   ],
   "source": [
    "(\"<mask> <mask> maslog <mask> ( born <mask> <mask>, <mask> ) simply known as <mask> <mask>, is a <mask> <mask> <mask> titleholder from <mask> <mask>, crowned <mask> <mask> <mask> <mask> at the <mask> <mask> <mask> <mask> held on march 30th, <mask> at the smart araneta coliseum, quezon city, <mask>.\")"
   ]
  },
  {
   "cell_type": "code",
   "execution_count": 79,
   "id": "6772efcd-a463-4aa0-8d31-cc15052eccc6",
   "metadata": {},
   "outputs": [
    {
     "data": {
      "text/plain": [
       "'<mask> <mask> <maslog> <mask> ( born <mask> <mask>, <mask> ) simply known as <mask> <mask>, is a <mask> <mask> <mask> titleholder from <mask> <mask>, crowned <mask> <mask> <mask> <mask> at the <mask> <mask> <mask> <mask> held on march 30th, <mask> at the smart araneta coliseum, quezon city, <mask>.'"
      ]
     },
     "execution_count": 79,
     "metadata": {},
     "output_type": "execute_result"
    }
   ],
   "source": [
    "\"<mask> <mask> <maslog> <mask> ( born <mask> <mask>, <mask> ) simply known as <mask> <mask>, is a <mask> <mask> <mask> titleholder from <mask> <mask>, crowned <mask> <mask> <mask> <mask> at the <mask> <mask> <mask> <mask> held on march 30th, <mask> at the smart araneta coliseum, quezon city, <mask>.\""
   ]
  },
  {
   "cell_type": "code",
   "execution_count": 90,
   "id": "a828ba50-d0c7-459e-b170-7ec44a813e57",
   "metadata": {},
   "outputs": [
    {
     "data": {
      "text/plain": [
       "35"
      ]
     },
     "execution_count": 90,
     "metadata": {},
     "output_type": "execute_result"
    }
   ],
   "source": [
    "# masked with beam search b=128\n",
    "kris_janson_128 = \"<mask> <mask> <mask> <mask> ( <mask> <mask> <mask>, <mask> ) <mask> <mask> <mask> <mask> <mask>, <mask> <mask> filipino <mask> <mask> <mask> <mask> cebu city, <mask> <mask> <mask> <mask> 2014 <mask> <mask> <mask> <mask> 2014 <mask> held <mask> <mask> 30th, <mask> <mask> the smart <mask> <mask>, <mask> city, philippines.\"\n",
    "kris_janson_128.count('<mask>')"
   ]
  },
  {
   "cell_type": "code",
   "execution_count": 94,
   "id": "6d6828f8-f855-4986-a10d-67c4d9f896ee",
   "metadata": {},
   "outputs": [
    {
     "data": {
      "text/plain": [
       "('Nigel Paul C. Villarete', 295288, 0.43455469608306885)"
      ]
     },
     "execution_count": 94,
     "metadata": {},
     "output_type": "execute_result"
    }
   ],
   "source": [
    "call_rt(kris_janson_128)"
   ]
  },
  {
   "cell_type": "code",
   "execution_count": 95,
   "id": "a879ee7d-f24b-43ea-9eb7-24e27f2ee395",
   "metadata": {},
   "outputs": [
    {
     "data": {
      "text/plain": [
       "('John Geesnell Lim Yap Ii', 494143, 0.09956586360931396)"
      ]
     },
     "execution_count": 95,
     "metadata": {},
     "output_type": "execute_result"
    }
   ],
   "source": [
    "call_rr(kris_janson_128)"
   ]
  },
  {
   "cell_type": "code",
   "execution_count": null,
   "id": "0642c66d-75b5-4735-a2ad-5ee55d342552",
   "metadata": {},
   "outputs": [],
   "source": []
  }
 ],
 "metadata": {
  "kernelspec": {
   "display_name": "Python 3",
   "language": "python",
   "name": "python3"
  },
  "language_info": {
   "codemirror_mode": {
    "name": "ipython",
    "version": 3
   },
   "file_extension": ".py",
   "mimetype": "text/x-python",
   "name": "python",
   "nbconvert_exporter": "python",
   "pygments_lexer": "ipython3",
   "version": "3.9.7"
  }
 },
 "nbformat": 4,
 "nbformat_minor": 5
}
