{
 "cells": [
  {
   "cell_type": "markdown",
   "id": "ee3af336-3aa6-4a1f-9697-7f430b398e58",
   "metadata": {},
   "source": [
    "### Collecting intermediate results\n",
    "\n",
    "I trained three models for reidentification. I know they're not fully trained (hopefully I can train much better ones soon!) but I am still going to evaluate them against two deidentification baselines, lexical and NER."
   ]
  },
  {
   "cell_type": "code",
   "execution_count": 5,
   "id": "587d407a-edc2-4835-a333-3a5a81449d4b",
   "metadata": {},
   "outputs": [
    {
     "name": "stdout",
     "output_type": "stream",
     "text": [
      "Warning: set num_workers to 1, expect dataloader bottleneck\n",
      "Initializing WikipediaDataModule with num_workers = 1 and mask token `<mask>`\n",
      "loading wiki_bio[1.2.0] split train[:1]\n"
     ]
    },
    {
     "name": "stderr",
     "output_type": "stream",
     "text": [
      "Using custom data configuration default\n",
      "Reusing dataset wiki_bio (/home/jxm3/.cache/huggingface/datasets/wiki_bio/default/1.2.0/c05ce066e9026831cd7535968a311fc80f074b58868cfdffccbc811dff2ab6da)\n"
     ]
    },
    {
     "name": "stdout",
     "output_type": "stream",
     "text": [
      "loading wiki_bio[1.2.0] split val[:1000]\n"
     ]
    },
    {
     "name": "stderr",
     "output_type": "stream",
     "text": [
      "Using custom data configuration default\n",
      "Reusing dataset wiki_bio (/home/jxm3/.cache/huggingface/datasets/wiki_bio/default/1.2.0/c05ce066e9026831cd7535968a311fc80f074b58868cfdffccbc811dff2ab6da)\n"
     ]
    },
    {
     "data": {
      "application/vnd.jupyter.widget-view+json": {
       "model_id": "fd0e4d588674499a8905aa2f17a9ae1f",
       "version_major": 2,
       "version_minor": 0
      },
      "text/plain": [
       "  0%|          | 0/1 [00:00<?, ?ex/s]"
      ]
     },
     "metadata": {},
     "output_type": "display_data"
    },
    {
     "data": {
      "application/vnd.jupyter.widget-view+json": {
       "model_id": "2dd06aeb5c6b4cfda6a5c081d36cea6c",
       "version_major": 2,
       "version_minor": 0
      },
      "text/plain": [
       "  0%|          | 0/1000 [00:00<?, ?ex/s]"
      ]
     },
     "metadata": {},
     "output_type": "display_data"
    },
    {
     "data": {
      "application/vnd.jupyter.widget-view+json": {
       "model_id": "6e49ad1b4e2e4e739900776d4c071b1e",
       "version_major": 2,
       "version_minor": 0
      },
      "text/plain": [
       "  0%|          | 0/1000 [00:00<?, ?ex/s]"
      ]
     },
     "metadata": {},
     "output_type": "display_data"
    },
    {
     "data": {
      "application/vnd.jupyter.widget-view+json": {
       "model_id": "7fa9af8845e84123a5c5b2b498fafcf1",
       "version_major": 2,
       "version_minor": 0
      },
      "text/plain": [
       "  0%|          | 0/1 [00:00<?, ?ba/s]"
      ]
     },
     "metadata": {},
     "output_type": "display_data"
    }
   ],
   "source": [
    "import sys\n",
    "sys.path.append('/home/jxm3/research/deidentification/unsupervised-deidentification')\n",
    "\n",
    "from dataloader import WikipediaDataModule\n",
    "\n",
    "import os\n",
    "\n",
    "num_cpus = os.cpu_count()\n",
    "dm = WikipediaDataModule(\n",
    "    document_model_name_or_path=\"roberta-base\",\n",
    "    profile_model_name_or_path=\"google/tapas-base\",\n",
    "    max_seq_length=128,\n",
    "    dataset_name='wiki_bio',\n",
    "    dataset_train_split='train[:1]', # not used\n",
    "    dataset_val_split='val[:1000]',\n",
    "    dataset_version='1.2.0',\n",
    "    word_dropout_ratio=0.0,\n",
    "    word_dropout_perc=0.0,\n",
    "    num_workers=1,\n",
    "    train_batch_size=64,\n",
    "    eval_batch_size=64\n",
    ")\n",
    "dm.setup(\"fit\")"
   ]
  },
  {
   "cell_type": "code",
   "execution_count": 6,
   "id": "861e5623-f670-4cb3-9e97-4349fda7ea64",
   "metadata": {},
   "outputs": [
    {
     "data": {
      "text/plain": [
       "{'input_text': {'table': {'column_header': ['successor',\n",
       "    'name',\n",
       "    'residence',\n",
       "    'ended',\n",
       "    'feast_day',\n",
       "    'title',\n",
       "    'enthroned',\n",
       "    'predecessor',\n",
       "    'death_date',\n",
       "    'buried',\n",
       "    'birth_place',\n",
       "    'nationality',\n",
       "    'religion',\n",
       "    'article_title',\n",
       "    'type'],\n",
       "   'row_number': [1, 1, 1, 1, 1, 1, 1, 1, 1, 1, 1, 1, 1, 1, 1],\n",
       "   'content': ['gabriel i',\n",
       "    'michael iii of alexandria',\n",
       "    \"saint mark 's church\",\n",
       "    '16 march 907',\n",
       "    '16 -rrb- march -lrb- 20 baramhat in the coptic calendar',\n",
       "    '56th of st. mark pope of alexandria & patriarch of the see',\n",
       "    '25 april 880',\n",
       "    'shenouda i',\n",
       "    '16 march 907',\n",
       "    'monastery of saint macarius the great',\n",
       "    'egypt',\n",
       "    'egyptian',\n",
       "    'coptic orthodox christian',\n",
       "    'pope michael iii of alexandria\\n',\n",
       "    'pope']},\n",
       "  'context': 'pope michael iii of alexandria\\n'},\n",
       " 'target_text': 'pope michael iii of alexandria -lrb- also known as khail iii -rrb- was the coptic pope of alexandria and patriarch of the see of st. mark -lrb- 880 -- 907 -rrb- .\\nin 882 , the governor of egypt , ahmad ibn tulun , forced khail to pay heavy contributions , forcing him to sell a church and some attached properties to the local jewish community .\\nthis building was at one time believed to have later become the site of the cairo geniza .\\n',\n",
       " 'name': 'Michael Iii Of Alexandria',\n",
       " 'document': 'pope michael iii of alexandria ( also known as khail iii ) was the coptic pope of alexandria and patriarch of the see of st. mark ( 880 -- 907 ) .\\nin 882 , the governor of egypt , ahmad ibn tulun , forced khail to pay heavy contributions , forcing him to sell a church and some attached properties to the local jewish community .\\nthis building was at one time believed to have later become the site of the cairo geniza .\\n',\n",
       " 'profile': \"successor || gabriel i\\nname || michael iii of alexandria\\nresidence || saint mark 's church\\nended || 16 march 907\\nfeast_day || 16 -rrb- march -lrb- 20 baramhat in the coptic calendar\\ntitle || 56th of st. mark pope of alexandria & patriarch of the see\\nenthroned || 25 april 880\\npredecessor || shenouda i\\ndeath_date || 16 march 907\\nburied || monastery of saint macarius the great\\nbirth_place || egypt\\nnationality || egyptian\\nreligion || coptic orthodox christian\\narticle_title || pope michael iii of alexandria\\ntype || pope\",\n",
       " 'profile_keys': 'successor||name||residence||ended||feast_day||title||enthroned||predecessor||death_date||buried||birth_place||nationality||religion||article_title||type',\n",
       " 'profile_values': \"gabriel i||michael iii of alexandria||saint mark 's church||16 march 907||16 -rrb- march -lrb- 20 baramhat in the coptic calendar||56th of st. mark pope of alexandria & patriarch of the see||25 april 880||shenouda i||16 march 907||monastery of saint macarius the great||egypt||egyptian||coptic orthodox christian||pope michael iii of alexandria||pope\",\n",
       " 'text_key': \"pope michael iii of alexandria -lrb- also known as khail iii -rrb- was the coptic pope of alexandria and patriarch of the see of st. mark -lrb- 880 -- 907 -rrb- .\\nin 882 , the governor of egypt , ahmad ibn tulun , forced khail to pay heavy contributions , forcing him to sell a church and some attached properties to the local jewish community .\\nthis building was at one time believed to have later become the site of the cairo geniza .\\n successor || gabriel i\\nname || michael iii of alexandria\\nresidence || saint mark 's church\\nended || 16 march 907\\nfeast_day || 16 -rrb- march -lrb- 20 baramhat in the coptic calendar\\ntitle || 56th of st. mark pope of alexandria & patriarch of the see\\nenthroned || 25 april 880\\npredecessor || shenouda i\\ndeath_date || 16 march 907\\nburied || monastery of saint macarius the great\\nbirth_place || egypt\\nnationality || egyptian\\nreligion || coptic orthodox christian\\narticle_title || pope michael iii of alexandria\\ntype || pope\",\n",
       " 'document_redact_lexical': '<mask> <mask> <mask> of <mask> ( also known as khail <mask> ) was the <mask> <mask> of <mask> and <mask> of the <mask> of <mask> <mask> ( <mask> -- <mask> ) .\\nin 882 , the governor of <mask> , ahmad ibn tulun , forced khail to pay heavy contributions , forcing him to sell a <mask> and some attached properties to the local jewish community .\\nthis building was at one time believed to have later become the site of the cairo geniza .\\n',\n",
       " 'document_redact_ner': 'pope <mask> <mask> of alexandria ( also known as khail iii ) was the coptic pope of alexandria and patriarch of the see of st. mark ( <mask> -- <mask> ) .\\nin <mask> , the governor of <mask> , <mask> <mask> tulun , forced khail to pay heavy contributions , forcing him to sell a church and some attached properties to the local jewish community .\\nthis building was at one time believed to have later become the site of the <mask> geniza .\\n',\n",
       " 'text_key_id': 0}"
      ]
     },
     "execution_count": 6,
     "metadata": {},
     "output_type": "execute_result"
    }
   ],
   "source": [
    "dm.val_dataset[0]"
   ]
  },
  {
   "cell_type": "code",
   "execution_count": 1,
   "id": "cff1f642-1464-4420-a5e7-08df93299d61",
   "metadata": {},
   "outputs": [],
   "source": [
    "import pandas as pd"
   ]
  },
  {
   "cell_type": "markdown",
   "id": "2ad55fa6-5343-4387-b24a-a4fe11b2fea6",
   "metadata": {},
   "source": [
    "### Load pre-generated redacted data from various models.\n",
    "\n",
    "Models are explained in `../model_cfg.py`."
   ]
  },
  {
   "cell_type": "code",
   "execution_count": 70,
   "id": "8db17d85-a174-4571-9c5e-b32268eef2f8",
   "metadata": {},
   "outputs": [
    {
     "name": "stdout",
     "output_type": "stream",
     "text": [
      "model_4 ['../adv_csvs/model_4/results_1_100.csv', '../adv_csvs/model_4/results_10_100.csv', '../adv_csvs/model_4/results_1000_100.csv']\n",
      "model_5 ['../adv_csvs/model_5/results_1_100.csv', '../adv_csvs/model_5/results_10_100.csv']\n",
      "model_6 ['../adv_csvs/model_6/results_1_100.csv', '../adv_csvs/model_6/results_10_100.csv', '../adv_csvs/model_6/results_1000_100.csv']\n"
     ]
    }
   ],
   "source": [
    "import glob\n",
    "import re\n",
    "\n",
    "\n",
    "adv_df = None\n",
    "for model_name in ['model_4', 'model_5', 'model_6']:\n",
    "    csv_filenames = glob.glob(f'../adv_csvs/{model_name}/*0.csv')\n",
    "    print(model_name, csv_filenames)\n",
    "    for filename in csv_filenames:\n",
    "        df = pd.read_csv(filename)\n",
    "        k = re.search(r'_(\\d+)_\\d+.csv', filename).group(1)\n",
    "        df['model_name'] = model_name + '__k' + str(k)\n",
    "        df['i'] = df.index\n",
    "        mini_df = df[['perturbed_text', 'model_name', 'i']]\n",
    "        if adv_df is None:\n",
    "            adv_df = mini_df\n",
    "        else:\n",
    "            adv_df = pd.concat((adv_df, mini_df), axis=0)"
   ]
  },
  {
   "cell_type": "code",
   "execution_count": 71,
   "id": "831f1d03-5195-45a2-bc3d-39f159a0d89c",
   "metadata": {},
   "outputs": [
    {
     "data": {
      "text/html": [
       "<div>\n",
       "<style scoped>\n",
       "    .dataframe tbody tr th:only-of-type {\n",
       "        vertical-align: middle;\n",
       "    }\n",
       "\n",
       "    .dataframe tbody tr th {\n",
       "        vertical-align: top;\n",
       "    }\n",
       "\n",
       "    .dataframe thead th {\n",
       "        text-align: right;\n",
       "    }\n",
       "</style>\n",
       "<table border=\"1\" class=\"dataframe\">\n",
       "  <thead>\n",
       "    <tr style=\"text-align: right;\">\n",
       "      <th></th>\n",
       "      <th>perturbed_text</th>\n",
       "      <th>model_name</th>\n",
       "      <th>i</th>\n",
       "    </tr>\n",
       "  </thead>\n",
       "  <tbody>\n",
       "    <tr>\n",
       "      <th>0</th>\n",
       "      <td>pope &lt;mask&gt; &lt;mask&gt; &lt;mask&gt; alexandria (also kno...</td>\n",
       "      <td>model_4__k1</td>\n",
       "      <td>0</td>\n",
       "    </tr>\n",
       "    <tr>\n",
       "      <th>1</th>\n",
       "      <td>&lt;mask&gt; &lt;mask&gt; is a male former &lt;mask&gt; &lt;mask&gt; p...</td>\n",
       "      <td>model_4__k1</td>\n",
       "      <td>1</td>\n",
       "    </tr>\n",
       "    <tr>\n",
       "      <th>2</th>\n",
       "      <td>&lt;mask&gt; &lt;mask&gt; (born 30 &lt;mask&gt; &lt;mask&gt;) is a tur...</td>\n",
       "      <td>model_4__k1</td>\n",
       "      <td>2</td>\n",
       "    </tr>\n",
       "    <tr>\n",
       "      <th>3</th>\n",
       "      <td>&lt;mask&gt; &lt;mask&gt; , (born march 14 , &lt;mask&gt;) is a ...</td>\n",
       "      <td>model_4__k1</td>\n",
       "      <td>3</td>\n",
       "    </tr>\n",
       "    <tr>\n",
       "      <th>4</th>\n",
       "      <td>&lt;mask&gt; &lt;mask&gt;. &lt;mask&gt; is a former democratic m...</td>\n",
       "      <td>model_4__k1</td>\n",
       "      <td>4</td>\n",
       "    </tr>\n",
       "  </tbody>\n",
       "</table>\n",
       "</div>"
      ],
      "text/plain": [
       "                                      perturbed_text   model_name  i\n",
       "0  pope <mask> <mask> <mask> alexandria (also kno...  model_4__k1  0\n",
       "1  <mask> <mask> is a male former <mask> <mask> p...  model_4__k1  1\n",
       "2  <mask> <mask> (born 30 <mask> <mask>) is a tur...  model_4__k1  2\n",
       "3  <mask> <mask> , (born march 14 , <mask>) is a ...  model_4__k1  3\n",
       "4  <mask> <mask>. <mask> is a former democratic m...  model_4__k1  4"
      ]
     },
     "execution_count": 71,
     "metadata": {},
     "output_type": "execute_result"
    }
   ],
   "source": [
    "adv_df.head()"
   ]
  },
  {
   "cell_type": "markdown",
   "id": "cb3fb6a4-9cbe-4dc6-b55d-f2e582396d2d",
   "metadata": {},
   "source": [
    "### Get baseline redacted data\n",
    "\n",
    "Redacted via NER and Lexical redaction."
   ]
  },
  {
   "cell_type": "code",
   "execution_count": 72,
   "id": "27f0ab95-ed25-4523-8372-a0f727bfe101",
   "metadata": {},
   "outputs": [],
   "source": [
    "mini_val_dataset = dm.val_dataset[:100]\n",
    "ner_df = pd.DataFrame(\n",
    "    columns=['perturbed_text'],\n",
    "    data=mini_val_dataset['document_redact_ner']\n",
    ")\n",
    "ner_df['model_name'] = 'named_entity'\n",
    "ner_df['i'] = ner_df.index\n",
    "       \n",
    "lex_df = pd.DataFrame(\n",
    "    columns=['perturbed_text'],\n",
    "    data=mini_val_dataset['document_redact_lexical']\n",
    ")\n",
    "lex_df['model_name'] = 'lexical'\n",
    "lex_df['i'] = lex_df.index\n",
    "\n",
    "baseline_df = pd.concat((lex_df, ner_df), axis=0)"
   ]
  },
  {
   "cell_type": "code",
   "execution_count": 73,
   "id": "09c8b0d3-2053-4154-98cc-642fa875fb73",
   "metadata": {},
   "outputs": [
    {
     "data": {
      "text/html": [
       "<div>\n",
       "<style scoped>\n",
       "    .dataframe tbody tr th:only-of-type {\n",
       "        vertical-align: middle;\n",
       "    }\n",
       "\n",
       "    .dataframe tbody tr th {\n",
       "        vertical-align: top;\n",
       "    }\n",
       "\n",
       "    .dataframe thead th {\n",
       "        text-align: right;\n",
       "    }\n",
       "</style>\n",
       "<table border=\"1\" class=\"dataframe\">\n",
       "  <thead>\n",
       "    <tr style=\"text-align: right;\">\n",
       "      <th></th>\n",
       "      <th>perturbed_text</th>\n",
       "      <th>model_name</th>\n",
       "      <th>i</th>\n",
       "    </tr>\n",
       "  </thead>\n",
       "  <tbody>\n",
       "    <tr>\n",
       "      <th>0</th>\n",
       "      <td>&lt;mask&gt; &lt;mask&gt; &lt;mask&gt; of &lt;mask&gt; ( also known as...</td>\n",
       "      <td>lexical</td>\n",
       "      <td>0</td>\n",
       "    </tr>\n",
       "    <tr>\n",
       "      <th>1</th>\n",
       "      <td>&lt;mask&gt; &lt;mask&gt; is a male former table tennis pl...</td>\n",
       "      <td>lexical</td>\n",
       "      <td>1</td>\n",
       "    </tr>\n",
       "    <tr>\n",
       "      <th>2</th>\n",
       "      <td>&lt;mask&gt; &lt;mask&gt; ( born &lt;mask&gt;&lt;mask&gt; &lt;mask&gt; &lt;mask...</td>\n",
       "      <td>lexical</td>\n",
       "      <td>2</td>\n",
       "    </tr>\n",
       "    <tr>\n",
       "      <th>3</th>\n",
       "      <td>&lt;mask&gt; &lt;mask&gt; &lt;mask&gt; ( born &lt;mask&gt; &lt;mask&gt;4 &lt;ma...</td>\n",
       "      <td>lexical</td>\n",
       "      <td>3</td>\n",
       "    </tr>\n",
       "    <tr>\n",
       "      <th>4</th>\n",
       "      <td>&lt;mask&gt; &lt;mask&gt; &lt;mask&gt; is a former &lt;mask&gt; member...</td>\n",
       "      <td>lexical</td>\n",
       "      <td>4</td>\n",
       "    </tr>\n",
       "  </tbody>\n",
       "</table>\n",
       "</div>"
      ],
      "text/plain": [
       "                                      perturbed_text model_name  i\n",
       "0  <mask> <mask> <mask> of <mask> ( also known as...    lexical  0\n",
       "1  <mask> <mask> is a male former table tennis pl...    lexical  1\n",
       "2  <mask> <mask> ( born <mask><mask> <mask> <mask...    lexical  2\n",
       "3  <mask> <mask> <mask> ( born <mask> <mask>4 <ma...    lexical  3\n",
       "4  <mask> <mask> <mask> is a former <mask> member...    lexical  4"
      ]
     },
     "execution_count": 73,
     "metadata": {},
     "output_type": "execute_result"
    }
   ],
   "source": [
    "baseline_df.head()"
   ]
  },
  {
   "cell_type": "code",
   "execution_count": 74,
   "id": "ae7d0c10-2f6a-4ee6-836b-a3cc73e2084d",
   "metadata": {},
   "outputs": [
    {
     "data": {
      "text/plain": [
       "model_4__k1       100\n",
       "model_4__k10      100\n",
       "model_4__k1000    100\n",
       "model_5__k1       100\n",
       "model_5__k10      100\n",
       "model_6__k1       100\n",
       "model_6__k10      100\n",
       "model_6__k1000    100\n",
       "lexical           100\n",
       "named_entity      100\n",
       "Name: model_name, dtype: int64"
      ]
     },
     "execution_count": 74,
     "metadata": {},
     "output_type": "execute_result"
    }
   ],
   "source": [
    "full_df = pd.concat((adv_df, baseline_df), axis=0)\n",
    "full_df['model_name'].value_counts()"
   ]
  },
  {
   "cell_type": "code",
   "execution_count": 75,
   "id": "72e7872d-502c-4286-920a-79fe1d89dde7",
   "metadata": {},
   "outputs": [
    {
     "data": {
      "text/plain": [
       "0     10\n",
       "63    10\n",
       "73    10\n",
       "72    10\n",
       "71    10\n",
       "      ..\n",
       "30    10\n",
       "29    10\n",
       "28    10\n",
       "27    10\n",
       "99    10\n",
       "Name: i, Length: 100, dtype: int64"
      ]
     },
     "execution_count": 75,
     "metadata": {},
     "output_type": "execute_result"
    }
   ],
   "source": [
    "full_df['i'].value_counts()"
   ]
  },
  {
   "cell_type": "markdown",
   "id": "c7183217-9829-479d-9c48-107dcf058c66",
   "metadata": {},
   "source": [
    "### Measuring utility"
   ]
  },
  {
   "cell_type": "markdown",
   "id": "3fca4a54-e410-4cc7-bc4a-b611a34182d4",
   "metadata": {},
   "source": [
    "Unit 1: number of redacted words."
   ]
  },
  {
   "cell_type": "code",
   "execution_count": 90,
   "id": "c8323e45-6c62-4e9f-8481-04abd3cfeeac",
   "metadata": {},
   "outputs": [],
   "source": [
    "def count_masks(s):\n",
    "    return s.count('<mask>')"
   ]
  },
  {
   "cell_type": "code",
   "execution_count": 91,
   "id": "2218c87e-2063-45c1-986e-cfd856b9aeb5",
   "metadata": {},
   "outputs": [
    {
     "data": {
      "text/plain": [
       "9"
      ]
     },
     "execution_count": 91,
     "metadata": {},
     "output_type": "execute_result"
    }
   ],
   "source": [
    "count_masks(full_df.iloc[0]['perturbed_text'])"
   ]
  },
  {
   "cell_type": "code",
   "execution_count": 96,
   "id": "fc33e2cd-5366-44ab-82e6-b5238623177d",
   "metadata": {},
   "outputs": [
    {
     "data": {
      "text/plain": [
       "model_name\n",
       "lexical           25.40\n",
       "model_4__k1        9.45\n",
       "model_4__k10      14.84\n",
       "model_4__k1000    40.64\n",
       "model_5__k1        8.25\n",
       "model_5__k10      29.02\n",
       "model_6__k1        3.54\n",
       "model_6__k10       8.35\n",
       "model_6__k1000    22.44\n",
       "named_entity      19.34\n",
       "dtype: float64"
      ]
     },
     "execution_count": 96,
     "metadata": {},
     "output_type": "execute_result"
    }
   ],
   "source": [
    "full_df.groupby('model_name').apply(lambda s: count_masks('\\n'.join(s['perturbed_text']))) / 100.0"
   ]
  },
  {
   "cell_type": "markdown",
   "id": "1eb4ae06-7b50-4ceb-8ac5-dcebe6b52119",
   "metadata": {},
   "source": [
    "Unit 2: compressed size."
   ]
  },
  {
   "cell_type": "code",
   "execution_count": 89,
   "id": "ea949db6-a381-41d0-8b86-411d5cccf3c7",
   "metadata": {},
   "outputs": [
    {
     "data": {
      "text/plain": [
       "157"
      ]
     },
     "execution_count": 89,
     "metadata": {},
     "output_type": "execute_result"
    }
   ],
   "source": [
    "import zlib\n",
    "\n",
    "def count_compressed_bytes(s: str) -> int:\n",
    "    return len(zlib.compress(s.encode()))\n",
    "\n",
    "teststr = \"\"\"Lorem ipsum dolor sit amet, consectetur adipiscing elit. Phasellus\n",
    "pretium justo eget elit eleifend, et dignissim quam eleifend. Nam vehicula nisl\n",
    "posuere velit volutpat, vitae scelerisque nisl imperdiet. Phasellus dignissim,\n",
    "dolor amet.\"\"\"\n",
    "\n",
    "count_compressed_bytes(teststr)"
   ]
  },
  {
   "cell_type": "code",
   "execution_count": 98,
   "id": "42c2f557-e424-455d-b989-700f2fd2a5f6",
   "metadata": {},
   "outputs": [],
   "source": [
    "original_text = mini_val_dataset['document']"
   ]
  },
  {
   "cell_type": "code",
   "execution_count": 101,
   "id": "dffd904e-fd35-4309-92c9-5179675e7dd7",
   "metadata": {},
   "outputs": [
    {
     "data": {
      "text/plain": [
       "model_name\n",
       "lexical           0.128123\n",
       "model_4__k1       0.074333\n",
       "model_4__k10      0.115889\n",
       "model_4__k1000    0.311295\n",
       "model_5__k1       0.063548\n",
       "model_5__k10      0.202129\n",
       "model_6__k1       0.026288\n",
       "model_6__k10      0.064575\n",
       "model_6__k1000    0.169165\n",
       "named_entity      0.146099\n",
       "dtype: float64"
      ]
     },
     "execution_count": 101,
     "metadata": {},
     "output_type": "execute_result"
    }
   ],
   "source": [
    "original_total_bytes = count_compressed_bytes('\\n'.join(original_text))\n",
    "\n",
    "1 - full_df.groupby('model_name').apply(lambda s: count_compressed_bytes('\\n'.join(s['perturbed_text']))) / original_total_bytes"
   ]
  },
  {
   "cell_type": "markdown",
   "id": "f138c756-198e-48e8-a96d-9a23872c8dea",
   "metadata": {},
   "source": [
    "### Reidentification rate (privacy metric)"
   ]
  },
  {
   "cell_type": "code",
   "execution_count": 104,
   "id": "ee4b5d33-67a4-4616-b28f-ced248d5ccf3",
   "metadata": {},
   "outputs": [],
   "source": [
    "from typing import List\n",
    "\n",
    "from nltk.corpus import stopwords\n",
    "from rank_bm25 import BM25Okapi\n",
    "\n",
    "eng_stopwords = stopwords.words('english')\n",
    "from tqdm.auto import tqdm\n",
    "tqdm.pandas()\n",
    "\n",
    "\n",
    "def get_words_from_doc(s: List[str]) -> List[str]:\n",
    "    words = s.split()\n",
    "    return [w for w in words if not w in eng_stopwords]"
   ]
  },
  {
   "cell_type": "code",
   "execution_count": 106,
   "id": "f9ac5f5c-be5a-475e-984d-6b6ed128ae82",
   "metadata": {},
   "outputs": [
    {
     "name": "stderr",
     "output_type": "stream",
     "text": [
      "Using custom data configuration default\n",
      "Reusing dataset wiki_bio (/home/jxm3/.cache/huggingface/datasets/wiki_bio/default/1.2.0/c05ce066e9026831cd7535968a311fc80f074b58868cfdffccbc811dff2ab6da)\n"
     ]
    },
    {
     "data": {
      "application/vnd.jupyter.widget-view+json": {
       "model_id": "9250f8041b904dac997853f23caeeb1b",
       "version_major": 2,
       "version_minor": 0
      },
      "text/plain": [
       "  0%|          | 0/14566 [00:00<?, ?ex/s]"
      ]
     },
     "metadata": {},
     "output_type": "display_data"
    }
   ],
   "source": [
    "import datasets\n",
    "\n",
    "split = 'val[:20%]'\n",
    "prof_data = datasets.load_dataset('wiki_bio', split=split, version='1.2.0')\n",
    "\n",
    "def make_table_str(ex):\n",
    "    ex['table_str'] = (\n",
    "        ' '.join(ex['input_text']['table']['column_header'] + ex['input_text']['table']['content'])\n",
    "    )\n",
    "    return ex\n",
    "\n",
    "prof_data = prof_data.map(make_table_str)\n",
    "profile_corpus = prof_data['table_str']"
   ]
  },
  {
   "cell_type": "code",
   "execution_count": 107,
   "id": "da63251d-0089-4d0b-a76d-3f0a2e68e7c2",
   "metadata": {},
   "outputs": [],
   "source": [
    "tokenized_profile_corpus = [\n",
    "    get_words_from_doc(prof) for prof in profile_corpus\n",
    "]"
   ]
  },
  {
   "cell_type": "code",
   "execution_count": 108,
   "id": "4cdd734a-5148-47f9-ab7b-7442280dbf1c",
   "metadata": {},
   "outputs": [],
   "source": [
    "bm25 = BM25Okapi(tokenized_profile_corpus)"
   ]
  },
  {
   "cell_type": "code",
   "execution_count": 109,
   "id": "d7813ad2-5f56-417d-9862-fb14a7cec6ed",
   "metadata": {},
   "outputs": [
    {
     "data": {
      "application/vnd.jupyter.widget-view+json": {
       "model_id": "36bdf9f11962400b8b54399faf39ff1d",
       "version_major": 2,
       "version_minor": 0
      },
      "text/plain": [
       "  0%|          | 0/1000 [00:00<?, ?it/s]"
      ]
     },
     "metadata": {},
     "output_type": "display_data"
    },
    {
     "name": "stdout",
     "output_type": "stream",
     "text": [
      "0.4\n"
     ]
    }
   ],
   "source": [
    "def get_top_k(ex):\n",
    "    query = ex[\"perturbed_text\"].split()\n",
    "    top_k = bm25.get_scores(query).argsort()[::-1]\n",
    "    # breakpoint()\n",
    "    ex[\"correct_idx\"] = top_k.tolist().index(ex[\"i\"])\n",
    "    ex[\"is_correct\"] = 1 if top_k[0] == ex[\"i\"] else 0\n",
    "    return ex\n",
    "    \n",
    "num_proc = min(8, len(os.sched_getaffinity(0)))\n",
    "full_df = full_df.progress_apply(get_top_k, axis=1)\n",
    "print(full_df[\"is_correct\"].mean())"
   ]
  },
  {
   "cell_type": "code",
   "execution_count": 113,
   "id": "bd6f1387-bc18-4699-bc34-ac27112e3c11",
   "metadata": {},
   "outputs": [
    {
     "data": {
      "text/plain": [
       "model_name\n",
       "lexical            0.0\n",
       "model_4__k1       42.0\n",
       "model_4__k10      33.0\n",
       "model_4__k1000    18.0\n",
       "model_5__k1       45.0\n",
       "model_5__k10      24.0\n",
       "model_6__k1       72.0\n",
       "model_6__k10      62.0\n",
       "model_6__k1000    39.0\n",
       "named_entity      65.0\n",
       "Name: is_correct, dtype: float64"
      ]
     },
     "execution_count": 113,
     "metadata": {},
     "output_type": "execute_result"
    }
   ],
   "source": [
    "full_df.groupby('model_name').mean()['is_correct'] * 100"
   ]
  },
  {
   "cell_type": "markdown",
   "id": "00bdc76c-2241-4df9-b580-3832f27f36f1",
   "metadata": {},
   "source": [
    "### Checking distribution of word counts"
   ]
  },
  {
   "cell_type": "code",
   "execution_count": 124,
   "id": "f83a4a0f-26d1-4be6-9b2e-5e3d15fdc543",
   "metadata": {},
   "outputs": [],
   "source": [
    "num_words_per_doc = pd.Series([len(t.split()) for t in mini_val_dataset['target_text']])"
   ]
  },
  {
   "cell_type": "code",
   "execution_count": 127,
   "id": "99e78142-3e93-47bf-9914-0ea17621ecd0",
   "metadata": {},
   "outputs": [],
   "source": [
    "import transformers\n",
    "tokenizer = transformers.AutoTokenizer.from_pretrained('roberta-base')"
   ]
  },
  {
   "cell_type": "code",
   "execution_count": 138,
   "id": "6b525d16-1f6e-4fed-9daa-b7ef45dfd824",
   "metadata": {},
   "outputs": [],
   "source": [
    "def num_tokens_roberta_tokenizer(text: str) -> int:\n",
    "    return len(tokenizer.encode(text))\n",
    "\n",
    "num_tokens_per_doc = pd.Series(map(num_tokens_roberta_tokenizer, mini_val_dataset['target_text']))"
   ]
  },
  {
   "cell_type": "code",
   "execution_count": 139,
   "id": "fd3b0850-748d-419e-bb4f-4ee0d62560d4",
   "metadata": {},
   "outputs": [
    {
     "data": {
      "text/plain": [
       "0     123\n",
       "1      17\n",
       "2      47\n",
       "3      50\n",
       "4      41\n",
       "     ... \n",
       "95     99\n",
       "96    129\n",
       "97    138\n",
       "98    123\n",
       "99    226\n",
       "Length: 100, dtype: int64"
      ]
     },
     "execution_count": 139,
     "metadata": {},
     "output_type": "execute_result"
    }
   ],
   "source": [
    "num_tokens_per_doc"
   ]
  },
  {
   "cell_type": "code",
   "execution_count": 140,
   "id": "3455a781-e6de-4642-b92b-e8017f7cbb74",
   "metadata": {},
   "outputs": [
    {
     "data": {
      "text/plain": [
       "144.57"
      ]
     },
     "execution_count": 140,
     "metadata": {},
     "output_type": "execute_result"
    }
   ],
   "source": [
    "num_tokens_per_doc.mean()"
   ]
  },
  {
   "cell_type": "code",
   "execution_count": 142,
   "id": "bed244e4-77b7-47f8-a82d-70e560ca79bf",
   "metadata": {},
   "outputs": [
    {
     "data": {
      "text/plain": [
       "41"
      ]
     },
     "execution_count": 142,
     "metadata": {},
     "output_type": "execute_result"
    }
   ],
   "source": [
    "(num_tokens_per_doc > 128).sum()"
   ]
  },
  {
   "cell_type": "code",
   "execution_count": null,
   "id": "43abf19f-117b-4ad5-94f1-c3659a3b1871",
   "metadata": {},
   "outputs": [],
   "source": []
  }
 ],
 "metadata": {
  "kernelspec": {
   "display_name": "Python 3",
   "language": "python",
   "name": "python3"
  },
  "language_info": {
   "codemirror_mode": {
    "name": "ipython",
    "version": 3
   },
   "file_extension": ".py",
   "mimetype": "text/x-python",
   "name": "python",
   "nbconvert_exporter": "python",
   "pygments_lexer": "ipython3",
   "version": "3.9.7"
  }
 },
 "nbformat": 4,
 "nbformat_minor": 5
}
