{
 "cells": [
  {
   "cell_type": "markdown",
   "id": "54dd8d98-0748-478b-8c82-6b77cfa44e53",
   "metadata": {},
   "source": [
    "### Measuring model robustness across training\n",
    "\n",
    "I saved lots of checkpoints for the most recent models I trained. I want to see which checkpoint has the highest \"robustness\" – in this case, robustness is the lowest reidentification rate with BM25 on examples deidentified with this model.\n",
    "\n",
    "This came to my attention when I realized an earlier checkpoint of one of my models had better robustness than a later checkpoint, even though the model appeared to keep learning after the checkpoint."
   ]
  },
  {
   "cell_type": "code",
   "execution_count": 1,
   "id": "7d252cb9-4ee5-42f2-98df-af6e72555090",
   "metadata": {},
   "outputs": [],
   "source": [
    "import sys\n",
    "sys.path.append('/home/jxm3/research/deidentification/unsupervised-deidentification')"
   ]
  },
  {
   "cell_type": "code",
   "execution_count": 2,
   "id": "7e41ec84-b066-4b49-a8ff-33b7e2f90f8d",
   "metadata": {},
   "outputs": [
    {
     "name": "stdout",
     "output_type": "stream",
     "text": [
      "Warning: set num_workers to 1, expect dataloader bottleneck\n",
      "Initializing WikipediaDataModule with num_workers = 1 and mask token `<mask>`\n",
      "loading wiki_bio[1.2.0] split train[:1024]\n"
     ]
    },
    {
     "name": "stderr",
     "output_type": "stream",
     "text": [
      "Using custom data configuration default\n",
      "Reusing dataset wiki_bio (/home/jxm3/.cache/huggingface/datasets/wiki_bio/default/1.2.0/c05ce066e9026831cd7535968a311fc80f074b58868cfdffccbc811dff2ab6da)\n",
      "Using custom data configuration default\n"
     ]
    },
    {
     "name": "stdout",
     "output_type": "stream",
     "text": [
      "loading wiki_bio[1.2.0] split val[:20%]\n"
     ]
    },
    {
     "name": "stderr",
     "output_type": "stream",
     "text": [
      "Reusing dataset wiki_bio (/home/jxm3/.cache/huggingface/datasets/wiki_bio/default/1.2.0/c05ce066e9026831cd7535968a311fc80f074b58868cfdffccbc811dff2ab6da)\n",
      "Loading cached processed dataset at /home/jxm3/.cache/huggingface/datasets/wiki_bio/default/1.2.0/c05ce066e9026831cd7535968a311fc80f074b58868cfdffccbc811dff2ab6da/cache-793b771e10f80bbe.arrow\n",
      "Loading cached processed dataset at /home/jxm3/.cache/huggingface/datasets/wiki_bio/default/1.2.0/c05ce066e9026831cd7535968a311fc80f074b58868cfdffccbc811dff2ab6da/cache-7d07543b6205ca87.arrow\n",
      "Loading cached processed dataset at /home/jxm3/.cache/huggingface/datasets/wiki_bio/default/1.2.0/c05ce066e9026831cd7535968a311fc80f074b58868cfdffccbc811dff2ab6da/cache-912d45fbf560a15e.arrow\n",
      "Loading cached processed dataset at /home/jxm3/.cache/huggingface/datasets/wiki_bio/default/1.2.0/c05ce066e9026831cd7535968a311fc80f074b58868cfdffccbc811dff2ab6da/cache-4731c171b2d92df3.arrow\n",
      "Loading cached processed dataset at /home/jxm3/.cache/huggingface/datasets/wiki_bio/default/1.2.0/c05ce066e9026831cd7535968a311fc80f074b58868cfdffccbc811dff2ab6da/cache-2701d0e4e21f22e6.arrow\n",
      "Loading cached processed dataset at /home/jxm3/.cache/huggingface/datasets/wiki_bio/default/1.2.0/c05ce066e9026831cd7535968a311fc80f074b58868cfdffccbc811dff2ab6da/cache-b90a99f65b9e7728.arrow\n",
      "Loading cached processed dataset at /home/jxm3/.cache/huggingface/datasets/wiki_bio/default/1.2.0/c05ce066e9026831cd7535968a311fc80f074b58868cfdffccbc811dff2ab6da/cache-9fcaa13014ffb7b9.arrow\n",
      "Loading cached processed dataset at /home/jxm3/.cache/huggingface/datasets/wiki_bio/default/1.2.0/c05ce066e9026831cd7535968a311fc80f074b58868cfdffccbc811dff2ab6da/cache-b2600abf4a97e7ba.arrow\n",
      "Loading cached processed dataset at /home/jxm3/.cache/huggingface/datasets/wiki_bio/default/1.2.0/c05ce066e9026831cd7535968a311fc80f074b58868cfdffccbc811dff2ab6da/cache-d900a4794904a04d.arrow\n",
      "Loading cached processed dataset at /home/jxm3/.cache/huggingface/datasets/wiki_bio/default/1.2.0/c05ce066e9026831cd7535968a311fc80f074b58868cfdffccbc811dff2ab6da/cache-f7a24c83ff79dbcc.arrow\n"
     ]
    }
   ],
   "source": [
    "from dataloader import WikipediaDataModule\n",
    "import os\n",
    "\n",
    "os.environ[\"TOKENIZERS_PARALLELISM\"] = \"false\"\n",
    "\n",
    "num_cpus = len(os.sched_getaffinity(0))\n",
    "\n",
    "dm = WikipediaDataModule(\n",
    "    document_model_name_or_path=\"roberta-base\",\n",
    "    profile_model_name_or_path=\"google/tapas-base\",\n",
    "    max_seq_length=128,\n",
    "    dataset_name='wiki_bio',\n",
    "    dataset_train_split='train[:1024]', # not used in this notebook\n",
    "    dataset_val_split='val[:20%]',\n",
    "    dataset_version='1.2.0',\n",
    "    word_dropout_ratio=0.0,\n",
    "    word_dropout_perc=0.0,\n",
    "    num_workers=1,\n",
    "    train_batch_size=64,\n",
    "    eval_batch_size=64\n",
    ")\n",
    "dm.setup(\"fit\")"
   ]
  },
  {
   "cell_type": "markdown",
   "id": "94b1079e-107e-4da5-ac2b-9b941d1f0eda",
   "metadata": {},
   "source": [
    "## 2. Define attack in TextAttack "
   ]
  },
  {
   "cell_type": "code",
   "execution_count": 4,
   "id": "996b9503-11dd-4378-bc97-794e195448be",
   "metadata": {},
   "outputs": [],
   "source": [
    "import textattack"
   ]
  },
  {
   "cell_type": "markdown",
   "id": "b9137c22-612e-44c4-8557-42dcdabd8fd5",
   "metadata": {},
   "source": [
    "### (a) Beam search + replace with `[MASK]`"
   ]
  },
  {
   "cell_type": "code",
   "execution_count": 5,
   "id": "9ee1838b-420d-4fc0-a849-45afcf3f1b54",
   "metadata": {},
   "outputs": [
    {
     "data": {
      "text/plain": [
       "[<AttackedText \"<mask> my name is Jack\">,\n",
       " <AttackedText \"Hello <mask> name is Jack\">,\n",
       " <AttackedText \"Hello my <mask> is Jack\">,\n",
       " <AttackedText \"Hello my name <mask> Jack\">,\n",
       " <AttackedText \"Hello my name is <mask>\">]"
      ]
     },
     "execution_count": 5,
     "metadata": {},
     "output_type": "execute_result"
    }
   ],
   "source": [
    "class WordSwapSingleWord(textattack.transformations.word_swap.WordSwap):\n",
    "    \"\"\"Takes a sentence and transforms it by replacing with a single fixed word.\n",
    "    \"\"\"\n",
    "    single_word: str\n",
    "    def __init__(self, single_word: str = \"?\", **kwargs):\n",
    "        super().__init__(**kwargs)\n",
    "        self.single_word = single_word\n",
    "\n",
    "    def _get_replacement_words(self, _word: str):\n",
    "        return [self.single_word]\n",
    "\n",
    "transformation = WordSwapSingleWord(single_word=dm.document_tokenizer.mask_token)\n",
    "transformation(textattack.shared.AttackedText(\"Hello my name is Jack\"))"
   ]
  },
  {
   "cell_type": "markdown",
   "id": "57d1de22-75f2-4049-8cf8-6023ddf4403d",
   "metadata": {},
   "source": [
    "### (b) \"Attack success\" as fullfilment of the metric"
   ]
  },
  {
   "cell_type": "code",
   "execution_count": 6,
   "id": "d259f78c-2ece-4727-87e6-b7cb714e5afc",
   "metadata": {},
   "outputs": [],
   "source": [
    "from typing import List\n",
    "import torch\n",
    "\n",
    "class ChangeClassificationToBelowTopKClasses(textattack.goal_functions.ClassificationGoalFunction):\n",
    "    k: int\n",
    "    def __init__(self, *args, k: int = 1, **kwargs):\n",
    "        self.k = k\n",
    "        super().__init__(*args, **kwargs)\n",
    "\n",
    "    def _is_goal_complete(self, model_output, _):\n",
    "        original_class_score = model_output[self.ground_truth_output]\n",
    "        num_better_classes = (model_output > original_class_score).sum()\n",
    "        return num_better_classes >= self.k\n",
    "\n",
    "    def _get_score(self, model_output, _):\n",
    "        return 1 - model_output[self.ground_truth_output]\n",
    "    \n",
    "    \n",
    "    \"\"\"have to reimplement the following method to change the precision on the sum-to-one condition.\"\"\"\n",
    "    def _process_model_outputs(self, inputs, scores):\n",
    "        \"\"\"Processes and validates a list of model outputs.\n",
    "        This is a task-dependent operation. For example, classification\n",
    "        outputs need to have a softmax applied.\n",
    "        \"\"\"\n",
    "        # Automatically cast a list or ndarray of predictions to a tensor.\n",
    "        if isinstance(scores, list):\n",
    "            scores = torch.tensor(scores)\n",
    "\n",
    "        # Ensure the returned value is now a tensor.\n",
    "        if not isinstance(scores, torch.Tensor):\n",
    "            raise TypeError(\n",
    "                \"Must have list, np.ndarray, or torch.Tensor of \"\n",
    "                f\"scores. Got type {type(scores)}\"\n",
    "            )\n",
    "\n",
    "        # Validation check on model score dimensions\n",
    "        if scores.ndim == 1:\n",
    "            # Unsqueeze prediction, if it's been squeezed by the model.\n",
    "            if len(inputs) == 1:\n",
    "                scores = scores.unsqueeze(dim=0)\n",
    "            else:\n",
    "                raise ValueError(\n",
    "                    f\"Model return score of shape {scores.shape} for {len(inputs)} inputs.\"\n",
    "                )\n",
    "        elif scores.ndim != 2:\n",
    "            # If model somehow returns too may dimensions, throw an error.\n",
    "            raise ValueError(\n",
    "                f\"Model return score of shape {scores.shape} for {len(inputs)} inputs.\"\n",
    "            )\n",
    "        elif scores.shape[0] != len(inputs):\n",
    "            # If model returns an incorrect number of scores, throw an error.\n",
    "            raise ValueError(\n",
    "                f\"Model return score of shape {scores.shape} for {len(inputs)} inputs.\"\n",
    "            )\n",
    "        elif not ((scores.sum(dim=1) - 1).abs() < 1e-4).all():\n",
    "            # Values in each row should sum up to 1. The model should return a\n",
    "            # set of numbers corresponding to probabilities, which should add\n",
    "            # up to 1. Since they are `torch.float` values, allow a small\n",
    "            # error in the summation.\n",
    "            scores = torch.nn.functional.softmax(scores, dim=1)\n",
    "            if not ((scores.sum(dim=1) - 1).abs() < 1e-4).all():\n",
    "                raise ValueError(\"Model scores do not add up to 1.\")\n",
    "        return scores.cpu()\n"
   ]
  },
  {
   "cell_type": "markdown",
   "id": "edb4405c-876a-4246-b33d-dbdfc80cd85c",
   "metadata": {},
   "source": [
    "## (c) Model wrapper that computes similarities of input documents with validation profiles"
   ]
  },
  {
   "cell_type": "code",
   "execution_count": 7,
   "id": "dd35ad75-a681-4168-87b8-efee22ea41c0",
   "metadata": {},
   "outputs": [],
   "source": [
    "import transformers\n",
    "from model.model import Model\n",
    "\n",
    "class MyModelWrapper(textattack.models.wrappers.ModelWrapper):\n",
    "    model: Model\n",
    "    tokenizer: transformers.AutoTokenizer\n",
    "    profile_embeddings: torch.Tensor\n",
    "    max_seq_length: int\n",
    "    \n",
    "    def __init__(self, model: Model, tokenizer: transformers.AutoTokenizer, max_seq_length: int = 128):\n",
    "        self.model = model\n",
    "        self.model.eval()\n",
    "        self.tokenizer = tokenizer\n",
    "        self.profile_embeddings = torch.tensor(model.val_profile_embeddings)\n",
    "        self.max_seq_length = max_seq_length\n",
    "                 \n",
    "    def to(self, device):\n",
    "        self.model.to(device)\n",
    "        self.profile_embeddings.to(device)\n",
    "        return self # so semantics `model = MyModelWrapper().to('cuda')` works properly\n",
    "\n",
    "    def __call__(self, text_input_list: List[str], batch_size=32):\n",
    "        model_device = next(self.model.parameters()).device\n",
    "        \n",
    "        doc_tokenized = self.tokenizer.batch_encode_plus(\n",
    "            text_input_list,\n",
    "            max_length=self.max_seq_length,\n",
    "            padding='max_length',\n",
    "            truncation=True,\n",
    "            return_tensors='pt',\n",
    "        )\n",
    "        doc_tokenized = {f'document__{k}': v for k,v in doc_tokenized.items()}\n",
    "        with torch.no_grad():\n",
    "            document_embeddings = self.model.forward_document(batch=doc_tokenized, document_type='document')\n",
    "            document_to_profile_logits = document_embeddings @ self.profile_embeddings.T.to(model_device)\n",
    "            document_to_profile_probs = torch.nn.functional.softmax(\n",
    "                document_to_profile_logits, dim=-1\n",
    "            )\n",
    "        assert document_to_profile_probs.shape == (len(text_input_list), len(self.profile_embeddings))\n",
    "        return document_to_profile_probs\n",
    "            "
   ]
  },
  {
   "cell_type": "markdown",
   "id": "4eeee781-ae57-47c4-8679-52014830cc7e",
   "metadata": {},
   "source": [
    "## (d) Dataset that loads Wikipedia documents with names as labels\n",
    "\n",
    "Oh, and it filters out examples that are too long."
   ]
  },
  {
   "cell_type": "code",
   "execution_count": 8,
   "id": "b35ca719-fdad-45ee-b979-9c2a67d58c91",
   "metadata": {},
   "outputs": [],
   "source": [
    "from typing import Tuple\n",
    "\n",
    "from collections import OrderedDict\n",
    "\n",
    "import datasets\n",
    "\n",
    "class WikiDataset(textattack.datasets.Dataset):\n",
    "    dataset: datasets.Dataset\n",
    "    \n",
    "    def __init__(self, dm: WikipediaDataModule):\n",
    "        self.shuffled = True\n",
    "        self.dataset = [ex for ex in dm.val_dataset]\n",
    "        self.label_names = list(dm.val_dataset['name'])\n",
    "    \n",
    "    def __len__(self) -> int:\n",
    "        return len(self.dataset)\n",
    "    \n",
    "    def __getitem__(self, i: int) -> Tuple[OrderedDict, int]:\n",
    "        input_dict = OrderedDict([\n",
    "            ('document', self.dataset[i]['document'])\n",
    "        ])\n",
    "        return input_dict, self.dataset[i]['text_key_id']\n",
    "        "
   ]
  },
  {
   "cell_type": "markdown",
   "id": "5abde44f-912e-4f31-8abd-8706ce99bbc6",
   "metadata": {},
   "source": [
    "## 3. Run attack once"
   ]
  },
  {
   "cell_type": "code",
   "execution_count": 9,
   "id": "0f77f286-3f48-44b5-b341-35582807ddb4",
   "metadata": {},
   "outputs": [],
   "source": [
    "class MaxNumWordsModified(textattack.constraints.PreTransformationConstraint):\n",
    "    def __init__(self, max_num_words: int):\n",
    "        self.max_num_words = max_num_words\n",
    "\n",
    "    def _get_modifiable_indices(self, current_text):\n",
    "        \"\"\"Returns the word indices in current_text which are able to be\n",
    "        modified.\"\"\"\n",
    "\n",
    "        if len(current_text.attack_attrs[\"modified_indices\"]) >= self.max_num_words:\n",
    "            return set()\n",
    "        else:\n",
    "            return set(range(len(current_text.words)))\n",
    "\n",
    "    def extra_repr_keys(self):\n",
    "        return [\"max_num_words\"]"
   ]
  },
  {
   "cell_type": "code",
   "execution_count": 10,
   "id": "7a665c63-5457-4740-923c-9178fe185729",
   "metadata": {},
   "outputs": [],
   "source": [
    "from textattack.loggers import CSVLogger\n",
    "from textattack.shared import AttackedText\n",
    "\n",
    "import pandas as pd\n",
    "class CustomCSVLogger(CSVLogger):\n",
    "    \"\"\"Logs attack results to a CSV.\"\"\"\n",
    "\n",
    "    def log_attack_result(self, result: textattack.goal_function_results.ClassificationGoalFunctionResult):\n",
    "        # TODO print like 'mask1', 'mask2',\n",
    "        original_text, perturbed_text = result.diff_color(self.color_method)\n",
    "        original_text = original_text.replace(\"\\n\", AttackedText.SPLIT_TOKEN)\n",
    "        perturbed_text = perturbed_text.replace(\"\\n\", AttackedText.SPLIT_TOKEN)\n",
    "        result_type = result.__class__.__name__.replace(\"AttackResult\", \"\")\n",
    "        row = {\n",
    "            \"original_person\": result.original_result._processed_output[0],\n",
    "            \"original_text\": original_text,\n",
    "            \"original_text_id_bm25\": bm25.get_scores(result.original_result.attacked_text.text.split()).argmax(),\n",
    "            \"perturbed_person\": result.perturbed_result._processed_output[0],\n",
    "            \"perturbed_text\": perturbed_text,\n",
    "            \"perturbed_text_id_bm25\": bm25.get_scores(result.perturbed_result.attacked_text.text.split()).argmax(),\n",
    "            \"original_score\": result.original_result.score,\n",
    "            \"perturbed_score\": result.perturbed_result.score,\n",
    "            \"original_output\": result.original_result.output,\n",
    "            \"perturbed_output\": result.perturbed_result.output,\n",
    "            \"ground_truth_output\": result.original_result.ground_truth_output,\n",
    "            \"num_queries\": result.num_queries,\n",
    "            \"result_type\": result_type,\n",
    "        }\n",
    "        self.df = pd.concat([self.df, pd.DataFrame([row])], ignore_index=True)"
   ]
  },
  {
   "cell_type": "code",
   "execution_count": 11,
   "id": "46ac1f10-811c-47b5-9bd3-f2f92a0f2183",
   "metadata": {},
   "outputs": [
    {
     "name": "stderr",
     "output_type": "stream",
     "text": [
      "Loading cached processed dataset at /home/jxm3/.cache/huggingface/datasets/wiki_bio/default/1.2.0/c05ce066e9026831cd7535968a311fc80f074b58868cfdffccbc811dff2ab6da/cache-92ac1b8192dcf3bb.arrow\n"
     ]
    }
   ],
   "source": [
    "from typing import List\n",
    "\n",
    "from nltk.corpus import stopwords\n",
    "from rank_bm25 import BM25Okapi\n",
    "\n",
    "eng_stopwords = stopwords.words('english')\n",
    "from tqdm.auto import tqdm\n",
    "tqdm.pandas()\n",
    "\n",
    "\n",
    "def get_words_from_doc(s: List[str]) -> List[str]:\n",
    "    words = s.split()\n",
    "    return [w for w in words if not w in eng_stopwords]\n",
    "\n",
    "def make_table_str(ex):\n",
    "    ex['table_str'] = (\n",
    "        ' '.join(ex['input_text']['table']['column_header'] + ex['input_text']['table']['content'])\n",
    "    )\n",
    "    return ex\n",
    "\n",
    "prof_data = dm.val_dataset.map(make_table_str)\n",
    "profile_corpus = prof_data['table_str']\n",
    "\n",
    "tokenized_profile_corpus = [\n",
    "    get_words_from_doc(prof) for prof in profile_corpus\n",
    "]\n",
    "\n",
    "bm25 = BM25Okapi(tokenized_profile_corpus)"
   ]
  },
  {
   "cell_type": "code",
   "execution_count": null,
   "id": "f293388b-c334-4e08-8ff2-c67cf2db06c8",
   "metadata": {},
   "outputs": [],
   "source": [
    "import numpy as np\n",
    "from tqdm import tqdm\n",
    "\n",
    "def precompute_profile_embeddings(dm, my_model):\n",
    "    my_model.profile_model.cuda()\n",
    "    my_model.profile_model.eval()\n",
    "    my_model.profile_embed.cuda()\n",
    "    my_model.profile_embed.eval()\n",
    "\n",
    "    my_model.val_profile_embeddings = np.zeros((len(dm.val_dataset), my_model.shared_embedding_dim))\n",
    "    for val_batch in tqdm(dm.val_dataloader()[0], desc=\"Precomputing val embeddings\", colour=\"green\", leave=False):\n",
    "        with torch.no_grad():\n",
    "            profile_embeddings = my_model.forward_profile(batch=val_batch)\n",
    "        my_model.val_profile_embeddings[val_batch[\"text_key_id\"]] = profile_embeddings.cpu()\n",
    "    my_model.val_profile_embeddings = torch.tensor(my_model.val_profile_embeddings, dtype=torch.float32)\n",
    "\n",
    "# precompute_profile_embeddings(model)"
   ]
  },
  {
   "cell_type": "code",
   "execution_count": null,
   "id": "16ff1b8e-7c8e-47a8-b803-51075ed032ee",
   "metadata": {},
   "outputs": [],
   "source": [
    "from model import CoordinateAscentModel\n",
    "\n",
    "import copy\n",
    "import glob\n",
    "# \n",
    "#  Initialize attack\n",
    "# \n",
    "\n",
    "from textattack import Attack\n",
    "from textattack.constraints.pre_transformation import MaxWordIndexModification, RepeatModification\n",
    "\n",
    "from tqdm import tqdm \n",
    "from textattack.attack_results import SuccessfulAttackResult\n",
    "from textattack import Attacker\n",
    "from textattack import AttackArgs\n",
    "\n",
    "dataset = WikiDataset(dm)\n",
    "\n",
    "for idx in range(len(dataset.dataset)):\n",
    "    words = dataset.dataset[idx]['document'].split(' ')\n",
    "    if len(words) > 100:\n",
    "        words = words[:100]\n",
    "        dataset.dataset[idx]['document'] = ' '.join(words)\n",
    "\n",
    "\n",
    "results = []\n",
    "dfs = []\n",
    "for checkpoint_epoch in [4, 8, 12, 16, 20, 24, 28, 32, 36, 40, 44, 48, 52, 56, 60]:\n",
    "    dm = WikipediaDataModule(\n",
    "        document_model_name_or_path=\"roberta-base\",\n",
    "        profile_model_name_or_path=\"google/tapas-base\",\n",
    "        max_seq_length=128,\n",
    "        dataset_name='wiki_bio',\n",
    "        dataset_train_split='train[:1024]', # not used in this notebook\n",
    "        dataset_val_split='val[:20%]',\n",
    "        dataset_version='1.2.0',\n",
    "        word_dropout_ratio=0.0,\n",
    "        word_dropout_perc=0.0,\n",
    "        num_workers=1,\n",
    "        train_batch_size=64,\n",
    "        eval_batch_size=64\n",
    "    )\n",
    "    dm.setup(\"fit\")\n",
    "    \n",
    "    print(f'*** checkpoint_epoch = {checkpoint_epoch} ***')\n",
    "       \n",
    "    checkpoint_path = glob.glob(f'../saves/ca__roberta__tapas__dropout_-1.0_1.0_0.0__e3072__ls0.1/*4*/*745/checkpoints/*epoch={checkpoint_epoch}-*idf*.ckpt')[0]\n",
    "    model = CoordinateAscentModel.load_from_checkpoint(\n",
    "        checkpoint_path\n",
    "    )\n",
    "    model.load_from_checkpoint(checkpoint_path)\n",
    "    model.cuda()\n",
    "    precompute_profile_embeddings(dm, model)\n",
    "    \n",
    "    \n",
    "    model_wrapper = MyModelWrapper(model=model, tokenizer=dm.document_tokenizer)\n",
    "    model_wrapper.to('cuda')\n",
    "\n",
    "    goal_function = ChangeClassificationToBelowTopKClasses(model_wrapper, k=1)\n",
    "    constraints = [\n",
    "        RepeatModification(),\n",
    "        MaxWordIndexModification(max_length=dm.max_seq_length),\n",
    "        MaxNumWordsModified(max_num_words=50)\n",
    "    ]\n",
    "    transformation = WordSwapSingleWord(single_word=dm.document_tokenizer.mask_token)\n",
    "    search_method = textattack.search_methods.GreedyWordSwapWIR(unk_token=dm.document_tokenizer.mask_token)\n",
    "    \n",
    "    attack = Attack(\n",
    "        goal_function, constraints, transformation, search_method\n",
    "    )\n",
    "    attack_args = AttackArgs(num_examples=100, disable_stdout=True)\n",
    "    attacker = Attacker(attack, dataset, attack_args)\n",
    "\n",
    "    results_iterable = attacker.attack_dataset()\n",
    "\n",
    "    logger = CustomCSVLogger(color_method='html')\n",
    "\n",
    "    # \n",
    "    # Run attack\n",
    "    # \n",
    "    from tqdm import tqdm\n",
    "    for result in results_iterable:\n",
    "        logger.log_attack_result(result)\n",
    "\n",
    "    # \n",
    "    # Collect results\n",
    "    succ_df = logger.df[logger.df['result_type'] == 'Successful']\n",
    "    bmid_rate = (succ_df['original_output'] == succ_df['perturbed_text_id_bm25']).mean()\n",
    "    num_failures = (logger.df['result_type'] == 'Failed').sum()\n",
    "    num_successes = (logger.df['result_type'] == 'Successful').sum()\n",
    "    num_skipped = (logger.df['result_type'] == 'Skipped').sum()\n",
    "    num_queries = succ_df['num_queries'].mean()\n",
    "\n",
    "    print('\\tBMID rate:', bmid_rate)\n",
    "\n",
    "    dfs.append(copy.copy(logger.df))\n",
    "    results.append([\n",
    "        checkpoint_epoch, checkpoint_path,\n",
    "        bmid_rate, num_queries,\n",
    "        num_failures, num_successes, num_skipped,\n",
    "    ])"
   ]
  },
  {
   "cell_type": "code",
   "execution_count": 35,
   "id": "514bcf7f-4a0b-4dad-a86c-89436e6fab61",
   "metadata": {},
   "outputs": [
    {
     "data": {
      "text/plain": [
       "<AxesSubplot:xlabel='checkpoint_epoch'>"
      ]
     },
     "execution_count": 35,
     "metadata": {},
     "output_type": "execute_result"
    },
    {
     "data": {
      "image/png": "[encoded data removed]",
      "text/plain": [
       "<Figure size 432x288 with 1 Axes>"
      ]
     },
     "metadata": {
      "needs_background": "light"
     },
     "output_type": "display_data"
    }
   ],
   "source": [
    "import pandas as pd\n",
    "results_df = pd.DataFrame(\n",
    "    results,\n",
    "    columns=[\n",
    "        'checkpoint_epoch', 'checkpoint_path','bmid_rate', 'num_queries',\n",
    "        'num_failures', 'num_successes', 'num_skipped'\n",
    "    ]\n",
    ")\n",
    "results_df.plot(x='checkpoint_epoch', y='bmid_rate')"
   ]
  },
  {
   "cell_type": "code",
   "execution_count": null,
   "id": "50bb46de-9320-4408-8ffd-4fddc434afa3",
   "metadata": {},
   "outputs": [],
   "source": []
  }
 ],
 "metadata": {
  "kernelspec": {
   "display_name": "Python 3",
   "language": "python",
   "name": "python3"
  },
  "language_info": {
   "codemirror_mode": {
    "name": "ipython",
    "version": 3
   },
   "file_extension": ".py",
   "mimetype": "text/x-python",
   "name": "python",
   "nbconvert_exporter": "python",
   "pygments_lexer": "ipython3",
   "version": "3.9.7"
  }
 },
 "nbformat": 4,
 "nbformat_minor": 5
}
