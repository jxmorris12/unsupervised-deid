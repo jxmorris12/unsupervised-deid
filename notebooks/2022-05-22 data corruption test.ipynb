{
 "cells": [
  {
   "cell_type": "code",
   "execution_count": 1,
   "id": "fa318d99-8492-4cd5-83a3-bee0b21ee275",
   "metadata": {},
   "outputs": [],
   "source": [
    "from typing import List\n",
    "\n",
    "from nltk.corpus import stopwords\n",
    "from rank_bm25 import BM25Okapi\n",
    "\n",
    "eng_stopwords = stopwords.words('english')\n",
    "from tqdm.auto import tqdm\n",
    "tqdm.pandas()\n",
    "\n",
    "\n",
    "def get_words_from_doc(s: List[str]) -> List[str]:\n",
    "    words = s.split()\n",
    "    return [w for w in words if not w in eng_stopwords]\n",
    "\n",
    "def get_bm25(dataset):\n",
    "    def make_table_str(ex):\n",
    "        ex['table_str'] = (\n",
    "            ' '.join(ex['input_text']['table']['column_header'] + ex['input_text']['table']['content'])\n",
    "        )\n",
    "        return ex\n",
    "\n",
    "    dataset = dataset.map(make_table_str)\n",
    "\n",
    "    tokenized_profile_corpus = [\n",
    "        get_words_from_doc(prof) for prof in dataset['table_str']\n",
    "    ]\n",
    "    return BM25Okapi(tokenized_profile_corpus)"
   ]
  },
  {
   "cell_type": "code",
   "execution_count": 49,
   "id": "58d07aab-6019-4c13-9150-64d8b61012bc",
   "metadata": {},
   "outputs": [
    {
     "name": "stderr",
     "output_type": "stream",
     "text": [
      "Using custom data configuration default\n",
      "Reusing dataset wiki_bio (/home/jxm3/.cache/huggingface/datasets/wiki_bio/default/1.2.0/c05ce066e9026831cd7535968a311fc80f074b58868cfdffccbc811dff2ab6da)\n"
     ]
    },
    {
     "data": {
      "application/vnd.jupyter.widget-view+json": {
       "model_id": "f3753671f0de44c38ef25113b478aa1b",
       "version_major": 2,
       "version_minor": 0
      },
      "text/plain": [
       "  0%|          | 0/72831 [00:00<?, ?ex/s]"
      ]
     },
     "metadata": {},
     "output_type": "display_data"
    }
   ],
   "source": [
    "import datasets\n",
    "\n",
    "val_dataset = datasets.load_dataset('wiki_bio', split='val[:100%]', version='1.2.0')\n",
    "val_bm25 = get_bm25(val_dataset)"
   ]
  },
  {
   "cell_type": "code",
   "execution_count": 3,
   "id": "a4592468-7a36-414f-9c45-28c1613accb9",
   "metadata": {},
   "outputs": [
    {
     "name": "stderr",
     "output_type": "stream",
     "text": [
      "Using custom data configuration default\n",
      "Reusing dataset wiki_bio (/home/jxm3/.cache/huggingface/datasets/wiki_bio/default/1.2.0/c05ce066e9026831cd7535968a311fc80f074b58868cfdffccbc811dff2ab6da)\n"
     ]
    },
    {
     "data": {
      "application/vnd.jupyter.widget-view+json": {
       "model_id": "09edd408ea864a24a13e79a2fa20ee7a",
       "version_major": 2,
       "version_minor": 0
      },
      "text/plain": [
       "  0%|          | 0/582659 [00:00<?, ?ex/s]"
      ]
     },
     "metadata": {},
     "output_type": "display_data"
    }
   ],
   "source": [
    "train_dataset = datasets.load_dataset('wiki_bio', split='train[:100%]', version='1.2.0')\n",
    "train_bm25 = get_bm25(train_dataset)"
   ]
  },
  {
   "cell_type": "code",
   "execution_count": 10,
   "id": "640da337-0c97-42ff-8bf8-5d34b0598999",
   "metadata": {},
   "outputs": [
    {
     "data": {
      "text/plain": [
       "\"carl demonte crawford -lrb- born august 5 , 1981 -rrb- , nicknamed `` the perfect storm '' , is an american professional baseball left fielder with the los angeles dodgers of major league baseball -lrb- mlb -rrb- .\\nhe bats and throws left-handed .\\ncrawford was drafted by the tampa bay devil rays in the second round -lrb- 52nd overall -rrb- of the 1999 major league baseball draft .\\nhe made his major league debut in 2002 .\\ncrawford has more triples -lrb- 121 -rrb- than any other active baseball player .\\n\""
      ]
     },
     "execution_count": 10,
     "metadata": {},
     "output_type": "execute_result"
    }
   ],
   "source": [
    "val_dataset[\"target_text\"][val_bm25.get_scores(\"carl crawford\".split()).argmax()]"
   ]
  },
  {
   "cell_type": "code",
   "execution_count": 13,
   "id": "a41fe839-7884-482e-ac32-94e8bc02aadf",
   "metadata": {},
   "outputs": [
    {
     "data": {
      "text/plain": [
       "\"joseph `` joey '' crawford -lrb- born august 30 , 1951 in philadelphia , pennsylvania -rrb- is an american professional basketball referee in the national basketball association -lrb- nba -rrb- , having worked in the league since 1977 .\\ncrawford , who wears uniform number 17 , is one of the strictest officials in the nba and has developed a reputation for assessing technical fouls against both players and coaches .\\nas of the conclusion of the 2014-15 nba season , crawford has worked more playoff -lrb- 313 -rrb- and nba finals games -lrb- 50 -rrb- than any other active referee in the league and appeared in the finals every year between 1986 and 2006 .\\nhe has appeared in 29 of the last 30 nba finals series , missing only the 2007 nba finals , due to suspension .\\nin addition to playoff games , crawford has officiated the nba all-star game in 1986 , 1992 and 2000 , as well as the 1993 mcdonald 's championship in munich , germany .\\n\""
      ]
     },
     "execution_count": 13,
     "metadata": {},
     "output_type": "execute_result"
    }
   ],
   "source": [
    "train_dataset[\"target_text\"][train_bm25.get_scores(\"carl crawford\".split()).argmax()]"
   ]
  },
  {
   "cell_type": "code",
   "execution_count": 16,
   "id": "e6e822f2-241e-410b-9df1-0ec08a1afa83",
   "metadata": {},
   "outputs": [],
   "source": [
    "redacted_cc = \"\"\"<mask> <mask> <mask> (<mask> <mask> <mask> , <mask>) , <mask> `` the <mask> <mask> '' , is an <mask> <mask> <mask> <mask> <mask> with the <mask> <mask> <mask> of <mask> <mask> <mask> (<mask>) .\\nhe <mask> and <mask> <mask>-<mask> .\\n<mask> was <mask> by the <mask> <mask> <mask> <mask> in the <mask> <mask> (<mask> <mask>) of the <mask> <mask> <mask> <mask> <mask> .\\nhe <mask> his <mask> <mask> <mask> in <mask> .\\n<mask> has more <mask> (<mask>) than any other <mask> <mask> <mask> .\\n\"\"\""
   ]
  },
  {
   "cell_type": "code",
   "execution_count": 17,
   "id": "f3b6c337-51c3-4277-8a84-38adfecd057c",
   "metadata": {},
   "outputs": [
    {
     "data": {
      "text/plain": [
       "\"   (   , ) ,  `` the   '' , is an      with the    of    () .\\nhe  and  - .\\n was  by the     in the   ( ) of the      .\\nhe  his    in  .\\n has more  () than any other    .\\n\""
      ]
     },
     "execution_count": 17,
     "metadata": {},
     "output_type": "execute_result"
    }
   ],
   "source": [
    "redacted_cc.replace('<mask>', '')"
   ]
  },
  {
   "cell_type": "code",
   "execution_count": 23,
   "id": "19ecf691-97f2-417b-b568-3f8fe73bffd7",
   "metadata": {},
   "outputs": [],
   "source": [
    "import sys\n",
    "sys.path.append('/home/jxm3/research/deidentification/unsupervised-deidentification')\n",
    "\n",
    "from utils import create_document_and_profile_from_wikibio, name_from_table_rows"
   ]
  },
  {
   "cell_type": "code",
   "execution_count": 50,
   "id": "a716c77e-5afa-4fcc-93bc-ed325c4275d5",
   "metadata": {},
   "outputs": [
    {
     "data": {
      "application/vnd.jupyter.widget-view+json": {
       "model_id": "25023f766f554deeb8ae548120157ce7",
       "version_major": 2,
       "version_minor": 0
      },
      "text/plain": [
       "  0%|          | 0/582659 [00:00<?, ?ex/s]"
      ]
     },
     "metadata": {},
     "output_type": "display_data"
    },
    {
     "name": "stderr",
     "output_type": "stream",
     "text": [
      "Loading cached processed dataset at /home/jxm3/.cache/huggingface/datasets/wiki_bio/default/1.2.0/c05ce066e9026831cd7535968a311fc80f074b58868cfdffccbc811dff2ab6da/cache-60cca6b4349a241a.arrow\n"
     ]
    }
   ],
   "source": [
    "train_dataset = train_dataset.map(create_document_and_profile_from_wikibio)\n",
    "val_dataset = val_dataset.map(create_document_and_profile_from_wikibio)"
   ]
  },
  {
   "cell_type": "code",
   "execution_count": 26,
   "id": "33c227fe-3e28-4097-9462-fb39e14edd21",
   "metadata": {},
   "outputs": [
    {
     "data": {
      "text/plain": [
       "dict_keys(['input_text', 'target_text', 'name', 'document', 'profile', 'profile_keys', 'profile_values', 'text_key'])"
      ]
     },
     "execution_count": 26,
     "metadata": {},
     "output_type": "execute_result"
    }
   ],
   "source": [
    "train_dataset[0].keys()"
   ]
  },
  {
   "cell_type": "code",
   "execution_count": 36,
   "id": "707e57b4-5f2f-4d89-8917-fc6299457202",
   "metadata": {},
   "outputs": [
    {
     "data": {
      "text/plain": [
       "'Walter Extra'"
      ]
     },
     "execution_count": 36,
     "metadata": {},
     "output_type": "execute_result"
    }
   ],
   "source": [
    "train_dataset[0]['name']"
   ]
  },
  {
   "cell_type": "code",
   "execution_count": 37,
   "id": "7441e822-8629-41b6-9476-9f62b415d2ef",
   "metadata": {},
   "outputs": [
    {
     "data": {
      "text/plain": [
       "'Michael Iii Of Alexandria'"
      ]
     },
     "execution_count": 37,
     "metadata": {},
     "output_type": "execute_result"
    }
   ],
   "source": [
    "val_dataset[0]['name']"
   ]
  },
  {
   "cell_type": "code",
   "execution_count": null,
   "id": "eea631ff-b53e-43d6-95c7-36deedbc793d",
   "metadata": {},
   "outputs": [],
   "source": [
    "train_names = list((p['name'] for p in train_dataset))\n",
    "val_names = list((p['name'] for p in val_dataset))"
   ]
  },
  {
   "cell_type": "code",
   "execution_count": 55,
   "id": "57c0040d-6cec-4516-b56a-3452046e9048",
   "metadata": {},
   "outputs": [],
   "source": [
    "from collections import Counter\n",
    "train_nc = Counter(train_names)\n",
    "val_nc = Counter(val_names)"
   ]
  },
  {
   "cell_type": "code",
   "execution_count": 56,
   "id": "621e8198-a2d8-4a98-be60-2efad4f2a6b4",
   "metadata": {},
   "outputs": [
    {
     "data": {
      "text/plain": [
       "[('John Smith', 29),\n",
       " ('* -- >', 28),\n",
       " ('John Williams', 26),\n",
       " ('John Anderson', 25),\n",
       " ('David Jones', 24),\n",
       " ('John Davis', 23),\n",
       " ('John Brown', 22),\n",
       " ('John Wilson', 21),\n",
       " ('George Smith', 19),\n",
       " ('Fernando', 19),\n",
       " ('Leandro', 19),\n",
       " ('John Taylor', 19),\n",
       " ('William Smith', 18),\n",
       " ('John Moore', 18),\n",
       " ('Diego', 17),\n",
       " ('Daniel', 17),\n",
       " ('Alex', 17),\n",
       " ('Paul Smith', 17),\n",
       " ('Chris Jones', 17),\n",
       " ('Chris Smith', 17),\n",
       " ('Steve Smith', 16),\n",
       " ('João Paulo', 16),\n",
       " ('-- >', 16),\n",
       " ('Adriano', 16),\n",
       " ('John Roberts', 15),\n",
       " ('David Lee', 15),\n",
       " ('Juninho', 15),\n",
       " ('William', 15),\n",
       " ('David Smith', 15),\n",
       " ('Felipe', 15),\n",
       " ('David Williams', 15),\n",
       " ('Henrique', 15),\n",
       " ('George Wilson', 15),\n",
       " ('Paulinho', 15),\n",
       " ('Chris Brown', 15),\n",
       " ('John Harris', 15),\n",
       " ('Mike Smith', 14),\n",
       " ('Gabriel', 14),\n",
       " ('John Ryan', 14),\n",
       " ('Jack Smith', 14)]"
      ]
     },
     "execution_count": 56,
     "metadata": {},
     "output_type": "execute_result"
    }
   ],
   "source": [
    "train_nc.most_common(40)"
   ]
  },
  {
   "cell_type": "code",
   "execution_count": 57,
   "id": "3f2ddcc2-705f-4b3c-a986-f0694bc9139a",
   "metadata": {},
   "outputs": [
    {
     "data": {
      "text/plain": [
       "[('John Smith', 7),\n",
       " ('* -- >', 6),\n",
       " ('John Campbell', 5),\n",
       " ('John White', 5),\n",
       " ('Juninho', 5),\n",
       " ('John Barrett', 5),\n",
       " ('Wellington', 5),\n",
       " ('Paulinho', 5),\n",
       " ('Al Smith', 4),\n",
       " ('Serginho', 4),\n",
       " ('John Hunter', 4),\n",
       " ('Jimmy Smith', 4),\n",
       " ('The Duke Of Bedford', 4),\n",
       " ('John Brown', 4),\n",
       " ('Daniel', 4),\n",
       " ('Tom Smith', 4),\n",
       " ('John Sullivan', 4),\n",
       " ('David Smith', 4),\n",
       " ('Bruno', 4),\n",
       " ('Ben Wilson', 3),\n",
       " ('Eddie Miller', 3),\n",
       " ('Brian Jones', 3),\n",
       " ('Tommy Thompson', 3),\n",
       " ('Ronan', 3),\n",
       " ('Anthony Smith', 3),\n",
       " ('David Parker', 3),\n",
       " ('Greg Smith', 3),\n",
       " ('Bill White', 3),\n",
       " ('John Johnson', 3),\n",
       " ('Sergio', 3),\n",
       " ('Dudu', 3),\n",
       " ('David Young', 3),\n",
       " ('James Thomson', 3),\n",
       " ('John Cooper', 3),\n",
       " ('Michael Johnson', 3),\n",
       " ('Bobby Brown', 3),\n",
       " ('James Grant', 3),\n",
       " ('Ernie Watts', 3),\n",
       " ('David Nelson', 3),\n",
       " ('Nathan Brown', 3)]"
      ]
     },
     "execution_count": 57,
     "metadata": {},
     "output_type": "execute_result"
    }
   ],
   "source": [
    "val_nc.most_common(40)"
   ]
  },
  {
   "cell_type": "code",
   "execution_count": 58,
   "id": "ce4e6dd3-3e2f-46af-83bf-b3e76fdbd63b",
   "metadata": {},
   "outputs": [],
   "source": [
    "star_ppl = [p for p in val_dataset if p['name'] == '* -- >']"
   ]
  },
  {
   "cell_type": "code",
   "execution_count": 59,
   "id": "8b11aae0-53b6-4734-9d15-fee851e1c534",
   "metadata": {},
   "outputs": [
    {
     "data": {
      "text/plain": [
       "[{'input_text': {'table': {'column_header': ['name',\n",
       "     'sortkey',\n",
       "     'image',\n",
       "     'nationality',\n",
       "     'awards',\n",
       "     'article_title',\n",
       "     'subcat'],\n",
       "    'row_number': [1, 1, 1, 1, 1, 1, 1],\n",
       "    'content': ['* -- >',\n",
       "     'trov , tony',\n",
       "     'tony trov at sdcc.jpg',\n",
       "     'american',\n",
       "     'philadelphia geek award',\n",
       "     'tony trov\\n',\n",
       "     'american']},\n",
       "   'context': 'tony trov\\n'},\n",
       "  'target_text': 'tony trov -lrb- born anthony trovarello 1983 -rrb- is an american film maker , comic book creator and musician best known for the independent horror comedy alpha girls .\\n',\n",
       "  'name': '* -- >',\n",
       "  'document': 'tony trov ( born anthony trovarello 1983 ) is an american film maker , comic book creator and musician best known for the independent horror comedy alpha girls .\\n',\n",
       "  'profile': 'name || * -- >\\nsortkey || trov , tony\\nimage || tony trov at sdcc.jpg\\nnationality || american\\nawards || philadelphia geek award\\narticle_title || tony trov\\nsubcat || american',\n",
       "  'profile_keys': 'name||sortkey||image||nationality||awards||article_title||subcat',\n",
       "  'profile_values': '* -- >||trov , tony||tony trov at sdcc.jpg||american||philadelphia geek award||tony trov||american',\n",
       "  'text_key': 'tony trov -lrb- born anthony trovarello 1983 -rrb- is an american film maker , comic book creator and musician best known for the independent horror comedy alpha girls .\\n name || * -- >\\nsortkey || trov , tony\\nimage || tony trov at sdcc.jpg\\nnationality || american\\nawards || philadelphia geek award\\narticle_title || tony trov\\nsubcat || american'},\n",
       " {'input_text': {'table': {'column_header': ['website',\n",
       "     'name',\n",
       "     'article_title',\n",
       "     'imagesize',\n",
       "     'death_date',\n",
       "     'nationality',\n",
       "     'birth_place',\n",
       "     'pencil',\n",
       "     'birth_date',\n",
       "     'write',\n",
       "     'subcat'],\n",
       "    'row_number': [1, 1, 1, 1, 1, 1, 1, 1, 1, 1, 1],\n",
       "    'content': ['http://www.garijo.com.ar',\n",
       "     '* -- >',\n",
       "     'ricardo garijo\\n',\n",
       "     '150',\n",
       "     '4 october 2009',\n",
       "     'argentinian',\n",
       "     'tandil , buenos aires province , argentina',\n",
       "     'y',\n",
       "     '01 december 1953',\n",
       "     'y',\n",
       "     'argentine']},\n",
       "   'context': 'ricardo garijo\\n'},\n",
       "  'target_text': 'ricardo garijo -lrb- december 1 , 1953 - october 3 , 2009 -rrb- is an argentinian author and artist , best known for his long career in comics .\\n',\n",
       "  'name': '* -- >',\n",
       "  'document': 'ricardo garijo ( december 1 , 1953 - october 3 , 2009 ) is an argentinian author and artist , best known for his long career in comics .\\n',\n",
       "  'profile': 'website || http://www.garijo.com.ar\\nname || * -- >\\narticle_title || ricardo garijo\\nimagesize || 150\\ndeath_date || 4 october 2009\\nnationality || argentinian\\nbirth_place || tandil , buenos aires province , argentina\\npencil || y\\nbirth_date || 01 december 1953\\nwrite || y\\nsubcat || argentine',\n",
       "  'profile_keys': 'website||name||article_title||imagesize||death_date||nationality||birth_place||pencil||birth_date||write||subcat',\n",
       "  'profile_values': 'http://www.garijo.com.ar||* -- >||ricardo garijo||150||4 october 2009||argentinian||tandil , buenos aires province , argentina||y||01 december 1953||y||argentine',\n",
       "  'text_key': 'ricardo garijo -lrb- december 1 , 1953 - october 3 , 2009 -rrb- is an argentinian author and artist , best known for his long career in comics .\\n website || http://www.garijo.com.ar\\nname || * -- >\\narticle_title || ricardo garijo\\nimagesize || 150\\ndeath_date || 4 october 2009\\nnationality || argentinian\\nbirth_place || tandil , buenos aires province , argentina\\npencil || y\\nbirth_date || 01 december 1953\\nwrite || y\\nsubcat || argentine'},\n",
       " {'input_text': {'table': {'column_header': ['birth_date',\n",
       "     'color',\n",
       "     'name',\n",
       "     'image',\n",
       "     'nationality',\n",
       "     'birth_place',\n",
       "     'pencil',\n",
       "     'article_title',\n",
       "     'ink',\n",
       "     'subcat'],\n",
       "    'row_number': [1, 1, 1, 1, 1, 1, 1, 1, 1, 1],\n",
       "    'content': ['13 august 1969',\n",
       "     'y',\n",
       "     '* -- >',\n",
       "     'enrico 4.jpg marini , bd-fil 2013 , 13th september 2013',\n",
       "     'italian',\n",
       "     'liestal , switzerland',\n",
       "     'y',\n",
       "     'enrico marini\\n',\n",
       "     'y',\n",
       "     'italian']},\n",
       "   'context': 'enrico marini\\n'},\n",
       "  'target_text': \"enrico marini -lrb- born august 13 , 1969 -rrb- is an italian comics artist .\\nfamous works include `` gipsy '' with writer thierry smolderen and `` le scorpion '' with writer stephen desberg .\\n\",\n",
       "  'name': '* -- >',\n",
       "  'document': \"enrico marini ( born august 13 , 1969 ) is an italian comics artist .\\nfamous works include `` gipsy '' with writer thierry smolderen and `` le scorpion '' with writer stephen desberg .\\n\",\n",
       "  'profile': 'birth_date || 13 august 1969\\ncolor || y\\nname || * -- >\\nimage || enrico 4.jpg marini , bd-fil 2013 , 13th september 2013\\nnationality || italian\\nbirth_place || liestal , switzerland\\npencil || y\\narticle_title || enrico marini\\nink || y\\nsubcat || italian',\n",
       "  'profile_keys': 'birth_date||color||name||image||nationality||birth_place||pencil||article_title||ink||subcat',\n",
       "  'profile_values': '13 august 1969||y||* -- >||enrico 4.jpg marini , bd-fil 2013 , 13th september 2013||italian||liestal , switzerland||y||enrico marini||y||italian',\n",
       "  'text_key': \"enrico marini -lrb- born august 13 , 1969 -rrb- is an italian comics artist .\\nfamous works include `` gipsy '' with writer thierry smolderen and `` le scorpion '' with writer stephen desberg .\\n birth_date || 13 august 1969\\ncolor || y\\nname || * -- >\\nimage || enrico 4.jpg marini , bd-fil 2013 , 13th september 2013\\nnationality || italian\\nbirth_place || liestal , switzerland\\npencil || y\\narticle_title || enrico marini\\nink || y\\nsubcat || italian\"},\n",
       " {'input_text': {'table': {'column_header': ['website',\n",
       "     'nonus',\n",
       "     'name',\n",
       "     'sortkey',\n",
       "     'imagesize',\n",
       "     'nationality',\n",
       "     'pencil',\n",
       "     'article_title',\n",
       "     'ink',\n",
       "     'subcat'],\n",
       "    'row_number': [1, 1, 1, 1, 1, 1, 1, 1, 1, 1],\n",
       "    'content': ['http://www.davidlafuente.com',\n",
       "     'y',\n",
       "     '* -- >',\n",
       "     'lafuente , david',\n",
       "     '150',\n",
       "     'spanish',\n",
       "     'y',\n",
       "     'david lafuente\\n',\n",
       "     'y',\n",
       "     'spanish']},\n",
       "   'context': 'david lafuente\\n'},\n",
       "  'target_text': \"david lafuente is a spanish-born comic book artist known for his work on books such as '' '' .\\nhe currently resides in london .\\n\",\n",
       "  'name': '* -- >',\n",
       "  'document': \"david lafuente is a spanish-born comic book artist known for his work on books such as '' '' .\\nhe currently resides in london .\\n\",\n",
       "  'profile': 'website || http://www.davidlafuente.com\\nnonus || y\\nname || * -- >\\nsortkey || lafuente , david\\nimagesize || 150\\nnationality || spanish\\npencil || y\\narticle_title || david lafuente\\nink || y\\nsubcat || spanish',\n",
       "  'profile_keys': 'website||nonus||name||sortkey||imagesize||nationality||pencil||article_title||ink||subcat',\n",
       "  'profile_values': 'http://www.davidlafuente.com||y||* -- >||lafuente , david||150||spanish||y||david lafuente||y||spanish',\n",
       "  'text_key': \"david lafuente is a spanish-born comic book artist known for his work on books such as '' '' .\\nhe currently resides in london .\\n website || http://www.davidlafuente.com\\nnonus || y\\nname || * -- >\\nsortkey || lafuente , david\\nimagesize || 150\\nnationality || spanish\\npencil || y\\narticle_title || david lafuente\\nink || y\\nsubcat || spanish\"},\n",
       " {'input_text': {'table': {'column_header': ['website',\n",
       "     'caption',\n",
       "     'name',\n",
       "     'birth_name',\n",
       "     'article_title',\n",
       "     'image',\n",
       "     'nationality',\n",
       "     'birth_place',\n",
       "     'birth_date',\n",
       "     'write',\n",
       "     'subcat'],\n",
       "    'row_number': [1, 1, 1, 1, 1, 1, 1, 1, 1, 1, 1],\n",
       "    'content': ['http://www.krulwords.com',\n",
       "     \"krul # 97 at midtown comics in manhattan , july 13 at , 2011 . a signing for '' teen titans ''\",\n",
       "     '* -- >',\n",
       "     'jeffrey t. krul',\n",
       "     'j. t. krul\\n',\n",
       "     '7.13.11j.t.krulbyluiginovi1.jpg',\n",
       "     'american',\n",
       "     'michigan',\n",
       "     '14 november 1972',\n",
       "     'y',\n",
       "     'american']},\n",
       "   'context': 'j. t. krul\\n'},\n",
       "  'target_text': \"j. t. krul -lrb- born november 14 , 1972 in michigan -rrb- is a comic book writer , best known for his work on aspen mlt 's `` fathom '' comic series .\\n\",\n",
       "  'name': '* -- >',\n",
       "  'document': \"j. t. krul ( born november 14 , 1972 in michigan ) is a comic book writer , best known for his work on aspen mlt 's `` fathom '' comic series .\\n\",\n",
       "  'profile': \"website || http://www.krulwords.com\\ncaption || krul # 97 at midtown comics in manhattan , july 13 at , 2011 . a signing for '' teen titans ''\\nname || * -- >\\nbirth_name || jeffrey t. krul\\narticle_title || j. t. krul\\nimage || 7.13.11j.t.krulbyluiginovi1.jpg\\nnationality || american\\nbirth_place || michigan\\nbirth_date || 14 november 1972\\nwrite || y\\nsubcat || american\",\n",
       "  'profile_keys': 'website||caption||name||birth_name||article_title||image||nationality||birth_place||birth_date||write||subcat',\n",
       "  'profile_values': \"http://www.krulwords.com||krul # 97 at midtown comics in manhattan , july 13 at , 2011 . a signing for '' teen titans ''||* -- >||jeffrey t. krul||j. t. krul||7.13.11j.t.krulbyluiginovi1.jpg||american||michigan||14 november 1972||y||american\",\n",
       "  'text_key': \"j. t. krul -lrb- born november 14 , 1972 in michigan -rrb- is a comic book writer , best known for his work on aspen mlt 's `` fathom '' comic series .\\n website || http://www.krulwords.com\\ncaption || krul # 97 at midtown comics in manhattan , july 13 at , 2011 . a signing for '' teen titans ''\\nname || * -- >\\nbirth_name || jeffrey t. krul\\narticle_title || j. t. krul\\nimage || 7.13.11j.t.krulbyluiginovi1.jpg\\nnationality || american\\nbirth_place || michigan\\nbirth_date || 14 november 1972\\nwrite || y\\nsubcat || american\"},\n",
       " {'input_text': {'table': {'column_header': ['nonus',\n",
       "     'caption',\n",
       "     'name',\n",
       "     'sortkey',\n",
       "     'image',\n",
       "     'nationality',\n",
       "     'pencil',\n",
       "     'article_title',\n",
       "     'ink',\n",
       "     'subcat'],\n",
       "    'row_number': [1, 1, 1, 1, 1, 1, 1, 1, 1, 1],\n",
       "    'content': ['y',\n",
       "     'scott , 10 october 2010 . at the new york comic con in manhattan',\n",
       "     '* -- >',\n",
       "     'scott , nicola',\n",
       "     '10.10.10nicolascottbyluiginovi1.jpg',\n",
       "     'australian',\n",
       "     'y',\n",
       "     'nicola scott\\n',\n",
       "     'y',\n",
       "     'australian']},\n",
       "   'context': 'nicola scott\\n'},\n",
       "  'target_text': \"nicola scott is a comic book artist from sydney , australia whose notable works include `` birds of prey '' and `` secret six '' .\\n\",\n",
       "  'name': '* -- >',\n",
       "  'document': \"nicola scott is a comic book artist from sydney , australia whose notable works include `` birds of prey '' and `` secret six '' .\\n\",\n",
       "  'profile': 'nonus || y\\ncaption || scott , 10 october 2010 . at the new york comic con in manhattan\\nname || * -- >\\nsortkey || scott , nicola\\nimage || 10.10.10nicolascottbyluiginovi1.jpg\\nnationality || australian\\npencil || y\\narticle_title || nicola scott\\nink || y\\nsubcat || australian',\n",
       "  'profile_keys': 'nonus||caption||name||sortkey||image||nationality||pencil||article_title||ink||subcat',\n",
       "  'profile_values': 'y||scott , 10 october 2010 . at the new york comic con in manhattan||* -- >||scott , nicola||10.10.10nicolascottbyluiginovi1.jpg||australian||y||nicola scott||y||australian',\n",
       "  'text_key': \"nicola scott is a comic book artist from sydney , australia whose notable works include `` birds of prey '' and `` secret six '' .\\n nonus || y\\ncaption || scott , 10 october 2010 . at the new york comic con in manhattan\\nname || * -- >\\nsortkey || scott , nicola\\nimage || 10.10.10nicolascottbyluiginovi1.jpg\\nnationality || australian\\npencil || y\\narticle_title || nicola scott\\nink || y\\nsubcat || australian\"}]"
      ]
     },
     "execution_count": 59,
     "metadata": {},
     "output_type": "execute_result"
    }
   ],
   "source": [
    "star_ppl"
   ]
  },
  {
   "cell_type": "code",
   "execution_count": null,
   "id": "b1e0cb84-dc75-4813-a389-647fa6385383",
   "metadata": {},
   "outputs": [],
   "source": []
  }
 ],
 "metadata": {
  "kernelspec": {
   "display_name": "Python 3",
   "language": "python",
   "name": "python3"
  },
  "language_info": {
   "codemirror_mode": {
    "name": "ipython",
    "version": 3
   },
   "file_extension": ".py",
   "mimetype": "text/x-python",
   "name": "python",
   "nbconvert_exporter": "python",
   "pygments_lexer": "ipython3",
   "version": "3.9.7"
  }
 },
 "nbformat": 4,
 "nbformat_minor": 5
}
