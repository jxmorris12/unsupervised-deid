{
 "cells": [
  {
   "cell_type": "markdown",
   "id": "53f4c5a9-d141-4c2c-8df5-5b6a4b49b731",
   "metadata": {},
   "source": [
    "## Testing model at varying levels of dropout\n",
    "\n",
    "I want to load my model and test how it performs on validation data and train data on varying levels of dropout."
   ]
  },
  {
   "cell_type": "code",
   "execution_count": 2,
   "id": "8c2efdc4-d9da-4ce2-b19d-64ac4048bf4f",
   "metadata": {},
   "outputs": [
    {
     "name": "stdout",
     "output_type": "stream",
     "text": [
      "Warning: set num_workers to 1, expect dataloader bottleneck\n",
      "Initializing WikipediaDataModule with num_workers = 1 and mask token `<mask>`\n",
      "loading wiki_bio[1.2.0] split train[:1]\n"
     ]
    },
    {
     "name": "stderr",
     "output_type": "stream",
     "text": [
      "Using custom data configuration default\n",
      "Reusing dataset wiki_bio (/home/jxm3/.cache/huggingface/datasets/wiki_bio/default/1.2.0/c05ce066e9026831cd7535968a311fc80f074b58868cfdffccbc811dff2ab6da)\n"
     ]
    },
    {
     "name": "stdout",
     "output_type": "stream",
     "text": [
      "loading wiki_bio[1.2.0] split val[:20%]\n"
     ]
    },
    {
     "name": "stderr",
     "output_type": "stream",
     "text": [
      "Using custom data configuration default\n",
      "Reusing dataset wiki_bio (/home/jxm3/.cache/huggingface/datasets/wiki_bio/default/1.2.0/c05ce066e9026831cd7535968a311fc80f074b58868cfdffccbc811dff2ab6da)\n",
      "Loading cached processed dataset at /home/jxm3/.cache/huggingface/datasets/wiki_bio/default/1.2.0/c05ce066e9026831cd7535968a311fc80f074b58868cfdffccbc811dff2ab6da/cache-b98e3ae8bfedd5c6.arrow\n",
      "Loading cached processed dataset at /home/jxm3/.cache/huggingface/datasets/wiki_bio/default/1.2.0/c05ce066e9026831cd7535968a311fc80f074b58868cfdffccbc811dff2ab6da/cache-7d07543b6205ca87.arrow\n",
      "Loading cached processed dataset at /home/jxm3/.cache/huggingface/datasets/wiki_bio/default/1.2.0/c05ce066e9026831cd7535968a311fc80f074b58868cfdffccbc811dff2ab6da/cache-7440752484ad8676.arrow\n",
      "Loading cached processed dataset at /home/jxm3/.cache/huggingface/datasets/wiki_bio/default/1.2.0/c05ce066e9026831cd7535968a311fc80f074b58868cfdffccbc811dff2ab6da/cache-2c6f94b0d2dcc153.arrow\n"
     ]
    }
   ],
   "source": [
    "import sys\n",
    "sys.path.append('/home/jxm3/research/deidentification/unsupervised-deidentification')\n",
    "\n",
    "from datamodule import WikipediaDataModule\n",
    "\n",
    "import os\n",
    "\n",
    "num_cpus = os.cpu_count()\n",
    "dm = WikipediaDataModule(\n",
    "    document_model_name_or_path=\"roberta-base\",\n",
    "    profile_model_name_or_path=\"google/tapas-base\",\n",
    "    max_seq_length=128,\n",
    "    dataset_name='wiki_bio',\n",
    "    dataset_train_split='train[:1]', # not used\n",
    "    dataset_val_split='val[:20%]',\n",
    "    dataset_version='1.2.0',\n",
    "    word_dropout_ratio=0.0,\n",
    "    word_dropout_perc=0.0,\n",
    "    num_workers=1,\n",
    "    train_batch_size=64,\n",
    "    eval_batch_size=64\n",
    ")\n",
    "dm.setup(\"fit\")"
   ]
  },
  {
   "cell_type": "code",
   "execution_count": 3,
   "id": "7dc0a77e-ac00-4f8e-9d02-61ad4c92af74",
   "metadata": {},
   "outputs": [
    {
     "name": "stderr",
     "output_type": "stream",
     "text": [
      "Some weights of the model checkpoint at roberta-base were not used when initializing RobertaModel: ['lm_head.dense.bias', 'lm_head.bias', 'lm_head.dense.weight', 'lm_head.layer_norm.bias', 'lm_head.decoder.weight', 'lm_head.layer_norm.weight']\n",
      "- This IS expected if you are initializing RobertaModel from the checkpoint of a model trained on another task or with another architecture (e.g. initializing a BertForSequenceClassification model from a BertForPreTraining model).\n",
      "- This IS NOT expected if you are initializing RobertaModel from the checkpoint of a model that you expect to be exactly identical (initializing a BertForSequenceClassification model from a BertForSequenceClassification model).\n"
     ]
    },
    {
     "name": "stdout",
     "output_type": "stream",
     "text": [
      "Initialized model with learning_rate = 1e-05 and patience 1\n"
     ]
    }
   ],
   "source": [
    "from model import CoordinateAscentModel\n",
    "\n",
    "# model that was trained at the link given above, gets >99% validation accuracy,\n",
    "# and is trained with word dropout!\n",
    "\n",
    "from model_cfg import model_paths_dict\n",
    "\n",
    "checkpoint_path = model_paths_dict[\"model_5\"]\n",
    "\n",
    "model = CoordinateAscentModel.load_from_checkpoint(\n",
    "    checkpoint_path,\n",
    "    document_model_name_or_path=\"roberta-base\",\n",
    "    profile_model_name_or_path=\"google/tapas-base\",\n",
    "    learning_rate=1e-5,\n",
    "    pretrained_profile_encoder=False,\n",
    "    lr_scheduler_factor=0.5,\n",
    "    lr_scheduler_patience=1,\n",
    "    train_batch_size=1,\n",
    "    num_workers=1,\n",
    "    gradient_clip_val=10.0,\n",
    ")"
   ]
  },
  {
   "cell_type": "code",
   "execution_count": 4,
   "id": "99c04568-e9e9-461a-bbcc-03aaa10ee0f7",
   "metadata": {},
   "outputs": [
    {
     "name": "stderr",
     "output_type": "stream",
     "text": [
      "                                                                              1.48it/s]\r"
     ]
    }
   ],
   "source": [
    "import numpy as np\n",
    "import torch\n",
    "import tqdm\n",
    "\n",
    "def precompute_profile_embeddings():\n",
    "    model.profile_model.cuda()\n",
    "    model.profile_model.eval()\n",
    "\n",
    "    model.val_profile_embeddings = np.zeros((len(dm.val_dataset), model.profile_embedding_dim))\n",
    "    for val_batch in tqdm.tqdm(dm.val_dataloader()[0], desc=\"Precomputing val embeddings\", colour=\"green\", leave=False):\n",
    "        with torch.no_grad():\n",
    "            profile_embeddings = model.forward_profile(batch=val_batch)\n",
    "        model.val_profile_embeddings[val_batch[\"text_key_id\"]] = profile_embeddings.cpu()\n",
    "    model.val_profile_embeddings = torch.tensor(model.val_profile_embeddings, dtype=torch.float32)\n",
    "    model.profile_model.train()\n",
    "\n",
    "precompute_profile_embeddings()"
   ]
  },
  {
   "cell_type": "code",
   "execution_count": 8,
   "id": "e91b3e35-3df4-4f2f-9613-32307bac7bc4",
   "metadata": {},
   "outputs": [],
   "source": [
    "model.profile_model.cuda()\n",
    "model.document_model.cuda()\n",
    "model.document_embed.cuda()\n",
    "model.document_model.eval()\n",
    "model.val_profile_embeddings = model.val_profile_embeddings.cuda()"
   ]
  },
  {
   "cell_type": "code",
   "execution_count": null,
   "id": "dbc81ead-d20d-4c9a-a25d-28eb213d8d12",
   "metadata": {},
   "outputs": [
    {
     "name": "stdout",
     "output_type": "stream",
     "text": [
      "Testing with dropout at 0.0%\n"
     ]
    },
    {
     "name": "stderr",
     "output_type": "stream",
     "text": [
      "                                             \r"
     ]
    },
    {
     "name": "stdout",
     "output_type": "stream",
     "text": [
      "0.998\n",
      "Testing with dropout at 10.0%\n"
     ]
    },
    {
     "name": "stderr",
     "output_type": "stream",
     "text": [
      "                                             \r"
     ]
    },
    {
     "name": "stdout",
     "output_type": "stream",
     "text": [
      "0.997\n",
      "Testing with dropout at 20.0%\n"
     ]
    },
    {
     "name": "stderr",
     "output_type": "stream",
     "text": [
      "                                             \r"
     ]
    },
    {
     "name": "stdout",
     "output_type": "stream",
     "text": [
      "0.995\n",
      "Testing with dropout at 30.000000000000004%\n"
     ]
    },
    {
     "name": "stderr",
     "output_type": "stream",
     "text": [
      "                                             \r"
     ]
    },
    {
     "name": "stdout",
     "output_type": "stream",
     "text": [
      "0.982\n",
      "Testing with dropout at 40.0%\n"
     ]
    },
    {
     "name": "stderr",
     "output_type": "stream",
     "text": [
      "                                             \r"
     ]
    },
    {
     "name": "stdout",
     "output_type": "stream",
     "text": [
      "0.982\n",
      "Testing with dropout at 50.0%\n"
     ]
    },
    {
     "name": "stderr",
     "output_type": "stream",
     "text": [
      "                                             \r"
     ]
    },
    {
     "name": "stdout",
     "output_type": "stream",
     "text": [
      "0.952\n",
      "Testing with dropout at 60.00000000000001%\n"
     ]
    },
    {
     "name": "stderr",
     "output_type": "stream",
     "text": [
      "                                             \r"
     ]
    },
    {
     "name": "stdout",
     "output_type": "stream",
     "text": [
      "0.92\n",
      "Testing with dropout at 70.0%\n"
     ]
    },
    {
     "name": "stderr",
     "output_type": "stream",
     "text": [
      "                                             \r"
     ]
    },
    {
     "name": "stdout",
     "output_type": "stream",
     "text": [
      "0.84\n",
      "Testing with dropout at 80.0%\n"
     ]
    },
    {
     "name": "stderr",
     "output_type": "stream",
     "text": [
      " 50%|█████     | 4/8 [00:01<00:01,  3.28it/s]"
     ]
    }
   ],
   "source": [
    "from torch.utils.data import DataLoader\n",
    "from masking_tokenizing_dataset import MaskingTokenizingDataset\n",
    "\n",
    "val_tokenizing_dataset = MaskingTokenizingDataset(\n",
    "    dm.val_dataset,\n",
    "    document_tokenizer=dm.document_tokenizer,\n",
    "    profile_tokenizer=dm.profile_tokenizer,\n",
    "    max_seq_length=dm.max_seq_length,\n",
    "    word_dropout_ratio=0.0,\n",
    "    word_dropout_perc=0.0,\n",
    "    profile_row_dropout_perc=0.0,\n",
    "    sample_spans=False,\n",
    "    document_types=[\"document\"],\n",
    "    is_train_dataset=True\n",
    ")\n",
    "\n",
    "import tqdm\n",
    "\n",
    "accs = {}\n",
    "num_samples = 1000\n",
    "\n",
    "for dropout_amount in np.arange(0.0, 1.0+.1, 0.1): # [0. , 0.1, 0.2, 0.3, 0.4, 0.5, 0.6, 0.7, 0.8, 0.9]\n",
    "    num_correct = 0\n",
    "    num_total = 0\n",
    "    print(f'Testing with dropout at {dropout_amount*100}%')\n",
    "    val_tokenizing_dataset.masking_span_sampler.word_dropout_perc = dropout_amount\n",
    "    val_tokenizing_dataset.masking_span_sampler.word_dropout_ratio = 1.0\n",
    "    dropout_dataloader = DataLoader(\n",
    "        [val_tokenizing_dataset[i] for i in range(num_samples)],\n",
    "        batch_size=128,\n",
    "        num_workers=min(dm.num_workers, 8),\n",
    "        shuffle=False\n",
    "    )\n",
    "    for batch in tqdm.tqdm(dropout_dataloader, leave=False):\n",
    "        with torch.no_grad():\n",
    "            val_emb = model.forward_document(batch=batch, document_type='document')\n",
    "        pred_idxs = (val_emb @ model.val_profile_embeddings.T).argmax(dim=1)\n",
    "        true_idxs = batch['text_key_id'].cuda()\n",
    "        num_correct += (pred_idxs == true_idxs).sum().item()\n",
    "        num_total += len(true_idxs)\n",
    "\n",
    "    acc = num_correct / num_total\n",
    "    print(acc)\n",
    "    accs[dropout_amount] = acc"
   ]
  },
  {
   "cell_type": "code",
   "execution_count": 28,
   "id": "e0eb24be-6824-4156-aa13-10823192bb30",
   "metadata": {},
   "outputs": [
    {
     "data": {
      "text/html": [
       "<div>\n",
       "<style scoped>\n",
       "    .dataframe tbody tr th:only-of-type {\n",
       "        vertical-align: middle;\n",
       "    }\n",
       "\n",
       "    .dataframe tbody tr th {\n",
       "        vertical-align: top;\n",
       "    }\n",
       "\n",
       "    .dataframe thead th {\n",
       "        text-align: right;\n",
       "    }\n",
       "</style>\n",
       "<table border=\"1\" class=\"dataframe\">\n",
       "  <thead>\n",
       "    <tr style=\"text-align: right;\">\n",
       "      <th></th>\n",
       "      <th>accuracy</th>\n",
       "    </tr>\n",
       "  </thead>\n",
       "  <tbody>\n",
       "    <tr>\n",
       "      <th>0.0</th>\n",
       "      <td>0.998</td>\n",
       "    </tr>\n",
       "    <tr>\n",
       "      <th>0.1</th>\n",
       "      <td>0.997</td>\n",
       "    </tr>\n",
       "    <tr>\n",
       "      <th>0.2</th>\n",
       "      <td>0.995</td>\n",
       "    </tr>\n",
       "    <tr>\n",
       "      <th>0.3</th>\n",
       "      <td>0.982</td>\n",
       "    </tr>\n",
       "    <tr>\n",
       "      <th>0.4</th>\n",
       "      <td>0.982</td>\n",
       "    </tr>\n",
       "  </tbody>\n",
       "</table>\n",
       "</div>"
      ],
      "text/plain": [
       "     accuracy\n",
       "0.0     0.998\n",
       "0.1     0.997\n",
       "0.2     0.995\n",
       "0.3     0.982\n",
       "0.4     0.982"
      ]
     },
     "execution_count": 28,
     "metadata": {},
     "output_type": "execute_result"
    }
   ],
   "source": [
    "import pandas as pd\n",
    "df = pd.DataFrame.from_dict(accs, orient='index', columns=['accuracy'])\n",
    "df.head()"
   ]
  },
  {
   "cell_type": "code",
   "execution_count": 33,
   "id": "491bfc7f-bd2d-46be-9566-3699b5851a2b",
   "metadata": {},
   "outputs": [
    {
     "data": {
      "text/plain": [
       "(0.0, 1.1)"
      ]
     },
     "execution_count": 33,
     "metadata": {},
     "output_type": "execute_result"
    },
    {
     "data": {
      "image/png": "[encoded data removed]",
      "text/plain": [
       "<Figure size 432x288 with 1 Axes>"
      ]
     },
     "metadata": {},
     "output_type": "display_data"
    }
   ],
   "source": [
    "import seaborn as sns\n",
    "sns.set()\n",
    "sns.set_style(\"white\")\n",
    "\n",
    "ax = sns.lineplot(data=df, linewidth=3)\n",
    "ax.set_xlabel(\"% of non-stopwords removed\")\n",
    "ax.set_ylabel(\"accuracy\")\n",
    "ax.set_ylim(bottom=0.0, top=1.1)"
   ]
  },
  {
   "cell_type": "code",
   "execution_count": 34,
   "id": "aee6e8ca-18e0-4574-80aa-230c8032a10c",
   "metadata": {},
   "outputs": [
    {
     "data": {
      "text/html": [
       "<div>\n",
       "<style scoped>\n",
       "    .dataframe tbody tr th:only-of-type {\n",
       "        vertical-align: middle;\n",
       "    }\n",
       "\n",
       "    .dataframe tbody tr th {\n",
       "        vertical-align: top;\n",
       "    }\n",
       "\n",
       "    .dataframe thead th {\n",
       "        text-align: right;\n",
       "    }\n",
       "</style>\n",
       "<table border=\"1\" class=\"dataframe\">\n",
       "  <thead>\n",
       "    <tr style=\"text-align: right;\">\n",
       "      <th></th>\n",
       "      <th>accuracy</th>\n",
       "    </tr>\n",
       "  </thead>\n",
       "  <tbody>\n",
       "    <tr>\n",
       "      <th>0.6</th>\n",
       "      <td>0.920</td>\n",
       "    </tr>\n",
       "    <tr>\n",
       "      <th>0.7</th>\n",
       "      <td>0.840</td>\n",
       "    </tr>\n",
       "    <tr>\n",
       "      <th>0.8</th>\n",
       "      <td>0.718</td>\n",
       "    </tr>\n",
       "    <tr>\n",
       "      <th>0.9</th>\n",
       "      <td>0.538</td>\n",
       "    </tr>\n",
       "    <tr>\n",
       "      <th>1.0</th>\n",
       "      <td>0.230</td>\n",
       "    </tr>\n",
       "  </tbody>\n",
       "</table>\n",
       "</div>"
      ],
      "text/plain": [
       "     accuracy\n",
       "0.6     0.920\n",
       "0.7     0.840\n",
       "0.8     0.718\n",
       "0.9     0.538\n",
       "1.0     0.230"
      ]
     },
     "execution_count": 34,
     "metadata": {},
     "output_type": "execute_result"
    }
   ],
   "source": [
    "df.tail()"
   ]
  },
  {
   "cell_type": "markdown",
   "id": "ddd31899-1a65-46cd-8302-7e308cb37b61",
   "metadata": {},
   "source": [
    "### What does 100% masking even look like?!"
   ]
  },
  {
   "cell_type": "code",
   "execution_count": 68,
   "id": "d6aca254-a1d8-4330-86ce-d4337722d3aa",
   "metadata": {},
   "outputs": [
    {
     "name": "stdout",
     "output_type": "stream",
     "text": [
      "1.0\n"
     ]
    },
    {
     "data": {
      "text/plain": [
       "'<mask> <mask> is a <mask> <mask> <mask> <mask> <mask> , who was a <mask> of <mask> <mask> from <mask> to <mask> .\\nshe was a <mask> <mask> on <mask> <mask>-<mask> <mask> <mask> for the <mask> <mask> from <mask> to <mask> .\\nshe was an <mask> <mask> at the <mask> , <mask> and <mask> <mask> <mask> for the <mask> <mask> <mask> and was <mask> <mask> at the <mask> <mask> for the <mask> <mask> in <mask> .\\nshe was <mask> by the <mask> , <mask> <mask> to <mask> <mask> on <mask> <mask> <mask> .\\n<mask> was the <mask> <mask> <mask> <mask> for <mask> , <mask> <mask> , <mask> and <mask> .\\nshe was a <mask> of the <mask> of the <mask> <mask> <mask> for <mask> , <mask> <mask> for the <mask> <mask> for the <mask> of the <mask> .\\nshe is a <mask> of the <mask> <mask> of <mask> , <mask> <mask> <mask> , the <mask> <mask> <mask> for <mask> (<mask>) and the <mask> <mask> and <mask> <mask> .\\n'"
      ]
     },
     "execution_count": 68,
     "metadata": {},
     "output_type": "execute_result"
    }
   ],
   "source": [
    "import random\n",
    "\n",
    "print(val_tokenizing_dataset.masking_span_sampler.word_dropout_perc)\n",
    "\n",
    "random_el = random.choice(dm.val_dataset)\n",
    "random_document = random_el['document']\n",
    "random_idx = random_el['text_key_id']\n",
    "\n",
    "val_tokenizing_dataset.masking_span_sampler.random_redact_str(\n",
    "    text=random_document\n",
    ")"
   ]
  },
  {
   "cell_type": "markdown",
   "id": "f72ef699-aa77-4820-afd5-2c7c73532b75",
   "metadata": {},
   "source": [
    "### OK no way model can get this right right?? How is that 23%? Something must be wrong??!"
   ]
  },
  {
   "cell_type": "code",
   "execution_count": 73,
   "id": "08edc66e-56cf-4efc-b844-aa6cdf1c162d",
   "metadata": {},
   "outputs": [
    {
     "name": "stdout",
     "output_type": "stream",
     "text": [
      "Testing with dropout at 100.0%\n"
     ]
    },
    {
     "name": "stderr",
     "output_type": "stream",
     "text": [
      "                                             \r"
     ]
    }
   ],
   "source": [
    "num_correct = 0\n",
    "num_total = 0\n",
    "print(f'Testing with dropout at {dropout_amount*100}%')\n",
    "val_tokenizing_dataset.masking_span_sampler.word_dropout_perc = 1.0\n",
    "val_tokenizing_dataset.masking_span_sampler.word_dropout_ratio = 1.0\n",
    "dropout_dataloader = DataLoader(\n",
    "    [val_tokenizing_dataset[i] for i in range(128)],\n",
    "    batch_size=128,\n",
    "    num_workers=min(dm.num_workers, 8),\n",
    "    shuffle=False\n",
    ")\n",
    "for batch in tqdm.tqdm(dropout_dataloader, leave=False):\n",
    "    with torch.no_grad():\n",
    "        val_emb = model.forward_document(batch=batch, document_type='document')\n",
    "    pred_idxs = (val_emb @ model.val_profile_embeddings.T).argmax(dim=1)\n",
    "    true_idxs = batch['text_key_id'].cuda()\n",
    "    num_correct += (pred_idxs == true_idxs).sum().item()\n",
    "    num_total += len(true_idxs)\n",
    "\n",
    "acc = num_correct / num_total"
   ]
  },
  {
   "cell_type": "code",
   "execution_count": 74,
   "id": "b17cf586-aa79-47f8-bcf8-95848226d56a",
   "metadata": {},
   "outputs": [
    {
     "data": {
      "text/plain": [
       "0.25"
      ]
     },
     "execution_count": 74,
     "metadata": {},
     "output_type": "execute_result"
    }
   ],
   "source": [
    "acc"
   ]
  },
  {
   "cell_type": "code",
   "execution_count": 78,
   "id": "1adde2b3-a450-49f0-91ef-ac5639ad2c95",
   "metadata": {},
   "outputs": [
    {
     "data": {
      "text/plain": [
       "tensor([  6,   9,  17,  21,  24,  26,  31,  33,  38,  39,  48,  52,  54,  55,\n",
       "         59,  61,  66,  69,  71,  75,  84,  91,  93,  98,  99, 102, 114, 115,\n",
       "        116, 118, 119, 127])"
      ]
     },
     "execution_count": 78,
     "metadata": {},
     "output_type": "execute_result"
    }
   ],
   "source": [
    "batch['text_key_id'][true_idxs == pred_idxs]"
   ]
  },
  {
   "cell_type": "code",
   "execution_count": 84,
   "id": "210d384c-ea2d-4a49-8339-4837579523c8",
   "metadata": {},
   "outputs": [],
   "source": [
    "i = 6\n",
    "doc = val_tokenizing_dataset.dataset[i]['document']\n",
    "redacted_doc = val_tokenizing_dataset.masking_span_sampler.random_redact_str(text=doc)"
   ]
  },
  {
   "cell_type": "code",
   "execution_count": 85,
   "id": "aa9d5768-5472-41c3-b3ba-d190e8eff362",
   "metadata": {},
   "outputs": [
    {
     "data": {
      "text/plain": [
       "\"<mask> <mask> <mask> (<mask> <mask> <mask> , <mask>) , <mask> `` the <mask> <mask> '' , is an <mask> <mask> <mask> <mask> <mask> with the <mask> <mask> <mask> of <mask> <mask> <mask> (<mask>) .\\nhe <mask> and <mask> <mask>-<mask> .\\n<mask> was <mask> by the <mask> <mask> <mask> <mask> in the <mask> <mask> (<mask> <mask>) of the <mask> <mask> <mask> <mask> <mask> .\\nhe <mask> his <mask> <mask> <mask> in <mask> .\\n<mask> has more <mask> (<mask>) than any other <mask> <mask> <mask> .\\n\""
      ]
     },
     "execution_count": 85,
     "metadata": {},
     "output_type": "execute_result"
    }
   ],
   "source": [
    "redacted_doc"
   ]
  },
  {
   "cell_type": "code",
   "execution_count": 87,
   "id": "dd1e110a-3b75-4dc9-a9f5-a49d2bf0d3a5",
   "metadata": {},
   "outputs": [],
   "source": [
    "tokenized_redacted_doc = val_tokenizing_dataset.document_tokenizer.encode_plus(\n",
    "    redacted_doc,\n",
    "    max_length=val_tokenizing_dataset.max_seq_length,\n",
    "    padding='max_length',\n",
    "    truncation=True,\n",
    "    return_tensors='pt',\n",
    ")"
   ]
  },
  {
   "cell_type": "code",
   "execution_count": 91,
   "id": "7e472351-5380-4538-b341-51c35d0f9ce3",
   "metadata": {},
   "outputs": [],
   "source": [
    "with torch.no_grad():\n",
    "    val_emb = model.forward_document_inputs(tokenized_redacted_doc)\n",
    "    pred_idxs = (val_emb @ model.val_profile_embeddings.T).argmax(dim=1)"
   ]
  },
  {
   "cell_type": "code",
   "execution_count": 92,
   "id": "a4b0b592-4f6c-44ad-93a3-14c38339065f",
   "metadata": {},
   "outputs": [
    {
     "data": {
      "text/plain": [
       "tensor([6], device='cuda:0')"
      ]
     },
     "execution_count": 92,
     "metadata": {},
     "output_type": "execute_result"
    }
   ],
   "source": [
    "pred_idxs"
   ]
  },
  {
   "cell_type": "code",
   "execution_count": 94,
   "id": "1a42ccd3-0c23-4ff9-bd36-8d2ba8ef11d6",
   "metadata": {},
   "outputs": [
    {
     "data": {
      "text/plain": [
       "torch.Size([14566, 768])"
      ]
     },
     "execution_count": 94,
     "metadata": {},
     "output_type": "execute_result"
    }
   ],
   "source": [
    "model.val_profile_embeddings.shape"
   ]
  },
  {
   "cell_type": "code",
   "execution_count": 97,
   "id": "2e52b224-7b06-423b-a454-0ab44d96d04f",
   "metadata": {},
   "outputs": [
    {
     "data": {
      "text/plain": [
       "tensor(12.4562, device='cuda:0')"
      ]
     },
     "execution_count": 97,
     "metadata": {},
     "output_type": "execute_result"
    }
   ],
   "source": [
    "(val_emb @ model.val_profile_embeddings.T).max()"
   ]
  },
  {
   "cell_type": "code",
   "execution_count": 99,
   "id": "86766139-d5ad-4680-ada5-3365bbb127d7",
   "metadata": {},
   "outputs": [
    {
     "data": {
      "text/plain": [
       "tensor(12.4562, device='cuda:0')"
      ]
     },
     "execution_count": 99,
     "metadata": {},
     "output_type": "execute_result"
    }
   ],
   "source": [
    "(val_emb @ model.val_profile_embeddings.T)[0, 6]"
   ]
  },
  {
   "cell_type": "code",
   "execution_count": 103,
   "id": "310d0084-8f9c-46b5-af6a-649cdbc42a63",
   "metadata": {},
   "outputs": [
    {
     "data": {
      "text/plain": [
       "[6, 2706, 8580, 11514, 6999, 13843, 14514, 4986, 2057, 13247]"
      ]
     },
     "execution_count": 103,
     "metadata": {},
     "output_type": "execute_result"
    }
   ],
   "source": [
    "(-(val_emb @ model.val_profile_embeddings.T)).argsort()[0, :10].tolist()"
   ]
  },
  {
   "cell_type": "code",
   "execution_count": 104,
   "id": "c4ae91d7-6ba3-4290-8153-49d06274978d",
   "metadata": {},
   "outputs": [
    {
     "data": {
      "text/plain": [
       "tensor(12.3210, device='cuda:0')"
      ]
     },
     "execution_count": 104,
     "metadata": {},
     "output_type": "execute_result"
    }
   ],
   "source": [
    "(val_emb @ model.val_profile_embeddings.T)[0, 2706]"
   ]
  },
  {
   "cell_type": "code",
   "execution_count": 106,
   "id": "da5b254e-fc31-4a98-a5c7-c1e3972ff9e8",
   "metadata": {},
   "outputs": [
    {
     "data": {
      "text/plain": [
       "6.72"
      ]
     },
     "execution_count": 106,
     "metadata": {},
     "output_type": "execute_result"
    }
   ],
   "source": [
    "pd.read_csv('../adv_csvs/train/model_5/results_1_50.csv')['perturbed_text'].apply(lambda s: s.count('<mask>')).mean()"
   ]
  },
  {
   "cell_type": "markdown",
   "id": "f9267b05-9e90-417a-a530-7fcebb0bb500",
   "metadata": {},
   "source": [
    "#### confirming model accuracy is 0 on adv-masked examples"
   ]
  },
  {
   "cell_type": "code",
   "execution_count": 9,
   "id": "ceb09a45-b02e-4f0c-887f-6e1ff8b0bd07",
   "metadata": {},
   "outputs": [],
   "source": [
    "import pandas as pd\n",
    "\n",
    "pt = pd.read_csv('../adv_csvs/model_5/results_1_100.csv')['perturbed_text'].map(lambda s: s.replace('<SPLIT>', '\\n'))"
   ]
  },
  {
   "cell_type": "code",
   "execution_count": 10,
   "id": "abb731dc-e8a4-4897-a6e1-378ab0caa8b3",
   "metadata": {},
   "outputs": [
    {
     "data": {
      "text/plain": [
       "0     pope <mask> iii <mask> alexandria (also known ...\n",
       "1     <mask> <mask> is a male former <mask> tennis p...\n",
       "2     <mask> <mask> (born 30 november <mask>) is a t...\n",
       "3     <mask> <mask> , (born march 14 , <mask>) is a ...\n",
       "4     <mask> <mask>. <mask> is a former democratic m...\n",
       "                            ...                        \n",
       "95    prince `` <mask> '' maria giuseppe carlo ignaz...\n",
       "96    peter j. <mask> (<mask> 9 , 1849 -- october 1 ...\n",
       "97    <mask> <mask> (born <mask> 15 , 1989 in regina...\n",
       "98    <mask> <mask>. <mask> (january <mask> , 1917 -...\n",
       "99    <mask> ` <mask> ' <mask> (born 21 <mask> <mask...\n",
       "Name: perturbed_text, Length: 100, dtype: object"
      ]
     },
     "execution_count": 10,
     "metadata": {},
     "output_type": "execute_result"
    }
   ],
   "source": [
    "pt"
   ]
  },
  {
   "cell_type": "code",
   "execution_count": 42,
   "id": "695e241a-9da6-4e1e-84fe-06aac86671e6",
   "metadata": {},
   "outputs": [],
   "source": [
    "def get_model_predicted_idx(s: str) -> int:\n",
    "    tokenized_doc = val_tokenizing_dataset.document_tokenizer.encode_plus(\n",
    "        s,\n",
    "        max_length=val_tokenizing_dataset.max_seq_length,\n",
    "        padding='max_length',\n",
    "        truncation=True,\n",
    "        return_tensors='pt',\n",
    "    )\n",
    "    with torch.no_grad():\n",
    "        val_emb = model.forward_document_inputs(tokenized_doc)\n",
    "        pred_idxs = (val_emb @ model.val_profile_embeddings.T).argmax(dim=1)\n",
    "    return pred_idxs.item()"
   ]
  },
  {
   "cell_type": "code",
   "execution_count": 15,
   "id": "998fe566-cad6-4e91-a25a-328ca32f2ca8",
   "metadata": {},
   "outputs": [
    {
     "data": {
      "text/plain": [
       "300"
      ]
     },
     "execution_count": 15,
     "metadata": {},
     "output_type": "execute_result"
    }
   ],
   "source": [
    "get_model_predicted_idx(val_tokenizing_dataset.dataset[300]['document'])"
   ]
  },
  {
   "cell_type": "code",
   "execution_count": 16,
   "id": "18b2ec63-8f96-4f34-b7d8-03861afd7a37",
   "metadata": {},
   "outputs": [
    {
     "data": {
      "text/plain": [
       "0      6582\n",
       "1     10388\n",
       "2      2279\n",
       "3      4726\n",
       "4      3564\n",
       "      ...  \n",
       "95    14098\n",
       "96    13388\n",
       "97      335\n",
       "98    12425\n",
       "99     1872\n",
       "Name: perturbed_text, Length: 100, dtype: int64"
      ]
     },
     "execution_count": 16,
     "metadata": {},
     "output_type": "execute_result"
    }
   ],
   "source": [
    "pt_idxs = pt.map(get_model_predicted_idx)\n",
    "pt_idxs"
   ]
  },
  {
   "cell_type": "code",
   "execution_count": 17,
   "id": "5686d369-0bfa-46e7-af47-afe83cc40259",
   "metadata": {},
   "outputs": [
    {
     "data": {
      "text/plain": [
       "2"
      ]
     },
     "execution_count": 17,
     "metadata": {},
     "output_type": "execute_result"
    }
   ],
   "source": [
    "(pt_idxs == pt_idxs.index).sum()"
   ]
  },
  {
   "cell_type": "code",
   "execution_count": 18,
   "id": "f8ba7652-e054-4b29-9b2a-9a912adbcf78",
   "metadata": {},
   "outputs": [
    {
     "data": {
      "text/plain": [
       "'pope <mask> iii <mask> alexandria (also known as khail <mask>) was the <mask> pope of alexandria <mask> patriarch of the see of st. mark (880 -- <mask>) .\\nin 882 , the governor of egypt , ahmad ibn tulun , forced khail to pay heavy contributions , forcing him to sell a church and some attached properties to the local jewish community .\\nthis building was at one time believed to have later become the site of the cairo geniza .\\n'"
      ]
     },
     "execution_count": 18,
     "metadata": {},
     "output_type": "execute_result"
    }
   ],
   "source": [
    "pt[0]"
   ]
  },
  {
   "cell_type": "code",
   "execution_count": 130,
   "id": "5ea768d9-4181-4024-b898-f12c8f9f5832",
   "metadata": {},
   "outputs": [
    {
     "data": {
      "text/plain": [
       "'Halil Hayreddin'"
      ]
     },
     "execution_count": 130,
     "metadata": {},
     "output_type": "execute_result"
    }
   ],
   "source": [
    "val_tokenizing_dataset.dataset[6582]['name']"
   ]
  },
  {
   "cell_type": "code",
   "execution_count": 131,
   "id": "22d79100-905a-4e4b-b9ea-6a875c8c851d",
   "metadata": {},
   "outputs": [
    {
     "data": {
      "text/plain": [
       "'pope michael iii of alexandria (also known as khail iii) was the coptic pope of alexandria and patriarch of the see of st. mark (880 -- 907) .\\nin 882 , the governor of egypt , ahmad ibn tulun , forced khail to pay heavy contributions , forcing him to sell a church and some attached properties to the local jewish community .\\nthis building was at one time believed to have later become the site of the cairo geniza .\\n'"
      ]
     },
     "execution_count": 131,
     "metadata": {},
     "output_type": "execute_result"
    }
   ],
   "source": [
    "val_tokenizing_dataset.dataset[0]['document']"
   ]
  },
  {
   "cell_type": "code",
   "execution_count": 132,
   "id": "1776a304-291b-4012-b7ac-21bad56a0126",
   "metadata": {},
   "outputs": [
    {
     "data": {
      "text/plain": [
       "6582"
      ]
     },
     "execution_count": 132,
     "metadata": {},
     "output_type": "execute_result"
    }
   ],
   "source": [
    "get_model_predicted_idx('pope <mask> iii <mask> alexandria (also known as khail iii) was <mask> <mask> pope of <mask> <mask> patriarch of <mask> see of st. mark (880 -- <mask>) .\\nin 882 , the governor of egypt , ahmad ibn tulun , forced khail to pay heavy contributions , forcing him to sell a church and some attached properties to the local jewish community .\\nthis building was at one time believed to have later become the site of the cairo geniza .\\n')"
   ]
  },
  {
   "cell_type": "code",
   "execution_count": 133,
   "id": "ca0c7da5-8b84-4c44-b86a-1a5444fcfb57",
   "metadata": {},
   "outputs": [
    {
     "data": {
      "text/plain": [
       "0"
      ]
     },
     "execution_count": 133,
     "metadata": {},
     "output_type": "execute_result"
    }
   ],
   "source": [
    "get_model_predicted_idx('pope michael iii of alexandria (also known as khail iii) was the coptic pope of alexandria and patriarch of the see of st. mark (880 -- 907) .\\nin 882 , the governor of egypt , ahmad ibn tulun , forced khail to pay heavy contributions , forcing him to sell a church and some attached properties to the local jewish community .\\nthis building was at one time believed to have later become the site of the cairo geniza .\\n')"
   ]
  },
  {
   "cell_type": "code",
   "execution_count": 138,
   "id": "f2d28922-106c-429f-b8f8-0f164b988973",
   "metadata": {},
   "outputs": [
    {
     "data": {
      "text/plain": [
       "12746"
      ]
     },
     "execution_count": 138,
     "metadata": {},
     "output_type": "execute_result"
    }
   ],
   "source": [
    "get_model_predicted_idx('pope <mask> <mask> of alexandria')"
   ]
  },
  {
   "cell_type": "code",
   "execution_count": 139,
   "id": "d32cd760-7526-409f-9536-9b720a7c3394",
   "metadata": {},
   "outputs": [
    {
     "data": {
      "text/plain": [
       "'Boniface V'"
      ]
     },
     "execution_count": 139,
     "metadata": {},
     "output_type": "execute_result"
    }
   ],
   "source": [
    "val_tokenizing_dataset.dataset[12746]['name']"
   ]
  },
  {
   "cell_type": "code",
   "execution_count": 23,
   "id": "3417d3d0-4c79-43c1-86e9-0660a069460a",
   "metadata": {},
   "outputs": [
    {
     "data": {
      "text/plain": [
       "6.72"
      ]
     },
     "execution_count": 23,
     "metadata": {},
     "output_type": "execute_result"
    }
   ],
   "source": [
    "pd.read_csv('../adv_csvs/train/model_5/results_1_50.csv')['perturbed_text'].map(lambda s: s.count('<mask>')).mean()"
   ]
  },
  {
   "cell_type": "markdown",
   "id": "35f78906-a090-4adf-85c9-519c0dbea1c1",
   "metadata": {},
   "source": [
    "### Comparing individual examples (adv masked and full dropout)"
   ]
  },
  {
   "cell_type": "code",
   "execution_count": 37,
   "id": "1115cc94-2b6a-48dd-85dc-73f773db72d7",
   "metadata": {},
   "outputs": [],
   "source": [
    "results = pd.read_csv('../adv_csvs/model_5/results_1_100.csv')"
   ]
  },
  {
   "cell_type": "code",
   "execution_count": 38,
   "id": "1f0c2866-d1b0-4935-af34-3e3659197a22",
   "metadata": {},
   "outputs": [
    {
     "data": {
      "text/plain": [
       "\"<mask> <mask> <mask> (<mask> <mask> <mask> , <mask>) , <mask> <mask> <mask> <mask> <mask> '' , <mask> <mask> <mask> <mask> <mask> <mask> <mask> <mask> <mask> <mask> <mask> <mask> of major league <mask> (mlb) .<SPLIT>he bats and throws left-handed .<SPLIT><mask> was drafted by <mask> <mask> <mask> <mask> <mask> in the second round (52nd overall) of the 1999 major league baseball draft .<SPLIT>he made his major league debut in 2002 .<SPLIT><mask> has more <mask> (121) than any other active baseball player .<SPLIT>\""
      ]
     },
     "execution_count": 38,
     "metadata": {},
     "output_type": "execute_result"
    }
   ],
   "source": [
    "results['perturbed_text'][6]"
   ]
  },
  {
   "cell_type": "code",
   "execution_count": 41,
   "id": "dbbd38fe-67e6-4e01-963d-6a14cc38b689",
   "metadata": {},
   "outputs": [
    {
     "data": {
      "text/plain": [
       "\"<mask> <mask> <mask> (<mask> <mask> <mask> , <mask>) , <mask> <mask> <mask> <mask> <mask> '' , <mask> <mask> <mask> <mask> <mask> <mask> <mask> <mask> <mask> <mask> <mask> <mask> of major league <mask> (mlb) .\\nhe bats and throws left-handed .\\n<mask> was drafted by <mask> <mask> <mask> <mask> <mask> in the second round (52nd overall) of the 1999 major league baseball draft .\\nhe made his major league debut in 2002 .\\n<mask> has more <mask> (121) than any other active baseball player .\\n\""
      ]
     },
     "execution_count": 41,
     "metadata": {},
     "output_type": "execute_result"
    }
   ],
   "source": [
    "results['perturbed_text'][6].replace('<SPLIT>', '\\n')"
   ]
  },
  {
   "cell_type": "code",
   "execution_count": 43,
   "id": "b9c3ad60-a61c-4c7f-8741-27afeef864a2",
   "metadata": {},
   "outputs": [
    {
     "data": {
      "text/plain": [
       "\"<mask> <mask> <mask> (<mask> <mask> <mask> , <mask>) , <mask> `` the <mask> <mask> '' , is an <mask> <mask> <mask> <mask> <mask> with the <mask> <mask> <mask> of <mask> <mask> <mask> (<mask>) .\\nhe <mask> and <mask> <mask>-<mask> .\\n<mask> was <mask> by the <mask> <mask> <mask> <mask> in the <mask> <mask> (<mask> <mask>) of the <mask> <mask> <mask> <mask> <mask> .\\nhe <mask> his <mask> <mask> <mask> in <mask> .\\n<mask> has more <mask> (<mask>) than any other <mask> <mask> <mask> .\\n\""
      ]
     },
     "execution_count": 43,
     "metadata": {},
     "output_type": "execute_result"
    }
   ],
   "source": [
    "val_tokenizing_dataset.masking_span_sampler.word_dropout_perc = 1.0\n",
    "val_tokenizing_dataset.masking_span_sampler.word_dropout_ratio = 1.0\n",
    "val_tokenizing_dataset.masking_span_sampler.random_redact_str(\n",
    "    text=results['original_text'][6].replace('<SPLIT>', '\\n')\n",
    ")"
   ]
  },
  {
   "cell_type": "code",
   "execution_count": 44,
   "id": "348b4134-264b-4ecb-9471-7216c76aafb3",
   "metadata": {},
   "outputs": [
    {
     "data": {
      "text/plain": [
       "6"
      ]
     },
     "execution_count": 44,
     "metadata": {},
     "output_type": "execute_result"
    }
   ],
   "source": [
    "# random dropout (100%)\n",
    "\n",
    "get_model_predicted_idx(\"<mask> <mask> <mask> (<mask> <mask> <mask> , <mask>) , <mask> `` the <mask> <mask> '' , is an <mask> <mask> <mask> <mask> <mask> with the <mask> <mask> <mask> of <mask> <mask> <mask> (<mask>) .\\nhe <mask> and <mask> <mask>-<mask> .\\n<mask> was <mask> by the <mask> <mask> <mask> <mask> in the <mask> <mask> (<mask> <mask>) of the <mask> <mask> <mask> <mask> <mask> .\\nhe <mask> his <mask> <mask> <mask> in <mask> .\\n<mask> has more <mask> (<mask>) than any other <mask> <mask> <mask> .\\n\")"
   ]
  },
  {
   "cell_type": "code",
   "execution_count": 45,
   "id": "963eeed5-a9aa-4023-a359-24df6ed37066",
   "metadata": {},
   "outputs": [
    {
     "data": {
      "text/plain": [
       "9080"
      ]
     },
     "execution_count": 45,
     "metadata": {},
     "output_type": "execute_result"
    }
   ],
   "source": [
    "get_model_predicted_idx(\"<mask> <mask> <mask> (<mask> <mask> <mask> , <mask>) , <mask> <mask> <mask> <mask> <mask> '' , <mask> <mask> <mask> <mask> <mask> <mask> <mask> <mask> <mask> <mask> <mask> <mask> of major league <mask> (mlb) .\\nhe bats and throws left-handed .\\n<mask> was drafted by <mask> <mask> <mask> <mask> <mask> in the second round (52nd overall) of the 1999 major league baseball draft .\\nhe made his major league debut in 2002 .\\n<mask> has more <mask> (121) than any other active baseball player .\\n\")"
   ]
  },
  {
   "cell_type": "code",
   "execution_count": 55,
   "id": "9d7251e5-d19d-40a4-90b9-c6f5a2c14b12",
   "metadata": {},
   "outputs": [
    {
     "data": {
      "text/plain": [
       "[(0, 'Michael Iii Of Alexandria'),\n",
       " (1, 'Hui Jun'),\n",
       " (2, 'Okan Öztürk'),\n",
       " (3, 'Marie Stephan'),\n",
       " (4, 'Leonard L. Martino'),\n",
       " (5, 'Salome Jens'),\n",
       " (6, 'Carl Crawford'),\n",
       " (7, 'Jim Bob'),\n",
       " (8, 'Riddick Parker'),\n",
       " (9, 'Blessed Osanna Of Cattaro -lrb- Ozana Kotorska -rrb-'),\n",
       " (10, 'Thaila Ayala'),\n",
       " (11, 'Sven Leuenberger'),\n",
       " (12, 'Brett Scott'),\n",
       " (13, 'Marlon Evans'),\n",
       " (14, 'Jesper Blicher'),\n",
       " (15, 'Stewart Ford'),\n",
       " (16, 'Chris Galletta'),\n",
       " (17, 'Barbara Coombs Lee'),\n",
       " (18, 'Darren M. Swain'),\n",
       " (19, 'Paul Quinn'),\n",
       " (20, 'Bob Motl'),\n",
       " (21, 'Christiane Soeder'),\n",
       " (22, 'Molwyn Joseph'),\n",
       " (23, 'Edmond Reusens'),\n",
       " (24, 'Nicetas'),\n",
       " (25, 'Kathy Stanton'),\n",
       " (26, 'Abby Elliott'),\n",
       " (27, 'Jeffrey Thomas'),\n",
       " (28, 'Paul Brooks -lrb- Cricketer -rrb-'),\n",
       " (29, 'Andreas Horvath'),\n",
       " (30, 'Asbjørn Kragh Andersen'),\n",
       " (31, 'Tigam'),\n",
       " (32, 'Dale Raoul'),\n",
       " (33, 'Ava Acres'),\n",
       " (34, 'Ernie Young'),\n",
       " (35, 'Samia Hamouda Abbou'),\n",
       " (36, 'Lotten Sjödén'),\n",
       " (37, 'Paul Stoll'),\n",
       " (38, 'Christine Isobel Mcgaffey Frederick'),\n",
       " (39, 'Frank Waln'),\n",
       " (40, 'Warren Gill'),\n",
       " (41, \"'' ` Nasīr Al-dīn Tūsī '' '\"),\n",
       " (42, 'Sir Hugh Dundas'),\n",
       " (43, 'Helen Wagner'),\n",
       " (44, 'Andrew Clarke'),\n",
       " (45, 'Matt Todd'),\n",
       " (46, 'Jonah Kapena'),\n",
       " (47, 'Chiara Siracusa'),\n",
       " (48, 'Donna Christian-christensen'),\n",
       " (49, 'Patrick Zoundi'),\n",
       " (50, 'Anthony Acid'),\n",
       " (51, 'Roxroy Cato'),\n",
       " (52, 'Jacki Weaver'),\n",
       " (53, 'James Donald'),\n",
       " (54, 'Michael C. J. Putnam'),\n",
       " (55, 'Svend Erik Bjerg'),\n",
       " (56, 'Bill Ingebrigtsen'),\n",
       " (57, 'Byzantine'),\n",
       " (58, 'Joseph Defilippis'),\n",
       " (59, 'Peter Berner'),\n",
       " (60, 'Emiliano Dudar'),\n",
       " (61, 'Siw Malmkvist'),\n",
       " (62, 'Ivan Irwin'),\n",
       " (63, 'Jim Melrose'),\n",
       " (64, 'Sir Anthony Hart'),\n",
       " (65, 'Baba Deep Singh'),\n",
       " (66, 'Joseph D. Kearney'),\n",
       " (67, 'Dmitry Ivchenko'),\n",
       " (68, 'Dick Duff'),\n",
       " (69, 'Claire Mccaskill'),\n",
       " (70, 'Ed Cooke'),\n",
       " (71, 'Ken Morley'),\n",
       " (72, 'Bret Bailey'),\n",
       " (73, 'Catalina Usme'),\n",
       " (74, 'Jude Stirling'),\n",
       " (75, 'Richard Jasiewicz'),\n",
       " (76, 'David Thomas -lrb- Cricketer , Born 1963 -rrb-'),\n",
       " (77, 'Sir Albert Percy Addison'),\n",
       " (78, 'Raymond Buckland'),\n",
       " (79, 'George Ponsonby'),\n",
       " (80, 'Charles Davis'),\n",
       " (81, 'Peggy Annette Whitson'),\n",
       " (82, 'Thiago'),\n",
       " (83, 'Gérard Meister'),\n",
       " (84, 'Bob Sims'),\n",
       " (85, 'Ben Wilson'),\n",
       " (86, 'Richie Myers'),\n",
       " (87, 'Theodore Earl Butler'),\n",
       " (88, 'Francesco Domenico Chiarello'),\n",
       " (89, 'İbrahim Halil Fırat'),\n",
       " (90, 'Takashi Kano'),\n",
       " (91, 'Shantanu Moitra'),\n",
       " (92, 'Samuel H. Armacost'),\n",
       " (93, 'Hamid Oraibi'),\n",
       " (94, 'Sir Smith Hill Child'),\n",
       " (95, 'Prince Gabriel'),\n",
       " (96, 'Pete Donnelly'),\n",
       " (97, 'Marc Mueller'),\n",
       " (98, 'Vernon A. Walters'),\n",
       " (99, 'Ray Foley')]"
      ]
     },
     "execution_count": 55,
     "metadata": {},
     "output_type": "execute_result"
    }
   ],
   "source": [
    "[(i, val_tokenizing_dataset.dataset[i]['name']) for i in range(100)]"
   ]
  },
  {
   "cell_type": "code",
   "execution_count": 59,
   "id": "72a318fc-b365-4a4d-b60c-617374be4567",
   "metadata": {},
   "outputs": [
    {
     "data": {
      "text/plain": [
       "98"
      ]
     },
     "execution_count": 59,
     "metadata": {},
     "output_type": "execute_result"
    }
   ],
   "source": [
    "val_tokenizing_dataset.masking_span_sampler.word_dropout_perc = 1.0\n",
    "val_tokenizing_dataset.masking_span_sampler.word_dropout_ratio = 1.0\n",
    "get_model_predicted_idx(\n",
    "    val_tokenizing_dataset.masking_span_sampler.random_redact_str(\n",
    "        text=results['original_text'][98].replace('<SPLIT>', '\\n')\n",
    "    )\n",
    ")"
   ]
  },
  {
   "cell_type": "code",
   "execution_count": 60,
   "id": "51fdba9b-b0a3-4876-b9ca-63cac651b923",
   "metadata": {},
   "outputs": [
    {
     "data": {
      "text/plain": [
       "'<mask> a. <mask> (<mask> <mask> , <mask> -- <mask> <mask> , <mask>) was a <mask> <mask> <mask> <mask> and a <mask> .\\nmost <mask> , he <mask> from <mask> to <mask> as <mask> <mask> of <mask> <mask> , from <mask> to <mask> as the <mask> <mask> <mask> to the <mask> <mask> and from <mask> to <mask> as <mask> to the <mask> <mask> of <mask> during the <mask> <mask> of <mask> <mask> .\\n<mask> <mask> to the <mask> of <mask> <mask> in the <mask>.s. <mask> and is a <mask> of the <mask> <mask> <mask> of <mask> .\\n'"
      ]
     },
     "execution_count": 60,
     "metadata": {},
     "output_type": "execute_result"
    }
   ],
   "source": [
    "val_tokenizing_dataset.masking_span_sampler.random_redact_str(\n",
    "        text=results['original_text'][98].replace('<SPLIT>', '\\n')\n",
    "    )"
   ]
  },
  {
   "cell_type": "code",
   "execution_count": 61,
   "id": "73701713-0277-4fac-bd06-e5973ff27d20",
   "metadata": {},
   "outputs": [
    {
     "data": {
      "text/plain": [
       "'<mask> <mask>. <mask> (january <mask> , 1917 -- february 10 , 2002) was a united states army officer and a diplomat .\\nmost notably , he served from 1972 to 1976 as deputy director of central intelligence , from 1985 to 1989 as the united states ambassador to the united nations and from 1989 to 1991 as ambassador to the federal republic of germany during the decisive phase of german reunification .\\n<mask> rose to the rank of lieutenant general in the u.s. army and is a member of the military intelligence hall of fame .\\n'"
      ]
     },
     "execution_count": 61,
     "metadata": {},
     "output_type": "execute_result"
    }
   ],
   "source": [
    "results['perturbed_text'][98].replace('<SPLIT>', '\\n')"
   ]
  },
  {
   "cell_type": "code",
   "execution_count": 62,
   "id": "edaaf925-9d57-4d21-a36a-c0c5fcd91cbe",
   "metadata": {},
   "outputs": [
    {
     "data": {
      "text/plain": [
       "98"
      ]
     },
     "execution_count": 62,
     "metadata": {},
     "output_type": "execute_result"
    }
   ],
   "source": [
    "get_model_predicted_idx('<mask> a. <mask> (<mask> <mask> , <mask> -- <mask> <mask> , <mask>) was a <mask> <mask> <mask> <mask> and a <mask> .\\nmost <mask> , he <mask> from <mask> to <mask> as <mask> <mask> of <mask> <mask> , from <mask> to <mask> as the <mask> <mask> <mask> to the <mask> <mask> and from <mask> to <mask> as <mask> to the <mask> <mask> of <mask> during the <mask> <mask> of <mask> <mask> .\\n<mask> <mask> to the <mask> of <mask> <mask> in the <mask>.s. <mask> and is a <mask> of the <mask> <mask> <mask> of <mask> .\\n')"
   ]
  },
  {
   "cell_type": "code",
   "execution_count": 63,
   "id": "da3c1373-02cf-45e6-88da-58090a92ab8d",
   "metadata": {},
   "outputs": [
    {
     "data": {
      "text/plain": [
       "12425"
      ]
     },
     "execution_count": 63,
     "metadata": {},
     "output_type": "execute_result"
    }
   ],
   "source": [
    "get_model_predicted_idx('<mask> <mask>. <mask> (january <mask> , 1917 -- february 10 , 2002) was a united states army officer and a diplomat .\\nmost notably , he served from 1972 to 1976 as deputy director of central intelligence , from 1985 to 1989 as the united states ambassador to the united nations and from 1989 to 1991 as ambassador to the federal republic of germany during the decisive phase of german reunification .\\n<mask> rose to the rank of lieutenant general in the u.s. army and is a member of the military intelligence hall of fame .\\n')"
   ]
  },
  {
   "cell_type": "code",
   "execution_count": null,
   "id": "097b3199-89fa-449f-817c-5b326bc9ca53",
   "metadata": {},
   "outputs": [],
   "source": []
  }
 ],
 "metadata": {
  "kernelspec": {
   "display_name": "Python 3",
   "language": "python",
   "name": "python3"
  },
  "language_info": {
   "codemirror_mode": {
    "name": "ipython",
    "version": 3
   },
   "file_extension": ".py",
   "mimetype": "text/x-python",
   "name": "python",
   "nbconvert_exporter": "python",
   "pygments_lexer": "ipython3",
   "version": "3.9.7"
  }
 },
 "nbformat": 4,
 "nbformat_minor": 5
}
