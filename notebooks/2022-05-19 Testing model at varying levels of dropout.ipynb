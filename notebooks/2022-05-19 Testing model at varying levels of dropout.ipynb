{
 "cells": [
  {
   "cell_type": "markdown",
   "id": "53f4c5a9-d141-4c2c-8df5-5b6a4b49b731",
   "metadata": {},
   "source": [
    "## Testing model at varying levels of dropout\n",
    "\n",
    "I want to load my model and test how it performs on validation data and train data on varying levels of dropout."
   ]
  },
  {
   "cell_type": "code",
   "execution_count": 37,
   "id": "8c2efdc4-d9da-4ce2-b19d-64ac4048bf4f",
   "metadata": {},
   "outputs": [
    {
     "name": "stdout",
     "output_type": "stream",
     "text": [
      "Warning: set num_workers to 1, expect dataloader bottleneck\n",
      "Initializing WikipediaDataModule with num_workers = 1 and mask token `<mask>`\n",
      "loading wiki_bio[1.2.0] split train[:1]\n"
     ]
    },
    {
     "name": "stderr",
     "output_type": "stream",
     "text": [
      "Using custom data configuration default\n",
      "Reusing dataset wiki_bio (/home/jxm3/.cache/huggingface/datasets/wiki_bio/default/1.2.0/c05ce066e9026831cd7535968a311fc80f074b58868cfdffccbc811dff2ab6da)\n"
     ]
    },
    {
     "name": "stdout",
     "output_type": "stream",
     "text": [
      "loading wiki_bio[1.2.0] split val[:20%]\n"
     ]
    },
    {
     "name": "stderr",
     "output_type": "stream",
     "text": [
      "Using custom data configuration default\n",
      "Reusing dataset wiki_bio (/home/jxm3/.cache/huggingface/datasets/wiki_bio/default/1.2.0/c05ce066e9026831cd7535968a311fc80f074b58868cfdffccbc811dff2ab6da)\n",
      "Loading cached processed dataset at /home/jxm3/.cache/huggingface/datasets/wiki_bio/default/1.2.0/c05ce066e9026831cd7535968a311fc80f074b58868cfdffccbc811dff2ab6da/cache-b98e3ae8bfedd5c6.arrow\n",
      "Loading cached processed dataset at /home/jxm3/.cache/huggingface/datasets/wiki_bio/default/1.2.0/c05ce066e9026831cd7535968a311fc80f074b58868cfdffccbc811dff2ab6da/cache-7d07543b6205ca87.arrow\n",
      "Loading cached processed dataset at /home/jxm3/.cache/huggingface/datasets/wiki_bio/default/1.2.0/c05ce066e9026831cd7535968a311fc80f074b58868cfdffccbc811dff2ab6da/cache-7440752484ad8676.arrow\n",
      "Loading cached processed dataset at /home/jxm3/.cache/huggingface/datasets/wiki_bio/default/1.2.0/c05ce066e9026831cd7535968a311fc80f074b58868cfdffccbc811dff2ab6da/cache-2c6f94b0d2dcc153.arrow\n"
     ]
    }
   ],
   "source": [
    "import sys\n",
    "sys.path.append('/home/jxm3/research/deidentification/unsupervised-deidentification')\n",
    "\n",
    "from dataloader import WikipediaDataModule\n",
    "\n",
    "import os\n",
    "\n",
    "num_cpus = os.cpu_count()\n",
    "dm = WikipediaDataModule(\n",
    "    document_model_name_or_path=\"roberta-base\",\n",
    "    profile_model_name_or_path=\"google/tapas-base\",\n",
    "    max_seq_length=128,\n",
    "    dataset_name='wiki_bio',\n",
    "    dataset_train_split='train[:1]', # not used\n",
    "    dataset_val_split='val[:20%]',\n",
    "    dataset_version='1.2.0',\n",
    "    word_dropout_ratio=0.0,\n",
    "    word_dropout_perc=0.0,\n",
    "    num_workers=1,\n",
    "    train_batch_size=64,\n",
    "    eval_batch_size=64\n",
    ")\n",
    "dm.setup(\"fit\")"
   ]
  },
  {
   "cell_type": "code",
   "execution_count": 38,
   "id": "7dc0a77e-ac00-4f8e-9d02-61ad4c92af74",
   "metadata": {},
   "outputs": [
    {
     "name": "stderr",
     "output_type": "stream",
     "text": [
      "Some weights of the model checkpoint at roberta-base were not used when initializing RobertaModel: ['lm_head.layer_norm.weight', 'lm_head.dense.bias', 'lm_head.layer_norm.bias', 'lm_head.decoder.weight', 'lm_head.dense.weight', 'lm_head.bias']\n",
      "- This IS expected if you are initializing RobertaModel from the checkpoint of a model trained on another task or with another architecture (e.g. initializing a BertForSequenceClassification model from a BertForPreTraining model).\n",
      "- This IS NOT expected if you are initializing RobertaModel from the checkpoint of a model that you expect to be exactly identical (initializing a BertForSequenceClassification model from a BertForSequenceClassification model).\n"
     ]
    },
    {
     "name": "stdout",
     "output_type": "stream",
     "text": [
      "Initialized model with learning_rate = 1e-05 and patience 1\n"
     ]
    }
   ],
   "source": [
    "from model import CoordinateAscentModel\n",
    "\n",
    "# model that was trained at the link given above, gets >99% validation accuracy,\n",
    "# and is trained with word dropout!\n",
    "\n",
    "from model_cfg import model_paths_dict\n",
    "\n",
    "checkpoint_path = model_paths_dict[\"model_5\"]\n",
    "\n",
    "model = CoordinateAscentModel.load_from_checkpoint(\n",
    "    checkpoint_path,\n",
    "    document_model_name_or_path=\"roberta-base\",\n",
    "    profile_model_name_or_path=\"google/tapas-base\",\n",
    "    learning_rate=1e-5,\n",
    "    pretrained_profile_encoder=False,\n",
    "    lr_scheduler_factor=0.5,\n",
    "    lr_scheduler_patience=1,\n",
    "    train_batch_size=1,\n",
    "    num_workers=1,\n",
    "    gradient_clip_val=10.0,\n",
    ")"
   ]
  },
  {
   "cell_type": "code",
   "execution_count": 39,
   "id": "99c04568-e9e9-461a-bbcc-03aaa10ee0f7",
   "metadata": {},
   "outputs": [
    {
     "name": "stderr",
     "output_type": "stream",
     "text": [
      "                                                                              1.53it/s]\r"
     ]
    }
   ],
   "source": [
    "import numpy as np\n",
    "import torch\n",
    "import tqdm\n",
    "\n",
    "def precompute_profile_embeddings():\n",
    "    model.profile_model.cuda()\n",
    "    model.profile_model.eval()\n",
    "\n",
    "    model.val_profile_embeddings = np.zeros((len(dm.val_dataset), model.profile_embedding_dim))\n",
    "    for val_batch in tqdm.tqdm(dm.val_dataloader()[0], desc=\"Precomputing val embeddings\", colour=\"green\", leave=False):\n",
    "        with torch.no_grad():\n",
    "            profile_embeddings = model.forward_profile(batch=val_batch)\n",
    "        model.val_profile_embeddings[val_batch[\"text_key_id\"]] = profile_embeddings.cpu()\n",
    "    model.val_profile_embeddings = torch.tensor(model.val_profile_embeddings, dtype=torch.float32)\n",
    "    model.profile_model.train()\n",
    "\n",
    "precompute_profile_embeddings()"
   ]
  },
  {
   "cell_type": "code",
   "execution_count": 41,
   "id": "e91b3e35-3df4-4f2f-9613-32307bac7bc4",
   "metadata": {},
   "outputs": [],
   "source": [
    "model.profile_model.cuda()\n",
    "model.document_model.cuda()\n",
    "model.document_embed.cuda()\n",
    "model.val_profile_embeddings = model.val_profile_embeddings.cuda()"
   ]
  },
  {
   "cell_type": "code",
   "execution_count": 69,
   "id": "dbc81ead-d20d-4c9a-a25d-28eb213d8d12",
   "metadata": {},
   "outputs": [
    {
     "name": "stdout",
     "output_type": "stream",
     "text": [
      "Testing with dropout at 0.0%\n"
     ]
    },
    {
     "name": "stderr",
     "output_type": "stream",
     "text": [
      "                                             \r"
     ]
    },
    {
     "name": "stdout",
     "output_type": "stream",
     "text": [
      "0.998\n",
      "Testing with dropout at 10.0%\n"
     ]
    },
    {
     "name": "stderr",
     "output_type": "stream",
     "text": [
      "                                             \r"
     ]
    },
    {
     "name": "stdout",
     "output_type": "stream",
     "text": [
      "0.998\n",
      "Testing with dropout at 20.0%\n"
     ]
    },
    {
     "name": "stderr",
     "output_type": "stream",
     "text": [
      "                                             \r"
     ]
    },
    {
     "name": "stdout",
     "output_type": "stream",
     "text": [
      "0.993\n",
      "Testing with dropout at 30.000000000000004%\n"
     ]
    },
    {
     "name": "stderr",
     "output_type": "stream",
     "text": [
      "                                             \r"
     ]
    },
    {
     "name": "stdout",
     "output_type": "stream",
     "text": [
      "0.989\n",
      "Testing with dropout at 40.0%\n"
     ]
    },
    {
     "name": "stderr",
     "output_type": "stream",
     "text": [
      "                                             \r"
     ]
    },
    {
     "name": "stdout",
     "output_type": "stream",
     "text": [
      "0.981\n",
      "Testing with dropout at 50.0%\n"
     ]
    },
    {
     "name": "stderr",
     "output_type": "stream",
     "text": [
      "                                             \r"
     ]
    },
    {
     "name": "stdout",
     "output_type": "stream",
     "text": [
      "0.948\n",
      "Testing with dropout at 60.00000000000001%\n"
     ]
    },
    {
     "name": "stderr",
     "output_type": "stream",
     "text": [
      "                                             \r"
     ]
    },
    {
     "name": "stdout",
     "output_type": "stream",
     "text": [
      "0.932\n",
      "Testing with dropout at 70.0%\n"
     ]
    },
    {
     "name": "stderr",
     "output_type": "stream",
     "text": [
      "                                             \r"
     ]
    },
    {
     "name": "stdout",
     "output_type": "stream",
     "text": [
      "0.838\n",
      "Testing with dropout at 80.0%\n"
     ]
    },
    {
     "name": "stderr",
     "output_type": "stream",
     "text": [
      "                                             \r"
     ]
    },
    {
     "name": "stdout",
     "output_type": "stream",
     "text": [
      "0.711\n",
      "Testing with dropout at 90.0%\n"
     ]
    },
    {
     "name": "stderr",
     "output_type": "stream",
     "text": [
      "                                             \r"
     ]
    },
    {
     "name": "stdout",
     "output_type": "stream",
     "text": [
      "0.558\n",
      "Testing with dropout at 100.0%\n"
     ]
    },
    {
     "name": "stderr",
     "output_type": "stream",
     "text": [
      "                                             "
     ]
    },
    {
     "name": "stdout",
     "output_type": "stream",
     "text": [
      "0.23\n"
     ]
    },
    {
     "name": "stderr",
     "output_type": "stream",
     "text": [
      "\r"
     ]
    }
   ],
   "source": [
    "from torch.utils.data import DataLoader\n",
    "from masking_tokenizing_dataset import MaskingTokenizingDataset\n",
    "\n",
    "val_tokenizing_dataset = MaskingTokenizingDataset(\n",
    "    dm.val_dataset,\n",
    "    document_tokenizer=dm.document_tokenizer,\n",
    "    profile_tokenizer=dm.profile_tokenizer,\n",
    "    max_seq_length=dm.max_seq_length,\n",
    "    word_dropout_ratio=0.0,\n",
    "    word_dropout_perc=0.0,\n",
    "    profile_row_dropout_perc=0.0,\n",
    "    sample_spans=False,\n",
    "    document_types=[\"document\"],\n",
    "    is_train_dataset=True\n",
    ")\n",
    "\n",
    "import tqdm\n",
    "\n",
    "accs = {}\n",
    "\n",
    "for dropout_amount in np.arange(0.0, 1.0+.1, 0.1): # [0. , 0.1, 0.2, 0.3, 0.4, 0.5, 0.6, 0.7, 0.8, 0.9]\n",
    "    num_correct = 0\n",
    "    num_total = 0\n",
    "    print(f'Testing with dropout at {dropout_amount*100}%')\n",
    "    val_tokenizing_dataset.masking_span_sampler.word_dropout_perc = dropout_amount\n",
    "    val_tokenizing_dataset.masking_span_sampler.word_dropout_ratio = 1.0\n",
    "    dropout_dataloader = DataLoader(\n",
    "        [val_tokenizing_dataset[i] for i in range(1000)],\n",
    "        batch_size=128,\n",
    "        num_workers=min(dm.num_workers, 8),\n",
    "        shuffle=False\n",
    "    )\n",
    "    for batch in tqdm.tqdm(dropout_dataloader, leave=False):\n",
    "        with torch.no_grad():\n",
    "            val_emb = model.forward_document(batch=batch, document_type='document')\n",
    "        pred_idxs = (val_emb @ model.val_profile_embeddings.T).argmax(dim=1)\n",
    "        true_idxs = batch['text_key_id'].cuda()\n",
    "        num_correct += (pred_idxs == true_idxs).sum().item()\n",
    "        num_total += len(true_idxs)\n",
    "\n",
    "    acc = num_correct / num_total\n",
    "    print(acc)\n",
    "    accs[dropout_amount] = acc"
   ]
  },
  {
   "cell_type": "code",
   "execution_count": 70,
   "id": "e0eb24be-6824-4156-aa13-10823192bb30",
   "metadata": {},
   "outputs": [
    {
     "data": {
      "text/html": [
       "<div>\n",
       "<style scoped>\n",
       "    .dataframe tbody tr th:only-of-type {\n",
       "        vertical-align: middle;\n",
       "    }\n",
       "\n",
       "    .dataframe tbody tr th {\n",
       "        vertical-align: top;\n",
       "    }\n",
       "\n",
       "    .dataframe thead th {\n",
       "        text-align: right;\n",
       "    }\n",
       "</style>\n",
       "<table border=\"1\" class=\"dataframe\">\n",
       "  <thead>\n",
       "    <tr style=\"text-align: right;\">\n",
       "      <th></th>\n",
       "      <th>accuracy</th>\n",
       "    </tr>\n",
       "  </thead>\n",
       "  <tbody>\n",
       "    <tr>\n",
       "      <th>0.0</th>\n",
       "      <td>0.998</td>\n",
       "    </tr>\n",
       "    <tr>\n",
       "      <th>0.1</th>\n",
       "      <td>0.998</td>\n",
       "    </tr>\n",
       "    <tr>\n",
       "      <th>0.2</th>\n",
       "      <td>0.993</td>\n",
       "    </tr>\n",
       "    <tr>\n",
       "      <th>0.3</th>\n",
       "      <td>0.989</td>\n",
       "    </tr>\n",
       "    <tr>\n",
       "      <th>0.4</th>\n",
       "      <td>0.981</td>\n",
       "    </tr>\n",
       "  </tbody>\n",
       "</table>\n",
       "</div>"
      ],
      "text/plain": [
       "     accuracy\n",
       "0.0     0.998\n",
       "0.1     0.998\n",
       "0.2     0.993\n",
       "0.3     0.989\n",
       "0.4     0.981"
      ]
     },
     "execution_count": 70,
     "metadata": {},
     "output_type": "execute_result"
    }
   ],
   "source": [
    "import pandas as pd\n",
    "df = pd.DataFrame.from_dict(accs, orient='index', columns=['accuracy'])\n",
    "df.head()"
   ]
  },
  {
   "cell_type": "code",
   "execution_count": 71,
   "id": "491bfc7f-bd2d-46be-9566-3699b5851a2b",
   "metadata": {},
   "outputs": [
    {
     "data": {
      "text/plain": [
       "<AxesSubplot:>"
      ]
     },
     "execution_count": 71,
     "metadata": {},
     "output_type": "execute_result"
    },
    {
     "data": {
      "image/png": "[encoded data removed]",
      "text/plain": [
       "<Figure size 432x288 with 1 Axes>"
      ]
     },
     "metadata": {},
     "output_type": "display_data"
    }
   ],
   "source": [
    "import seaborn as sns\n",
    "sns.set()\n",
    "\n",
    "sns.lineplot(data=df)"
   ]
  },
  {
   "cell_type": "markdown",
   "id": "ddd31899-1a65-46cd-8302-7e308cb37b61",
   "metadata": {},
   "source": [
    "### What does 100% masking even look like?!"
   ]
  },
  {
   "cell_type": "code",
   "execution_count": 68,
   "id": "d6aca254-a1d8-4330-86ce-d4337722d3aa",
   "metadata": {},
   "outputs": [
    {
     "name": "stdout",
     "output_type": "stream",
     "text": [
      "1.0\n"
     ]
    },
    {
     "data": {
      "text/plain": [
       "'<mask> <mask> is a <mask> <mask> <mask> <mask> <mask> , who was a <mask> of <mask> <mask> from <mask> to <mask> .\\nshe was a <mask> <mask> on <mask> <mask>-<mask> <mask> <mask> for the <mask> <mask> from <mask> to <mask> .\\nshe was an <mask> <mask> at the <mask> , <mask> and <mask> <mask> <mask> for the <mask> <mask> <mask> and was <mask> <mask> at the <mask> <mask> for the <mask> <mask> in <mask> .\\nshe was <mask> by the <mask> , <mask> <mask> to <mask> <mask> on <mask> <mask> <mask> .\\n<mask> was the <mask> <mask> <mask> <mask> for <mask> , <mask> <mask> , <mask> and <mask> .\\nshe was a <mask> of the <mask> of the <mask> <mask> <mask> for <mask> , <mask> <mask> for the <mask> <mask> for the <mask> of the <mask> .\\nshe is a <mask> of the <mask> <mask> of <mask> , <mask> <mask> <mask> , the <mask> <mask> <mask> for <mask> (<mask>) and the <mask> <mask> and <mask> <mask> .\\n'"
      ]
     },
     "execution_count": 68,
     "metadata": {},
     "output_type": "execute_result"
    }
   ],
   "source": [
    "import random\n",
    "\n",
    "print(val_tokenizing_dataset.masking_span_sampler.word_dropout_perc)\n",
    "\n",
    "random_el = random.choice(dm.val_dataset)\n",
    "random_document = random_el['document']\n",
    "random_idx = random_el['text_key_id']\n",
    "\n",
    "val_tokenizing_dataset.masking_span_sampler.random_redact_str(\n",
    "    text=random_document\n",
    ")"
   ]
  },
  {
   "cell_type": "markdown",
   "id": "f72ef699-aa77-4820-afd5-2c7c73532b75",
   "metadata": {},
   "source": [
    "### OK no way model can get this right right?? How is that 23%? Something must be wrong??!"
   ]
  },
  {
   "cell_type": "code",
   "execution_count": 73,
   "id": "08edc66e-56cf-4efc-b844-aa6cdf1c162d",
   "metadata": {},
   "outputs": [
    {
     "name": "stdout",
     "output_type": "stream",
     "text": [
      "Testing with dropout at 100.0%\n"
     ]
    },
    {
     "name": "stderr",
     "output_type": "stream",
     "text": [
      "                                             \r"
     ]
    }
   ],
   "source": [
    "num_correct = 0\n",
    "num_total = 0\n",
    "print(f'Testing with dropout at {dropout_amount*100}%')\n",
    "val_tokenizing_dataset.masking_span_sampler.word_dropout_perc = 1.0\n",
    "val_tokenizing_dataset.masking_span_sampler.word_dropout_ratio = 1.0\n",
    "dropout_dataloader = DataLoader(\n",
    "    [val_tokenizing_dataset[i] for i in range(128)],\n",
    "    batch_size=128,\n",
    "    num_workers=min(dm.num_workers, 8),\n",
    "    shuffle=False\n",
    ")\n",
    "for batch in tqdm.tqdm(dropout_dataloader, leave=False):\n",
    "    with torch.no_grad():\n",
    "        val_emb = model.forward_document(batch=batch, document_type='document')\n",
    "    pred_idxs = (val_emb @ model.val_profile_embeddings.T).argmax(dim=1)\n",
    "    true_idxs = batch['text_key_id'].cuda()\n",
    "    num_correct += (pred_idxs == true_idxs).sum().item()\n",
    "    num_total += len(true_idxs)\n",
    "\n",
    "acc = num_correct / num_total"
   ]
  },
  {
   "cell_type": "code",
   "execution_count": 74,
   "id": "b17cf586-aa79-47f8-bcf8-95848226d56a",
   "metadata": {},
   "outputs": [
    {
     "data": {
      "text/plain": [
       "0.25"
      ]
     },
     "execution_count": 74,
     "metadata": {},
     "output_type": "execute_result"
    }
   ],
   "source": [
    "acc"
   ]
  },
  {
   "cell_type": "code",
   "execution_count": 78,
   "id": "1adde2b3-a450-49f0-91ef-ac5639ad2c95",
   "metadata": {},
   "outputs": [
    {
     "data": {
      "text/plain": [
       "tensor([  6,   9,  17,  21,  24,  26,  31,  33,  38,  39,  48,  52,  54,  55,\n",
       "         59,  61,  66,  69,  71,  75,  84,  91,  93,  98,  99, 102, 114, 115,\n",
       "        116, 118, 119, 127])"
      ]
     },
     "execution_count": 78,
     "metadata": {},
     "output_type": "execute_result"
    }
   ],
   "source": [
    "batch['text_key_id'][true_idxs == pred_idxs]"
   ]
  },
  {
   "cell_type": "code",
   "execution_count": 84,
   "id": "210d384c-ea2d-4a49-8339-4837579523c8",
   "metadata": {},
   "outputs": [],
   "source": [
    "i = 6\n",
    "doc = val_tokenizing_dataset.dataset[i]['document']\n",
    "redacted_doc = val_tokenizing_dataset.masking_span_sampler.random_redact_str(text=doc)"
   ]
  },
  {
   "cell_type": "code",
   "execution_count": 85,
   "id": "aa9d5768-5472-41c3-b3ba-d190e8eff362",
   "metadata": {},
   "outputs": [
    {
     "data": {
      "text/plain": [
       "\"<mask> <mask> <mask> (<mask> <mask> <mask> , <mask>) , <mask> `` the <mask> <mask> '' , is an <mask> <mask> <mask> <mask> <mask> with the <mask> <mask> <mask> of <mask> <mask> <mask> (<mask>) .\\nhe <mask> and <mask> <mask>-<mask> .\\n<mask> was <mask> by the <mask> <mask> <mask> <mask> in the <mask> <mask> (<mask> <mask>) of the <mask> <mask> <mask> <mask> <mask> .\\nhe <mask> his <mask> <mask> <mask> in <mask> .\\n<mask> has more <mask> (<mask>) than any other <mask> <mask> <mask> .\\n\""
      ]
     },
     "execution_count": 85,
     "metadata": {},
     "output_type": "execute_result"
    }
   ],
   "source": [
    "redacted_doc"
   ]
  },
  {
   "cell_type": "code",
   "execution_count": 87,
   "id": "dd1e110a-3b75-4dc9-a9f5-a49d2bf0d3a5",
   "metadata": {},
   "outputs": [],
   "source": [
    "tokenized_redacted_doc = val_tokenizing_dataset.document_tokenizer.encode_plus(\n",
    "    redacted_doc,\n",
    "    max_length=val_tokenizing_dataset.max_seq_length,\n",
    "    padding='max_length',\n",
    "    truncation=True,\n",
    "    return_tensors='pt',\n",
    ")"
   ]
  },
  {
   "cell_type": "code",
   "execution_count": 91,
   "id": "7e472351-5380-4538-b341-51c35d0f9ce3",
   "metadata": {},
   "outputs": [],
   "source": [
    "with torch.no_grad():\n",
    "    val_emb = model.forward_document_inputs(tokenized_redacted_doc)\n",
    "    pred_idxs = (val_emb @ model.val_profile_embeddings.T).argmax(dim=1)"
   ]
  },
  {
   "cell_type": "code",
   "execution_count": 92,
   "id": "a4b0b592-4f6c-44ad-93a3-14c38339065f",
   "metadata": {},
   "outputs": [
    {
     "data": {
      "text/plain": [
       "tensor([6], device='cuda:0')"
      ]
     },
     "execution_count": 92,
     "metadata": {},
     "output_type": "execute_result"
    }
   ],
   "source": [
    "pred_idxs"
   ]
  },
  {
   "cell_type": "code",
   "execution_count": 94,
   "id": "1a42ccd3-0c23-4ff9-bd36-8d2ba8ef11d6",
   "metadata": {},
   "outputs": [
    {
     "data": {
      "text/plain": [
       "torch.Size([14566, 768])"
      ]
     },
     "execution_count": 94,
     "metadata": {},
     "output_type": "execute_result"
    }
   ],
   "source": [
    "model.val_profile_embeddings.shape"
   ]
  },
  {
   "cell_type": "code",
   "execution_count": 97,
   "id": "2e52b224-7b06-423b-a454-0ab44d96d04f",
   "metadata": {},
   "outputs": [
    {
     "data": {
      "text/plain": [
       "tensor(12.4562, device='cuda:0')"
      ]
     },
     "execution_count": 97,
     "metadata": {},
     "output_type": "execute_result"
    }
   ],
   "source": [
    "(val_emb @ model.val_profile_embeddings.T).max()"
   ]
  },
  {
   "cell_type": "code",
   "execution_count": 99,
   "id": "86766139-d5ad-4680-ada5-3365bbb127d7",
   "metadata": {},
   "outputs": [
    {
     "data": {
      "text/plain": [
       "tensor(12.4562, device='cuda:0')"
      ]
     },
     "execution_count": 99,
     "metadata": {},
     "output_type": "execute_result"
    }
   ],
   "source": [
    "(val_emb @ model.val_profile_embeddings.T)[0, 6]"
   ]
  },
  {
   "cell_type": "code",
   "execution_count": 103,
   "id": "310d0084-8f9c-46b5-af6a-649cdbc42a63",
   "metadata": {},
   "outputs": [
    {
     "data": {
      "text/plain": [
       "[6, 2706, 8580, 11514, 6999, 13843, 14514, 4986, 2057, 13247]"
      ]
     },
     "execution_count": 103,
     "metadata": {},
     "output_type": "execute_result"
    }
   ],
   "source": [
    "(-(val_emb @ model.val_profile_embeddings.T)).argsort()[0, :10].tolist()"
   ]
  },
  {
   "cell_type": "code",
   "execution_count": 104,
   "id": "c4ae91d7-6ba3-4290-8153-49d06274978d",
   "metadata": {},
   "outputs": [
    {
     "data": {
      "text/plain": [
       "tensor(12.3210, device='cuda:0')"
      ]
     },
     "execution_count": 104,
     "metadata": {},
     "output_type": "execute_result"
    }
   ],
   "source": [
    "(val_emb @ model.val_profile_embeddings.T)[0, 2706]"
   ]
  },
  {
   "cell_type": "code",
   "execution_count": 106,
   "id": "da5b254e-fc31-4a98-a5c7-c1e3972ff9e8",
   "metadata": {},
   "outputs": [
    {
     "data": {
      "text/plain": [
       "6.72"
      ]
     },
     "execution_count": 106,
     "metadata": {},
     "output_type": "execute_result"
    }
   ],
   "source": [
    "pd.read_csv('../adv_csvs/train/model_5/results_1_50.csv')['perturbed_text'].apply(lambda s: s.count('<mask>')).mean()"
   ]
  },
  {
   "cell_type": "markdown",
   "id": "f9267b05-9e90-417a-a530-7fcebb0bb500",
   "metadata": {},
   "source": [
    "#### confirming model accuracy is 0 on adv-masked examples"
   ]
  },
  {
   "cell_type": "code",
   "execution_count": 122,
   "id": "ceb09a45-b02e-4f0c-887f-6e1ff8b0bd07",
   "metadata": {},
   "outputs": [],
   "source": [
    "pt = pd.read_csv('../adv_csvs/model_5/results_1_100.csv')['perturbed_text'].map(lambda s: s.replace('<SPLIT>', '\\n'))"
   ]
  },
  {
   "cell_type": "code",
   "execution_count": 123,
   "id": "abb731dc-e8a4-4897-a6e1-378ab0caa8b3",
   "metadata": {},
   "outputs": [
    {
     "data": {
      "text/plain": [
       "0     pope <mask> iii <mask> alexandria (also known ...\n",
       "1     <mask> <mask> is a male former <mask> tennis p...\n",
       "2     <mask> <mask> (born 30 november <mask>) is a <...\n",
       "3     <mask> <mask> , (born march 14 , <mask>) is a ...\n",
       "4     <mask> <mask>. <mask> is a former democratic m...\n",
       "                            ...                        \n",
       "95    <mask> `` <mask> '' maria giuseppe carlo ignaz...\n",
       "96    <mask> j. donnelly (<mask> <mask> , <mask> -- ...\n",
       "97    <mask> <mask> (born <mask> 15 , <mask> in regi...\n",
       "98    <mask> <mask>. <mask> (january <mask> , <mask>...\n",
       "99    <mask> ` <mask> ' <mask> (born 21 <mask> <mask...\n",
       "Name: perturbed_text, Length: 100, dtype: object"
      ]
     },
     "execution_count": 123,
     "metadata": {},
     "output_type": "execute_result"
    }
   ],
   "source": [
    "pt"
   ]
  },
  {
   "cell_type": "code",
   "execution_count": 111,
   "id": "695e241a-9da6-4e1e-84fe-06aac86671e6",
   "metadata": {},
   "outputs": [],
   "source": [
    "def get_model_predicted_idx(s: str) -> int:\n",
    "    tokenized_doc = val_tokenizing_dataset.document_tokenizer.encode_plus(\n",
    "        s,\n",
    "        max_length=val_tokenizing_dataset.max_seq_length,\n",
    "        padding='max_length',\n",
    "        truncation=True,\n",
    "        return_tensors='pt',\n",
    "    )\n",
    "    with torch.no_grad():\n",
    "        val_emb = model.forward_document_inputs(tokenized_doc)\n",
    "        pred_idxs = (val_emb @ model.val_profile_embeddings.T).argmax(dim=1)\n",
    "    return pred_idxs.item()"
   ]
  },
  {
   "cell_type": "code",
   "execution_count": 115,
   "id": "998fe566-cad6-4e91-a25a-328ca32f2ca8",
   "metadata": {},
   "outputs": [
    {
     "data": {
      "text/plain": [
       "300"
      ]
     },
     "execution_count": 115,
     "metadata": {},
     "output_type": "execute_result"
    }
   ],
   "source": [
    "get_model_predicted_idx(val_tokenizing_dataset.dataset[300]['document'])"
   ]
  },
  {
   "cell_type": "code",
   "execution_count": 124,
   "id": "18b2ec63-8f96-4f34-b7d8-03861afd7a37",
   "metadata": {},
   "outputs": [
    {
     "data": {
      "text/plain": [
       "0      6582\n",
       "1     10388\n",
       "2      8151\n",
       "3      4726\n",
       "4      3564\n",
       "      ...  \n",
       "95       95\n",
       "96       96\n",
       "97       97\n",
       "98     9510\n",
       "99       99\n",
       "Name: perturbed_text, Length: 100, dtype: int64"
      ]
     },
     "execution_count": 124,
     "metadata": {},
     "output_type": "execute_result"
    }
   ],
   "source": [
    "pt_idxs = pt.map(get_model_predicted_idx)\n",
    "pt_idxs"
   ]
  },
  {
   "cell_type": "code",
   "execution_count": 125,
   "id": "5686d369-0bfa-46e7-af47-afe83cc40259",
   "metadata": {},
   "outputs": [
    {
     "data": {
      "text/plain": [
       "56"
      ]
     },
     "execution_count": 125,
     "metadata": {},
     "output_type": "execute_result"
    }
   ],
   "source": [
    "(pt_idxs == pt_idxs.index).sum()"
   ]
  },
  {
   "cell_type": "code",
   "execution_count": 126,
   "id": "f8ba7652-e054-4b29-9b2a-9a912adbcf78",
   "metadata": {},
   "outputs": [
    {
     "data": {
      "text/plain": [
       "'pope <mask> iii <mask> alexandria (also known as khail iii) was <mask> <mask> pope of <mask> <mask> patriarch of <mask> see of st. mark (880 -- <mask>) .\\nin 882 , the governor of egypt , ahmad ibn tulun , forced khail to pay heavy contributions , forcing him to sell a church and some attached properties to the local jewish community .\\nthis building was at one time believed to have later become the site of the cairo geniza .\\n'"
      ]
     },
     "execution_count": 126,
     "metadata": {},
     "output_type": "execute_result"
    }
   ],
   "source": [
    "pt[0]"
   ]
  },
  {
   "cell_type": "code",
   "execution_count": 130,
   "id": "5ea768d9-4181-4024-b898-f12c8f9f5832",
   "metadata": {},
   "outputs": [
    {
     "data": {
      "text/plain": [
       "'Halil Hayreddin'"
      ]
     },
     "execution_count": 130,
     "metadata": {},
     "output_type": "execute_result"
    }
   ],
   "source": [
    "val_tokenizing_dataset.dataset[6582]['name']"
   ]
  },
  {
   "cell_type": "code",
   "execution_count": 131,
   "id": "22d79100-905a-4e4b-b9ea-6a875c8c851d",
   "metadata": {},
   "outputs": [
    {
     "data": {
      "text/plain": [
       "'pope michael iii of alexandria (also known as khail iii) was the coptic pope of alexandria and patriarch of the see of st. mark (880 -- 907) .\\nin 882 , the governor of egypt , ahmad ibn tulun , forced khail to pay heavy contributions , forcing him to sell a church and some attached properties to the local jewish community .\\nthis building was at one time believed to have later become the site of the cairo geniza .\\n'"
      ]
     },
     "execution_count": 131,
     "metadata": {},
     "output_type": "execute_result"
    }
   ],
   "source": [
    "val_tokenizing_dataset.dataset[0]['document']"
   ]
  },
  {
   "cell_type": "code",
   "execution_count": 132,
   "id": "1776a304-291b-4012-b7ac-21bad56a0126",
   "metadata": {},
   "outputs": [
    {
     "data": {
      "text/plain": [
       "6582"
      ]
     },
     "execution_count": 132,
     "metadata": {},
     "output_type": "execute_result"
    }
   ],
   "source": [
    "get_model_predicted_idx('pope <mask> iii <mask> alexandria (also known as khail iii) was <mask> <mask> pope of <mask> <mask> patriarch of <mask> see of st. mark (880 -- <mask>) .\\nin 882 , the governor of egypt , ahmad ibn tulun , forced khail to pay heavy contributions , forcing him to sell a church and some attached properties to the local jewish community .\\nthis building was at one time believed to have later become the site of the cairo geniza .\\n')"
   ]
  },
  {
   "cell_type": "code",
   "execution_count": 133,
   "id": "ca0c7da5-8b84-4c44-b86a-1a5444fcfb57",
   "metadata": {},
   "outputs": [
    {
     "data": {
      "text/plain": [
       "0"
      ]
     },
     "execution_count": 133,
     "metadata": {},
     "output_type": "execute_result"
    }
   ],
   "source": [
    "get_model_predicted_idx('pope michael iii of alexandria (also known as khail iii) was the coptic pope of alexandria and patriarch of the see of st. mark (880 -- 907) .\\nin 882 , the governor of egypt , ahmad ibn tulun , forced khail to pay heavy contributions , forcing him to sell a church and some attached properties to the local jewish community .\\nthis building was at one time believed to have later become the site of the cairo geniza .\\n')"
   ]
  },
  {
   "cell_type": "code",
   "execution_count": 138,
   "id": "f2d28922-106c-429f-b8f8-0f164b988973",
   "metadata": {},
   "outputs": [
    {
     "data": {
      "text/plain": [
       "12746"
      ]
     },
     "execution_count": 138,
     "metadata": {},
     "output_type": "execute_result"
    }
   ],
   "source": [
    "get_model_predicted_idx('pope <mask> <mask> of alexandria')"
   ]
  },
  {
   "cell_type": "code",
   "execution_count": 139,
   "id": "d32cd760-7526-409f-9536-9b720a7c3394",
   "metadata": {},
   "outputs": [
    {
     "data": {
      "text/plain": [
       "'Boniface V'"
      ]
     },
     "execution_count": 139,
     "metadata": {},
     "output_type": "execute_result"
    }
   ],
   "source": [
    "val_tokenizing_dataset.dataset[12746]['name']"
   ]
  },
  {
   "cell_type": "code",
   "execution_count": null,
   "id": "250dccdb-c411-4701-87d8-61b6507b6f3b",
   "metadata": {},
   "outputs": [],
   "source": []
  }
 ],
 "metadata": {
  "kernelspec": {
   "display_name": "Python 3",
   "language": "python",
   "name": "python3"
  },
  "language_info": {
   "codemirror_mode": {
    "name": "ipython",
    "version": 3
   },
   "file_extension": ".py",
   "mimetype": "text/x-python",
   "name": "python",
   "nbconvert_exporter": "python",
   "pygments_lexer": "ipython3",
   "version": "3.9.7"
  }
 },
 "nbformat": 4,
 "nbformat_minor": 5
}
