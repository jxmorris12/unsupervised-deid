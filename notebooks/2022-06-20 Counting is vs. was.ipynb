{
 "cells": [
  {
   "cell_type": "code",
   "execution_count": 1,
   "id": "b7c8cf6e-a340-4314-a3d2-9b78d9a18cf8",
   "metadata": {},
   "outputs": [
    {
     "name": "stderr",
     "output_type": "stream",
     "text": [
      "Using custom data configuration default\n",
      "Reusing dataset wiki_bio (/home/jxm3/.cache/huggingface/datasets/wiki_bio/default/1.2.0/c05ce066e9026831cd7535968a311fc80f074b58868cfdffccbc811dff2ab6da)\n"
     ]
    }
   ],
   "source": [
    "import datasets\n",
    "test_dataset = datasets.load_dataset('wiki_bio', split='test')"
   ]
  },
  {
   "cell_type": "code",
   "execution_count": 58,
   "id": "b0274265-7698-4478-a541-d91118b231d7",
   "metadata": {},
   "outputs": [],
   "source": [
    "def is_or_was(doc: str) ->  int:\n",
    "    words = doc.split(' ')\n",
    "    if (('is' in words) or ('are' in words)) and (('was' in words) or ('were' in words)):\n",
    "        is_idx = words.index('is') if 'is' in words else words.index('are')\n",
    "        was_idx = words.index('was') if 'was' in words else words.index('were')\n",
    "        return 'is' if (is_idx < was_idx) else 'was'\n",
    "    elif ('is' in words)  or ('are' in words):\n",
    "        return 'is'\n",
    "    elif ('was' in words) or ('were' in words):\n",
    "        return 'was'\n",
    "    else:\n",
    "        # print(doc)\n",
    "        return 'none'\n",
    "\n",
    "def set_is_or_was_str(ex):\n",
    "    ex['is_or_was_str'] = is_or_was(ex['target_text'])\n",
    "    return ex"
   ]
  },
  {
   "cell_type": "code",
   "execution_count": 59,
   "id": "c59c235b-3173-4ecf-8a01-6b86569ecc02",
   "metadata": {},
   "outputs": [
    {
     "data": {
      "application/vnd.jupyter.widget-view+json": {
       "model_id": "8a55713af9a945089b3bf2f34a79614b",
       "version_major": 2,
       "version_minor": 0
      },
      "text/plain": [
       "  0%|          | 0/72831 [00:00<?, ?ex/s]"
      ]
     },
     "metadata": {},
     "output_type": "display_data"
    }
   ],
   "source": [
    "test_dataset_3 = test_dataset.map(set_is_or_was_str)"
   ]
  },
  {
   "cell_type": "code",
   "execution_count": 60,
   "id": "c98ffa70-8547-4a08-a2d4-021396227008",
   "metadata": {},
   "outputs": [
    {
     "data": {
      "text/plain": [
       "is      47380\n",
       "was     25106\n",
       "none      345\n",
       "dtype: int64"
      ]
     },
     "execution_count": 60,
     "metadata": {},
     "output_type": "execute_result"
    }
   ],
   "source": [
    "import pandas as pd\n",
    "pd.Series(test_dataset_3['is_or_was_str']).value_counts()"
   ]
  },
  {
   "cell_type": "code",
   "execution_count": 62,
   "id": "d822e872-9c47-4551-bef0-7cfd58cf3c0f",
   "metadata": {},
   "outputs": [
    {
     "data": {
      "text/plain": [
       "34.47158490203348"
      ]
     },
     "execution_count": 62,
     "metadata": {},
     "output_type": "execute_result"
    }
   ],
   "source": [
    "25106 / len(test_dataset_2) * 100"
   ]
  },
  {
   "cell_type": "code",
   "execution_count": 37,
   "id": "3bdb8322-d9ac-40da-862e-d8f01fdbe263",
   "metadata": {},
   "outputs": [
    {
     "data": {
      "text/plain": [
       "0.1537806703189576"
      ]
     },
     "execution_count": 37,
     "metadata": {},
     "output_type": "execute_result"
    }
   ],
   "source": [
    "112 / len(test_dataset_2) * 100"
   ]
  },
  {
   "cell_type": "code",
   "execution_count": 61,
   "id": "d98a792c-2677-4c6f-9d7e-9bf90383830a",
   "metadata": {},
   "outputs": [
    {
     "data": {
      "text/plain": [
       "65.05471571171616"
      ]
     },
     "execution_count": 61,
     "metadata": {},
     "output_type": "execute_result"
    }
   ],
   "source": [
    "47380 / len(test_dataset_2) * 100"
   ]
  },
  {
   "cell_type": "code",
   "execution_count": 73,
   "id": "58cdfa93-330b-46e3-8c56-acaeba8ceb61",
   "metadata": {},
   "outputs": [],
   "source": [
    "is_counts = pd.Series(map(lambda s: s.split(' ').count('is'), test_dataset['target_text']))\n",
    "was_counts = pd.Series(map(lambda s: s.split(' ').count('was'), test_dataset['target_text']))"
   ]
  },
  {
   "cell_type": "code",
   "execution_count": 75,
   "id": "4b650eff-f6a7-42f6-a9ce-c1d8874e6e73",
   "metadata": {},
   "outputs": [
    {
     "data": {
      "text/plain": [
       "0.7073498922162266"
      ]
     },
     "execution_count": 75,
     "metadata": {},
     "output_type": "execute_result"
    }
   ],
   "source": [
    "(is_counts > 0).mean()"
   ]
  },
  {
   "cell_type": "code",
   "execution_count": 76,
   "id": "9bb3fa08-1d01-4475-ab93-d739223d3a81",
   "metadata": {},
   "outputs": [
    {
     "data": {
      "text/plain": [
       "77952"
      ]
     },
     "execution_count": 76,
     "metadata": {},
     "output_type": "execute_result"
    }
   ],
   "source": [
    "is_counts.sum()"
   ]
  },
  {
   "cell_type": "code",
   "execution_count": 74,
   "id": "d40d09de-b849-4fe8-9e09-2339939dcf28",
   "metadata": {},
   "outputs": [
    {
     "data": {
      "text/plain": [
       "0.5746316815641691"
      ]
     },
     "execution_count": 74,
     "metadata": {},
     "output_type": "execute_result"
    }
   ],
   "source": [
    "(was_counts > 0).mean()"
   ]
  },
  {
   "cell_type": "code",
   "execution_count": 77,
   "id": "ddbbffec-0821-4017-8f7a-02f5a4334e2e",
   "metadata": {},
   "outputs": [
    {
     "data": {
      "text/plain": [
       "100907"
      ]
     },
     "execution_count": 77,
     "metadata": {},
     "output_type": "execute_result"
    }
   ],
   "source": [
    "was_counts.sum()"
   ]
  },
  {
   "cell_type": "code",
   "execution_count": null,
   "id": "d9ee5381-15a8-4edf-9766-d8643c438b56",
   "metadata": {},
   "outputs": [],
   "source": [
    "# This is a counter-intuitive property: 'is' is present in more documents but written total times.\n",
    "# 'Was' is present in fewer documents but written more times.\n",
    "# I think this indicates that dead people have longer documents. I guess that makes sense."
   ]
  }
 ],
 "metadata": {
  "kernelspec": {
   "display_name": "Python 3",
   "language": "python",
   "name": "python3"
  },
  "language_info": {
   "codemirror_mode": {
    "name": "ipython",
    "version": 3
   },
   "file_extension": ".py",
   "mimetype": "text/x-python",
   "name": "python",
   "nbconvert_exporter": "python",
   "pygments_lexer": "ipython3",
   "version": "3.9.7"
  }
 },
 "nbformat": 4,
 "nbformat_minor": 5
}
