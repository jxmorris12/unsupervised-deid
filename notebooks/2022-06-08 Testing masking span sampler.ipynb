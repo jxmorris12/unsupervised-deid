{
 "cells": [
  {
   "cell_type": "markdown",
   "id": "ac54b2f2-5751-4119-830a-d95167f30f16",
   "metadata": {},
   "source": [
    "### Testing masking span sampler\n",
    "\n",
    "How do temperature values affect the output of our masking span sampler, with IDF-weighting enabled?"
   ]
  },
  {
   "cell_type": "code",
   "execution_count": 1,
   "id": "7adadbfd-90b1-4f4a-95a6-66f407bb8b85",
   "metadata": {},
   "outputs": [],
   "source": [
    "import sys\n",
    "sys.path.append('/home/jxm3/research/deidentification/unsupervised-deidentification')"
   ]
  },
  {
   "cell_type": "code",
   "execution_count": 2,
   "id": "d481cc65-c552-4793-9aa0-24c4e7ab2ea2",
   "metadata": {},
   "outputs": [
    {
     "name": "stdout",
     "output_type": "stream",
     "text": [
      "Warning: set num_workers to 1, expect dataloader bottleneck\n",
      "Initializing WikipediaDataModule with num_workers = 1 and mask token `<mask>`\n",
      "loading wiki_bio[1.2.0] split train[:1024]\n"
     ]
    },
    {
     "name": "stderr",
     "output_type": "stream",
     "text": [
      "Using custom data configuration default\n",
      "Reusing dataset wiki_bio (/home/jxm3/.cache/huggingface/datasets/wiki_bio/default/1.2.0/c05ce066e9026831cd7535968a311fc80f074b58868cfdffccbc811dff2ab6da)\n"
     ]
    },
    {
     "name": "stdout",
     "output_type": "stream",
     "text": [
      "loading wiki_bio[1.2.0] split val[:20%]\n"
     ]
    },
    {
     "name": "stderr",
     "output_type": "stream",
     "text": [
      "Using custom data configuration default\n",
      "Reusing dataset wiki_bio (/home/jxm3/.cache/huggingface/datasets/wiki_bio/default/1.2.0/c05ce066e9026831cd7535968a311fc80f074b58868cfdffccbc811dff2ab6da)\n",
      "Loading cached processed dataset at /home/jxm3/.cache/huggingface/datasets/wiki_bio/default/1.2.0/c05ce066e9026831cd7535968a311fc80f074b58868cfdffccbc811dff2ab6da/cache-793b771e10f80bbe.arrow\n",
      "Loading cached processed dataset at /home/jxm3/.cache/huggingface/datasets/wiki_bio/default/1.2.0/c05ce066e9026831cd7535968a311fc80f074b58868cfdffccbc811dff2ab6da/cache-7d07543b6205ca87.arrow\n",
      "Loading cached processed dataset at /home/jxm3/.cache/huggingface/datasets/wiki_bio/default/1.2.0/c05ce066e9026831cd7535968a311fc80f074b58868cfdffccbc811dff2ab6da/cache-912d45fbf560a15e.arrow\n",
      "Loading cached processed dataset at /home/jxm3/.cache/huggingface/datasets/wiki_bio/default/1.2.0/c05ce066e9026831cd7535968a311fc80f074b58868cfdffccbc811dff2ab6da/cache-4731c171b2d92df3.arrow\n",
      "Loading cached processed dataset at /home/jxm3/.cache/huggingface/datasets/wiki_bio/default/1.2.0/c05ce066e9026831cd7535968a311fc80f074b58868cfdffccbc811dff2ab6da/cache-2701d0e4e21f22e6.arrow\n",
      "Loading cached processed dataset at /home/jxm3/.cache/huggingface/datasets/wiki_bio/default/1.2.0/c05ce066e9026831cd7535968a311fc80f074b58868cfdffccbc811dff2ab6da/cache-b90a99f65b9e7728.arrow\n",
      "Loading cached processed dataset at /home/jxm3/.cache/huggingface/datasets/wiki_bio/default/1.2.0/c05ce066e9026831cd7535968a311fc80f074b58868cfdffccbc811dff2ab6da/cache-55690b488a4addfd.arrow\n",
      "Loading cached processed dataset at /home/jxm3/.cache/huggingface/datasets/wiki_bio/default/1.2.0/c05ce066e9026831cd7535968a311fc80f074b58868cfdffccbc811dff2ab6da/cache-da01dd30caccabf4.arrow\n",
      "Loading cached processed dataset at /home/jxm3/.cache/huggingface/datasets/wiki_bio/default/1.2.0/c05ce066e9026831cd7535968a311fc80f074b58868cfdffccbc811dff2ab6da/cache-b2f3803736eb1940.arrow\n",
      "Loading cached processed dataset at /home/jxm3/.cache/huggingface/datasets/wiki_bio/default/1.2.0/c05ce066e9026831cd7535968a311fc80f074b58868cfdffccbc811dff2ab6da/cache-c0ed217b790fb2a2.arrow\n"
     ]
    }
   ],
   "source": [
    "from datamodule import WikipediaDataModule\n",
    "import os\n",
    "\n",
    "num_cpus = len(os.sched_getaffinity(0))\n",
    "\n",
    "dm = WikipediaDataModule(\n",
    "    document_model_name_or_path=\"roberta-base\",\n",
    "    profile_model_name_or_path=\"google/tapas-base\",\n",
    "    max_seq_length=128,\n",
    "    dataset_name='wiki_bio',\n",
    "    dataset_train_split='train[:1024]', # not used in this notebook\n",
    "    dataset_val_split='val[:20%]',\n",
    "    dataset_version='1.2.0',\n",
    "    word_dropout_ratio=0.0,\n",
    "    word_dropout_perc=0.0,\n",
    "    num_workers=1,\n",
    "    train_batch_size=64,\n",
    "    eval_batch_size=64\n",
    ")\n",
    "dm.setup(\"fit\")"
   ]
  },
  {
   "cell_type": "code",
   "execution_count": 3,
   "id": "09298c42-5a4c-42c4-ae8d-b58cc78441bc",
   "metadata": {},
   "outputs": [],
   "source": [
    "from masking_tokenizing_dataset import MaskingTokenizingDataset\n",
    "\n",
    "val_masking_dataset = MaskingTokenizingDataset(\n",
    "    dm.val_dataset,\n",
    "    document_tokenizer=dm.document_tokenizer,\n",
    "    profile_tokenizer=dm.profile_tokenizer,\n",
    "    max_seq_length=dm.max_seq_length,\n",
    "    word_dropout_ratio=1.0,\n",
    "    word_dropout_perc=-1.0,\n",
    "    profile_row_dropout_perc=0.0,\n",
    "    sample_spans=False,\n",
    "    adversarial_masking=False,\n",
    "    idf_masking=True,\n",
    "    num_nearest_neighbors=0,\n",
    "    document_types=[\"document\"],\n",
    "    is_train_dataset=True\n",
    ")"
   ]
  },
  {
   "cell_type": "code",
   "execution_count": 4,
   "id": "cda66e63-4d0b-4300-bbea-8a9699d60c4e",
   "metadata": {},
   "outputs": [
    {
     "data": {
      "text/plain": [
       "'thaila ayala sales ( born april 14 , 1986 in presidente prudente ) is a brazilian actress and model .\\n'"
      ]
     },
     "execution_count": 4,
     "metadata": {},
     "output_type": "execute_result"
    }
   ],
   "source": [
    "test_doc = dm.val_dataset[10][\"document\"]\n",
    "test_doc"
   ]
  },
  {
   "cell_type": "code",
   "execution_count": 6,
   "id": "11c517ce-30a1-4509-88cc-f5e44bd48c0d",
   "metadata": {},
   "outputs": [],
   "source": [
    "%load_ext autoreload\n",
    "%autoreload 2"
   ]
  },
  {
   "cell_type": "code",
   "execution_count": 54,
   "id": "b5dbfc27-5f22-45da-b1b4-7b5db4a7a7a1",
   "metadata": {},
   "outputs": [
    {
     "name": "stdout",
     "output_type": "stream",
     "text": [
      "0.25\n",
      "\t thaila <mask> <mask> ( <mask> april 14 , 1986 in <mask> <mask> ) <mask> a brazilian actress and model .\n",
      "\t <mask> <mask> sales ( <mask> <mask> 14 , 1986 <mask> presidente <mask> ) is a brazilian actress and model .\n",
      "\t <mask> <mask> sales ( <mask> april 14 , <mask> <mask> presidente <mask> ) is a brazilian actress and model .\n",
      "\t <mask> <mask> sales ( born april 14 , 1986 in <mask> <mask> ) is a <mask> actress and <mask> .\n",
      "\t <mask> ayala sales ( born april 14 , 1986 in <mask> <mask> ) is a <mask> <mask> and <mask> .\n",
      "\t <mask> <mask> <mask> ( born april 14 , 1986 <mask> <mask> <mask> ) is a brazilian actress and model .\n",
      "\t <mask> <mask> <mask> ( born april <mask> , 1986 in presidente <mask> ) is a brazilian actress <mask> model .\n",
      "\t thaila <mask> sales ( born april <mask> , <mask> in <mask> <mask> ) is a <mask> actress and model .\n",
      "\t thaila <mask> sales ( born april <mask> , <mask> <mask> <mask> prudente ) is <mask> brazilian actress and model .\n",
      "\t <mask> <mask> <mask> ( <mask> april 14 , 1986 in presidente prudente ) <mask> a <mask> actress and model .\n",
      "\n",
      "\n",
      "\n",
      "0.5\n",
      "\t <mask> <mask> <mask> ( born <mask> 14 , <mask> in <mask> prudente ) is a brazilian actress and model .\n",
      "\t <mask> ayala <mask> ( born april 14 , 1986 in <mask> <mask> ) is a <mask> <mask> and model .\n",
      "\t thaila <mask> <mask> ( born april 14 , 1986 <mask> presidente <mask> ) is a <mask> actress and <mask> .\n",
      "\t <mask> ayala <mask> ( born april 14 , 1986 in <mask> <mask> ) <mask> a <mask> actress and model .\n",
      "\t <mask> ayala <mask> ( born april 14 , <mask> <mask> presidente <mask> ) is a <mask> actress and model .\n",
      "\t <mask> <mask> <mask> ( born april <mask> , 1986 in presidente <mask> ) is <mask> brazilian actress and model .\n",
      "\t thaila <mask> sales ( born april 14 , 1986 in presidente <mask> ) <mask> a <mask> <mask> and <mask> .\n",
      "\t <mask> <mask> <mask> ( born april 14 , 1986 <mask> presidente <mask> ) is a brazilian actress <mask> model .\n",
      "\t <mask> ayala <mask> ( born april 14 , <mask> in presidente <mask> ) is a <mask> actress <mask> model .\n",
      "\t <mask> <mask> sales ( born april 14 , 1986 in <mask> prudente ) is <mask> <mask> actress and <mask> .\n",
      "\n",
      "\n",
      "\n",
      "1.0\n",
      "\t thaila ayala <mask> ( born april 14 , 1986 <mask> <mask> prudente ) is <mask> <mask> <mask> and model .\n",
      "\t <mask> <mask> <mask> ( born april <mask> , 1986 in <mask> prudente ) <mask> a brazilian actress and model .\n",
      "\t <mask> <mask> sales ( <mask> april 14 , 1986 in <mask> <mask> ) is a brazilian actress and <mask> .\n",
      "\t thaila <mask> <mask> ( born april 14 , 1986 in <mask> prudente ) is a <mask> <mask> and <mask> .\n",
      "\t <mask> <mask> sales ( <mask> <mask> 14 , 1986 in presidente prudente ) is a <mask> <mask> and model .\n",
      "\t <mask> <mask> <mask> ( born april 14 , 1986 in <mask> prudente ) is <mask> brazilian actress and <mask> .\n",
      "\t thaila <mask> <mask> ( born april <mask> , 1986 in presidente <mask> ) is a <mask> actress and <mask> .\n",
      "\t <mask> <mask> <mask> ( born april 14 , 1986 in <mask> prudente ) is a <mask> actress and <mask> .\n",
      "\t <mask> ayala <mask> ( born <mask> 14 , 1986 in <mask> <mask> ) is a brazilian <mask> and model .\n",
      "\t <mask> ayala <mask> ( <mask> april <mask> , 1986 in presidente prudente ) is a <mask> <mask> and model .\n",
      "\n",
      "\n",
      "\n",
      "10.0\n",
      "\t <mask> <mask> <mask> ( born april 14 , 1986 in <mask> prudente ) <mask> a <mask> actress and model .\n",
      "\t thaila <mask> <mask> ( born <mask> 14 , <mask> in <mask> <mask> ) is a brazilian actress and model .\n",
      "\t thaila <mask> <mask> ( born <mask> 14 , 1986 in <mask> prudente ) is a <mask> actress and <mask> .\n",
      "\t <mask> <mask> sales ( born <mask> <mask> , 1986 in <mask> prudente ) is a brazilian <mask> and model .\n",
      "\t thaila <mask> sales ( <mask> april 14 , 1986 in <mask> <mask> ) is a <mask> actress and <mask> .\n",
      "\t <mask> <mask> <mask> ( born april 14 , 1986 in <mask> prudente ) is <mask> brazilian <mask> and model .\n",
      "\t thaila <mask> <mask> ( <mask> april 14 , 1986 in presidente <mask> ) is a <mask> <mask> and model .\n",
      "\t <mask> <mask> <mask> ( <mask> april <mask> , 1986 in <mask> prudente ) is a brazilian actress and model .\n",
      "\t thaila ayala sales ( born april <mask> , 1986 <mask> <mask> prudente ) is a brazilian <mask> <mask> <mask> .\n",
      "\t <mask> <mask> sales ( <mask> april 14 , <mask> in presidente <mask> ) is a <mask> actress and model .\n",
      "\n",
      "\n",
      "\n"
     ]
    }
   ],
   "source": [
    "mss = val_masking_dataset.masking_span_sampler\n",
    "\n",
    "for temp in [0.25, 0.5, 1.0, 10.0]:\n",
    "    mss.idf_temp = temp\n",
    "    print(temp)\n",
    "    for i in range(10):\n",
    "        print('\\t', mss.random_redact_str(text=test_doc).strip())\n",
    "    print('\\n'*2)"
   ]
  },
  {
   "cell_type": "code",
   "execution_count": null,
   "id": "8cbd0163-5970-4df8-ac7a-305fb98a0abe",
   "metadata": {},
   "outputs": [],
   "source": [
    "dm.word_dropout_ratio"
   ]
  },
  {
   "cell_type": "code",
   "execution_count": null,
   "id": "572b1f54-08c6-4705-ab86-8b3140ef059e",
   "metadata": {},
   "outputs": [],
   "source": []
  }
 ],
 "metadata": {
  "kernelspec": {
   "display_name": "Python 3",
   "language": "python",
   "name": "python3"
  },
  "language_info": {
   "codemirror_mode": {
    "name": "ipython",
    "version": 3
   },
   "file_extension": ".py",
   "mimetype": "text/x-python",
   "name": "python",
   "nbconvert_exporter": "python",
   "pygments_lexer": "ipython3",
   "version": "3.9.7"
  }
 },
 "nbformat": 4,
 "nbformat_minor": 5
}
