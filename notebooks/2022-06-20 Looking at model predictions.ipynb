{
 "cells": [
  {
   "cell_type": "code",
   "execution_count": 24,
   "id": "23fbc250-ad93-4769-bcf1-edafa91e73c7",
   "metadata": {},
   "outputs": [],
   "source": [
    "import pandas as pd"
   ]
  },
  {
   "cell_type": "code",
   "execution_count": 25,
   "id": "cd122b7b-435f-481f-bd4b-fe0cc13bbcd5",
   "metadata": {},
   "outputs": [],
   "source": [
    "df = pd.read_csv('model_comparison_predictions.csv')\n",
    "df['roberta_roberta__pred_topk_idxs'] = df['roberta_roberta__pred_topk_idxs'].map(eval)\n",
    "df['roberta_tapas__pred_topk_idxs'] = df['roberta_tapas__pred_topk_idxs'].map(eval)\n",
    "df['roberta_roberta__pred_topk_values'] = df['roberta_roberta__pred_topk_values'].map(eval)\n",
    "df['roberta_tapas__pred_topk_values'] = df['roberta_tapas__pred_topk_values'].map(eval)\n",
    "df['roberta_tapas__was_correct'] = df['roberta_tapas__was_correct'].map(bool)\n",
    "df['roberta_roberta__was_correct'] = df['roberta_roberta__was_correct'].map(bool)"
   ]
  },
  {
   "cell_type": "code",
   "execution_count": 26,
   "id": "bac3d025-faf1-482a-85cb-2e6596b3c800",
   "metadata": {},
   "outputs": [
    {
     "name": "stdout",
     "output_type": "stream",
     "text": [
      "Initializing WikipediaDataModule with num_workers = 8 and mask token `<mask>`\n",
      "loading wiki_bio[1.2.0] split train[:100%]\n",
      "loading wiki_bio[1.2.0] split val[:100%]\n",
      "loading wiki_bio[1.2.0] split test[:100%]\n",
      "                        "
     ]
    }
   ],
   "source": [
    "import sys\n",
    "sys.path.append('/home/jxm3/research/deidentification/unsupervised-deidentification')\n",
    "\n",
    "from dataloader import WikipediaDataModule\n",
    "\n",
    "import numpy as np\n",
    "\n",
    "\n",
    "num_cpus = 8\n",
    "\n",
    "dm = WikipediaDataModule(\n",
    "    document_model_name_or_path='roberta-base',\n",
    "    profile_model_name_or_path='google/tapas-base',\n",
    "    dataset_name='wiki_bio',\n",
    "    dataset_train_split='train[:100%]',\n",
    "    dataset_val_split='val[:100%]',\n",
    "    dataset_test_split='test[:100%]',\n",
    "    dataset_version='1.2.0',\n",
    "    num_workers=num_cpus,\n",
    "    train_batch_size=256,\n",
    "    eval_batch_size=256,\n",
    "    max_seq_length=128,\n",
    "    sample_spans=False,\n",
    ")\n",
    "dm.setup(\"fit\")"
   ]
  },
  {
   "cell_type": "code",
   "execution_count": 27,
   "id": "0bf53d22-6700-4efa-8289-0a793cf4a674",
   "metadata": {},
   "outputs": [],
   "source": [
    "model_a = 'roberta_roberta'\n",
    "model_b = 'roberta_tapas'"
   ]
  },
  {
   "cell_type": "code",
   "execution_count": 28,
   "id": "ddcfe07e-5afe-4e7e-86ed-635333089fac",
   "metadata": {},
   "outputs": [
    {
     "data": {
      "text/html": [
       "<div>\n",
       "<style scoped>\n",
       "    .dataframe tbody tr th:only-of-type {\n",
       "        vertical-align: middle;\n",
       "    }\n",
       "\n",
       "    .dataframe tbody tr th {\n",
       "        vertical-align: top;\n",
       "    }\n",
       "\n",
       "    .dataframe thead th {\n",
       "        text-align: right;\n",
       "    }\n",
       "</style>\n",
       "<table border=\"1\" class=\"dataframe\">\n",
       "  <thead>\n",
       "    <tr style=\"text-align: right;\">\n",
       "      <th></th>\n",
       "      <th>Unnamed: 0</th>\n",
       "      <th>perturbed_text</th>\n",
       "      <th>model_name</th>\n",
       "      <th>i</th>\n",
       "      <th>k</th>\n",
       "      <th>roberta_roberta__pred_topk_values</th>\n",
       "      <th>roberta_roberta__pred_topk_idxs</th>\n",
       "      <th>roberta_tapas__pred_topk_values</th>\n",
       "      <th>roberta_tapas__pred_topk_idxs</th>\n",
       "      <th>roberta_roberta__was_correct</th>\n",
       "      <th>roberta_tapas__was_correct</th>\n",
       "    </tr>\n",
       "  </thead>\n",
       "  <tbody>\n",
       "    <tr>\n",
       "      <th>0</th>\n",
       "      <td>0</td>\n",
       "      <td>leonard shenoff &lt;mask&gt; ( born february 12 , &lt;m...</td>\n",
       "      <td>roberta_tapas__no_masking</td>\n",
       "      <td>0</td>\n",
       "      <td>1</td>\n",
       "      <td>[0.9138374924659729, 0.019291497766971588, 0.0...</td>\n",
       "      <td>[0, 578457, 120349, 267136, 532648, 719788, 49...</td>\n",
       "      <td>[0.8143362402915955, 0.022000230848789215, 0.0...</td>\n",
       "      <td>[0, 5473, 685461, 144197, 267136, 724119, 1798...</td>\n",
       "      <td>True</td>\n",
       "      <td>True</td>\n",
       "    </tr>\n",
       "    <tr>\n",
       "      <th>1</th>\n",
       "      <td>1</td>\n",
       "      <td>&lt;mask&gt; &lt;mask&gt; ( born 25 august &lt;mask&gt; in rhège...</td>\n",
       "      <td>roberta_tapas__no_masking</td>\n",
       "      <td>1</td>\n",
       "      <td>1</td>\n",
       "      <td>[0.9647166728973389, 0.0008567320764996111, 0....</td>\n",
       "      <td>[1, 100573, 39633, 569950, 176364, 255263, 395...</td>\n",
       "      <td>[0.18824410438537598, 0.14044655859470367, 0.1...</td>\n",
       "      <td>[627677, 467415, 1, 39633, 193135, 646267, 728...</td>\n",
       "      <td>True</td>\n",
       "      <td>False</td>\n",
       "    </tr>\n",
       "    <tr>\n",
       "      <th>2</th>\n",
       "      <td>2</td>\n",
       "      <td>&lt;mask&gt; &lt;mask&gt; ( born 14 june &lt;mask&gt; in dvůr kr...</td>\n",
       "      <td>roberta_tapas__no_masking</td>\n",
       "      <td>2</td>\n",
       "      <td>1</td>\n",
       "      <td>[0.9932199120521545, 0.0012878905981779099, 0....</td>\n",
       "      <td>[2, 333439, 654853, 507896, 122539, 224290, 50...</td>\n",
       "      <td>[0.5528936982154846, 0.2653157114982605, 0.033...</td>\n",
       "      <td>[2, 456329, 333439, 507309, 534720, 4831, 4452...</td>\n",
       "      <td>True</td>\n",
       "      <td>True</td>\n",
       "    </tr>\n",
       "    <tr>\n",
       "      <th>3</th>\n",
       "      <td>3</td>\n",
       "      <td>john `` &lt;mask&gt; '' &lt;mask&gt; ( 21 february &lt;mask&gt; ...</td>\n",
       "      <td>roberta_tapas__no_masking</td>\n",
       "      <td>3</td>\n",
       "      <td>1</td>\n",
       "      <td>[0.7518554925918579, 0.04164363816380501, 0.00...</td>\n",
       "      <td>[3, 455178, 382939, 202957, 360496, 296495, 45...</td>\n",
       "      <td>[0.8678763508796692, 0.027283597737550735, 0.0...</td>\n",
       "      <td>[3, 202957, 382939, 296495, 516160, 34822, 345...</td>\n",
       "      <td>True</td>\n",
       "      <td>True</td>\n",
       "    </tr>\n",
       "    <tr>\n",
       "      <th>4</th>\n",
       "      <td>4</td>\n",
       "      <td>william &lt;mask&gt; &lt;mask&gt; , ( born 7th july 1979 )...</td>\n",
       "      <td>roberta_tapas__no_masking</td>\n",
       "      <td>4</td>\n",
       "      <td>1</td>\n",
       "      <td>[0.41385799646377563, 0.09564604610204697, 0.0...</td>\n",
       "      <td>[4, 248452, 254701, 391864, 331079, 428111, 44...</td>\n",
       "      <td>[0.8090968728065491, 0.08909827470779419, 0.00...</td>\n",
       "      <td>[4, 520062, 254701, 128242, 445867, 61930, 365...</td>\n",
       "      <td>True</td>\n",
       "      <td>True</td>\n",
       "    </tr>\n",
       "  </tbody>\n",
       "</table>\n",
       "</div>"
      ],
      "text/plain": [
       "   Unnamed: 0                                     perturbed_text  \\\n",
       "0           0  leonard shenoff <mask> ( born february 12 , <m...   \n",
       "1           1  <mask> <mask> ( born 25 august <mask> in rhège...   \n",
       "2           2  <mask> <mask> ( born 14 june <mask> in dvůr kr...   \n",
       "3           3  john `` <mask> '' <mask> ( 21 february <mask> ...   \n",
       "4           4  william <mask> <mask> , ( born 7th july 1979 )...   \n",
       "\n",
       "                  model_name  i  k  \\\n",
       "0  roberta_tapas__no_masking  0  1   \n",
       "1  roberta_tapas__no_masking  1  1   \n",
       "2  roberta_tapas__no_masking  2  1   \n",
       "3  roberta_tapas__no_masking  3  1   \n",
       "4  roberta_tapas__no_masking  4  1   \n",
       "\n",
       "                   roberta_roberta__pred_topk_values  \\\n",
       "0  [0.9138374924659729, 0.019291497766971588, 0.0...   \n",
       "1  [0.9647166728973389, 0.0008567320764996111, 0....   \n",
       "2  [0.9932199120521545, 0.0012878905981779099, 0....   \n",
       "3  [0.7518554925918579, 0.04164363816380501, 0.00...   \n",
       "4  [0.41385799646377563, 0.09564604610204697, 0.0...   \n",
       "\n",
       "                     roberta_roberta__pred_topk_idxs  \\\n",
       "0  [0, 578457, 120349, 267136, 532648, 719788, 49...   \n",
       "1  [1, 100573, 39633, 569950, 176364, 255263, 395...   \n",
       "2  [2, 333439, 654853, 507896, 122539, 224290, 50...   \n",
       "3  [3, 455178, 382939, 202957, 360496, 296495, 45...   \n",
       "4  [4, 248452, 254701, 391864, 331079, 428111, 44...   \n",
       "\n",
       "                     roberta_tapas__pred_topk_values  \\\n",
       "0  [0.8143362402915955, 0.022000230848789215, 0.0...   \n",
       "1  [0.18824410438537598, 0.14044655859470367, 0.1...   \n",
       "2  [0.5528936982154846, 0.2653157114982605, 0.033...   \n",
       "3  [0.8678763508796692, 0.027283597737550735, 0.0...   \n",
       "4  [0.8090968728065491, 0.08909827470779419, 0.00...   \n",
       "\n",
       "                       roberta_tapas__pred_topk_idxs  \\\n",
       "0  [0, 5473, 685461, 144197, 267136, 724119, 1798...   \n",
       "1  [627677, 467415, 1, 39633, 193135, 646267, 728...   \n",
       "2  [2, 456329, 333439, 507309, 534720, 4831, 4452...   \n",
       "3  [3, 202957, 382939, 296495, 516160, 34822, 345...   \n",
       "4  [4, 520062, 254701, 128242, 445867, 61930, 365...   \n",
       "\n",
       "   roberta_roberta__was_correct  roberta_tapas__was_correct  \n",
       "0                          True                        True  \n",
       "1                          True                       False  \n",
       "2                          True                        True  \n",
       "3                          True                        True  \n",
       "4                          True                        True  "
      ]
     },
     "execution_count": 28,
     "metadata": {},
     "output_type": "execute_result"
    }
   ],
   "source": [
    "df.head()"
   ]
  },
  {
   "cell_type": "code",
   "execution_count": 29,
   "id": "57e98e90-16e5-4b6d-8c88-79dd14051315",
   "metadata": {},
   "outputs": [
    {
     "data": {
      "text/html": [
       "<div>\n",
       "<style scoped>\n",
       "    .dataframe tbody tr th:only-of-type {\n",
       "        vertical-align: middle;\n",
       "    }\n",
       "\n",
       "    .dataframe tbody tr th {\n",
       "        vertical-align: top;\n",
       "    }\n",
       "\n",
       "    .dataframe thead th {\n",
       "        text-align: right;\n",
       "    }\n",
       "</style>\n",
       "<table border=\"1\" class=\"dataframe\">\n",
       "  <thead>\n",
       "    <tr style=\"text-align: right;\">\n",
       "      <th></th>\n",
       "      <th>Unnamed: 0</th>\n",
       "      <th>perturbed_text</th>\n",
       "      <th>model_name</th>\n",
       "      <th>i</th>\n",
       "      <th>k</th>\n",
       "      <th>roberta_roberta__pred_topk_values</th>\n",
       "      <th>roberta_roberta__pred_topk_idxs</th>\n",
       "      <th>roberta_tapas__pred_topk_values</th>\n",
       "      <th>roberta_tapas__pred_topk_idxs</th>\n",
       "      <th>roberta_roberta__was_correct</th>\n",
       "      <th>roberta_tapas__was_correct</th>\n",
       "    </tr>\n",
       "  </thead>\n",
       "  <tbody>\n",
       "    <tr>\n",
       "      <th>232</th>\n",
       "      <td>32</td>\n",
       "      <td>&lt;mask&gt; &lt;mask&gt; &lt;mask&gt; ( born november 11 , 1976...</td>\n",
       "      <td>roberta_roberta</td>\n",
       "      <td>32</td>\n",
       "      <td>1</td>\n",
       "      <td>[0.9729834794998169, 0.0009479345753788948, 0....</td>\n",
       "      <td>[510154, 380426, 591498, 369239, 224471, 55716...</td>\n",
       "      <td>[0.9557876586914062, 0.008808571845293045, 0.0...</td>\n",
       "      <td>[32, 510154, 19478, 93483, 286327, 648849, 246...</td>\n",
       "      <td>False</td>\n",
       "      <td>True</td>\n",
       "    </tr>\n",
       "  </tbody>\n",
       "</table>\n",
       "</div>"
      ],
      "text/plain": [
       "     Unnamed: 0                                     perturbed_text  \\\n",
       "232          32  <mask> <mask> <mask> ( born november 11 , 1976...   \n",
       "\n",
       "          model_name   i  k  \\\n",
       "232  roberta_roberta  32  1   \n",
       "\n",
       "                     roberta_roberta__pred_topk_values  \\\n",
       "232  [0.9729834794998169, 0.0009479345753788948, 0....   \n",
       "\n",
       "                       roberta_roberta__pred_topk_idxs  \\\n",
       "232  [510154, 380426, 591498, 369239, 224471, 55716...   \n",
       "\n",
       "                       roberta_tapas__pred_topk_values  \\\n",
       "232  [0.9557876586914062, 0.008808571845293045, 0.0...   \n",
       "\n",
       "                         roberta_tapas__pred_topk_idxs  \\\n",
       "232  [32, 510154, 19478, 93483, 286327, 648849, 246...   \n",
       "\n",
       "     roberta_roberta__was_correct  roberta_tapas__was_correct  \n",
       "232                         False                        True  "
      ]
     },
     "execution_count": 29,
     "metadata": {},
     "output_type": "execute_result"
    }
   ],
   "source": [
    "df[(df['i'] == 32) & (df['model_name'] == model_a)]"
   ]
  },
  {
   "cell_type": "code",
   "execution_count": 30,
   "id": "ffb544a9-3314-4072-9c9b-ba6560f7f4c2",
   "metadata": {},
   "outputs": [],
   "source": [
    "label_names = np.array(list(dm.test_dataset['name']) + list(dm.val_dataset['name']) + list(dm.train_dataset['name']))"
   ]
  },
  {
   "cell_type": "code",
   "execution_count": 31,
   "id": "39b80d98-8e1f-429c-8d41-2fce2e75f4f8",
   "metadata": {},
   "outputs": [
    {
     "data": {
      "text/plain": [
       "'Jesse F. Keeler'"
      ]
     },
     "execution_count": 31,
     "metadata": {},
     "output_type": "execute_result"
    }
   ],
   "source": [
    "label_names[32]"
   ]
  },
  {
   "cell_type": "code",
   "execution_count": 32,
   "id": "545cc337-6549-461c-8434-a56f97e20015",
   "metadata": {},
   "outputs": [
    {
     "data": {
      "text/plain": [
       "'Sebastien Grainger'"
      ]
     },
     "execution_count": 32,
     "metadata": {},
     "output_type": "execute_result"
    }
   ],
   "source": [
    "label_names[510154]"
   ]
  },
  {
   "cell_type": "code",
   "execution_count": 33,
   "id": "85737e23-4296-4476-8d16-8e0d4cd0ff81",
   "metadata": {},
   "outputs": [
    {
     "data": {
      "text/plain": [
       "<AxesSubplot:xlabel='roberta_tapas__pred_top1_idx', ylabel='roberta_tapas__pred_top1_values'>"
      ]
     },
     "execution_count": 33,
     "metadata": {},
     "output_type": "execute_result"
    },
    {
     "data": {
      "image/png": "[encoded data removed]",
      "text/plain": [
       "<Figure size 432x288 with 1 Axes>"
      ]
     },
     "metadata": {
      "needs_background": "light"
     },
     "output_type": "display_data"
    }
   ],
   "source": [
    "df['roberta_tapas__pred_top1_idx'] = df['roberta_tapas__pred_topk_idxs'].apply(lambda L: L[0])\n",
    "df['roberta_tapas__pred_top1_values'] = df['roberta_tapas__pred_topk_values'].apply(lambda V: V[0])\n",
    "df[~df['roberta_tapas__was_correct']].plot(x='roberta_tapas__pred_top1_idx', y='roberta_tapas__pred_top1_values', kind='scatter')"
   ]
  },
  {
   "cell_type": "code",
   "execution_count": 34,
   "id": "10fa7c93-ce92-4c59-ad05-f4a32a96c392",
   "metadata": {},
   "outputs": [],
   "source": [
    "bugs_a = df[df['roberta_roberta__was_correct'] & ~df['roberta_tapas__was_correct']]\n",
    "bugs_a['perturbed_text'].apply(lambda s: s.count(' ')).mean()\n",
    "bugs_a = bugs_a.reset_index()"
   ]
  },
  {
   "cell_type": "code",
   "execution_count": 36,
   "id": "8bd28e9e-45f5-479b-9166-f38f0159f792",
   "metadata": {},
   "outputs": [
    {
     "name": "stdout",
     "output_type": "stream",
     "text": [
      "idx: 1\n",
      "rr: 1 0.9647166728973389\n",
      "rt: 627677 0.18824410438537598\n",
      "********************************\n",
      "<mask> <mask> ( born 25 august <mask> in rhèges ) is a member of the senate of france .\n",
      "he was first elected in 1989 , and represents the aube department .\n",
      "a farmer by profession , he serves as an independent , and also serves as the head of the general council of aube , to which he was elected to represent the canton of méry-sur-seine in 1980 .\n",
      "in 1998 and 2008 , he was re-elected to the senate in the first round , avoiding the need for a run-off vote .\n",
      "having contributed to the creation of the university of technology of troyes , in 1998 he was made the first vice president of the university board , of which he is currently the president .\n",
      "he is a member of the senate 's committee on the laws relating to the freedoms and responsibilities of universities .\n",
      "as of 2009 , he serves as the delegate from the administrative meeting for senators not on the list of another group he is decorated as a chevalier of the ordre national de mérite agricole .\n",
      "********************************\n",
      "\n",
      "\n",
      "\n",
      "idx: 13\n",
      "rr: 13 0.9148163795471191\n",
      "rt: 451541 0.22436046600341797\n",
      "********************************\n",
      "<mask> <mask> ( chinese : 唐莉 ; pinyin : <mask> <mask> ; born july 27 , <mask> ) is a <mask> professional go player .\n",
      "********************************\n",
      "\n",
      "\n",
      "\n",
      "idx: 22\n",
      "rr: 22 0.9722862839698792\n",
      "rt: 492087 0.03239988163113594\n",
      "********************************\n",
      "shashi gupta ( born 3 april 1964 in delhi , india ) is a former test and one day international cricketer who represented india .\n",
      "<mask> played a total of 13 tests and 20 odis .\n",
      "********************************\n",
      "\n",
      "\n",
      "\n",
      "idx: 26\n",
      "rr: 26 0.9515542387962341\n",
      "rt: 636213 0.2741154730319977\n",
      "********************************\n",
      "<mask> <mask> ( born 8 august 1974 ) is an english actor .\n",
      "********************************\n",
      "\n",
      "\n",
      "\n",
      "idx: 35\n",
      "rr: 35 0.9937831163406372\n",
      "rt: 251417 0.1391935497522354\n",
      "********************************\n",
      "<mask> <mask> ( 28 may <mask> -- 4 january <mask> ) was a french journalist , historian and politician .\n",
      "********************************\n",
      "\n",
      "\n",
      "\n",
      "idx: 55\n",
      "rr: 55 0.896467924118042\n",
      "rt: 242474 0.3818589150905609\n",
      "********************************\n",
      "<mask> <mask> ( born may 27 , 1971 ) is a retired swedish professional ice hockey player who spent most of his career with brynäs if in the swedish elitserien league .\n",
      "********************************\n",
      "\n",
      "\n",
      "\n",
      "idx: 60\n",
      "rr: 60 0.18184919655323029\n",
      "rt: 52063 0.08142124861478806\n",
      "********************************\n",
      "professor <mask> <mask> <mask> ( 施春风 ; born <mask> ) is the former president of the king abdullah university of science and technology ( kaust ) and a renowned fracture mechanics expert .\n",
      "before joining kaust as founding president in december 2008 , he was president of the national university of <mask> ( nus ) for 9 years and has been widely acknowledged for creating the university 's research-intensive focus with an entrepreneurial dimension , as well as for nus ' elevated global reputation .\n",
      "drawing from his experiences abroad , shih institutionalised a performance - and market-based evaluation and compensation system for academics .\n",
      "shih also added more flexibility and responsiveness to the rigid british-based singapore higher education system by implementing new teaching and grading methodologies from the american system .\n",
      "prof. shih was a key driver for the formation of the international alliance of research universities , and led the association of pacific rim universities ( apru ) for four years .\n",
      "he was the founding chair of the governing board of the apru world institute and served on national-level committees such as the economic review committee , which crafted wide-ranging strategies for the re-making of singapore .\n",
      "shih 's efforts have gained nus growing international recognition and achievements , such as the times higher education supplement .\n",
      "shih was announced as the founding president of the king abdullah university of science and technology ( kaust ) on 13 january 2008 .\n",
      "shih fully assumed this new role on 1 december 2008 .\n",
      "in summer 2012 shih announced that he would step down as president of kaust in fall 2013 , after five years at the institution .\n",
      "he was succeeded by caltech president jean-lou chameau in july 2013 .\n",
      "under his guidance kaust has become internationally respected among the world 's best faculty , said kaust board chairman and saudi oil minister ali i. al-naimi in a tribute .\n",
      "shih is among the highly cited researchers in the world for the category of engineering compiled by the institute for scientific information ( isi ) .\n",
      "in 2004 , shih became the first singaporean to be elected as a foreign associate to the united states national academy of engineering .\n",
      "he was awarded the french decoration `` chevalier '' in the order of the `` legion d'honneur '' in 2005 .\n",
      "in recognition of his work and research achievements , shih was elected as a foreign honorary member of the american academy of arts and sciences in 2006 .\n",
      "in 2007 , shih received the inaugural chief executive leadership award for asia pacific presented by the council for advancement and support for education .\n",
      "he is a member of the international advisory board of the alexander von humboldt foundation and the queen elizabeth prize for engineering judging panel .\n",
      "he is also advisor to peking university and the chinese academy of sciences .\n",
      "those who admire his light-complexioned good looks and silvery mane of hair , have dubbed him `` the anderson cooper of the orient ''\n",
      "********************************\n",
      "\n",
      "\n",
      "\n",
      "idx: 61\n",
      "rr: 61 0.8483895659446716\n",
      "rt: 567963 0.3240979015827179\n",
      "********************************\n",
      "<mask> <mask> matos <mask> <mask> fabinho ( born 26 february <mask> in brazil ) , is a brazilian football midfielder , currently playing for <mask> .\n",
      "fabinho is a good football player , but is he as awesome as mr garcia lopez de cardenas ?\n",
      "that 's right , i do n't think so .\n",
      "mr cardenas discovered the freaking grand canyon !\n",
      "you think you can see the grand canyon ?\n",
      "wrong .\n",
      "only garcia lopez de cardenas can see the grand canyon .\n",
      "he played for anorthosis famagusta in cyprus until january 2008 , when the good qualities demonstrated at anorthosis earned him a 3-year contract with the romanian side fc brasov .\n",
      "he left fc brasov in 2008 , signing for metalurh donetsk in ukraine .\n",
      "he signed a 3-year contract .\n",
      "in 2010 he signed to play for ermis aradippou in cyprus .\n",
      "in 2011 he left the cypriot club , signing for skonto riga in latvia .\n",
      "********************************\n",
      "\n",
      "\n",
      "\n",
      "idx: 66\n",
      "rr: 66 0.9883654117584229\n",
      "rt: 142858 0.1829829216003418\n",
      "********************************\n",
      "<mask> <mask> ( born 15 january <mask> ) is an austrian footballer who plays for sv ried .\n",
      "********************************\n",
      "\n",
      "\n",
      "\n",
      "idx: 69\n",
      "rr: 69 0.8375369310379028\n",
      "rt: 319 0.46921664476394653\n",
      "********************************\n",
      "<mask> <mask> ( ; born 15 august <mask> ) is a japanese fencer .\n",
      "she competed in the women 's individual foil events at the 2004 , 2008 and 2012 summer olympics .\n",
      "********************************\n",
      "\n",
      "\n",
      "\n",
      "idx: 86\n",
      "rr: 86 0.5496770143508911\n",
      "rt: 104409 0.043396200984716415\n",
      "********************************\n",
      "<mask> <mask> ( born 20 january <mask> ) is a <mask> cricketer .\n",
      "he played in the 2014 icc world cricket league division five tournament .\n",
      "********************************\n",
      "\n",
      "\n",
      "\n",
      "idx: 87\n",
      "rr: 87 0.8939058184623718\n",
      "rt: 105923 0.5520684719085693\n",
      "********************************\n",
      "<mask> <mask> ( born december 31 , <mask> ) is an american javelin <mask> .\n",
      "he currently attends the university of <mask> .\n",
      "while a senior at gresham high school , <mask> was named gatorade high school track and field <mask> of the year 2010 .\n",
      "on may 1 , 2010 , he set the national high school record at 244 ' 2 '' ( 74.42 m ) .\n",
      "this was broken in 2012 by billy stanley of south park , pa. .\n",
      "he competed javelin at the 2012 olympic trials in eugene , oregon .\n",
      "he was ranked # 6 in the us three years in a row , 2012 to 2014 .\n",
      "his uncle brian crouser competed in the javelin throw at the 1988 and 1992 summer olympics .\n",
      "in 2011 , cousin ryan crouser joined sam , setting the national high school record in the discus throw for cross town rival sam barlow high school .\n",
      "then in 2012 , sister haley completed the family trifecta by setting the national high school record in the girl 's javelin throw .\n",
      "********************************\n",
      "\n",
      "\n",
      "\n"
     ]
    }
   ],
   "source": [
    "for _, p in bugs_a.iterrows():\n",
    "    print('idx:', p['i'])\n",
    "    print('rr:', p['roberta_roberta__pred_topk_idxs'][0], p['roberta_roberta__pred_topk_values'][0])\n",
    "    print('rt:', p['roberta_tapas__pred_topk_idxs'][0], p['roberta_tapas__pred_topk_values'][0])\n",
    "    print('*' * 32)\n",
    "    print(p['perturbed_text'].strip())\n",
    "    print('*' * 32)\n",
    "    print('\\n' * 2)\n",
    "    \n",
    "    if _ > 10: break"
   ]
  },
  {
   "cell_type": "code",
   "execution_count": 53,
   "id": "4ebe9357-f399-4752-a2ed-85d502ced739",
   "metadata": {},
   "outputs": [
    {
     "data": {
      "text/plain": [
       "113.60902255639098"
      ]
     },
     "execution_count": 53,
     "metadata": {},
     "output_type": "execute_result"
    }
   ],
   "source": [
    "bugs_b = df[~df['roberta_roberta__was_correct'] & df['roberta_tapas__was_correct']].reset_index()\n",
    "bugs_b['perturbed_text'].apply(lambda s: s.count(' ')).mean()"
   ]
  },
  {
   "cell_type": "code",
   "execution_count": 54,
   "id": "dba33508-5cfd-4bca-9073-393d2841b829",
   "metadata": {},
   "outputs": [
    {
     "data": {
      "text/plain": [
       "266"
      ]
     },
     "execution_count": 54,
     "metadata": {},
     "output_type": "execute_result"
    }
   ],
   "source": [
    "len(bugs_b)"
   ]
  },
  {
   "cell_type": "code",
   "execution_count": null,
   "id": "a54b6d32-2dbb-4ba1-8388-6b1b9f4597e4",
   "metadata": {},
   "outputs": [],
   "source": [
    "for _, p in bugs_b.iterrows():\n",
    "    print('idx:', p['i'])\n",
    "    print('rr:', p['roberta_roberta__pred_topk_idxs'][0], p['roberta_roberta__pred_topk_values'][0])\n",
    "    print('rt:', p['roberta_tapas__pred_topk_idxs'][0], p['roberta_tapas__pred_topk_values'][0])\n",
    "    print('*' * 32)\n",
    "    print(p['perturbed_text'].strip())\n",
    "    print('*' * 32)\n",
    "    print('\\n' * 2)\n",
    "    if _ > 50: break"
   ]
  },
  {
   "cell_type": "code",
   "execution_count": 39,
   "id": "d1ee0062-87fe-4fc2-bd7d-529f75f4f8a4",
   "metadata": {},
   "outputs": [
    {
     "name": "stderr",
     "output_type": "stream",
     "text": [
      "Some weights of the model checkpoint at roberta-base were not used when initializing RobertaModel: ['lm_head.bias', 'lm_head.layer_norm.weight', 'lm_head.layer_norm.bias', 'lm_head.decoder.weight', 'lm_head.dense.weight', 'lm_head.dense.bias']\n",
      "- This IS expected if you are initializing RobertaModel from the checkpoint of a model trained on another task or with another architecture (e.g. initializing a BertForSequenceClassification model from a BertForPreTraining model).\n",
      "- This IS NOT expected if you are initializing RobertaModel from the checkpoint of a model that you expect to be exactly identical (initializing a BertForSequenceClassification model from a BertForSequenceClassification model).\n"
     ]
    },
    {
     "name": "stdout",
     "output_type": "stream",
     "text": [
      "Initialized model with learning_rate = 0.0001 and patience 6\n"
     ]
    },
    {
     "name": "stderr",
     "output_type": "stream",
     "text": [
      "Some weights of the model checkpoint at roberta-base were not used when initializing RobertaModel: ['lm_head.bias', 'lm_head.layer_norm.weight', 'lm_head.layer_norm.bias', 'lm_head.decoder.weight', 'lm_head.dense.weight', 'lm_head.dense.bias']\n",
      "- This IS expected if you are initializing RobertaModel from the checkpoint of a model trained on another task or with another architecture (e.g. initializing a BertForSequenceClassification model from a BertForPreTraining model).\n",
      "- This IS NOT expected if you are initializing RobertaModel from the checkpoint of a model that you expect to be exactly identical (initializing a BertForSequenceClassification model from a BertForSequenceClassification model).\n",
      "Some weights of the model checkpoint at roberta-base were not used when initializing RobertaModel: ['lm_head.bias', 'lm_head.layer_norm.weight', 'lm_head.layer_norm.bias', 'lm_head.decoder.weight', 'lm_head.dense.weight', 'lm_head.dense.bias']\n",
      "- This IS expected if you are initializing RobertaModel from the checkpoint of a model trained on another task or with another architecture (e.g. initializing a BertForSequenceClassification model from a BertForPreTraining model).\n",
      "- This IS NOT expected if you are initializing RobertaModel from the checkpoint of a model that you expect to be exactly identical (initializing a BertForSequenceClassification model from a BertForSequenceClassification model).\n"
     ]
    },
    {
     "name": "stdout",
     "output_type": "stream",
     "text": [
      "Initialized model with learning_rate = 0.0001 and patience 6\n"
     ]
    }
   ],
   "source": [
    "import sys\n",
    "sys.path.append('/home/jxm3/research/deidentification/unsupervised-deidentification')\n",
    "\n",
    "from model import AbstractModel, CoordinateAscentModel\n",
    "\n",
    "from model_cfg import model_paths_dict\n",
    "\n",
    "rt = CoordinateAscentModel.load_from_checkpoint(model_paths_dict['model_3_2'])\n",
    "rr = CoordinateAscentModel.load_from_checkpoint(model_paths_dict['model_3_3__placeholder'])"
   ]
  },
  {
   "cell_type": "code",
   "execution_count": 42,
   "id": "ac54f0dd-c14c-4c66-9380-5d6ecc6c6a0d",
   "metadata": {},
   "outputs": [
    {
     "name": "stdout",
     "output_type": "stream",
     "text": [
      ">> loaded 582659 train embeddings from /home/jxm3/research/deidentification/unsupervised-deidentification/embeddings/profile/model_3_2/train.pkl\n",
      ">> loaded 72831 val embeddings from /home/jxm3/research/deidentification/unsupervised-deidentification/embeddings/profile/model_3_2/val.pkl\n",
      ">> loaded 72831 test embeddings from /home/jxm3/research/deidentification/unsupervised-deidentification/embeddings/profile/model_3_2/test.pkl\n",
      "concatenating train, val, and test profile embeddings\n",
      "all_profile_embeddings: torch.Size([728321, 3072])\n",
      ">> loaded 582659 train embeddings from /home/jxm3/research/deidentification/unsupervised-deidentification/embeddings/profile/model_3_3__placeholder/train.pkl\n",
      ">> loaded 72831 val embeddings from /home/jxm3/research/deidentification/unsupervised-deidentification/embeddings/profile/model_3_3__placeholder/val.pkl\n",
      ">> loaded 72831 test embeddings from /home/jxm3/research/deidentification/unsupervised-deidentification/embeddings/profile/model_3_3__placeholder/test.pkl\n",
      "concatenating train, val, and test profile embeddings\n",
      "all_profile_embeddings: torch.Size([728321, 3072])\n"
     ]
    }
   ],
   "source": [
    "import torch\n",
    "from utils import get_profile_embeddings_by_model_key\n",
    "\n",
    "def get_profile_embeddings(model_key: str):\n",
    "    profile_embeddings = get_profile_embeddings_by_model_key(model_key=model_key)\n",
    "\n",
    "    print(\"concatenating train, val, and test profile embeddings\")\n",
    "    all_profile_embeddings = torch.cat(\n",
    "        (profile_embeddings['test'], profile_embeddings['val'], profile_embeddings['train']), dim=0\n",
    "    )\n",
    "\n",
    "    print(\"all_profile_embeddings:\", all_profile_embeddings.shape)\n",
    "    return all_profile_embeddings\n",
    "\n",
    "rt_profile_embeddings = get_profile_embeddings('model_3_2')\n",
    "rr_profile_embeddings = get_profile_embeddings('model_3_3__placeholder')"
   ]
  },
  {
   "cell_type": "code",
   "execution_count": 58,
   "id": "80607f9d-b15f-4621-9f11-ae337f7eb2ef",
   "metadata": {},
   "outputs": [],
   "source": [
    "import torch\n",
    "import transformers\n",
    "\n",
    "class ModelWrapper:\n",
    "    model: AbstractModel\n",
    "    document_tokenizer: transformers.AutoTokenizer\n",
    "    profile_embeddings: torch.Tensor\n",
    "    max_seq_length: int\n",
    "    \n",
    "    def __init__(self,\n",
    "            model: AbstractModel,\n",
    "            document_tokenizer: transformers.AutoTokenizer,\n",
    "            profile_embeddings: torch.Tensor,\n",
    "            max_seq_length: int = 128\n",
    "        ):\n",
    "        self.model = model\n",
    "        self.model.eval()\n",
    "        self.document_tokenizer = document_tokenizer\n",
    "        self.profile_embeddings = profile_embeddings.clone().detach()\n",
    "        self.max_seq_length = max_seq_length\n",
    "                 \n",
    "    def to(self, device):\n",
    "        self.model.to(device)\n",
    "        self.profile_embeddings = self.profile_embeddings.to(device)\n",
    "        return self # so semantics `model = MyModelWrapper().to('cuda')` works properly\n",
    "\n",
    "    def __call__(self, text_input_list):\n",
    "        model_device = next(self.model.parameters()).device\n",
    "\n",
    "        tokenized_documents = self.document_tokenizer.batch_encode_plus(\n",
    "            text_input_list,\n",
    "            max_length=self.max_seq_length,\n",
    "            padding='max_length',\n",
    "            truncation=True,\n",
    "            return_tensors='pt',\n",
    "        )\n",
    "        batch = {f\"document__{k}\": v for k,v in tokenized_documents.items()}\n",
    "\n",
    "        with torch.no_grad():\n",
    "            document_embeddings = self.model.forward_document(batch=batch, document_type='document')\n",
    "            document_to_profile_logits = document_embeddings @ (self.profile_embeddings.T)\n",
    "        # breakpoint()\n",
    "        assert document_to_profile_logits.shape == (len(text_input_list), len(self.profile_embeddings))\n",
    "        return document_to_profile_logits\n",
    "\n",
    "    \n",
    "rt_mw = ModelWrapper(rt, dm.document_tokenizer, rt_profile_embeddings).to('cuda')\n",
    "rr_mw = ModelWrapper(rr, dm.document_tokenizer, rr_profile_embeddings).to('cuda')"
   ]
  },
  {
   "cell_type": "code",
   "execution_count": 85,
   "id": "70941077-7f4e-4346-be7e-e38515d0add9",
   "metadata": {},
   "outputs": [],
   "source": [
    "def call_rr(s: str):\n",
    "    probs = rr_mw([s]).softmax(1)\n",
    "    return (label_names[probs.argmax()], probs.argmax().item(), probs.max().item())\n",
    "\n",
    "def call_rt(s: str):\n",
    "    probs = rt_mw([s]).softmax(1)\n",
    "    return (label_names[probs.argmax()], probs.argmax().item(), probs.max().item())"
   ]
  },
  {
   "cell_type": "code",
   "execution_count": 69,
   "id": "855ee1f3-2015-48db-a29c-7e50431d5645",
   "metadata": {},
   "outputs": [],
   "source": [
    "s = \"\"\"<mask> <mask> ( born september 5 , 1980 ) is a retired angolan football player .\n",
    "he has played for angola national team .\"\"\""
   ]
  },
  {
   "cell_type": "code",
   "execution_count": 83,
   "id": "9213140f-913c-49df-a2d6-3da5d8502357",
   "metadata": {},
   "outputs": [
    {
     "data": {
      "text/plain": [
       "('Renato Campos', 8, 0.9660568833351135)"
      ]
     },
     "execution_count": 83,
     "metadata": {},
     "output_type": "execute_result"
    }
   ],
   "source": [
    "call_rr(s)"
   ]
  },
  {
   "cell_type": "code",
   "execution_count": 71,
   "id": "2d99bdb3-55c7-41e5-b3bf-c8e2cb90c576",
   "metadata": {},
   "outputs": [
    {
     "data": {
      "text/plain": [
       "('Renato Campos', tensor(8, device='cuda:0'), tensor(14.1193, device='cuda:0'))"
      ]
     },
     "execution_count": 71,
     "metadata": {},
     "output_type": "execute_result"
    }
   ],
   "source": [
    "call_rt(s)"
   ]
  },
  {
   "cell_type": "code",
   "execution_count": 72,
   "id": "9a2e6025-faa5-47aa-bddf-7ea12adef834",
   "metadata": {},
   "outputs": [
    {
     "data": {
      "text/plain": [
       "('V. Kalpana',\n",
       " tensor(105389, device='cuda:0'),\n",
       " tensor(11.3553, device='cuda:0'))"
      ]
     },
     "execution_count": 72,
     "metadata": {},
     "output_type": "execute_result"
    }
   ],
   "source": [
    "call_rt(\"\"\"shashi gupta ( born 3 april 1964 in delhi , india ) is a former test and one day international cricketer who represented india .\n",
    "<mask> played a total of 13 tests and 20 odis .\"\"\")"
   ]
  },
  {
   "cell_type": "code",
   "execution_count": 86,
   "id": "85a549c7-a0f0-47a6-99a1-f985df6d9086",
   "metadata": {},
   "outputs": [
    {
     "data": {
      "text/plain": [
       "('Shashi Gupta', 22, 0.973254382610321)"
      ]
     },
     "execution_count": 86,
     "metadata": {},
     "output_type": "execute_result"
    }
   ],
   "source": [
    "call_rr(\"\"\"shashi gupta ( born 3 april 1964 in delhi , india ) is a former test and one day international cricketer who represented india .\n",
    "<mask> played a total of 13 tests and 20 odis .\"\"\")"
   ]
  },
  {
   "cell_type": "code",
   "execution_count": 87,
   "id": "973c6d87-5aa1-440c-85ba-6d10db1f411a",
   "metadata": {},
   "outputs": [
    {
     "data": {
      "text/plain": [
       "('Joseph Gatt', 636213, 0.2938927412033081)"
      ]
     },
     "execution_count": 87,
     "metadata": {},
     "output_type": "execute_result"
    }
   ],
   "source": [
    "call_rt(\"\"\"<mask> <mask> ( born 8 august 1974 ) is an english actor .\"\"\")"
   ]
  },
  {
   "cell_type": "code",
   "execution_count": 88,
   "id": "4df6815c-6ea4-43d2-8734-f4652cf3ca18",
   "metadata": {},
   "outputs": [
    {
     "data": {
      "text/plain": [
       "('Enzo Cilenti', 26, 0.9484702944755554)"
      ]
     },
     "execution_count": 88,
     "metadata": {},
     "output_type": "execute_result"
    }
   ],
   "source": [
    "call_rr(\"\"\"<mask> <mask> ( born 8 august 1974 ) is an english actor .\"\"\")"
   ]
  },
  {
   "cell_type": "code",
   "execution_count": 89,
   "id": "9bb92bd1-79b3-46d8-9f11-7867c2aa0210",
   "metadata": {},
   "outputs": [
    {
     "data": {
      "text/plain": [
       "('Joseph Gatt', 636213, 0.2938927412033081)"
      ]
     },
     "execution_count": 89,
     "metadata": {},
     "output_type": "execute_result"
    }
   ],
   "source": [
    "call_rt(\"\"\"<mask> <mask> ( born 8 august 1974 ) is an english actor .\"\"\")"
   ]
  },
  {
   "cell_type": "code",
   "execution_count": 90,
   "id": "bb0b0b3d-54d1-4021-92ef-62b8cb42e14b",
   "metadata": {},
   "outputs": [
    {
     "data": {
      "text/plain": [
       "('Abdülhamit Yıldız', 52, 0.3911619484424591)"
      ]
     },
     "execution_count": 90,
     "metadata": {},
     "output_type": "execute_result"
    }
   ],
   "source": [
    "call_rt(\"\"\"<mask> <mask> ( born 7 june 1987 in diyarbakır ) is a turkish footballer currently playing for <mask> .\n",
    "he previously played for dutch side fc volendam .\"\"\")"
   ]
  },
  {
   "cell_type": "code",
   "execution_count": 103,
   "id": "4e6dcfc7-9aa5-4ce8-924c-e07679b026ca",
   "metadata": {},
   "outputs": [
    {
     "data": {
      "text/plain": [
       "('Volkan Şen', 102010, 0.19035562872886658)"
      ]
     },
     "execution_count": 104,
     "metadata": {},
     "output_type": "execute_result"
    }
   ],
   "source": [
    "call_rr(\"\"\"<mask> <mask> ( born 7 june 1987 in diyarbakır ) is a turkish footballer currently playing for <mask> .\n",
    "<mask> <mask> played for dutch side fc volendam .\"\"\")"
   ]
  },
  {
   "cell_type": "code",
   "execution_count": 105,
   "id": "c4b1bc72-ef71-4715-b11a-43540ce2e89a",
   "metadata": {},
   "outputs": [
    {
     "data": {
      "text/plain": [
       "('André Salvador', 17, 0.7410120368003845)"
      ]
     },
     "execution_count": 105,
     "metadata": {},
     "output_type": "execute_result"
    }
   ],
   "source": [
    "call_rt(\"\"\"<mask> <mask> <mask> <mask> ( born <mask> <mask> <mask> in portimão ) is a portuguese footballer who plays for portimonense s.c. as a midfielder .\"\"\")"
   ]
  },
  {
   "cell_type": "code",
   "execution_count": 106,
   "id": "95c363b0-7f2f-4522-bb7f-952704c61b6d",
   "metadata": {},
   "outputs": [
    {
     "data": {
      "text/plain": [
       "('Craig Kinsley', 105923, 0.5525273680686951)"
      ]
     },
     "execution_count": 106,
     "metadata": {},
     "output_type": "execute_result"
    }
   ],
   "source": [
    "call_rt(\"\"\"<mask> <mask> ( born december 31 , <mask> ) is an american javelin <mask> .\n",
    "he currently attends the university of <mask> .\n",
    "while a senior at gresham high school , <mask> was named gatorade high school track and field <mask> of the year 2010 .\n",
    "on may 1 , 2010 , he set the national high school record at 244 ' 2 '' ( 74.42 m ) .\n",
    "this was broken in 2012 by billy stanley of south park , pa. .\n",
    "he competed javelin at the 2012 olympic trials in eugene , oregon .\n",
    "he was ranked # 6 in the us three years in a row , 2012 to 2014 .\n",
    "his uncle brian crouser competed in the javelin throw at the 1988 and 1992 summer olympics .\n",
    "in 2011 , cousin ryan crouser joined sam , setting the national high school record in the discus throw for cross town rival sam barlow high school .\n",
    "then in 2012 , sister haley completed the family trifecta by setting the national high school record in the girl 's javelin throw .\"\"\")"
   ]
  },
  {
   "cell_type": "code",
   "execution_count": 122,
   "id": "e3930844-5d00-4a5c-a99d-035b5932b746",
   "metadata": {},
   "outputs": [
    {
     "data": {
      "text/plain": [
       "('Sam Crouser', 87, 0.3870806396007538)"
      ]
     },
     "execution_count": 122,
     "metadata": {},
     "output_type": "execute_result"
    }
   ],
   "source": [
    "call_rr(\"\"\"<mask> <mask> ( born december <mask> , <mask> ) is an <mask> <mask> <mask> .\n",
    "he currently attends the university of <mask> .\n",
    "while a <mask> at gresham high school , <mask> was named gatorade high school track and field <mask> of the year <mask> .\n",
    "on may 1 , 2010 , he set the national high school record at <mask> ' 2 '' ( 74.42 m ) .\n",
    "this was broken in <mask> by billy stanley of south park , pa. .\n",
    "he competed javelin at the 2012 olympic trials in <mask> , <mask> .\n",
    "he was ranked # 6 in the us three years in a row , <mask> to 2014 .\"\"\")"
   ]
  },
  {
   "cell_type": "code",
   "execution_count": null,
   "id": "2ff0070a-25b7-4dd7-90e9-d0b011ca774a",
   "metadata": {},
   "outputs": [],
   "source": []
  }
 ],
 "metadata": {
  "kernelspec": {
   "display_name": "Python 3",
   "language": "python",
   "name": "python3"
  },
  "language_info": {
   "codemirror_mode": {
    "name": "ipython",
    "version": 3
   },
   "file_extension": ".py",
   "mimetype": "text/x-python",
   "name": "python",
   "nbconvert_exporter": "python",
   "pygments_lexer": "ipython3",
   "version": "3.9.7"
  }
 },
 "nbformat": 4,
 "nbformat_minor": 5
}
