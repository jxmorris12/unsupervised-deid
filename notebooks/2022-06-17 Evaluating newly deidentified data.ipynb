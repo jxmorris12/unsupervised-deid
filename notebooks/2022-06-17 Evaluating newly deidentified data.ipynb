{
 "cells": [
  {
   "cell_type": "markdown",
   "id": "ee3af336-3aa6-4a1f-9697-7f430b398e58",
   "metadata": {},
   "source": [
    "### Evaluating deidentified data\n",
    "\n",
    "After training a new set of models I deidentified a small amount of data (k=1, n=100, b=2). Now i'm going to evaluate it."
   ]
  },
  {
   "cell_type": "code",
   "execution_count": 1,
   "id": "587d407a-edc2-4835-a333-3a5a81449d4b",
   "metadata": {},
   "outputs": [
    {
     "name": "stdout",
     "output_type": "stream",
     "text": [
      "Warning: set num_workers to 1, expect dataloader bottleneck\n",
      "Initializing WikipediaDataModule with num_workers = 1 and mask token `<mask>`\n",
      "loading wiki_bio[1.2.0] split train[:1]\n"
     ]
    },
    {
     "name": "stderr",
     "output_type": "stream",
     "text": [
      "Using custom data configuration default\n",
      "Reusing dataset wiki_bio (/home/jxm3/.cache/huggingface/datasets/wiki_bio/default/1.2.0/c05ce066e9026831cd7535968a311fc80f074b58868cfdffccbc811dff2ab6da)\n"
     ]
    },
    {
     "name": "stdout",
     "output_type": "stream",
     "text": [
      "loading wiki_bio[1.2.0] split val[:20%]\n"
     ]
    },
    {
     "name": "stderr",
     "output_type": "stream",
     "text": [
      "Using custom data configuration default\n",
      "Reusing dataset wiki_bio (/home/jxm3/.cache/huggingface/datasets/wiki_bio/default/1.2.0/c05ce066e9026831cd7535968a311fc80f074b58868cfdffccbc811dff2ab6da)\n",
      "Loading cached processed dataset at /home/jxm3/.cache/huggingface/datasets/wiki_bio/default/1.2.0/c05ce066e9026831cd7535968a311fc80f074b58868cfdffccbc811dff2ab6da/cache-wiki_bio_train__1__1.2.0__wiki.arrow\n",
      "Loading cached processed dataset at /home/jxm3/.cache/huggingface/datasets/wiki_bio/default/1.2.0/c05ce066e9026831cd7535968a311fc80f074b58868cfdffccbc811dff2ab6da/cache-wiki_bio_val__20___1.2.0__wiki.arrow\n",
      "Loading cached processed dataset at /home/jxm3/.cache/huggingface/datasets/wiki_bio/default/1.2.0/c05ce066e9026831cd7535968a311fc80f074b58868cfdffccbc811dff2ab6da/cache-wiki_bio_val__20___1.2.0__lexical_redacted.arrow\n",
      "Loading cached processed dataset at /home/jxm3/.cache/huggingface/datasets/wiki_bio/default/1.2.0/c05ce066e9026831cd7535968a311fc80f074b58868cfdffccbc811dff2ab6da/cache-wiki_bio_val__20___1.2.0__spacy_redacted.arrow\n",
      "Loading cached processed dataset at /home/jxm3/.cache/huggingface/datasets/wiki_bio/default/1.2.0/c05ce066e9026831cd7535968a311fc80f074b58868cfdffccbc811dff2ab6da/cache-wiki_bio_val__20___1.2.0__idf20_redacted.arrow\n",
      "Loading cached processed dataset at /home/jxm3/.cache/huggingface/datasets/wiki_bio/default/1.2.0/c05ce066e9026831cd7535968a311fc80f074b58868cfdffccbc811dff2ab6da/cache-wiki_bio_val__20___1.2.0__idf40_redacted.arrow\n",
      "Loading cached processed dataset at /home/jxm3/.cache/huggingface/datasets/wiki_bio/default/1.2.0/c05ce066e9026831cd7535968a311fc80f074b58868cfdffccbc811dff2ab6da/cache-wiki_bio_val__20___1.2.0__idf60_redacted.arrow\n",
      "Loading cached processed dataset at /home/jxm3/.cache/huggingface/datasets/wiki_bio/default/1.2.0/c05ce066e9026831cd7535968a311fc80f074b58868cfdffccbc811dff2ab6da/cache-wiki_bio_val__20___1.2.0__idf80_redacted.arrow\n",
      "Loading cached processed dataset at /home/jxm3/.cache/huggingface/datasets/wiki_bio/default/1.2.0/c05ce066e9026831cd7535968a311fc80f074b58868cfdffccbc811dff2ab6da/cache-wiki_bio_train__1__1.2.0__128_roberta-base_google_tapas-base_tokenized.arrow\n",
      "Loading cached processed dataset at /home/jxm3/.cache/huggingface/datasets/wiki_bio/default/1.2.0/c05ce066e9026831cd7535968a311fc80f074b58868cfdffccbc811dff2ab6da/cache-wiki_bio_val__20___1.2.0__128_roberta-base_google_tapas-base_tokenized.arrow\n"
     ]
    }
   ],
   "source": [
    "import sys\n",
    "sys.path.append('/home/jxm3/research/deidentification/unsupervised-deidentification')\n",
    "\n",
    "from dataloader import WikipediaDataModule\n",
    "\n",
    "import os\n",
    "\n",
    "num_cpus = os.cpu_count()\n",
    "dm = WikipediaDataModule(\n",
    "    document_model_name_or_path=\"roberta-base\",\n",
    "    profile_model_name_or_path=\"google/tapas-base\",\n",
    "    max_seq_length=128,\n",
    "    dataset_name='wiki_bio',\n",
    "    dataset_train_split='train[:1]', # not used\n",
    "    dataset_val_split='val[:20%]',\n",
    "    dataset_version='1.2.0',\n",
    "    word_dropout_ratio=0.0,\n",
    "    word_dropout_perc=0.0,\n",
    "    num_workers=1,\n",
    "    train_batch_size=64,\n",
    "    eval_batch_size=64\n",
    ")\n",
    "dm.setup(\"fit\")"
   ]
  },
  {
   "cell_type": "code",
   "execution_count": 2,
   "id": "cff1f642-1464-4420-a5e7-08df93299d61",
   "metadata": {},
   "outputs": [],
   "source": [
    "import pandas as pd"
   ]
  },
  {
   "cell_type": "markdown",
   "id": "2ad55fa6-5343-4387-b24a-a4fe11b2fea6",
   "metadata": {},
   "source": [
    "### Load pre-generated redacted data from various models.\n",
    "\n",
    "Models are explained in `../model_cfg.py`."
   ]
  },
  {
   "cell_type": "code",
   "execution_count": 13,
   "id": "8db17d85-a174-4571-9c5e-b32268eef2f8",
   "metadata": {},
   "outputs": [
    {
     "name": "stdout",
     "output_type": "stream",
     "text": [
      "model_4 ['../adv_csvs/model_4/results_1_100.csv']\n",
      "model_5 ['../adv_csvs/model_5/results_1_100.csv']\n",
      "model_6 ['../adv_csvs/model_6/results_1_100.csv']\n",
      "model_7 []\n",
      "model_8 ['../adv_csvs/model_8_1day/results_1_1000.csv', '../adv_csvs/model_8_ls0.1/results_1_1000.csv', '../adv_csvs/model_8_ls0.01/results_1_1000.csv']\n",
      "model_9 ['../adv_csvs/model_9_ls0.1/results_1_1000.csv', '../adv_csvs/model_9_ls0.01/results_1_1000.csv', '../adv_csvs/model_9_ls0.05/results_1_1000.csv']\n",
      "model_2_1 ['../adv_csvs/model_2_1/results_1_100.csv']\n",
      "model_2_2 ['../adv_csvs/model_2_2/results_1_100.csv']\n",
      "model_2_3 ['../adv_csvs/model_2_3/results_1_100.csv']\n",
      "model_2_4 ['../adv_csvs/model_2_4/results_1_100.csv']\n",
      "model_2_5 ['../adv_csvs/model_2_5/results_1_100.csv']\n",
      "model_3_1 ['../adv_csvs/model_3_1/results_1_30.csv']\n"
     ]
    }
   ],
   "source": [
    "import glob\n",
    "import re\n",
    "\n",
    "import pandas as pd\n",
    "\n",
    "\n",
    "adv_df = None\n",
    "for model_name in ['model_4', 'model_5', 'model_6', 'model_7', 'model_8', 'model_9', 'model_2_1', 'model_2_2', 'model_2_3', 'model_2_4', 'model_2_5', 'model_3_1']:\n",
    "    csv_filenames = glob.glob(f'../adv_csvs/{model_name}*/results_1_*0.csv')\n",
    "    print(model_name, csv_filenames)\n",
    "    for filename in csv_filenames:\n",
    "        df = pd.read_csv(filename)\n",
    "        df['model_name'] = re.search(r'adv_csvs/(model_\\d.*)/.+.csv', filename).group(1)\n",
    "        df['i'] = df.index\n",
    "        \n",
    "        df = df[df['result_type'] == 'Successful'] # Take only successful 'attacks', i.e. ones that actually fooled this model.\n",
    "        \n",
    "        mini_df = df[['perturbed_text', 'model_name', 'i']]\n",
    "        \n",
    "        mini_df = mini_df.iloc[:100]\n",
    "        \n",
    "        if adv_df is None:\n",
    "            adv_df = mini_df\n",
    "        else:\n",
    "            adv_df = pd.concat((adv_df, mini_df), axis=0)"
   ]
  },
  {
   "cell_type": "code",
   "execution_count": 14,
   "id": "831f1d03-5195-45a2-bc3d-39f159a0d89c",
   "metadata": {},
   "outputs": [
    {
     "data": {
      "text/html": [
       "<div>\n",
       "<style scoped>\n",
       "    .dataframe tbody tr th:only-of-type {\n",
       "        vertical-align: middle;\n",
       "    }\n",
       "\n",
       "    .dataframe tbody tr th {\n",
       "        vertical-align: top;\n",
       "    }\n",
       "\n",
       "    .dataframe thead th {\n",
       "        text-align: right;\n",
       "    }\n",
       "</style>\n",
       "<table border=\"1\" class=\"dataframe\">\n",
       "  <thead>\n",
       "    <tr style=\"text-align: right;\">\n",
       "      <th></th>\n",
       "      <th>perturbed_text</th>\n",
       "      <th>i</th>\n",
       "    </tr>\n",
       "    <tr>\n",
       "      <th>model_name</th>\n",
       "      <th></th>\n",
       "      <th></th>\n",
       "    </tr>\n",
       "  </thead>\n",
       "  <tbody>\n",
       "    <tr>\n",
       "      <th>model_2_1</th>\n",
       "      <td>100</td>\n",
       "      <td>100</td>\n",
       "    </tr>\n",
       "    <tr>\n",
       "      <th>model_2_2</th>\n",
       "      <td>100</td>\n",
       "      <td>100</td>\n",
       "    </tr>\n",
       "    <tr>\n",
       "      <th>model_2_3</th>\n",
       "      <td>98</td>\n",
       "      <td>98</td>\n",
       "    </tr>\n",
       "    <tr>\n",
       "      <th>model_2_4</th>\n",
       "      <td>100</td>\n",
       "      <td>100</td>\n",
       "    </tr>\n",
       "    <tr>\n",
       "      <th>model_2_5</th>\n",
       "      <td>100</td>\n",
       "      <td>100</td>\n",
       "    </tr>\n",
       "    <tr>\n",
       "      <th>model_3_1</th>\n",
       "      <td>21</td>\n",
       "      <td>21</td>\n",
       "    </tr>\n",
       "    <tr>\n",
       "      <th>model_4</th>\n",
       "      <td>100</td>\n",
       "      <td>100</td>\n",
       "    </tr>\n",
       "    <tr>\n",
       "      <th>model_5</th>\n",
       "      <td>98</td>\n",
       "      <td>98</td>\n",
       "    </tr>\n",
       "    <tr>\n",
       "      <th>model_6</th>\n",
       "      <td>100</td>\n",
       "      <td>100</td>\n",
       "    </tr>\n",
       "    <tr>\n",
       "      <th>model_8_1day</th>\n",
       "      <td>100</td>\n",
       "      <td>100</td>\n",
       "    </tr>\n",
       "    <tr>\n",
       "      <th>model_8_ls0.01</th>\n",
       "      <td>100</td>\n",
       "      <td>100</td>\n",
       "    </tr>\n",
       "    <tr>\n",
       "      <th>model_8_ls0.1</th>\n",
       "      <td>100</td>\n",
       "      <td>100</td>\n",
       "    </tr>\n",
       "    <tr>\n",
       "      <th>model_9_ls0.01</th>\n",
       "      <td>100</td>\n",
       "      <td>100</td>\n",
       "    </tr>\n",
       "    <tr>\n",
       "      <th>model_9_ls0.05</th>\n",
       "      <td>100</td>\n",
       "      <td>100</td>\n",
       "    </tr>\n",
       "    <tr>\n",
       "      <th>model_9_ls0.1</th>\n",
       "      <td>100</td>\n",
       "      <td>100</td>\n",
       "    </tr>\n",
       "  </tbody>\n",
       "</table>\n",
       "</div>"
      ],
      "text/plain": [
       "                perturbed_text    i\n",
       "model_name                         \n",
       "model_2_1                  100  100\n",
       "model_2_2                  100  100\n",
       "model_2_3                   98   98\n",
       "model_2_4                  100  100\n",
       "model_2_5                  100  100\n",
       "model_3_1                   21   21\n",
       "model_4                    100  100\n",
       "model_5                     98   98\n",
       "model_6                    100  100\n",
       "model_8_1day               100  100\n",
       "model_8_ls0.01             100  100\n",
       "model_8_ls0.1              100  100\n",
       "model_9_ls0.01             100  100\n",
       "model_9_ls0.05             100  100\n",
       "model_9_ls0.1              100  100"
      ]
     },
     "execution_count": 14,
     "metadata": {},
     "output_type": "execute_result"
    }
   ],
   "source": [
    "adv_df.groupby('model_name').count()"
   ]
  },
  {
   "cell_type": "markdown",
   "id": "cb3fb6a4-9cbe-4dc6-b55d-f2e582396d2d",
   "metadata": {},
   "source": [
    "### Get baseline redacted data\n",
    "\n",
    "Redacted via NER and Lexical redaction."
   ]
  },
  {
   "cell_type": "code",
   "execution_count": 15,
   "id": "27f0ab95-ed25-4523-8372-a0f727bfe101",
   "metadata": {},
   "outputs": [],
   "source": [
    "mini_val_dataset = dm.val_dataset[:100]\n",
    "ner_df = pd.DataFrame(\n",
    "    columns=['perturbed_text'],\n",
    "    data=mini_val_dataset['document_redact_ner']\n",
    ")\n",
    "ner_df['model_name'] = 'named_entity'\n",
    "ner_df['i'] = ner_df.index\n",
    "       \n",
    "lex_df = pd.DataFrame(\n",
    "    columns=['perturbed_text'],\n",
    "    data=mini_val_dataset['document_redact_lexical']\n",
    ")\n",
    "lex_df['model_name'] = 'lexical'\n",
    "lex_df['i'] = lex_df.index\n",
    "\n",
    "baseline_df = pd.concat((lex_df, ner_df), axis=0)"
   ]
  },
  {
   "cell_type": "code",
   "execution_count": 16,
   "id": "09c8b0d3-2053-4154-98cc-642fa875fb73",
   "metadata": {},
   "outputs": [
    {
     "data": {
      "text/html": [
       "<div>\n",
       "<style scoped>\n",
       "    .dataframe tbody tr th:only-of-type {\n",
       "        vertical-align: middle;\n",
       "    }\n",
       "\n",
       "    .dataframe tbody tr th {\n",
       "        vertical-align: top;\n",
       "    }\n",
       "\n",
       "    .dataframe thead th {\n",
       "        text-align: right;\n",
       "    }\n",
       "</style>\n",
       "<table border=\"1\" class=\"dataframe\">\n",
       "  <thead>\n",
       "    <tr style=\"text-align: right;\">\n",
       "      <th></th>\n",
       "      <th>perturbed_text</th>\n",
       "      <th>model_name</th>\n",
       "      <th>i</th>\n",
       "    </tr>\n",
       "  </thead>\n",
       "  <tbody>\n",
       "    <tr>\n",
       "      <th>0</th>\n",
       "      <td>&lt;mask&gt; &lt;mask&gt; &lt;mask&gt; &lt;mask&gt; &lt;mask&gt; ( also know...</td>\n",
       "      <td>lexical</td>\n",
       "      <td>0</td>\n",
       "    </tr>\n",
       "    <tr>\n",
       "      <th>1</th>\n",
       "      <td>&lt;mask&gt; &lt;mask&gt; is a male former table tennis pl...</td>\n",
       "      <td>lexical</td>\n",
       "      <td>1</td>\n",
       "    </tr>\n",
       "    <tr>\n",
       "      <th>2</th>\n",
       "      <td>&lt;mask&gt; &lt;mask&gt; ( born &lt;mask&gt; &lt;mask&gt; &lt;mask&gt; ) is...</td>\n",
       "      <td>lexical</td>\n",
       "      <td>2</td>\n",
       "    </tr>\n",
       "    <tr>\n",
       "      <th>3</th>\n",
       "      <td>&lt;mask&gt; &lt;mask&gt; , ( born &lt;mask&gt; &lt;mask&gt; , &lt;mask&gt; ...</td>\n",
       "      <td>lexical</td>\n",
       "      <td>3</td>\n",
       "    </tr>\n",
       "    <tr>\n",
       "      <th>4</th>\n",
       "      <td>&lt;mask&gt; l. &lt;mask&gt; is a former &lt;mask&gt; member of ...</td>\n",
       "      <td>lexical</td>\n",
       "      <td>4</td>\n",
       "    </tr>\n",
       "  </tbody>\n",
       "</table>\n",
       "</div>"
      ],
      "text/plain": [
       "                                      perturbed_text model_name  i\n",
       "0  <mask> <mask> <mask> <mask> <mask> ( also know...    lexical  0\n",
       "1  <mask> <mask> is a male former table tennis pl...    lexical  1\n",
       "2  <mask> <mask> ( born <mask> <mask> <mask> ) is...    lexical  2\n",
       "3  <mask> <mask> , ( born <mask> <mask> , <mask> ...    lexical  3\n",
       "4  <mask> l. <mask> is a former <mask> member of ...    lexical  4"
      ]
     },
     "execution_count": 16,
     "metadata": {},
     "output_type": "execute_result"
    }
   ],
   "source": [
    "baseline_df.head()"
   ]
  },
  {
   "cell_type": "code",
   "execution_count": 17,
   "id": "ae7d0c10-2f6a-4ee6-836b-a3cc73e2084d",
   "metadata": {},
   "outputs": [
    {
     "data": {
      "text/plain": [
       "model_4           100\n",
       "model_9_ls0.01    100\n",
       "lexical           100\n",
       "model_2_5         100\n",
       "model_2_4         100\n",
       "model_2_2         100\n",
       "model_2_1         100\n",
       "model_9_ls0.05    100\n",
       "model_9_ls0.1     100\n",
       "model_8_ls0.01    100\n",
       "model_8_ls0.1     100\n",
       "model_8_1day      100\n",
       "model_6           100\n",
       "named_entity      100\n",
       "model_5            98\n",
       "model_2_3          98\n",
       "model_3_1          21\n",
       "Name: model_name, dtype: int64"
      ]
     },
     "execution_count": 17,
     "metadata": {},
     "output_type": "execute_result"
    }
   ],
   "source": [
    "full_df = pd.concat((adv_df, baseline_df), axis=0)\n",
    "full_df['model_name'].value_counts()"
   ]
  },
  {
   "cell_type": "code",
   "execution_count": 18,
   "id": "8e60d4f1-21de-4b56-8294-589c8521cb9d",
   "metadata": {},
   "outputs": [],
   "source": [
    "# this line puts newlines back\n",
    "full_df['perturbed_text'] = full_df['perturbed_text'].apply(lambda s: s.replace('<SPLIT>', '\\n'))\n",
    "\n",
    "# this line replaces BERT-style masks (from PMLM) with roberta-style ones, so we can\n",
    "# count them in a single command\n",
    "full_df['perturbed_text'] = full_df['perturbed_text'].apply(lambda s: s.replace('[MASK]', '<mask>'))"
   ]
  },
  {
   "cell_type": "markdown",
   "id": "4a7a07d4-d5d2-4861-8a1c-e26dcb05d2ef",
   "metadata": {},
   "source": [
    "### Truncating\n",
    "\n",
    "Hugely important step that was missing in the prior analysis!"
   ]
  },
  {
   "cell_type": "code",
   "execution_count": 19,
   "id": "8d18cd42-940d-412b-a038-a655a4cb8181",
   "metadata": {},
   "outputs": [],
   "source": [
    "import transformers\n",
    "tokenizer = transformers.AutoTokenizer.from_pretrained('roberta-base')"
   ]
  },
  {
   "cell_type": "code",
   "execution_count": 20,
   "id": "60f96e1c-b126-4edd-b620-a347db34b9c5",
   "metadata": {},
   "outputs": [
    {
     "name": "stdout",
     "output_type": "stream",
     "text": [
      "<mask> <mask> (born 4 <mask> <mask>) is a danish professional football midfielder , who currently plays for danish 1st division side <mask> boldklub .\n",
      "<mask> began playing football in kolt-hasselager if , where he was picked for agf , where he got his other footballing education .\n",
      "he was part of the year ' 88 , who won in the junior league , like michael lumb , frederik krabbe , michael vester , niels kristensen , morten beck andersen and anders syberg , who all had the onset of agf 's 1 .\n",
      "hold .\n",
      "in the autumn of 2009 he was loaned to næstved bk , and just before winter transfer window end he switched permanently to the club .\n",
      "in 2010 he changed to fc fredericia , where he played until 2012 when he got vendsyssel ff as a new club in january 2015 he was given at his own request that he want to terminated his contract with the vendsyssel ff .\n",
      "on 6 february 2015 he signed a two-year contract with lyngby boldklub\n",
      "\n",
      "\n",
      "<mask> <mask> (born 4 <mask> <mask> ) is a danish professional football midfielder, who currently plays for danish 1st division side <mask> boldklub. <mask> began playing football in kolt-hasselager if, where he was picked for agf, where he got his other footballing education.\n",
      "he was part of the year'88, who won in the junior league, like michael lumb, frederik krabbe, michael vester, niels kristensen, morten beck andersen and anders syberg, who all had the onset of agf's 1.\n"
     ]
    }
   ],
   "source": [
    "def truncate_text(text: str, max_length=128) -> str:\n",
    "    input_ids = tokenizer(text, truncation=True, max_length=128)['input_ids']\n",
    "    reconstructed_text = (\n",
    "        tokenizer\n",
    "            .decode(input_ids)\n",
    "            .replace('<mask>', ' <mask> ')\n",
    "            .replace('  <mask>', ' <mask>')\n",
    "            .replace('<mask>  ', '<mask> ')\n",
    "            .replace('<s>', '')\n",
    "            .replace('</s>', '')\n",
    "            .strip()\n",
    "    )\n",
    "    return reconstructed_text\n",
    "\n",
    "# truncate_text(sample_long_text)\n",
    "sample_long_text = full_df['perturbed_text'].iloc[14]\n",
    "print(sample_long_text)\n",
    "print()\n",
    "print(truncate_text(sample_long_text))"
   ]
  },
  {
   "cell_type": "code",
   "execution_count": 21,
   "id": "bb57c311-625e-4b52-8f9d-0660b844fc61",
   "metadata": {},
   "outputs": [],
   "source": [
    "full_df['perturbed_text_truncated'] = full_df['perturbed_text'].apply(truncate_text)"
   ]
  },
  {
   "cell_type": "markdown",
   "id": "c7183217-9829-479d-9c48-107dcf058c66",
   "metadata": {},
   "source": [
    "### Measuring utility"
   ]
  },
  {
   "cell_type": "markdown",
   "id": "3fca4a54-e410-4cc7-bc4a-b611a34182d4",
   "metadata": {},
   "source": [
    "Unit 1: number of redacted words."
   ]
  },
  {
   "cell_type": "code",
   "execution_count": 22,
   "id": "c8323e45-6c62-4e9f-8481-04abd3cfeeac",
   "metadata": {},
   "outputs": [],
   "source": [
    "def count_masks(s):\n",
    "    return s.count('<mask>')"
   ]
  },
  {
   "cell_type": "code",
   "execution_count": 23,
   "id": "fc33e2cd-5366-44ab-82e6-b5238623177d",
   "metadata": {},
   "outputs": [
    {
     "data": {
      "text/plain": [
       "model_name\n",
       "lexical           16.540000\n",
       "model_2_1          6.970000\n",
       "model_2_2          8.960000\n",
       "model_2_3         13.632653\n",
       "model_2_4         15.270000\n",
       "model_2_5         15.090000\n",
       "model_3_1          0.000000\n",
       "model_4            9.450000\n",
       "model_5            9.887755\n",
       "model_6            3.540000\n",
       "model_8_1day      14.060000\n",
       "model_8_ls0.01    12.930000\n",
       "model_8_ls0.1     12.960000\n",
       "model_9_ls0.01    10.510000\n",
       "model_9_ls0.05     9.250000\n",
       "model_9_ls0.1      8.570000\n",
       "named_entity      13.940000\n",
       "Name: num_masks, dtype: float64"
      ]
     },
     "execution_count": 23,
     "metadata": {},
     "output_type": "execute_result"
    }
   ],
   "source": [
    "full_df['num_masks'] = full_df.apply(lambda s: count_masks(s['perturbed_text_truncated']), axis=1)\n",
    "full_df.groupby('model_name').mean()['num_masks']"
   ]
  },
  {
   "cell_type": "markdown",
   "id": "1eb4ae06-7b50-4ceb-8ac5-dcebe6b52119",
   "metadata": {},
   "source": [
    "Unit 2: compressed size."
   ]
  },
  {
   "cell_type": "code",
   "execution_count": 24,
   "id": "ea949db6-a381-41d0-8b86-411d5cccf3c7",
   "metadata": {},
   "outputs": [
    {
     "data": {
      "text/plain": [
       "157"
      ]
     },
     "execution_count": 24,
     "metadata": {},
     "output_type": "execute_result"
    }
   ],
   "source": [
    "import zlib\n",
    "\n",
    "def count_compressed_bytes(s: str) -> int:\n",
    "    return len(zlib.compress(s.encode()))\n",
    "\n",
    "teststr = \"\"\"Lorem ipsum dolor sit amet, consectetur adipiscing elit. Phasellus\n",
    "pretium justo eget elit eleifend, et dignissim quam eleifend. Nam vehicula nisl\n",
    "posuere velit volutpat, vitae scelerisque nisl imperdiet. Phasellus dignissim,\n",
    "dolor amet.\"\"\"\n",
    "\n",
    "count_compressed_bytes(teststr)"
   ]
  },
  {
   "cell_type": "code",
   "execution_count": 25,
   "id": "42c2f557-e424-455d-b989-700f2fd2a5f6",
   "metadata": {},
   "outputs": [],
   "source": [
    "original_text_truncated = [truncate_text(d) for d in mini_val_dataset['document']]"
   ]
  },
  {
   "cell_type": "code",
   "execution_count": 26,
   "id": "dffd904e-fd35-4309-92c9-5179675e7dd7",
   "metadata": {},
   "outputs": [
    {
     "data": {
      "text/plain": [
       "model_name\n",
       "lexical           0.152822\n",
       "model_2_1         0.076091\n",
       "model_2_2         0.092035\n",
       "model_2_3         0.129618\n",
       "model_2_4         0.147626\n",
       "model_2_5         0.150189\n",
       "model_3_1         0.874724\n",
       "model_4           0.097302\n",
       "model_5           0.107623\n",
       "model_6           0.040074\n",
       "model_8_1day      0.121646\n",
       "model_8_ls0.01    0.105559\n",
       "model_8_ls0.1     0.115951\n",
       "model_9_ls0.01    0.091608\n",
       "model_9_ls0.05    0.089900\n",
       "model_9_ls0.1     0.083707\n",
       "named_entity      0.125845\n",
       "dtype: float64"
      ]
     },
     "execution_count": 26,
     "metadata": {},
     "output_type": "execute_result"
    }
   ],
   "source": [
    "original_total_bytes = count_compressed_bytes('\\n'.join(original_text_truncated))\n",
    "\n",
    "1 - full_df.groupby('model_name').apply(lambda s: count_compressed_bytes('\\n'.join(s['perturbed_text_truncated']))) / original_total_bytes"
   ]
  },
  {
   "cell_type": "markdown",
   "id": "f138c756-198e-48e8-a96d-9a23872c8dea",
   "metadata": {},
   "source": [
    "### Reidentification rate (privacy metric)"
   ]
  },
  {
   "cell_type": "code",
   "execution_count": 27,
   "id": "ee4b5d33-67a4-4616-b28f-ced248d5ccf3",
   "metadata": {},
   "outputs": [],
   "source": [
    "from typing import List\n",
    "\n",
    "from nltk.corpus import stopwords\n",
    "from rank_bm25 import BM25Okapi\n",
    "\n",
    "eng_stopwords = stopwords.words('english')\n",
    "from tqdm.auto import tqdm\n",
    "tqdm.pandas()\n",
    "\n",
    "\n",
    "def get_words_from_doc(s: List[str]) -> List[str]:\n",
    "    words = s.split()\n",
    "    return [w for w in words if not w in eng_stopwords]"
   ]
  },
  {
   "cell_type": "code",
   "execution_count": 28,
   "id": "f9ac5f5c-be5a-475e-984d-6b6ed128ae82",
   "metadata": {},
   "outputs": [
    {
     "name": "stderr",
     "output_type": "stream",
     "text": [
      "Using custom data configuration default\n",
      "Reusing dataset wiki_bio (/home/jxm3/.cache/huggingface/datasets/wiki_bio/default/1.2.0/c05ce066e9026831cd7535968a311fc80f074b58868cfdffccbc811dff2ab6da)\n",
      "Loading cached processed dataset at /home/jxm3/.cache/huggingface/datasets/wiki_bio/default/1.2.0/c05ce066e9026831cd7535968a311fc80f074b58868cfdffccbc811dff2ab6da/cache-ba6837fc22371371.arrow\n"
     ]
    }
   ],
   "source": [
    "from typing import List\n",
    "\n",
    "from nltk.corpus import stopwords\n",
    "from rank_bm25 import BM25Okapi\n",
    "\n",
    "eng_stopwords = stopwords.words('english')\n",
    "from tqdm.auto import tqdm\n",
    "tqdm.pandas()\n",
    "\n",
    "\n",
    "def get_words_from_doc(s: List[str]) -> List[str]:\n",
    "    words = s.split()\n",
    "    return [w for w in words if not w in eng_stopwords]\n",
    "\n",
    "import datasets\n",
    "\n",
    "split = 'val[:20%]'\n",
    "prof_data = datasets.load_dataset('wiki_bio', split=split, version='1.2.0')\n",
    "\n",
    "def make_table_str(ex):\n",
    "    ex['table_str'] = (\n",
    "        ' '.join(ex['input_text']['table']['column_header'] + ex['input_text']['table']['content'])\n",
    "    )\n",
    "    return ex\n",
    "\n",
    "prof_data = prof_data.map(make_table_str)\n",
    "profile_corpus = prof_data['table_str']\n",
    "\n",
    "tokenized_profile_corpus = [\n",
    "    get_words_from_doc(prof) for prof in profile_corpus\n",
    "]\n",
    "\n",
    "bm25 = BM25Okapi(tokenized_profile_corpus)"
   ]
  },
  {
   "cell_type": "code",
   "execution_count": 29,
   "id": "d7813ad2-5f56-417d-9862-fb14a7cec6ed",
   "metadata": {},
   "outputs": [],
   "source": [
    "def get_top_k(ex):\n",
    "    query = ex[\"perturbed_text_truncated\"].split()\n",
    "    top_k = bm25.get_scores(query).argsort()[::-1]\n",
    "    ex[\"correct_idx\"] = top_k.tolist().index(ex[\"i\"])\n",
    "    ex[\"is_correct\"] = 1 if top_k[0] == ex[\"i\"] else 0\n",
    "    return ex"
   ]
  },
  {
   "cell_type": "code",
   "execution_count": 31,
   "id": "36ead0ac-6bbf-4b15-b5d8-38fd221bfa27",
   "metadata": {},
   "outputs": [
    {
     "data": {
      "text/html": [
       "<div>\n",
       "<style scoped>\n",
       "    .dataframe tbody tr th:only-of-type {\n",
       "        vertical-align: middle;\n",
       "    }\n",
       "\n",
       "    .dataframe tbody tr th {\n",
       "        vertical-align: top;\n",
       "    }\n",
       "\n",
       "    .dataframe thead th {\n",
       "        text-align: right;\n",
       "    }\n",
       "</style>\n",
       "<table border=\"1\" class=\"dataframe\">\n",
       "  <thead>\n",
       "    <tr style=\"text-align: right;\">\n",
       "      <th></th>\n",
       "      <th>perturbed_text</th>\n",
       "      <th>model_name</th>\n",
       "      <th>i</th>\n",
       "      <th>perturbed_text_truncated</th>\n",
       "      <th>num_masks</th>\n",
       "    </tr>\n",
       "  </thead>\n",
       "  <tbody>\n",
       "    <tr>\n",
       "      <th>0</th>\n",
       "      <td>pope &lt;mask&gt; &lt;mask&gt; &lt;mask&gt; alexandria (also kno...</td>\n",
       "      <td>model_4</td>\n",
       "      <td>0</td>\n",
       "      <td>pope &lt;mask&gt; &lt;mask&gt; &lt;mask&gt; alexandria (also kno...</td>\n",
       "      <td>9</td>\n",
       "    </tr>\n",
       "    <tr>\n",
       "      <th>1</th>\n",
       "      <td>&lt;mask&gt; &lt;mask&gt; is a male former &lt;mask&gt; &lt;mask&gt; p...</td>\n",
       "      <td>model_4</td>\n",
       "      <td>1</td>\n",
       "      <td>&lt;mask&gt; &lt;mask&gt; is a male former &lt;mask&gt; &lt;mask&gt; p...</td>\n",
       "      <td>6</td>\n",
       "    </tr>\n",
       "    <tr>\n",
       "      <th>2</th>\n",
       "      <td>&lt;mask&gt; &lt;mask&gt; (born 30 &lt;mask&gt; &lt;mask&gt;) is a tur...</td>\n",
       "      <td>model_4</td>\n",
       "      <td>2</td>\n",
       "      <td>&lt;mask&gt; &lt;mask&gt; (born 30 &lt;mask&gt; &lt;mask&gt; ) is a tu...</td>\n",
       "      <td>6</td>\n",
       "    </tr>\n",
       "    <tr>\n",
       "      <th>3</th>\n",
       "      <td>&lt;mask&gt; &lt;mask&gt; , (born march 14 , &lt;mask&gt;) is a ...</td>\n",
       "      <td>model_4</td>\n",
       "      <td>3</td>\n",
       "      <td>&lt;mask&gt; &lt;mask&gt; , (born march 14, &lt;mask&gt; ) is a ...</td>\n",
       "      <td>4</td>\n",
       "    </tr>\n",
       "    <tr>\n",
       "      <th>4</th>\n",
       "      <td>&lt;mask&gt; &lt;mask&gt;. &lt;mask&gt; is a former democratic m...</td>\n",
       "      <td>model_4</td>\n",
       "      <td>4</td>\n",
       "      <td>&lt;mask&gt; &lt;mask&gt; . &lt;mask&gt; is a former democratic ...</td>\n",
       "      <td>7</td>\n",
       "    </tr>\n",
       "  </tbody>\n",
       "</table>\n",
       "</div>"
      ],
      "text/plain": [
       "                                      perturbed_text model_name  i  \\\n",
       "0  pope <mask> <mask> <mask> alexandria (also kno...    model_4  0   \n",
       "1  <mask> <mask> is a male former <mask> <mask> p...    model_4  1   \n",
       "2  <mask> <mask> (born 30 <mask> <mask>) is a tur...    model_4  2   \n",
       "3  <mask> <mask> , (born march 14 , <mask>) is a ...    model_4  3   \n",
       "4  <mask> <mask>. <mask> is a former democratic m...    model_4  4   \n",
       "\n",
       "                            perturbed_text_truncated  num_masks  \n",
       "0  pope <mask> <mask> <mask> alexandria (also kno...          9  \n",
       "1  <mask> <mask> is a male former <mask> <mask> p...          6  \n",
       "2  <mask> <mask> (born 30 <mask> <mask> ) is a tu...          6  \n",
       "3  <mask> <mask> , (born march 14, <mask> ) is a ...          4  \n",
       "4  <mask> <mask> . <mask> is a former democratic ...          7  "
      ]
     },
     "execution_count": 31,
     "metadata": {},
     "output_type": "execute_result"
    }
   ],
   "source": [
    "full_df.head()"
   ]
  },
  {
   "cell_type": "code",
   "execution_count": 52,
   "id": "097c8bc7-a18d-472c-b5cf-6f2ff49f06a3",
   "metadata": {},
   "outputs": [
    {
     "name": "stderr",
     "output_type": "stream",
     "text": [
      "<ipython-input-52-75ca54006a21>:7: SettingWithCopyWarning: \n",
      "A value is trying to be set on a copy of a slice from a DataFrame.\n",
      "Try using .loc[row_indexer,col_indexer] = value instead\n",
      "\n",
      "See the caveats in the documentation: https://pandas.pydata.org/pandas-docs/stable/user_guide/indexing.html#returning-a-view-versus-a-copy\n",
      "  model_3_1_df['perturbed_text'] = model_3_1_df['perturbed_text'].map(fix_text)\n",
      "<ipython-input-52-75ca54006a21>:8: SettingWithCopyWarning: \n",
      "A value is trying to be set on a copy of a slice from a DataFrame.\n",
      "Try using .loc[row_indexer,col_indexer] = value instead\n",
      "\n",
      "See the caveats in the documentation: https://pandas.pydata.org/pandas-docs/stable/user_guide/indexing.html#returning-a-view-versus-a-copy\n",
      "  model_3_1_df['perturbed_text_truncated'] = model_3_1_df['perturbed_text_truncated'].map(fix_text)\n"
     ]
    }
   ],
   "source": [
    "import re\n",
    "\n",
    "def fix_text(s):\n",
    "    return re.sub('<<font color = \\w+>mask__\\d+</font>>', '<mask>', s)\n",
    "\n",
    "model_3_1_df = full_df[full_df['model_name'] == 'model_3_1']\n",
    "model_3_1_df['perturbed_text'] = model_3_1_df['perturbed_text'].map(fix_text)\n",
    "model_3_1_df['perturbed_text_truncated'] = model_3_1_df['perturbed_text_truncated'].map(fix_text)"
   ]
  },
  {
   "cell_type": "code",
   "execution_count": 57,
   "id": "11ee6734-8b1a-4908-b459-3327870149ad",
   "metadata": {},
   "outputs": [
    {
     "data": {
      "application/vnd.jupyter.widget-view+json": {
       "model_id": "ff6988926ea3446da60882db5ff6530c",
       "version_major": 2,
       "version_minor": 0
      },
      "text/plain": [
       "  0%|          | 0/1617 [00:00<?, ?it/s]"
      ]
     },
     "metadata": {},
     "output_type": "display_data"
    },
    {
     "data": {
      "text/plain": [
       "model_name\n",
       "lexical            0.000000\n",
       "model_2_1         50.000000\n",
       "model_2_2         48.000000\n",
       "model_2_3         35.714286\n",
       "model_2_4         29.000000\n",
       "model_2_5         33.000000\n",
       "model_3_1          9.523810\n",
       "model_4           33.000000\n",
       "model_5           34.693878\n",
       "model_6           65.000000\n",
       "model_8_1day      26.000000\n",
       "model_8_ls0.01    37.000000\n",
       "model_8_ls0.1     31.000000\n",
       "model_9_ls0.01    48.000000\n",
       "model_9_ls0.05    46.000000\n",
       "model_9_ls0.1     50.000000\n",
       "named_entity      66.000000\n",
       "Name: is_correct, dtype: float64"
      ]
     },
     "execution_count": 57,
     "metadata": {},
     "output_type": "execute_result"
    }
   ],
   "source": [
    "num_proc = min(8, len(os.sched_getaffinity(0)))\n",
    "full_df = full_df.progress_apply(get_top_k, axis=1)\n",
    "full_df.groupby('model_name').mean()['is_correct'] * 100"
   ]
  },
  {
   "cell_type": "code",
   "execution_count": 53,
   "id": "cd89400d-350e-498b-9d49-74bca3f9fee6",
   "metadata": {},
   "outputs": [
    {
     "data": {
      "application/vnd.jupyter.widget-view+json": {
       "model_id": "b8bb1ec370444a4d94d55596ff0de7d1",
       "version_major": 2,
       "version_minor": 0
      },
      "text/plain": [
       "  0%|          | 0/21 [00:00<?, ?it/s]"
      ]
     },
     "metadata": {},
     "output_type": "display_data"
    },
    {
     "name": "stdout",
     "output_type": "stream",
     "text": [
      "0.2857142857142857\n"
     ]
    }
   ],
   "source": [
    "num_proc = min(8, len(os.sched_getaffinity(0)))\n",
    "model_3_1_df = model_3_1_df.progress_apply(get_top_k, axis=1)\n",
    "print(model_3_1_df[\"is_correct\"].mean())"
   ]
  },
  {
   "cell_type": "code",
   "execution_count": 54,
   "id": "bd6f1387-bc18-4699-bc34-ac27112e3c11",
   "metadata": {},
   "outputs": [
    {
     "data": {
      "text/plain": [
       "model_name\n",
       "model_3_1    28.571429\n",
       "Name: is_correct, dtype: float64"
      ]
     },
     "execution_count": 54,
     "metadata": {},
     "output_type": "execute_result"
    }
   ],
   "source": [
    "model_3_1_df.groupby('model_name').mean()['is_correct'] * 100"
   ]
  },
  {
   "cell_type": "code",
   "execution_count": 56,
   "id": "dc13864d-8fcd-4c90-baf0-117c2ab100be",
   "metadata": {},
   "outputs": [
    {
     "data": {
      "text/html": [
       "<table border=\"1\" class=\"dataframe\">\n",
       "  <thead>\n",
       "    <tr style=\"text-align: right;\">\n",
       "      <th></th>\n",
       "      <th>perturbed_text_truncated</th>\n",
       "      <th>is_correct</th>\n",
       "    </tr>\n",
       "  </thead>\n",
       "  <tbody>\n",
       "    <tr>\n",
       "      <th>0</th>\n",
       "      <td>pope &lt;mask&gt; &lt;mask&gt; &lt;mask&gt; alexandria ( also known as khail iii ) was the coptic pope of alexandria and patriarch of the see of st. mark ( &lt;mask&gt; -- &lt;mask&gt; ).\\nin 882, the governor of egypt, ahmad ibn tulun, forced khail to pay heavy contributions, forcing him to sell</td>\n",
       "      <td>1</td>\n",
       "    </tr>\n",
       "    <tr>\n",
       "      <th>1</th>\n",
       "      <td>&lt;mask&gt; jun is a &lt;mask&gt; former &lt;mask&gt; tennis player &lt;mask&gt; &lt;mask&gt;.</td>\n",
       "      <td>0</td>\n",
       "    </tr>\n",
       "    <tr>\n",
       "      <th>2</th>\n",
       "      <td>&lt;mask&gt; Öztürk ( born &lt;mask&gt; november 1977 ) is a turkish professional footballer.\\nhe currently plays as a &lt;mask&gt; for &lt;mask&gt; &lt;mask&gt;.</td>\n",
       "      <td>1</td>\n",
       "    </tr>\n",
       "    <tr>\n",
       "      <th>3</th>\n",
       "      <td>&lt;mask&gt; &lt;mask&gt;, ( born march &lt;mask&gt;, &lt;mask&gt; ) is a professional squash player who represents france.\\nshe reached a career-high world ranking of world no. &lt;mask&gt; in july 2015.</td>\n",
       "      <td>0</td>\n",
       "    </tr>\n",
       "    <tr>\n",
       "      <th>4</th>\n",
       "      <td>&lt;mask&gt; l. &lt;mask&gt; is a former democratic member of the &lt;mask&gt; house of representatives.\\nhe was born in &lt;mask&gt; to michael and angela pitullio &lt;mask&gt;.</td>\n",
       "      <td>0</td>\n",
       "    </tr>\n",
       "    <tr>\n",
       "      <th>6</th>\n",
       "      <td>&lt;mask&gt; demonte &lt;mask&gt; ( &lt;mask&gt; august 5, 1981 ), nicknamed &lt;mask&gt; the &lt;mask&gt; storm '', is an &lt;mask&gt; professional &lt;mask&gt; &lt;mask&gt; &lt;mask&gt;</td>\n",
       "      <td>0</td>\n",
       "    </tr>\n",
       "    <tr>\n",
       "      <th>7</th>\n",
       "      <td>jim &lt;mask&gt; ( born james &lt;mask&gt; &lt;mask&gt; on &lt;mask&gt; &lt;mask&gt; &lt;mask&gt; ) is a &lt;mask&gt; musician and &lt;mask&gt;, best known as the singer of indie punk band &lt;&lt;font color = green&gt;mask__</td>\n",
       "      <td>0</td>\n",
       "    </tr>\n",
       "    <tr>\n",
       "      <th>8</th>\n",
       "      <td>&lt;mask&gt; &lt;mask&gt; ( born &lt;mask&gt; &lt;mask&gt;, &lt;mask&gt; &lt;mask&gt; &lt;mask&gt;, &lt;mask&gt; ) is a former professional american football defensive &lt;mask&gt; &lt;&lt;font color = cyan</td>\n",
       "      <td>0</td>\n",
       "    </tr>\n",
       "    <tr>\n",
       "      <th>9</th>\n",
       "      <td>blessed &lt;mask&gt; of &lt;mask&gt; t.o.s.d. ( ) was a catholic visionary and anchoress from &lt;mask&gt; ( kotor ).\\nshe was a teenage convert from orthodoxy of serbian descent from montenegro ( zeta ).\\nshe became a dominican tertiary and was posthumously venerated as a saint in kotor.\\nshe was later beatified in 1934.</td>\n",
       "      <td>1</td>\n",
       "    </tr>\n",
       "    <tr>\n",
       "      <th>10</th>\n",
       "      <td>&lt;mask&gt; &lt;mask&gt; &lt;mask&gt; ( born april &lt;mask&gt;, &lt;mask&gt; &lt;mask&gt; &lt;mask&gt; &lt;mask&gt; ) is a &lt;mask&gt; actress and model.</td>\n",
       "      <td>0</td>\n",
       "    </tr>\n",
       "    <tr>\n",
       "      <th>11</th>\n",
       "      <td>&lt;mask&gt; &lt;mask&gt; ( born &lt;mask&gt; &lt;mask&gt;, &lt;mask&gt; in &lt;mask&gt;, switzerland ) is a retired &lt;mask&gt; professional ice hockey defender.\\nplaying in the nla-a, &lt;mask&gt; accumulated 74 goals, 173</td>\n",
       "      <td>0</td>\n",
       "    </tr>\n",
       "    <tr>\n",
       "      <th>12</th>\n",
       "      <td>&lt;mask&gt; &lt;mask&gt; ( born &lt;mask&gt; &lt;mask&gt; &lt;mask&gt; ) is a former australian &lt;mask&gt; footballer who played with the sydney football club in the &lt;mask&gt; football league during the 1980s.\\n&lt;mask&gt; played</td>\n",
       "      <td>0</td>\n",
       "    </tr>\n",
       "    <tr>\n",
       "      <th>14</th>\n",
       "      <td>&lt;mask&gt; &lt;mask&gt; ( born 4 &lt;mask&gt; &lt;mask&gt; ) is a danish professional football midfielder, who currently plays for danish 1st division side lyngby boldklub.\\nblicher began playing football in &lt;mask&gt; if, where he was picked for agf, where he got his other footballing education.\\nhe was part of the year'88,</td>\n",
       "      <td>1</td>\n",
       "    </tr>\n",
       "    <tr>\n",
       "      <th>17</th>\n",
       "      <td>&lt;mask&gt; &lt;mask&gt; lee, &lt;mask&gt;, &lt;mask&gt;, &lt;mask&gt;, ( born &lt;mask&gt; ) &lt;mask&gt; &lt;mask&gt; american &lt;mask&gt; and &lt;&lt;font color = pink&gt;</td>\n",
       "      <td>0</td>\n",
       "    </tr>\n",
       "    <tr>\n",
       "      <th>19</th>\n",
       "      <td>&lt;mask&gt; &lt;mask&gt; &lt;mask&gt; ( &lt;mask&gt; &lt;mask&gt; &lt;mask&gt; &lt;mask&gt; ) &lt;mask&gt; a scottish footballer who &lt;mask&gt; &lt;&lt;font color = blue&gt;mask__6&lt;/</td>\n",
       "      <td>0</td>\n",
       "    </tr>\n",
       "    <tr>\n",
       "      <th>21</th>\n",
       "      <td>&lt;mask&gt; &lt;mask&gt; ( born &lt;mask&gt; &lt;mask&gt;, &lt;mask&gt; in &lt;mask&gt;, &lt;mask&gt; rhine-westphalia ) &lt;mask&gt; a german-born &lt;mask&gt; &lt;&lt;</td>\n",
       "      <td>0</td>\n",
       "    </tr>\n",
       "    <tr>\n",
       "      <th>22</th>\n",
       "      <td>&lt;mask&gt; &lt;mask&gt; &lt;mask&gt; &lt;mask&gt; antiguan &lt;mask&gt; and chairman &lt;mask&gt; &lt;mask&gt; &lt;mask&gt; &lt;mask&gt; &lt;mask&gt; (</td>\n",
       "      <td>0</td>\n",
       "    </tr>\n",
       "    <tr>\n",
       "      <th>23</th>\n",
       "      <td>&lt;mask&gt; &lt;mask&gt; &lt;mask&gt; &lt;mask&gt; ( &lt;mask&gt;. in &lt;mask&gt; ( &lt;mask&gt; ), &lt;mask&gt; &lt;mask&gt; &lt;mask&gt;</td>\n",
       "      <td>0</td>\n",
       "    </tr>\n",
       "    <tr>\n",
       "      <th>24</th>\n",
       "      <td>&lt;mask&gt; &lt;mask&gt; &lt;mask&gt; ( ) was the &lt;mask&gt; of emperor &lt;mask&gt;.\\nhe &lt;mask&gt; a major role in the revolt against phocas that brought &lt;mask&gt; to the throne, where he captured egypt for his &lt;&lt;font color = pink&gt;mask__6&lt;/</td>\n",
       "      <td>1</td>\n",
       "    </tr>\n",
       "    <tr>\n",
       "      <th>26</th>\n",
       "      <td>&lt;mask&gt; &lt;mask&gt; &lt;mask&gt; '' &lt;mask&gt; ( born &lt;mask&gt; &lt;mask&gt;, &lt;mask&gt; ) &lt;mask&gt; an &lt;mask&gt; &lt;mask&gt;</td>\n",
       "      <td>0</td>\n",
       "    </tr>\n",
       "    <tr>\n",
       "      <th>29</th>\n",
       "      <td>&lt;mask&gt; &lt;mask&gt; ( born 25 august &lt;mask&gt; in salzburg ) is an austrian photographer and filmmaker.</td>\n",
       "      <td>1</td>\n",
       "    </tr>\n",
       "  </tbody>\n",
       "</table>"
      ],
      "text/plain": [
       "<IPython.core.display.HTML object>"
      ]
     },
     "metadata": {},
     "output_type": "display_data"
    }
   ],
   "source": [
    "from IPython.display import display, HTML\n",
    "\n",
    "# model_3_1_full_df = pd.read_csv('../adv_csvs/model_3_1/results_1_30')\n",
    "\n",
    "display(HTML(model_3_1_df[['perturbed_text_truncated', 'is_correct']].to_html(escape=True)))"
   ]
  },
  {
   "cell_type": "code",
   "execution_count": null,
   "id": "df344a42-4c2e-4bcb-8d93-645a67feb8ae",
   "metadata": {},
   "outputs": [],
   "source": [
    "for _,ex in full_df[(full_df['model_name'] == 'model_8_1day') & (full_df['is_correct'] == 1)].head(n=10)[['i', 'perturbed_text_truncated']].iterrows():\n",
    "    print(ex['i'])\n",
    "    print(ex['perturbed_text_truncated'])\n",
    "    print('\\n')\n"
   ]
  },
  {
   "cell_type": "code",
   "execution_count": 64,
   "id": "6fc90b24-c7b4-439f-a974-113b78fc1fee",
   "metadata": {},
   "outputs": [],
   "source": [
    "### Testing bm25 accuracy on some regular stuff\n",
    "\n",
    "mini_val_dataset = dm.val_dataset[:100]"
   ]
  },
  {
   "cell_type": "code",
   "execution_count": 73,
   "id": "55fdd4bc-98bb-49bc-816c-c47722183508",
   "metadata": {},
   "outputs": [],
   "source": [
    "import numpy as np\n",
    "def get_bm25_guess_idx(doc: str) -> int:\n",
    "    query = re.sub(r'[^\\w|\\s]', ' ',doc).split(' ')\n",
    "    scores = bm25.get_scores(query)\n",
    "    k = scores.argmax()\n",
    "    # print((scores == scores[k]).sum()-1, \"other equal ppl from\", len(scores), \"total\")\n",
    "    return k\n",
    "\n",
    "doc_bm25_guess_idxs = np.array([get_bm25_guess_idx(doc) for doc in mini_val_dataset['document']])"
   ]
  },
  {
   "cell_type": "code",
   "execution_count": 74,
   "id": "23c43dad-5a18-4969-9272-9aaebc7ace44",
   "metadata": {},
   "outputs": [
    {
     "data": {
      "text/plain": [
       "0.99"
      ]
     },
     "execution_count": 74,
     "metadata": {},
     "output_type": "execute_result"
    }
   ],
   "source": [
    "(doc_bm25_guess_idxs == np.arange(100)).mean()"
   ]
  },
  {
   "cell_type": "code",
   "execution_count": 75,
   "id": "fee938a7-4bcd-4516-8801-f228da2bb6c7",
   "metadata": {},
   "outputs": [],
   "source": [
    "doc_lex_bm25_guess_idxs = np.array([get_bm25_guess_idx(doc) for doc in mini_val_dataset['document_redact_lexical']])"
   ]
  },
  {
   "cell_type": "code",
   "execution_count": 76,
   "id": "bd6ee77a-1b6d-4fe9-99ec-ecc70e28e061",
   "metadata": {},
   "outputs": [
    {
     "data": {
      "text/plain": [
       "0.0"
      ]
     },
     "execution_count": 76,
     "metadata": {},
     "output_type": "execute_result"
    }
   ],
   "source": [
    "(doc_lex_bm25_guess_idxs == np.arange(100)).mean()"
   ]
  },
  {
   "cell_type": "code",
   "execution_count": null,
   "id": "f7bf115d-b795-4dac-a8b0-ffa126920e0c",
   "metadata": {},
   "outputs": [],
   "source": []
  }
 ],
 "metadata": {
  "kernelspec": {
   "display_name": "Python 3",
   "language": "python",
   "name": "python3"
  },
  "language_info": {
   "codemirror_mode": {
    "name": "ipython",
    "version": 3
   },
   "file_extension": ".py",
   "mimetype": "text/x-python",
   "name": "python",
   "nbconvert_exporter": "python",
   "pygments_lexer": "ipython3",
   "version": "3.9.7"
  }
 },
 "nbformat": 4,
 "nbformat_minor": 5
}
