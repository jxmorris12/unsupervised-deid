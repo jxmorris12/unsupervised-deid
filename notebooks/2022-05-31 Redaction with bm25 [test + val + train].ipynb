{
 "cells": [
  {
   "cell_type": "markdown",
   "id": "2c8f5b4f-db69-489a-becb-b0455c0b15ff",
   "metadata": {},
   "source": [
    "### BM-25 based redaction\n",
    "\n",
    "We think that the model we have now is good, but it's failing on cases where the hardest words are almost redacted in order of how difficult they are rated from BM25. We want to develop a function that looks like `redact(text: str, p: float)` where `p%` of words are redacted, **in order of importance as measured by BM-25**. This notebook is where I'll figure out how to do this!"
   ]
  },
  {
   "cell_type": "code",
   "execution_count": 1,
   "id": "6c35b72f-8de5-402f-808a-ec02cc663acf",
   "metadata": {},
   "outputs": [],
   "source": [
    "from rank_bm25 import BM25Okapi"
   ]
  },
  {
   "cell_type": "code",
   "execution_count": 3,
   "id": "a12cb1b4-021c-4666-a6a6-62f9614894b1",
   "metadata": {},
   "outputs": [
    {
     "name": "stderr",
     "output_type": "stream",
     "text": [
      "Using custom data configuration default\n",
      "Reusing dataset wiki_bio (/home/jxm3/.cache/huggingface/datasets/wiki_bio/default/1.2.0/c05ce066e9026831cd7535968a311fc80f074b58868cfdffccbc811dff2ab6da)\n"
     ]
    },
    {
     "name": "stdout",
     "output_type": "stream",
     "text": [
      " "
     ]
    },
    {
     "name": "stderr",
     "output_type": "stream",
     "text": [
      "Loading cached processed dataset at /home/jxm3/.cache/huggingface/datasets/wiki_bio/default/1.2.0/c05ce066e9026831cd7535968a311fc80f074b58868cfdffccbc811dff2ab6da/cache-e3602349ec2514fc.arrow\n"
     ]
    },
    {
     "name": "stdout",
     "output_type": "stream",
     "text": [
      " "
     ]
    },
    {
     "name": "stderr",
     "output_type": "stream",
     "text": [
      "Loading cached processed dataset at /home/jxm3/.cache/huggingface/datasets/wiki_bio/default/1.2.0/c05ce066e9026831cd7535968a311fc80f074b58868cfdffccbc811dff2ab6da/cache-75b832f7a3bbc565.arrow\n"
     ]
    },
    {
     "name": "stdout",
     "output_type": "stream",
     "text": [
      " "
     ]
    },
    {
     "name": "stderr",
     "output_type": "stream",
     "text": [
      "Loading cached processed dataset at /home/jxm3/.cache/huggingface/datasets/wiki_bio/default/1.2.0/c05ce066e9026831cd7535968a311fc80f074b58868cfdffccbc811dff2ab6da/cache-e0950270b9f9d578.arrow\n"
     ]
    },
    {
     "name": "stdout",
     "output_type": "stream",
     "text": [
      " "
     ]
    },
    {
     "name": "stderr",
     "output_type": "stream",
     "text": [
      "Loading cached processed dataset at /home/jxm3/.cache/huggingface/datasets/wiki_bio/default/1.2.0/c05ce066e9026831cd7535968a311fc80f074b58868cfdffccbc811dff2ab6da/cache-b5d2c33ba9fa845b.arrow\n"
     ]
    },
    {
     "name": "stdout",
     "output_type": "stream",
     "text": [
      " "
     ]
    },
    {
     "name": "stderr",
     "output_type": "stream",
     "text": [
      "Loading cached processed dataset at /home/jxm3/.cache/huggingface/datasets/wiki_bio/default/1.2.0/c05ce066e9026831cd7535968a311fc80f074b58868cfdffccbc811dff2ab6da/cache-ac82985692114ad5.arrow\n"
     ]
    },
    {
     "name": "stdout",
     "output_type": "stream",
     "text": [
      " "
     ]
    },
    {
     "name": "stderr",
     "output_type": "stream",
     "text": [
      "Loading cached processed dataset at /home/jxm3/.cache/huggingface/datasets/wiki_bio/default/1.2.0/c05ce066e9026831cd7535968a311fc80f074b58868cfdffccbc811dff2ab6da/cache-089147a0f5df4208.arrow\n"
     ]
    },
    {
     "name": "stdout",
     "output_type": "stream",
     "text": [
      " "
     ]
    },
    {
     "name": "stderr",
     "output_type": "stream",
     "text": [
      "Loading cached processed dataset at /home/jxm3/.cache/huggingface/datasets/wiki_bio/default/1.2.0/c05ce066e9026831cd7535968a311fc80f074b58868cfdffccbc811dff2ab6da/cache-41f63d684696d460.arrow\n"
     ]
    },
    {
     "name": "stdout",
     "output_type": "stream",
     "text": [
      " "
     ]
    },
    {
     "name": "stderr",
     "output_type": "stream",
     "text": [
      "Loading cached processed dataset at /home/jxm3/.cache/huggingface/datasets/wiki_bio/default/1.2.0/c05ce066e9026831cd7535968a311fc80f074b58868cfdffccbc811dff2ab6da/cache-5cb952b6ab7c9e52.arrow\n"
     ]
    },
    {
     "name": "stdout",
     "output_type": "stream",
     "text": [
      "tokenizing corpi\n",
      "creating search index\n"
     ]
    },
    {
     "name": "stderr",
     "output_type": "stream",
     "text": [
      "Using custom data configuration default\n",
      "Reusing dataset wiki_bio (/home/jxm3/.cache/huggingface/datasets/wiki_bio/default/1.2.0/c05ce066e9026831cd7535968a311fc80f074b58868cfdffccbc811dff2ab6da)\n"
     ]
    },
    {
     "name": "stdout",
     "output_type": "stream",
     "text": [
      "                "
     ]
    },
    {
     "data": {
      "application/vnd.jupyter.widget-view+json": {
       "model_id": "1f80c4ed135848e3a78c41b56dc327bf",
       "version_major": 2,
       "version_minor": 0
      },
      "text/plain": [
       "#3:   0%|          | 0/72832 [00:00<?, ?ex/s]"
      ]
     },
     "metadata": {},
     "output_type": "display_data"
    },
    {
     "data": {
      "application/vnd.jupyter.widget-view+json": {
       "model_id": "d9bc19d37e3948b8b8cd213bd372ffe5",
       "version_major": 2,
       "version_minor": 0
      },
      "text/plain": [
       "#0:   0%|          | 0/72833 [00:00<?, ?ex/s]"
      ]
     },
     "metadata": {},
     "output_type": "display_data"
    },
    {
     "data": {
      "application/vnd.jupyter.widget-view+json": {
       "model_id": "7108bf2b46aa4c81a87e947653829981",
       "version_major": 2,
       "version_minor": 0
      },
      "text/plain": [
       "#1:   0%|          | 0/72833 [00:00<?, ?ex/s]"
      ]
     },
     "metadata": {},
     "output_type": "display_data"
    },
    {
     "data": {
      "application/vnd.jupyter.widget-view+json": {
       "model_id": "4aadd6b5032f47829422ca20dcd32f64",
       "version_major": 2,
       "version_minor": 0
      },
      "text/plain": [
       "#6:   0%|          | 0/72832 [00:00<?, ?ex/s]"
      ]
     },
     "metadata": {},
     "output_type": "display_data"
    },
    {
     "data": {
      "application/vnd.jupyter.widget-view+json": {
       "model_id": "e659181c6b2e4ec987816b83e7ee6506",
       "version_major": 2,
       "version_minor": 0
      },
      "text/plain": [
       "#2:   0%|          | 0/72833 [00:00<?, ?ex/s]"
      ]
     },
     "metadata": {},
     "output_type": "display_data"
    },
    {
     "data": {
      "application/vnd.jupyter.widget-view+json": {
       "model_id": "bfa31dcee2774f2da92bc54a57b66a1b",
       "version_major": 2,
       "version_minor": 0
      },
      "text/plain": [
       "#4:   0%|          | 0/72832 [00:00<?, ?ex/s]"
      ]
     },
     "metadata": {},
     "output_type": "display_data"
    },
    {
     "data": {
      "application/vnd.jupyter.widget-view+json": {
       "model_id": "b1922917055a4a448dabf987d93437bd",
       "version_major": 2,
       "version_minor": 0
      },
      "text/plain": [
       "#5:   0%|          | 0/72832 [00:00<?, ?ex/s]"
      ]
     },
     "metadata": {},
     "output_type": "display_data"
    },
    {
     "data": {
      "application/vnd.jupyter.widget-view+json": {
       "model_id": "47e85918172d40fd85ec0bf7010d9831",
       "version_major": 2,
       "version_minor": 0
      },
      "text/plain": [
       "#7:   0%|          | 0/72832 [00:00<?, ?ex/s]"
      ]
     },
     "metadata": {},
     "output_type": "display_data"
    },
    {
     "name": "stdout",
     "output_type": "stream",
     "text": [
      "tokenizing corpi\n",
      "creating search index\n"
     ]
    },
    {
     "name": "stderr",
     "output_type": "stream",
     "text": [
      "Using custom data configuration default\n",
      "Reusing dataset wiki_bio (/home/jxm3/.cache/huggingface/datasets/wiki_bio/default/1.2.0/c05ce066e9026831cd7535968a311fc80f074b58868cfdffccbc811dff2ab6da)\n"
     ]
    },
    {
     "name": "stdout",
     "output_type": "stream",
     "text": [
      " "
     ]
    },
    {
     "name": "stderr",
     "output_type": "stream",
     "text": [
      "Loading cached processed dataset at /home/jxm3/.cache/huggingface/datasets/wiki_bio/default/1.2.0/c05ce066e9026831cd7535968a311fc80f074b58868cfdffccbc811dff2ab6da/cache-3c1a083eaafb2613.arrow\n"
     ]
    },
    {
     "name": "stdout",
     "output_type": "stream",
     "text": [
      " "
     ]
    },
    {
     "name": "stderr",
     "output_type": "stream",
     "text": [
      "Loading cached processed dataset at /home/jxm3/.cache/huggingface/datasets/wiki_bio/default/1.2.0/c05ce066e9026831cd7535968a311fc80f074b58868cfdffccbc811dff2ab6da/cache-10591a407843bfc7.arrow\n"
     ]
    },
    {
     "name": "stdout",
     "output_type": "stream",
     "text": [
      " "
     ]
    },
    {
     "name": "stderr",
     "output_type": "stream",
     "text": [
      "Loading cached processed dataset at /home/jxm3/.cache/huggingface/datasets/wiki_bio/default/1.2.0/c05ce066e9026831cd7535968a311fc80f074b58868cfdffccbc811dff2ab6da/cache-f19feca32d67cc2c.arrow\n"
     ]
    },
    {
     "name": "stdout",
     "output_type": "stream",
     "text": [
      " "
     ]
    },
    {
     "name": "stderr",
     "output_type": "stream",
     "text": [
      "Loading cached processed dataset at /home/jxm3/.cache/huggingface/datasets/wiki_bio/default/1.2.0/c05ce066e9026831cd7535968a311fc80f074b58868cfdffccbc811dff2ab6da/cache-f833e1ed70828dfe.arrow\n"
     ]
    },
    {
     "name": "stdout",
     "output_type": "stream",
     "text": [
      " "
     ]
    },
    {
     "name": "stderr",
     "output_type": "stream",
     "text": [
      "Loading cached processed dataset at /home/jxm3/.cache/huggingface/datasets/wiki_bio/default/1.2.0/c05ce066e9026831cd7535968a311fc80f074b58868cfdffccbc811dff2ab6da/cache-f676ddffb469016b.arrow\n"
     ]
    },
    {
     "name": "stdout",
     "output_type": "stream",
     "text": [
      " "
     ]
    },
    {
     "name": "stderr",
     "output_type": "stream",
     "text": [
      "Loading cached processed dataset at /home/jxm3/.cache/huggingface/datasets/wiki_bio/default/1.2.0/c05ce066e9026831cd7535968a311fc80f074b58868cfdffccbc811dff2ab6da/cache-944bd579cd5506d4.arrow\n"
     ]
    },
    {
     "name": "stdout",
     "output_type": "stream",
     "text": [
      " "
     ]
    },
    {
     "name": "stderr",
     "output_type": "stream",
     "text": [
      "Loading cached processed dataset at /home/jxm3/.cache/huggingface/datasets/wiki_bio/default/1.2.0/c05ce066e9026831cd7535968a311fc80f074b58868cfdffccbc811dff2ab6da/cache-34155b01c146257f.arrow\n"
     ]
    },
    {
     "name": "stdout",
     "output_type": "stream",
     "text": [
      " "
     ]
    },
    {
     "name": "stderr",
     "output_type": "stream",
     "text": [
      "Loading cached processed dataset at /home/jxm3/.cache/huggingface/datasets/wiki_bio/default/1.2.0/c05ce066e9026831cd7535968a311fc80f074b58868cfdffccbc811dff2ab6da/cache-9f7ba753fdbc342d.arrow\n"
     ]
    },
    {
     "name": "stdout",
     "output_type": "stream",
     "text": [
      "tokenizing corpi\n",
      "creating search index\n"
     ]
    }
   ],
   "source": [
    "from typing import List\n",
    "\n",
    "import datasets\n",
    "import os\n",
    "import re\n",
    "\n",
    "from nltk.corpus import stopwords\n",
    "\n",
    "num_cpus = len(os.sched_getaffinity(0))\n",
    "eng_stopwords = stopwords.words('english')\n",
    "\n",
    "words_from_text_re = re.compile(r'\\b\\w+\\b')\n",
    "def words_from_text(s: str) -> List[str]:\n",
    "    assert isinstance(s, str)\n",
    "    return words_from_text_re.findall(s)\n",
    "\n",
    "def get_words_from_doc(s: str) -> List[str]:\n",
    "    words = words_from_text(s)\n",
    "    return [w for w in words]\n",
    "\n",
    "profile_corpus = []\n",
    "document_corpus = []\n",
    "for split in ['test[:100%]', 'train[:100%]', 'val[:100%]']:\n",
    "    prof_data = datasets.load_dataset('wiki_bio', split=split, version='1.2.0')\n",
    "\n",
    "    def make_table_str(ex):\n",
    "        ex['table_str'] = (\n",
    "            ' '.join(ex['input_text']['table']['column_header'] + ex['input_text']['table']['content'])\n",
    "        )\n",
    "        return ex\n",
    "\n",
    "    prof_data = prof_data.map(make_table_str, num_proc=num_cpus)\n",
    "    profile_corpus.extend(prof_data['table_str'])\n",
    "    document_corpus.extend(prof_data['target_text'])\n",
    "\n",
    "    print(\"tokenizing corpi\")\n",
    "    tokenized_document_corpus = [\n",
    "        get_words_from_doc(doc) for doc in document_corpus\n",
    "    ]\n",
    "    tokenized_profile_corpus = [\n",
    "        get_words_from_doc(prof) for prof in profile_corpus\n",
    "    ]\n",
    "\n",
    "    print(\"creating search index\")\n",
    "\n",
    "bm25 = BM25Okapi(tokenized_profile_corpus)"
   ]
  },
  {
   "cell_type": "code",
   "execution_count": 4,
   "id": "cf06e94e-5a3e-401d-90ee-3974e8aa8805",
   "metadata": {},
   "outputs": [],
   "source": [
    "class JointBM250kapi(BM25Okapi):\n",
    "    \"\"\"A BM250kapi that takes extra documents to calculate idf but only returns scores within initial set of documents.\n",
    "    \n",
    "    This allows us to search only among profiles but use both profiles and documents to calculate inverse document frequency\n",
    "    of terms. That's especially useful since stopwords mostly just appear in documents (and in a small set of profiles with\n",
    "    captions) but they don't provide much utility to the search.\n",
    "    \"\"\"\n",
    "    def __init__(self, corpus, extra_corpus):\n",
    "        super().__init__(corpus + extra_corpus)\n",
    "        self.doc_freqs = self.doc_freqs[:len(corpus)] # truncate extra docs\n",
    "        self.doc_len = self.doc_len[:len(corpus)]\n",
    "        # avgdl = num_doc / self.corpus_size\n",
    "        self.avgdl = self.avgdl * (len(corpus) / (len(corpus) + len(extra_corpus)))\n",
    "        "
   ]
  },
  {
   "cell_type": "code",
   "execution_count": 5,
   "id": "d1827240-62ae-45d5-bc49-f0b04d4a942e",
   "metadata": {},
   "outputs": [],
   "source": [
    "bm25 = JointBM250kapi(tokenized_profile_corpus, tokenized_document_corpus)"
   ]
  },
  {
   "cell_type": "code",
   "execution_count": 6,
   "id": "26342575-4406-48a7-b1a1-56164571e783",
   "metadata": {},
   "outputs": [
    {
     "data": {
      "text/plain": [
       "1456642"
      ]
     },
     "execution_count": 6,
     "metadata": {},
     "output_type": "execute_result"
    }
   ],
   "source": [
    "bm25.corpus_size # sum of test + val dataset sizes"
   ]
  },
  {
   "cell_type": "code",
   "execution_count": 7,
   "id": "e1760a7f-eb29-409f-b851-659556469ec1",
   "metadata": {},
   "outputs": [],
   "source": [
    "sample_doc = document_corpus[0]"
   ]
  },
  {
   "cell_type": "code",
   "execution_count": 8,
   "id": "dc71c09b-c024-4d0f-b738-5f0fa3d50c47",
   "metadata": {},
   "outputs": [
    {
     "name": "stdout",
     "output_type": "stream",
     "text": [
      "shenoff 13.78617889325838\n",
      "randle 9.611725716162116\n",
      "phase 7.778587566794514\n",
      "tenth 6.687385310867826\n",
      "secondary 6.560984605725483\n",
      "senators 6.057335346802146\n",
      "leonard 6.022866943367083\n",
      "pick 5.661127969026836\n",
      "overall 4.391287681455781\n",
      "round 4.175715349234315\n",
      "1949 4.049596401480462\n",
      "baseball 3.948515277335053\n",
      "draft 3.891657790050534\n",
      "washington 3.86770107843569\n",
      "1970 3.686959126867915\n",
      "major 3.5200195552502986\n",
      "lrb 3.2614305151562943\n",
      "rrb 3.2614305151562943\n",
      "12 2.5931347491133714\n",
      "player 2.5031259505633887\n",
      "former 2.4725950970549793\n",
      "league 2.438119267765881\n",
      "first 2.290916672769617\n",
      "february 2.190346388838188\n",
      "june 2.080023619381432\n",
      "he 0.9513560430399224\n",
      "was 0.8967680388057797\n",
      "born 0.7574916085316836\n",
      "is 0.5922542167573592\n",
      "a 0.23333775024460834\n",
      "in 0.2231668755220113\n",
      "of 0.1789217148342992\n",
      "the 0.02632505999650725\n"
     ]
    }
   ],
   "source": [
    "sample_doc_words = list(set(words_from_text(sample_doc)))\n",
    "sample_doc_words.sort(key=lambda w: (-bm25.idf.get(w, 0.0)))\n",
    "\n",
    "for w in sample_doc_words:\n",
    "    print(w, bm25.idf.get(w, 0.0))"
   ]
  },
  {
   "cell_type": "code",
   "execution_count": 9,
   "id": "864b76ae-5237-42c3-99da-31882a997000",
   "metadata": {},
   "outputs": [
    {
     "name": "stdout",
     "output_type": "stream",
     "text": [
      "<mask> <mask> <mask> -lrb- born february 12 , 1949 -rrb- is a former major league baseball player .\n",
      "he was the first-round pick of the washington <mask> in the <mask> <mask> of the june 1970 major league baseball draft , <mask> overall .\n",
      "\n",
      "\n",
      "\n",
      "<mask> <mask> <mask> -lrb- born february 12 , <mask> -rrb- is a former major league <mask> player .\n",
      "he was the first-<mask> <mask> of the washington <mask> in the <mask> <mask> of the june 1970 major league <mask> <mask> , <mask> <mask> .\n",
      "\n",
      "\n",
      "\n",
      "<mask> <mask> <mask> -<mask>- born february <mask> , <mask> -<mask>- is a former <mask> league <mask> <mask> .\n",
      "he was the first-<mask> <mask> of the <mask> <mask> in the <mask> <mask> of the june <mask> <mask> league <mask> <mask> , <mask> <mask> .\n",
      "\n",
      "\n",
      "\n",
      "<mask> <mask> <mask> -<mask>- born <mask> <mask> , <mask> -<mask>- is a <mask> <mask> <mask> <mask> <mask> .\n",
      "<mask> was the <mask>-<mask> <mask> of the <mask> <mask> in the <mask> <mask> of the <mask> <mask> <mask> <mask> <mask> <mask> , <mask> <mask> .\n",
      "\n",
      "\n",
      "\n",
      "<mask> <mask> <mask> -<mask>- <mask> <mask> <mask> , <mask> -<mask>- <mask> <mask> <mask> <mask> <mask> <mask> <mask> .\n",
      "<mask> <mask> <mask> <mask>-<mask> <mask> <mask> <mask> <mask> <mask> <mask> <mask> <mask> <mask> <mask> <mask> <mask> <mask> <mask> <mask> <mask> <mask> , <mask> <mask> .\n",
      "\n",
      "\n",
      "\n"
     ]
    }
   ],
   "source": [
    "def fixed_redact_str(text: str, words_to_mask: List[str], mask_token: str = '<mask>') -> str:\n",
    "    for w in words_to_mask:\n",
    "        text = re.sub(\n",
    "            (r'\\b{}\\b').format(re.escape(w)),\n",
    "            mask_token, text, count=0\n",
    "        )\n",
    "    return text\n",
    "\n",
    "def redact(document: str, p: float):\n",
    "    words = list(set(words_from_text(sample_doc)))\n",
    "    words.sort(key=lambda w: (-bm25.idf.get(w, 0.0)))\n",
    "    n = round(len(sample_doc_words) * p)\n",
    "    return fixed_redact_str(text=document, words_to_mask=words[:n])\n",
    "\n",
    "\n",
    "for a in [0.2, 0.4, 0.6, 0.8, 1.0]:\n",
    "    print(redact(sample_doc, a))\n",
    "    print('\\n')"
   ]
  },
  {
   "cell_type": "code",
   "execution_count": 10,
   "id": "69404138-eebf-4916-b0ae-9479ee3331d3",
   "metadata": {},
   "outputs": [],
   "source": [
    "import pickle\n",
    "\n",
    "pickle.dump(bm25.idf, open('../test_val_train_100_idf.p', 'wb'))"
   ]
  },
  {
   "cell_type": "code",
   "execution_count": 11,
   "id": "3856b3fc-4ecc-4702-92d7-5621872ba19f",
   "metadata": {},
   "outputs": [],
   "source": [
    "date_idf = bm25.idf.copy()\n",
    "# Date-modifications for idf.\n",
    "\n",
    "for year in range(1000, 2022):\n",
    "    if str(year) in date_idf:\n",
    "        date_idf[str(year)] = max(\n",
    "            date_idf[str(year)], 10\n",
    "        )\n",
    "\n",
    "for day in range(1, 31+1):\n",
    "    assert str(day) in date_idf\n",
    "    date_idf[str(day)] = 10\n",
    "            \n",
    "\n",
    "for month in ['january', 'february', 'march', 'april', 'may', 'june', 'july', 'august', 'september', 'october', 'november', 'december']:\n",
    "    assert month in date_idf\n",
    "    date_idf[str(month)] = 10"
   ]
  },
  {
   "cell_type": "code",
   "execution_count": 12,
   "id": "8a05d0d3-bbb8-400b-a731-061c296baf43",
   "metadata": {},
   "outputs": [],
   "source": [
    "pickle.dump(date_idf, open('../test_val_train_100_idf_dates.p', 'wb'))"
   ]
  },
  {
   "cell_type": "code",
   "execution_count": null,
   "id": "a43d4002-2bf0-449f-8c32-e73edd10b9c9",
   "metadata": {},
   "outputs": [],
   "source": []
  }
 ],
 "metadata": {
  "kernelspec": {
   "display_name": "Python 3",
   "language": "python",
   "name": "python3"
  },
  "language_info": {
   "codemirror_mode": {
    "name": "ipython",
    "version": 3
   },
   "file_extension": ".py",
   "mimetype": "text/x-python",
   "name": "python",
   "nbconvert_exporter": "python",
   "pygments_lexer": "ipython3",
   "version": "3.9.7"
  }
 },
 "nbformat": 4,
 "nbformat_minor": 5
}
