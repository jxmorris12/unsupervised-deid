{
 "cells": [
  {
   "cell_type": "code",
   "execution_count": 1,
   "id": "68be6196-7443-4072-9910-629ec74980a4",
   "metadata": {},
   "outputs": [],
   "source": [
    "import textattack"
   ]
  },
  {
   "cell_type": "code",
   "execution_count": 15,
   "id": "44847396-3e1d-4bc5-b69b-28e18354d4ed",
   "metadata": {},
   "outputs": [],
   "source": [
    "class WordSwapSingleWordType(textattack.transformations.Transformation):\n",
    "    \"\"\"Replaces every instance of each unique word in the text with prechosen word `single_word`.\n",
    "    \"\"\"\n",
    "    def __init__(self, single_word: str = \"?\", **kwargs):\n",
    "        super().__init__(**kwargs)\n",
    "        self.single_word = single_word\n",
    "\n",
    "    def _get_transformations(self, current_text, indices_to_modify):\n",
    "        words = current_text.words\n",
    "        transformed_texts = []\n",
    "\n",
    "        unique_words = set(current_text.words)\n",
    "        for word in unique_words:\n",
    "            if word == self.single_word:\n",
    "                continue\n",
    "            words_to_replace_idxs = set(\n",
    "                [idx for idx, ct_word in enumerate(current_text.words) if ct_word == word]\n",
    "            ).intersection(indices_to_modify)\n",
    "            transformed_texts.append(\n",
    "                current_text.replace_words_at_indices(\n",
    "                    list(words_to_replace_idxs), [self.single_word] * len(words_to_replace_idxs)\n",
    "                )\n",
    "            )\n",
    "\n",
    "        return transformed_texts"
   ]
  },
  {
   "cell_type": "code",
   "execution_count": 16,
   "id": "0f1287bd-1d3a-4127-a6a1-b5847f4ef06d",
   "metadata": {},
   "outputs": [],
   "source": [
    "t = WordSwapSingleWordType('<mask>')"
   ]
  },
  {
   "cell_type": "code",
   "execution_count": 17,
   "id": "56567bad-8d63-4e1d-be66-98d4d1b9c73e",
   "metadata": {},
   "outputs": [
    {
     "data": {
      "text/plain": [
       "'walter clarence henderson ( 28 february 1891 - - 20 september 1968 ) was a progressive conservative party member of the canadian house of commons. he was born in carberry, manitoba and became a farmer by career. he was elected at the cariboo riding in the 1958 general election, defeating social credit incumbent bert leboe. henderson served only one term, the 24th canadian parliament, before leboe retook the riding in the 1962 election.'"
      ]
     },
     "execution_count": 17,
     "metadata": {},
     "output_type": "execute_result"
    }
   ],
   "source": [
    "s = \"\"\"walter clarence henderson ( 28 february 1891 - - 20 september 1968 ) was a progressive conservative party member of the canadian house of commons. he was born in carberry, manitoba and became a farmer by career. he was elected at the cariboo riding in the 1958 general election, defeating social credit incumbent bert leboe. henderson served only one term, the 24th canadian parliament, before leboe retook the riding in the 1962 election.\"\"\"\n",
    "s"
   ]
  },
  {
   "cell_type": "code",
   "execution_count": 19,
   "id": "cd9ab2ed-dae9-48a9-ac00-6f5545120f8d",
   "metadata": {},
   "outputs": [
    {
     "data": {
      "text/plain": [
       "52"
      ]
     },
     "execution_count": 19,
     "metadata": {},
     "output_type": "execute_result"
    }
   ],
   "source": [
    "at = textattack.shared.AttackedText(s)\n",
    "len(t(at))"
   ]
  },
  {
   "cell_type": "code",
   "execution_count": null,
   "id": "9de9bfca-0ffa-4af4-bd52-b0a463b32333",
   "metadata": {},
   "outputs": [],
   "source": [
    "at.words"
   ]
  },
  {
   "cell_type": "code",
   "execution_count": 11,
   "id": "1398a9b6-2142-4fe0-9e51-decf85705e7e",
   "metadata": {},
   "outputs": [
    {
     "name": "stdout",
     "output_type": "stream",
     "text": [
      "new_words: ['walter' 'clarence' 'henderson' '28' 'february' '1891' '20' 'september'\n",
      " '1968' 'was' 'a' 'progressive' 'conservative' 'party' 'member' 'of' 'the'\n",
      " 'canadian' 'house' 'of' 'commons' 'he' 'was' 'born' 'in' 'carberry'\n",
      " 'manitoba' 'and' 'became' 'a' 'farmer' 'by' 'career' 'he' 'was' 'elected'\n",
      " 'at' 'the' 'cariboo' 'riding' 'in' 'the' '1958' 'general' 'election'\n",
      " 'defeating' 'social' 'credit' '<mask>' 'bert' 'leboe' 'henderson'\n",
      " 'served' 'only' 'one' 'term' 'the' '24th' 'canadian' 'parliament'\n",
      " 'before' 'leboe' 'retook' 'the' 'riding' 'in' 'the' '1962' 'election']\n",
      "i / iw / aws 0 walter walter\n",
      ">> original_text walter clarence henderson ( 28 february 1891 - - 20 september 1968 ) was a progressive conservative party member of the canadian house of commons. he was born in carberry, manitoba and became a farmer by career. he was elected at the cariboo riding in the 1958 general election, defeating social credit incumbent bert leboe. henderson served only one term, the 24th canadian parliament, before leboe retook the riding in the 1962 election.\n",
      "i / iw / aws 1 clarence clarence\n",
      ">> original_text  clarence henderson ( 28 february 1891 - - 20 september 1968 ) was a progressive conservative party member of the canadian house of commons. he was born in carberry, manitoba and became a farmer by career. he was elected at the cariboo riding in the 1958 general election, defeating social credit incumbent bert leboe. henderson served only one term, the 24th canadian parliament, before leboe retook the riding in the 1962 election.\n",
      "i / iw / aws 2 henderson henderson\n",
      ">> original_text  henderson ( 28 february 1891 - - 20 september 1968 ) was a progressive conservative party member of the canadian house of commons. he was born in carberry, manitoba and became a farmer by career. he was elected at the cariboo riding in the 1958 general election, defeating social credit incumbent bert leboe. henderson served only one term, the 24th canadian parliament, before leboe retook the riding in the 1962 election.\n",
      "i / iw / aws 3 28 28\n",
      ">> original_text  ( 28 february 1891 - - 20 september 1968 ) was a progressive conservative party member of the canadian house of commons. he was born in carberry, manitoba and became a farmer by career. he was elected at the cariboo riding in the 1958 general election, defeating social credit incumbent bert leboe. henderson served only one term, the 24th canadian parliament, before leboe retook the riding in the 1962 election.\n",
      "i / iw / aws 4 february february\n",
      ">> original_text  february 1891 - - 20 september 1968 ) was a progressive conservative party member of the canadian house of commons. he was born in carberry, manitoba and became a farmer by career. he was elected at the cariboo riding in the 1958 general election, defeating social credit incumbent bert leboe. henderson served only one term, the 24th canadian parliament, before leboe retook the riding in the 1962 election.\n",
      "i / iw / aws 5 1891 1891\n",
      ">> original_text  1891 - - 20 september 1968 ) was a progressive conservative party member of the canadian house of commons. he was born in carberry, manitoba and became a farmer by career. he was elected at the cariboo riding in the 1958 general election, defeating social credit incumbent bert leboe. henderson served only one term, the 24th canadian parliament, before leboe retook the riding in the 1962 election.\n",
      "i / iw / aws 6 20 20\n",
      ">> original_text  - - 20 september 1968 ) was a progressive conservative party member of the canadian house of commons. he was born in carberry, manitoba and became a farmer by career. he was elected at the cariboo riding in the 1958 general election, defeating social credit incumbent bert leboe. henderson served only one term, the 24th canadian parliament, before leboe retook the riding in the 1962 election.\n",
      "i / iw / aws 7 september september\n",
      ">> original_text  september 1968 ) was a progressive conservative party member of the canadian house of commons. he was born in carberry, manitoba and became a farmer by career. he was elected at the cariboo riding in the 1958 general election, defeating social credit incumbent bert leboe. henderson served only one term, the 24th canadian parliament, before leboe retook the riding in the 1962 election.\n",
      "i / iw / aws 8 1968 1968\n",
      ">> original_text  1968 ) was a progressive conservative party member of the canadian house of commons. he was born in carberry, manitoba and became a farmer by career. he was elected at the cariboo riding in the 1958 general election, defeating social credit incumbent bert leboe. henderson served only one term, the 24th canadian parliament, before leboe retook the riding in the 1962 election.\n",
      "i / iw / aws 9 was was\n",
      ">> original_text  ) was a progressive conservative party member of the canadian house of commons. he was born in carberry, manitoba and became a farmer by career. he was elected at the cariboo riding in the 1958 general election, defeating social credit incumbent bert leboe. henderson served only one term, the 24th canadian parliament, before leboe retook the riding in the 1962 election.\n",
      "i / iw / aws 10 a a\n",
      ">> original_text  a progressive conservative party member of the canadian house of commons. he was born in carberry, manitoba and became a farmer by career. he was elected at the cariboo riding in the 1958 general election, defeating social credit incumbent bert leboe. henderson served only one term, the 24th canadian parliament, before leboe retook the riding in the 1962 election.\n",
      "i / iw / aws 11 progressive progressive\n",
      ">> original_text  progressive conservative party member of the canadian house of commons. he was born in carberry, manitoba and became a farmer by career. he was elected at the cariboo riding in the 1958 general election, defeating social credit incumbent bert leboe. henderson served only one term, the 24th canadian parliament, before leboe retook the riding in the 1962 election.\n",
      "i / iw / aws 12 conservative conservative\n",
      ">> original_text  conservative party member of the canadian house of commons. he was born in carberry, manitoba and became a farmer by career. he was elected at the cariboo riding in the 1958 general election, defeating social credit incumbent bert leboe. henderson served only one term, the 24th canadian parliament, before leboe retook the riding in the 1962 election.\n",
      "i / iw / aws 13 party party\n",
      ">> original_text  party member of the canadian house of commons. he was born in carberry, manitoba and became a farmer by career. he was elected at the cariboo riding in the 1958 general election, defeating social credit incumbent bert leboe. henderson served only one term, the 24th canadian parliament, before leboe retook the riding in the 1962 election.\n",
      "i / iw / aws 14 member member\n",
      ">> original_text  member of the canadian house of commons. he was born in carberry, manitoba and became a farmer by career. he was elected at the cariboo riding in the 1958 general election, defeating social credit incumbent bert leboe. henderson served only one term, the 24th canadian parliament, before leboe retook the riding in the 1962 election.\n",
      "i / iw / aws 15 of of\n",
      ">> original_text  of the canadian house of commons. he was born in carberry, manitoba and became a farmer by career. he was elected at the cariboo riding in the 1958 general election, defeating social credit incumbent bert leboe. henderson served only one term, the 24th canadian parliament, before leboe retook the riding in the 1962 election.\n",
      "i / iw / aws 16 the the\n",
      ">> original_text  the canadian house of commons. he was born in carberry, manitoba and became a farmer by career. he was elected at the cariboo riding in the 1958 general election, defeating social credit incumbent bert leboe. henderson served only one term, the 24th canadian parliament, before leboe retook the riding in the 1962 election.\n",
      "i / iw / aws 17 canadian canadian\n",
      ">> original_text  canadian house of commons. he was born in carberry, manitoba and became a farmer by career. he was elected at the cariboo riding in the 1958 general election, defeating social credit incumbent bert leboe. henderson served only one term, the 24th canadian parliament, before leboe retook the riding in the 1962 election.\n",
      "i / iw / aws 18 house house\n",
      ">> original_text  house of commons. he was born in carberry, manitoba and became a farmer by career. he was elected at the cariboo riding in the 1958 general election, defeating social credit incumbent bert leboe. henderson served only one term, the 24th canadian parliament, before leboe retook the riding in the 1962 election.\n",
      "i / iw / aws 19 of of\n",
      ">> original_text  of commons. he was born in carberry, manitoba and became a farmer by career. he was elected at the cariboo riding in the 1958 general election, defeating social credit incumbent bert leboe. henderson served only one term, the 24th canadian parliament, before leboe retook the riding in the 1962 election.\n",
      "i / iw / aws 20 commons commons\n",
      ">> original_text  commons. he was born in carberry, manitoba and became a farmer by career. he was elected at the cariboo riding in the 1958 general election, defeating social credit incumbent bert leboe. henderson served only one term, the 24th canadian parliament, before leboe retook the riding in the 1962 election.\n",
      "i / iw / aws 21 he he\n",
      ">> original_text . he was born in carberry, manitoba and became a farmer by career. he was elected at the cariboo riding in the 1958 general election, defeating social credit incumbent bert leboe. henderson served only one term, the 24th canadian parliament, before leboe retook the riding in the 1962 election.\n",
      "i / iw / aws 22 was was\n",
      ">> original_text  was born in carberry, manitoba and became a farmer by career. he was elected at the cariboo riding in the 1958 general election, defeating social credit incumbent bert leboe. henderson served only one term, the 24th canadian parliament, before leboe retook the riding in the 1962 election.\n",
      "i / iw / aws 23 born born\n",
      ">> original_text  born in carberry, manitoba and became a farmer by career. he was elected at the cariboo riding in the 1958 general election, defeating social credit incumbent bert leboe. henderson served only one term, the 24th canadian parliament, before leboe retook the riding in the 1962 election.\n",
      "i / iw / aws 24 in in\n",
      ">> original_text  in carberry, manitoba and became a farmer by career. he was elected at the cariboo riding in the 1958 general election, defeating social credit incumbent bert leboe. henderson served only one term, the 24th canadian parliament, before leboe retook the riding in the 1962 election.\n",
      "i / iw / aws 25 carberry carberry\n",
      ">> original_text  carberry, manitoba and became a farmer by career. he was elected at the cariboo riding in the 1958 general election, defeating social credit incumbent bert leboe. henderson served only one term, the 24th canadian parliament, before leboe retook the riding in the 1962 election.\n",
      "i / iw / aws 26 manitoba manitoba\n",
      ">> original_text , manitoba and became a farmer by career. he was elected at the cariboo riding in the 1958 general election, defeating social credit incumbent bert leboe. henderson served only one term, the 24th canadian parliament, before leboe retook the riding in the 1962 election.\n",
      "i / iw / aws 27 and and\n",
      ">> original_text  and became a farmer by career. he was elected at the cariboo riding in the 1958 general election, defeating social credit incumbent bert leboe. henderson served only one term, the 24th canadian parliament, before leboe retook the riding in the 1962 election.\n",
      "i / iw / aws 28 became became\n",
      ">> original_text  became a farmer by career. he was elected at the cariboo riding in the 1958 general election, defeating social credit incumbent bert leboe. henderson served only one term, the 24th canadian parliament, before leboe retook the riding in the 1962 election.\n",
      "i / iw / aws 29 a a\n",
      ">> original_text  a farmer by career. he was elected at the cariboo riding in the 1958 general election, defeating social credit incumbent bert leboe. henderson served only one term, the 24th canadian parliament, before leboe retook the riding in the 1962 election.\n",
      "i / iw / aws 30 farmer farmer\n",
      ">> original_text  farmer by career. he was elected at the cariboo riding in the 1958 general election, defeating social credit incumbent bert leboe. henderson served only one term, the 24th canadian parliament, before leboe retook the riding in the 1962 election.\n",
      "i / iw / aws 31 by by\n",
      ">> original_text  by career. he was elected at the cariboo riding in the 1958 general election, defeating social credit incumbent bert leboe. henderson served only one term, the 24th canadian parliament, before leboe retook the riding in the 1962 election.\n",
      "i / iw / aws 32 career career\n",
      ">> original_text  career. he was elected at the cariboo riding in the 1958 general election, defeating social credit incumbent bert leboe. henderson served only one term, the 24th canadian parliament, before leboe retook the riding in the 1962 election.\n",
      "i / iw / aws 33 he he\n",
      ">> original_text . he was elected at the cariboo riding in the 1958 general election, defeating social credit incumbent bert leboe. henderson served only one term, the 24th canadian parliament, before leboe retook the riding in the 1962 election.\n",
      "i / iw / aws 34 was was\n",
      ">> original_text  was elected at the cariboo riding in the 1958 general election, defeating social credit incumbent bert leboe. henderson served only one term, the 24th canadian parliament, before leboe retook the riding in the 1962 election.\n",
      "i / iw / aws 35 elected elected\n",
      ">> original_text  elected at the cariboo riding in the 1958 general election, defeating social credit incumbent bert leboe. henderson served only one term, the 24th canadian parliament, before leboe retook the riding in the 1962 election.\n",
      "i / iw / aws 36 at at\n",
      ">> original_text  at the cariboo riding in the 1958 general election, defeating social credit incumbent bert leboe. henderson served only one term, the 24th canadian parliament, before leboe retook the riding in the 1962 election.\n",
      "i / iw / aws 37 the the\n",
      ">> original_text  the cariboo riding in the 1958 general election, defeating social credit incumbent bert leboe. henderson served only one term, the 24th canadian parliament, before leboe retook the riding in the 1962 election.\n",
      "i / iw / aws 38 cariboo cariboo\n",
      ">> original_text  cariboo riding in the 1958 general election, defeating social credit incumbent bert leboe. henderson served only one term, the 24th canadian parliament, before leboe retook the riding in the 1962 election.\n",
      "i / iw / aws 39 riding riding\n",
      ">> original_text  riding in the 1958 general election, defeating social credit incumbent bert leboe. henderson served only one term, the 24th canadian parliament, before leboe retook the riding in the 1962 election.\n",
      "i / iw / aws 40 in in\n",
      ">> original_text  in the 1958 general election, defeating social credit incumbent bert leboe. henderson served only one term, the 24th canadian parliament, before leboe retook the riding in the 1962 election.\n",
      "i / iw / aws 41 the the\n",
      ">> original_text  the 1958 general election, defeating social credit incumbent bert leboe. henderson served only one term, the 24th canadian parliament, before leboe retook the riding in the 1962 election.\n",
      "i / iw / aws 42 1958 1958\n",
      ">> original_text  1958 general election, defeating social credit incumbent bert leboe. henderson served only one term, the 24th canadian parliament, before leboe retook the riding in the 1962 election.\n",
      "i / iw / aws 43 general general\n",
      ">> original_text  general election, defeating social credit incumbent bert leboe. henderson served only one term, the 24th canadian parliament, before leboe retook the riding in the 1962 election.\n",
      "i / iw / aws 44 election election\n",
      ">> original_text  election, defeating social credit incumbent bert leboe. henderson served only one term, the 24th canadian parliament, before leboe retook the riding in the 1962 election.\n",
      "i / iw / aws 45 defeating defeating\n",
      ">> original_text , defeating social credit incumbent bert leboe. henderson served only one term, the 24th canadian parliament, before leboe retook the riding in the 1962 election.\n",
      "i / iw / aws 46 social social\n",
      ">> original_text  social credit incumbent bert leboe. henderson served only one term, the 24th canadian parliament, before leboe retook the riding in the 1962 election.\n",
      "i / iw / aws 47 credit credit\n",
      ">> original_text  credit incumbent bert leboe. henderson served only one term, the 24th canadian parliament, before leboe retook the riding in the 1962 election.\n",
      "i / iw / aws 48 <mask> <mask>\n",
      ">> original_text  incumbent bert leboe. henderson served only one term, the 24th canadian parliament, before leboe retook the riding in the 1962 election.\n"
     ]
    },
    {
     "ename": "ValueError",
     "evalue": "substring not found",
     "output_type": "error",
     "traceback": [
      "\u001b[0;31m---------------------------------------------------------------------------\u001b[0m",
      "\u001b[0;31mValueError\u001b[0m                                Traceback (most recent call last)",
      "Input \u001b[0;32mIn [11]\u001b[0m, in \u001b[0;36m<cell line: 1>\u001b[0;34m()\u001b[0m\n\u001b[0;32m----> 1\u001b[0m \u001b[43mat\u001b[49m\u001b[38;5;241;43m.\u001b[39;49m\u001b[43mreplace_word_at_index\u001b[49m\u001b[43m(\u001b[49m\u001b[38;5;241;43m26\u001b[39;49m\u001b[43m,\u001b[49m\u001b[43m \u001b[49m\u001b[38;5;124;43m'\u001b[39;49m\u001b[38;5;124;43mmanitoba\u001b[39;49m\u001b[38;5;124;43m'\u001b[39;49m\u001b[43m)\u001b[49m\n",
      "File \u001b[0;32m~/random/TextAttack/textattack/shared/attacked_text.py:336\u001b[0m, in \u001b[0;36mAttackedText.replace_word_at_index\u001b[0;34m(self, index, new_word)\u001b[0m\n\u001b[1;32m    332\u001b[0m \u001b[38;5;28;01mif\u001b[39;00m \u001b[38;5;129;01mnot\u001b[39;00m \u001b[38;5;28misinstance\u001b[39m(new_word, \u001b[38;5;28mstr\u001b[39m):\n\u001b[1;32m    333\u001b[0m     \u001b[38;5;28;01mraise\u001b[39;00m \u001b[38;5;167;01mTypeError\u001b[39;00m(\n\u001b[1;32m    334\u001b[0m         \u001b[38;5;124mf\u001b[39m\u001b[38;5;124m\"\u001b[39m\u001b[38;5;124mreplace_word_at_index requires ``str`` new_word, got \u001b[39m\u001b[38;5;132;01m{\u001b[39;00m\u001b[38;5;28mtype\u001b[39m(new_word)\u001b[38;5;132;01m}\u001b[39;00m\u001b[38;5;124m\"\u001b[39m\n\u001b[1;32m    335\u001b[0m     )\n\u001b[0;32m--> 336\u001b[0m \u001b[38;5;28;01mreturn\u001b[39;00m \u001b[38;5;28;43mself\u001b[39;49m\u001b[38;5;241;43m.\u001b[39;49m\u001b[43mreplace_words_at_indices\u001b[49m\u001b[43m(\u001b[49m\u001b[43m[\u001b[49m\u001b[43mindex\u001b[49m\u001b[43m]\u001b[49m\u001b[43m,\u001b[49m\u001b[43m \u001b[49m\u001b[43m[\u001b[49m\u001b[43mnew_word\u001b[49m\u001b[43m]\u001b[49m\u001b[43m)\u001b[49m\n",
      "File \u001b[0;32m~/random/TextAttack/textattack/shared/attacked_text.py:327\u001b[0m, in \u001b[0;36mAttackedText.replace_words_at_indices\u001b[0;34m(self, indices, new_words)\u001b[0m\n\u001b[1;32m    325\u001b[0m         \u001b[38;5;28;01mraise\u001b[39;00m \u001b[38;5;167;01mValueError\u001b[39;00m(\u001b[38;5;124mf\u001b[39m\u001b[38;5;124m\"\u001b[39m\u001b[38;5;124mCannot assign word at index \u001b[39m\u001b[38;5;132;01m{\u001b[39;00mi\u001b[38;5;132;01m}\u001b[39;00m\u001b[38;5;124m\"\u001b[39m)\n\u001b[1;32m    326\u001b[0m     words[i] \u001b[38;5;241m=\u001b[39m new_word\n\u001b[0;32m--> 327\u001b[0m \u001b[38;5;28;01mreturn\u001b[39;00m \u001b[38;5;28;43mself\u001b[39;49m\u001b[38;5;241;43m.\u001b[39;49m\u001b[43mgenerate_new_attacked_text\u001b[49m\u001b[43m(\u001b[49m\u001b[43mwords\u001b[49m\u001b[43m)\u001b[49m\n",
      "File \u001b[0;32m~/random/TextAttack/textattack/shared/attacked_text.py:402\u001b[0m, in \u001b[0;36mAttackedText.generate_new_attacked_text\u001b[0;34m(self, new_words)\u001b[0m\n\u001b[1;32m    400\u001b[0m \u001b[38;5;28mprint\u001b[39m(\u001b[38;5;124m'\u001b[39m\u001b[38;5;124mi / iw / aws\u001b[39m\u001b[38;5;124m'\u001b[39m, i, input_word, adv_word_seq)\n\u001b[1;32m    401\u001b[0m \u001b[38;5;28mprint\u001b[39m(\u001b[38;5;124m'\u001b[39m\u001b[38;5;124m>> original_text\u001b[39m\u001b[38;5;124m'\u001b[39m, original_text)\n\u001b[0;32m--> 402\u001b[0m word_start \u001b[38;5;241m=\u001b[39m \u001b[43moriginal_text\u001b[49m\u001b[38;5;241;43m.\u001b[39;49m\u001b[43mindex\u001b[49m\u001b[43m(\u001b[49m\u001b[43minput_word\u001b[49m\u001b[43m)\u001b[49m\n\u001b[1;32m    403\u001b[0m word_end \u001b[38;5;241m=\u001b[39m word_start \u001b[38;5;241m+\u001b[39m \u001b[38;5;28mlen\u001b[39m(input_word)\n\u001b[1;32m    404\u001b[0m perturbed_text \u001b[38;5;241m+\u001b[39m\u001b[38;5;241m=\u001b[39m original_text[:word_start]\n",
      "\u001b[0;31mValueError\u001b[0m: substring not found"
     ]
    }
   ],
   "source": [
    "at.replace_word_at_index(26, 'manitoba')"
   ]
  },
  {
   "cell_type": "code",
   "execution_count": null,
   "id": "8f060d16-2c5f-4e3d-bddd-67a68f88fef8",
   "metadata": {},
   "outputs": [],
   "source": []
  }
 ],
 "metadata": {
  "kernelspec": {
   "display_name": "Python 3",
   "language": "python",
   "name": "python3"
  },
  "language_info": {
   "codemirror_mode": {
    "name": "ipython",
    "version": 3
   },
   "file_extension": ".py",
   "mimetype": "text/x-python",
   "name": "python",
   "nbconvert_exporter": "python",
   "pygments_lexer": "ipython3",
   "version": "3.9.7"
  }
 },
 "nbformat": 4,
 "nbformat_minor": 5
}
