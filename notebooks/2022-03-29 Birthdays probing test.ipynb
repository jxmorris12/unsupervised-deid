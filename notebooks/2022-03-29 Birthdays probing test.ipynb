{
 "cells": [
  {
   "cell_type": "markdown",
   "id": "54dd8d98-0748-478b-8c82-6b77cfa44e53",
   "metadata": {},
   "source": [
    "# Birthdays probing test"
   ]
  },
  {
   "cell_type": "code",
   "execution_count": 1,
   "id": "7d252cb9-4ee5-42f2-98df-af6e72555090",
   "metadata": {},
   "outputs": [],
   "source": [
    "import sys\n",
    "sys.path.append('/home/jxm3/research/deidentification/unsupervised-deidentification')"
   ]
  },
  {
   "cell_type": "code",
   "execution_count": 2,
   "id": "68a87966-0c59-45f7-8502-5e7da6710a32",
   "metadata": {},
   "outputs": [
    {
     "name": "stderr",
     "output_type": "stream",
     "text": [
      "Some weights of the model checkpoint at distilbert-base-uncased were not used when initializing DistilBertModel: ['vocab_transform.weight', 'vocab_layer_norm.weight', 'vocab_projector.weight', 'vocab_transform.bias', 'vocab_projector.bias', 'vocab_layer_norm.bias']\n",
      "- This IS expected if you are initializing DistilBertModel from the checkpoint of a model trained on another task or with another architecture (e.g. initializing a BertForSequenceClassification model from a BertForPreTraining model).\n",
      "- This IS NOT expected if you are initializing DistilBertModel from the checkpoint of a model that you expect to be exactly identical (initializing a BertForSequenceClassification model from a BertForSequenceClassification model).\n"
     ]
    },
    {
     "name": "stdout",
     "output_type": "stream",
     "text": [
      "Initialized DocumentProfileMatchingTransformer with learning_rate = 0.0002\n"
     ]
    }
   ],
   "source": [
    "from model import DocumentProfileMatchingTransformer\n",
    "\n",
    "checkpoint_path = \"/home/jxm3/research/deidentification/unsupervised-deidentification/saves/deid-wikibio_deid_exp/okpvvffw_46/checkpoints/epoch=7-step=1823.ckpt\"\n",
    "model = DocumentProfileMatchingTransformer.load_from_checkpoint(\n",
    "    checkpoint_path,\n",
    "    dataset_name='wiki_bio',\n",
    "    model_name_or_path='distilbert-base-uncased',\n",
    "    num_workers=1,\n",
    "    loss_fn='exact',\n",
    "    num_neighbors=2048,\n",
    "    base_folder=\"/home/jxm3/research/deidentification/unsupervised-deidentification\",\n",
    ")"
   ]
  },
  {
   "cell_type": "code",
   "execution_count": 3,
   "id": "29132408-7f12-472e-896b-494b99fda702",
   "metadata": {},
   "outputs": [
    {
     "name": "stdout",
     "output_type": "stream",
     "text": [
      "Initializing WikipediaDataModule with num_workers = 8\n"
     ]
    },
    {
     "name": "stderr",
     "output_type": "stream",
     "text": [
      "Using custom data configuration default\n",
      "Reusing dataset wiki_bio (/home/jxm3/.cache/huggingface/datasets/wiki_bio/default/1.2.0/c05ce066e9026831cd7535968a311fc80f074b58868cfdffccbc811dff2ab6da)\n",
      "Using custom data configuration default\n",
      "Reusing dataset wiki_bio (/home/jxm3/.cache/huggingface/datasets/wiki_bio/default/1.2.0/c05ce066e9026831cd7535968a311fc80f074b58868cfdffccbc811dff2ab6da)\n",
      "Loading cached processed dataset at /home/jxm3/.cache/huggingface/datasets/wiki_bio/default/1.2.0/c05ce066e9026831cd7535968a311fc80f074b58868cfdffccbc811dff2ab6da/cache-5535f82839d9fec4.arrow\n",
      "Loading cached processed dataset at /home/jxm3/.cache/huggingface/datasets/wiki_bio/default/1.2.0/c05ce066e9026831cd7535968a311fc80f074b58868cfdffccbc811dff2ab6da/cache-5b1c3941089b7f1b.arrow\n"
     ]
    },
    {
     "data": {
      "application/vnd.jupyter.widget-view+json": {
       "model_id": "512ae51d2e414838989d0a82c589e759",
       "version_major": 2,
       "version_minor": 0
      },
      "text/plain": [
       "0ex [00:00, ?ex/s]"
      ]
     },
     "metadata": {},
     "output_type": "display_data"
    },
    {
     "data": {
      "application/vnd.jupyter.widget-view+json": {
       "model_id": "172aed5ff4af436cb8e736c329d34872",
       "version_major": 2,
       "version_minor": 0
      },
      "text/plain": [
       "0ex [00:00, ?ex/s]"
      ]
     },
     "metadata": {},
     "output_type": "display_data"
    },
    {
     "data": {
      "application/vnd.jupyter.widget-view+json": {
       "model_id": "df9144da00ac4207a924b70cf620c879",
       "version_major": 2,
       "version_minor": 0
      },
      "text/plain": [
       "  0%|          | 0/59 [00:00<?, ?ba/s]"
      ]
     },
     "metadata": {},
     "output_type": "display_data"
    },
    {
     "data": {
      "application/vnd.jupyter.widget-view+json": {
       "model_id": "f1486af360854520a1e83e863ee3c727",
       "version_major": 2,
       "version_minor": 0
      },
      "text/plain": [
       "  0%|          | 0/15 [00:00<?, ?ba/s]"
      ]
     },
     "metadata": {},
     "output_type": "display_data"
    },
    {
     "data": {
      "application/vnd.jupyter.widget-view+json": {
       "model_id": "361d874176304a08937240f0a62e2ee7",
       "version_major": 2,
       "version_minor": 0
      },
      "text/plain": [
       "  0%|          | 0/59 [00:00<?, ?ba/s]"
      ]
     },
     "metadata": {},
     "output_type": "display_data"
    },
    {
     "data": {
      "application/vnd.jupyter.widget-view+json": {
       "model_id": "d11b7f55c47440ce8fcb46539d24e26d",
       "version_major": 2,
       "version_minor": 0
      },
      "text/plain": [
       "  0%|          | 0/15 [00:00<?, ?ba/s]"
      ]
     },
     "metadata": {},
     "output_type": "display_data"
    }
   ],
   "source": [
    "from datamodule import WikipediaDataModule\n",
    "import os\n",
    "\n",
    "num_cpus = os.cpu_count()\n",
    "\n",
    "dm = WikipediaDataModule(\n",
    "    model_name_or_path='distilbert-base-uncased',\n",
    "    dataset_name='wiki_bio',\n",
    "    num_workers=min(8, num_cpus),\n",
    "    train_batch_size=64,\n",
    "    eval_batch_size=64,\n",
    "    max_seq_length=64,\n",
    "    redaction_strategy=\"\",\n",
    "    base_folder=\"/home/jxm3/research/deidentification/unsupervised-deidentification\",\n",
    ")\n",
    "dm.setup(\"fit\")"
   ]
  },
  {
   "cell_type": "markdown",
   "id": "f7ea5280-96de-48cd-9ccc-23d8c3f3237d",
   "metadata": {},
   "source": [
    "## Get the birthday data"
   ]
  },
  {
   "cell_type": "code",
   "execution_count": 66,
   "id": "b35ca719-fdad-45ee-b979-9c2a67d58c91",
   "metadata": {},
   "outputs": [],
   "source": [
    "from typing import Tuple\n",
    "\n",
    "from collections import OrderedDict\n",
    "\n",
    "import datasets\n",
    "\n",
    "class WikiDataset:\n",
    "    dataset: datasets.Dataset\n",
    "    \n",
    "    def __init__(self, dm: WikipediaDataModule):\n",
    "        self.shuffled = True\n",
    "        self.train_dataset = dm.train_dataset\n",
    "        self.val_dataset = dm.val_dataset\n",
    "        self.train_label_names = list(dm.train_dataset['name'])\n",
    "        self.val_label_names = list(dm.val_dataset['name'])\n",
    "        "
   ]
  },
  {
   "cell_type": "code",
   "execution_count": 67,
   "id": "5a421b8a-9a20-47dd-93ae-2527bca28109",
   "metadata": {},
   "outputs": [],
   "source": [
    "from textattack import Attack\n",
    "from textattack.constraints.pre_transformation import RepeatModification\n",
    "\n",
    "#model_wrapper = MyModelWrapper(model, dm.tokenizer)\n",
    "#model_wrapper.to('cuda')\n",
    "wd = WikiDataset(dm)"
   ]
  },
  {
   "cell_type": "code",
   "execution_count": 69,
   "id": "369c5489-3748-46d6-86ea-82b35a01134f",
   "metadata": {},
   "outputs": [
    {
     "data": {
      "text/plain": [
       "['eye_color | blue\\nname | anja Šaranović\\nbirth_name | anja Šaranović\\ncompetitions | miss miss international 2010 -lrb- top 15 -rrb- miss universe 2011 kraljevo -lrb- winner -rrb- miss serbia universe 2010\\nimage | anja.jpg\\nbirth_place | kraljevo , yugoslavia\\nhair_color | blonde\\nbirth_date | 12 september 1989\\narticle_title | anja Šaranović']"
      ]
     },
     "execution_count": 69,
     "metadata": {},
     "output_type": "execute_result"
    }
   ],
   "source": [
    "dataset.train_dataset[320]['profile'].split(r'|\\n')"
   ]
  },
  {
   "cell_type": "code",
   "execution_count": 72,
   "id": "d2c6da6f-9788-4a13-bb05-46383951d49a",
   "metadata": {},
   "outputs": [
    {
     "name": "stdout",
     "output_type": "stream",
     "text": [
      "dataset lengths: 43032 / 10761\n"
     ]
    }
   ],
   "source": [
    "from typing import List, Tuple\n",
    "\n",
    "def process_dataset(_dataset) -> List[Tuple[int, int]]:\n",
    "    _processed_data = []\n",
    "    for idx, d in enumerate(_dataset):\n",
    "        profile = d['profile']\n",
    "        date_str_matches = re.search(r\"birth_date \\| ([\\d]{1,4} [a-z]+ [\\d]{1,4})\", profile)\n",
    "        if date_str_matches:\n",
    "            date_str = date_str_matches.group(1)\n",
    "            # print(date_str)\n",
    "            # parse to datetime.datetime\n",
    "            try:\n",
    "                dt = datetime.datetime.strptime(date_str, \"%d %B %Y\")\n",
    "            except ValueError as e:\n",
    "                # print(e)\n",
    "                continue\n",
    "            day_class_num = (dt.month - 1) * 31 + dt.day\n",
    "            _processed_data.append([idx, day_class_num])\n",
    "    return _processed_data\n",
    "\n",
    "\n",
    "train_birthday_data = process_dataset(wd.train_dataset)\n",
    "val_birthday_data = process_dataset(wd.val_dataset)\n",
    "\n",
    "print('dataset lengths:', len(train_birthday_data), '/', len(val_birthday_data))"
   ]
  },
  {
   "cell_type": "code",
   "execution_count": 63,
   "id": "f7a5d437-fdec-4ee5-a1d3-05dda9e7fded",
   "metadata": {},
   "outputs": [
    {
     "data": {
      "text/plain": [
       "17"
      ]
     },
     "execution_count": 63,
     "metadata": {},
     "output_type": "execute_result"
    }
   ],
   "source": [
    "import datetime\n",
    "\n",
    "d = datetime.datetime.strptime('17 january 1943', \"%d %B %Y\")\n",
    "d.day"
   ]
  },
  {
   "cell_type": "markdown",
   "id": "e2982e8b-786a-4e7e-a0c8-957ecbef6e29",
   "metadata": {},
   "source": [
    "## Create the birthday model"
   ]
  },
  {
   "cell_type": "code",
   "execution_count": 73,
   "id": "07850e58-4195-4b64-bc1c-899d3df4820b",
   "metadata": {},
   "outputs": [],
   "source": [
    "import torch\n",
    "import transformers\n",
    "\n",
    "from pytorch_lightning import LightningModule\n",
    "\n",
    "class BirthdayModel(LightningModule):\n",
    "#     TODO impl birthday model below\n",
    "    profile_embeddings: torch.Tensor\n",
    "    classifier: torch.nn.Module\n",
    "    max_seq_length: int\n",
    "    \n",
    "    def __init__(self, model: DocumentProfileMatchingTransformer, tokenizer: transformers.PreTrainedTokenizer, max_seq_length: int = 64):\n",
    "        self.train_profile_embeddings = torch.tensor(model.train_embeddings)\n",
    "        self.val_profile_embeddings = torch.tensor(model.val_embeddings)\n",
    "        self.classifier = torch.nn.Sequential(\n",
    "            torch.nn.Dropout(p=0.1),\n",
    "            # 12 * 31 possible outputs\n",
    "            torch.nn.Linear(model.val_embeddings.shape[1], 12*31),\n",
    "        )\n",
    "                 \n",
    "    def to(self, device):\n",
    "        self.train_profile_embeddings.to(device)\n",
    "        self.val_profile_embeddings.to(device)\n",
    "        self.classifier.to(device)\n",
    "        return self # so semantics `model = MyModelWrapper().to('cuda')` works properly\n",
    "\n",
    "    def call_train(self, train_indices: torch.Tensor):\n",
    "        prof_embeddings = self.train_profile_embeddings[train_indices]\n",
    "        return self.classifier(prof_embeddings)\n",
    "        \n",
    "    def call_val(self, val_indices: torch.Tensor):\n",
    "        prof_embeddings = self.val_profile_embeddings[val_indices]\n",
    "        return self.classifier(prof_embeddings)\n",
    "\n",
    "    def training_step(??):\n",
    "    \n",
    "    def validation_step(??):\n",
    "            "
   ]
  },
  {
   "cell_type": "code",
   "execution_count": null,
   "id": "d1876b13-e060-416b-a304-e72d3d6b4186",
   "metadata": {},
   "outputs": [],
   "source": []
  }
 ],
 "metadata": {
  "kernelspec": {
   "display_name": "Python 3",
   "language": "python",
   "name": "python3"
  },
  "language_info": {
   "codemirror_mode": {
    "name": "ipython",
    "version": 3
   },
   "file_extension": ".py",
   "mimetype": "text/x-python",
   "name": "python",
   "nbconvert_exporter": "python",
   "pygments_lexer": "ipython3",
   "version": "3.9.7"
  }
 },
 "nbformat": 4,
 "nbformat_minor": 5
}
