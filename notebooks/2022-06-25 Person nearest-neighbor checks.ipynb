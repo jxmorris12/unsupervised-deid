{
 "cells": [
  {
   "cell_type": "code",
   "execution_count": 1,
   "id": "908d2612-c0e1-46c7-96a5-f2fcbf1fdb2f",
   "metadata": {},
   "outputs": [
    {
     "name": "stdout",
     "output_type": "stream",
     "text": [
      "Initializing WikipediaDataModule with num_workers = 8 and mask token `<mask>`\n",
      "loading wiki_bio[1.2.0] split train[:100%]\n",
      "loading wiki_bio[1.2.0] split val[:100%]\n",
      "loading wiki_bio[1.2.0] split test[:100%]\n",
      "                        "
     ]
    }
   ],
   "source": [
    "import sys\n",
    "sys.path.append('/home/jxm3/research/deidentification/unsupervised-deidentification')\n",
    "\n",
    "from datamodule import WikipediaDataModule\n",
    "\n",
    "import numpy as np\n",
    "\n",
    "\n",
    "num_cpus = 8\n",
    "\n",
    "dm = WikipediaDataModule(\n",
    "    document_model_name_or_path='roberta-base',\n",
    "    profile_model_name_or_path='google/tapas-base',\n",
    "    dataset_name='wiki_bio',\n",
    "    dataset_train_split='train[:100%]',\n",
    "    dataset_val_split='val[:100%]',\n",
    "    dataset_test_split='test[:100%]',\n",
    "    dataset_version='1.2.0',\n",
    "    num_workers=num_cpus,\n",
    "    train_batch_size=256,\n",
    "    eval_batch_size=256,\n",
    "    max_seq_length=128,\n",
    "    sample_spans=False,\n",
    ")\n",
    "dm.setup(\"fit\")"
   ]
  },
  {
   "cell_type": "code",
   "execution_count": 2,
   "id": "9b05a583-41f5-4d9c-b464-56f03b477a20",
   "metadata": {},
   "outputs": [
    {
     "name": "stdout",
     "output_type": "stream",
     "text": [
      ">> loaded 582659 train embeddings from /home/jxm3/research/deidentification/unsupervised-deidentification/embeddings/profile/model_3_2/train.pkl\n",
      ">> loaded 72831 val embeddings from /home/jxm3/research/deidentification/unsupervised-deidentification/embeddings/profile/model_3_2/val.pkl\n",
      ">> loaded 72831 test embeddings from /home/jxm3/research/deidentification/unsupervised-deidentification/embeddings/profile/model_3_2/test.pkl\n",
      "concatenating train, val, and test profile embeddings\n",
      "all_profile_embeddings: torch.Size([728321, 3072])\n",
      ">> loaded 582659 train embeddings from /home/jxm3/research/deidentification/unsupervised-deidentification/embeddings/profile/model_3_3/train.pkl\n",
      ">> loaded 72831 val embeddings from /home/jxm3/research/deidentification/unsupervised-deidentification/embeddings/profile/model_3_3/val.pkl\n",
      ">> loaded 72831 test embeddings from /home/jxm3/research/deidentification/unsupervised-deidentification/embeddings/profile/model_3_3/test.pkl\n",
      "concatenating train, val, and test profile embeddings\n",
      "all_profile_embeddings: torch.Size([728321, 3072])\n"
     ]
    }
   ],
   "source": [
    "import torch\n",
    "from utils import get_profile_embeddings_by_model_key\n",
    "\n",
    "def get_profile_embeddings(model_key: str):\n",
    "    profile_embeddings = get_profile_embeddings_by_model_key(model_key=model_key)\n",
    "\n",
    "    print(\"concatenating train, val, and test profile embeddings\")\n",
    "    all_profile_embeddings = torch.cat(\n",
    "        (profile_embeddings['test'], profile_embeddings['val'], profile_embeddings['train']), dim=0\n",
    "    )\n",
    "\n",
    "    print(\"all_profile_embeddings:\", all_profile_embeddings.shape)\n",
    "    return all_profile_embeddings\n",
    "\n",
    "rt_profile_embeddings = get_profile_embeddings('model_3_2')\n",
    "rr_profile_embeddings = get_profile_embeddings('model_3_3')"
   ]
  },
  {
   "cell_type": "code",
   "execution_count": 3,
   "id": "f3343789-79a2-44d8-bbe5-4ef8c563b5a0",
   "metadata": {},
   "outputs": [
    {
     "name": "stderr",
     "output_type": "stream",
     "text": [
      "Some weights of the model checkpoint at roberta-base were not used when initializing RobertaModel: ['lm_head.bias', 'lm_head.dense.weight', 'lm_head.dense.bias', 'lm_head.layer_norm.weight', 'lm_head.decoder.weight', 'lm_head.layer_norm.bias']\n",
      "- This IS expected if you are initializing RobertaModel from the checkpoint of a model trained on another task or with another architecture (e.g. initializing a BertForSequenceClassification model from a BertForPreTraining model).\n",
      "- This IS NOT expected if you are initializing RobertaModel from the checkpoint of a model that you expect to be exactly identical (initializing a BertForSequenceClassification model from a BertForSequenceClassification model).\n"
     ]
    },
    {
     "name": "stdout",
     "output_type": "stream",
     "text": [
      "Initialized model with learning_rate = 0.0001 and patience 6\n"
     ]
    },
    {
     "name": "stderr",
     "output_type": "stream",
     "text": [
      "Some weights of the model checkpoint at roberta-base were not used when initializing RobertaModel: ['lm_head.bias', 'lm_head.dense.weight', 'lm_head.dense.bias', 'lm_head.layer_norm.weight', 'lm_head.decoder.weight', 'lm_head.layer_norm.bias']\n",
      "- This IS expected if you are initializing RobertaModel from the checkpoint of a model trained on another task or with another architecture (e.g. initializing a BertForSequenceClassification model from a BertForPreTraining model).\n",
      "- This IS NOT expected if you are initializing RobertaModel from the checkpoint of a model that you expect to be exactly identical (initializing a BertForSequenceClassification model from a BertForSequenceClassification model).\n",
      "Some weights of the model checkpoint at roberta-base were not used when initializing RobertaModel: ['lm_head.bias', 'lm_head.dense.weight', 'lm_head.dense.bias', 'lm_head.layer_norm.weight', 'lm_head.decoder.weight', 'lm_head.layer_norm.bias']\n",
      "- This IS expected if you are initializing RobertaModel from the checkpoint of a model trained on another task or with another architecture (e.g. initializing a BertForSequenceClassification model from a BertForPreTraining model).\n",
      "- This IS NOT expected if you are initializing RobertaModel from the checkpoint of a model that you expect to be exactly identical (initializing a BertForSequenceClassification model from a BertForSequenceClassification model).\n"
     ]
    },
    {
     "name": "stdout",
     "output_type": "stream",
     "text": [
      "Initialized model with learning_rate = 0.0001 and patience 6\n"
     ]
    }
   ],
   "source": [
    "import sys\n",
    "sys.path.append('/home/jxm3/research/deidentification/unsupervised-deidentification')\n",
    "\n",
    "from model import AbstractModel, CoordinateAscentModel\n",
    "\n",
    "from model_cfg import model_paths_dict\n",
    "\n",
    "rt = CoordinateAscentModel.load_from_checkpoint(model_paths_dict['model_3_2'])\n",
    "rr = CoordinateAscentModel.load_from_checkpoint(model_paths_dict['model_3_3'])"
   ]
  },
  {
   "cell_type": "code",
   "execution_count": 4,
   "id": "5d0923db-4440-4529-98e2-d4d2e6fb61ee",
   "metadata": {},
   "outputs": [],
   "source": [
    "import torch\n",
    "import transformers\n",
    "\n",
    "from model import AbstractModel\n",
    "\n",
    "class ModelWrapper:\n",
    "    document_tokenizer: transformers.AutoTokenizer\n",
    "    profile_embeddings: torch.Tensor\n",
    "    max_seq_length: int\n",
    "    \n",
    "    def __init__(self,\n",
    "            model: AbstractModel,\n",
    "            document_tokenizer: transformers.AutoTokenizer,\n",
    "            profile_embeddings: torch.Tensor,\n",
    "            max_seq_length: int = 128\n",
    "        ):\n",
    "        self.model = model\n",
    "        self.model.eval()\n",
    "        self.document_tokenizer = document_tokenizer\n",
    "        self.profile_embeddings = profile_embeddings.clone().detach()\n",
    "        self.max_seq_length = max_seq_length\n",
    "                 \n",
    "    def to(self, device):\n",
    "        self.model.to(device)\n",
    "        self.profile_embeddings = self.profile_embeddings.to(device)\n",
    "        return self # so semantics `model = MyModelWrapper().to('cuda')` works properly\n",
    "\n",
    "    def __call__(self, text_input_list):\n",
    "        model_device = next(self.model.parameters()).device\n",
    "\n",
    "        tokenized_documents = self.document_tokenizer.batch_encode_plus(\n",
    "            text_input_list,\n",
    "            max_length=self.max_seq_length,\n",
    "            padding='max_length',\n",
    "            truncation=True,\n",
    "            return_tensors='pt',\n",
    "        )\n",
    "        batch = {f\"document__{k}\": v for k,v in tokenized_documents.items()}\n",
    "\n",
    "        with torch.no_grad():\n",
    "            document_embeddings = self.model.forward_document(batch=batch, document_type='document')\n",
    "            document_to_profile_logits = document_embeddings @ (self.profile_embeddings.T)\n",
    "        # breakpoint()\n",
    "        assert document_to_profile_logits.shape == (len(text_input_list), len(self.profile_embeddings))\n",
    "        return document_to_profile_logits\n",
    "\n",
    "    \n",
    "rt_mw = ModelWrapper(rt, dm.document_tokenizer, rt_profile_embeddings).to('cuda')\n",
    "rr_mw = ModelWrapper(rr, dm.document_tokenizer, rr_profile_embeddings).to('cuda')\n"
   ]
  },
  {
   "cell_type": "code",
   "execution_count": 5,
   "id": "980e81ec-052b-4474-9dd1-54ff44e496d1",
   "metadata": {},
   "outputs": [],
   "source": [
    "from typing import List, Tuple\n",
    "\n",
    "from IPython.display import HTML, display\n",
    "import html\n",
    "\n",
    "wrap_th = lambda s: f'<th>{s}</th>'\n",
    "wrap_td = lambda s: f'<td>{s}</td>'\n",
    "\n",
    "def get_person(i: int):\n",
    "    if i < len(dm.test_dataset):\n",
    "        return dm.test_dataset[i]\n",
    "    elif i < (len(dm.test_dataset) + len(dm.val_dataset)):\n",
    "        return dm.val_dataset[i - len(dm.test_dataset)]\n",
    "    else:\n",
    "        return dm.train_dataset[i - len(dm.test_dataset) - len(dm.val_dataset)]\n",
    "\n",
    "def table_from_table_rows(rows_str: str) -> List[Tuple[str, str]]:\n",
    "    return [[el.strip() for el in r.split('||')] for r in rows_str.split('\\n')]\n",
    "\n",
    "def make_prof_html(profile: str) -> str:\n",
    "    table = table_from_table_rows(profile)\n",
    "    s = '<table style=\"border: 1px solid black\"><tbody>'\n",
    "    # print('table:', table)\n",
    "    for rkey, rval in table:\n",
    "        s += '<tr>'\n",
    "        s += f'<th><b>{rkey}</b></th>'\n",
    "        s += f'<td>{rval}</td>'\n",
    "        s += '</tr>'\n",
    "    s += '</tbody></table>'\n",
    "    return s\n",
    "\n",
    "def display_profile_by_index(idx: int):\n",
    "    display(HTML(make_prof_html(get_person(idx)['profile'])))\n"
   ]
  },
  {
   "cell_type": "code",
   "execution_count": 6,
   "id": "941e00f2-3aac-4997-b1de-1c572281ab5f",
   "metadata": {},
   "outputs": [],
   "source": [
    "label_names = np.array(list(dm.test_dataset['name']) + list(dm.val_dataset['name']) + list(dm.train_dataset['name']))"
   ]
  },
  {
   "cell_type": "code",
   "execution_count": 7,
   "id": "43dd5903-4e1c-46db-a362-2f9b6fc4dca4",
   "metadata": {},
   "outputs": [],
   "source": [
    "import pandas as pd\n",
    "\n",
    "label_names_s = pd.Series(label_names)"
   ]
  },
  {
   "cell_type": "code",
   "execution_count": 8,
   "id": "b26ba945-e7ec-4d5b-aff7-05c40d12b1d4",
   "metadata": {},
   "outputs": [
    {
     "data": {
      "text/plain": [
       "(array([123185, 138382, 299329, 581936, 652825]),)"
      ]
     },
     "execution_count": 8,
     "metadata": {},
     "output_type": "execute_result"
    }
   ],
   "source": [
    "label_names_s.apply(lambda s: 'lebron' in s.lower()).to_numpy().nonzero()"
   ]
  },
  {
   "cell_type": "code",
   "execution_count": 9,
   "id": "f10af050-d020-482e-b590-d71deaba28ce",
   "metadata": {},
   "outputs": [
    {
     "data": {
      "text/plain": [
       "array(['Luke Hellebronth', 'Gram Lebron', 'Lebron James',\n",
       "       'E. Lebron Fairbanks', 'Vilmos Hellebronth'], dtype='<U476')"
      ]
     },
     "execution_count": 9,
     "metadata": {},
     "output_type": "execute_result"
    }
   ],
   "source": [
    "label_names[[123185, 138382, 299329, 581936, 652825]]"
   ]
  },
  {
   "cell_type": "code",
   "execution_count": 10,
   "id": "1c72e2b6-af93-4a63-afb8-5dda6d3c5283",
   "metadata": {},
   "outputs": [
    {
     "data": {
      "text/html": [
       "<table style=\"border: 1px solid black\"><tbody><tr><th><b>position</b></th><td>small forward</td></tr><tr><th><b>draft_pick</b></th><td>1</td></tr><tr><th><b>years</b></th><td>2003 end 2014 start -- present start -- 2009 end 2010 start -- 2013</td></tr><tr><th><b>nationality</b></th><td>american</td></tr><tr><th><b>team</b></th><td>cleveland cavaliers cleveland cavaliers miami heat cleveland cavaliers</td></tr><tr><th><b>bbr</b></th><td>jamesle01</td></tr><tr><th><b>high_school</b></th><td>st. -rrb- vincent -- st. mary -lrb- akron , ohio</td></tr><tr><th><b>draft_team</b></th><td>cleveland cavaliers</td></tr><tr><th><b>draft_year</b></th><td>2003</td></tr><tr><th><b>height_in</b></th><td>8</td></tr><tr><th><b>profile</b></th><td>lebron_james</td></tr><tr><th><b>image</b></th><td>lebron james -lrb- 15662939969 -rrb- . jpg</td></tr><tr><th><b>birth_date</b></th><td>30 december 1984</td></tr><tr><th><b>article_title</b></th><td>lebron james</td></tr><tr><th><b>league</b></th><td>nba</td></tr><tr><th><b>number</b></th><td>23</td></tr><tr><th><b>letter</b></th><td>j</td></tr><tr><th><b>career_start</b></th><td>2003</td></tr><tr><th><b>weight_lb</b></th><td>250</td></tr><tr><th><b>caption</b></th><td>james with the cavaliers in november 2014</td></tr><tr><th><b>height_ft</b></th><td>6</td></tr><tr><th><b>draft_round</b></th><td>1</td></tr><tr><th><b>birth_place</b></th><td>akron , ohio</td></tr></tbody></table>"
      ],
      "text/plain": [
       "<IPython.core.display.HTML object>"
      ]
     },
     "metadata": {},
     "output_type": "display_data"
    }
   ],
   "source": [
    "display_profile_by_index(299329)"
   ]
  },
  {
   "cell_type": "code",
   "execution_count": 11,
   "id": "1630c8fa-bbe5-40cb-a48c-92bbc473b95e",
   "metadata": {},
   "outputs": [],
   "source": [
    "def call_rr(s: str):\n",
    "    probs = rr_mw([s]).softmax(1)\n",
    "    return (label_names[probs.argmax()], probs.argmax().item(), probs.max().item())\n",
    "\n",
    "def call_rt(s: str):\n",
    "    probs = rt_mw([s]).softmax(1)\n",
    "    return (label_names[probs.argmax()], probs.argmax().item(), probs.max().item())"
   ]
  },
  {
   "cell_type": "code",
   "execution_count": 12,
   "id": "926b3cb6-0af2-4088-b2f6-457021865a77",
   "metadata": {},
   "outputs": [],
   "source": [
    "lebron = get_person(299329)"
   ]
  },
  {
   "cell_type": "code",
   "execution_count": 13,
   "id": "a1676d29-6ce3-4469-bf1d-f69b5fadce2c",
   "metadata": {},
   "outputs": [],
   "source": [
    "def get_nearest_neighbors(doc: str, original_idx: int = None):\n",
    "    probs = rt_mw([doc]).squeeze()\n",
    "    probs = probs / probs.max()\n",
    "    if original_idx is not None:\n",
    "        probs[original_idx] = 0\n",
    "        # print(probs[original_idx])\n",
    "    # probs = probs.softmax(dim=0)\n",
    "    topk = probs.topk(10)\n",
    "    for val, idx in zip(topk.values.cpu(), topk.indices.cpu()):\n",
    "        print(idx.item(), label_names[idx], f'{val.item()*100:.2f}%')"
   ]
  },
  {
   "cell_type": "code",
   "execution_count": 14,
   "id": "c106d38f-4548-4ef5-a104-40c2e380e247",
   "metadata": {},
   "outputs": [
    {
     "name": "stdout",
     "output_type": "stream",
     "text": [
      "600196 Richard Jefferson 55.12%\n",
      "662299 James Jones 52.34%\n",
      "15588 Carmelo Anthony 50.24%\n",
      "641165 Jarrett Jack 48.69%\n",
      "667184 Brevin Knight 48.20%\n",
      "261438 Kevin Love 46.42%\n",
      "497444 Chris Bosh 45.06%\n",
      "149737 Sean May 44.81%\n",
      "447981 Rudy Gay 44.41%\n",
      "269568 Solomon Jones 44.09%\n"
     ]
    }
   ],
   "source": [
    "get_nearest_neighbors(lebron['document'], 299_329)"
   ]
  },
  {
   "cell_type": "code",
   "execution_count": 15,
   "id": "3fad6c59-24bb-4da9-b4c3-71e22e2ba859",
   "metadata": {},
   "outputs": [],
   "source": [
    "def get_nearest_neighbors_by_name(name: str):\n",
    "    person_idx = (label_names == name).nonzero()[0]\n",
    "    if len(person_idx) != 1:\n",
    "        raise ValueError(f'found {len(person_idx)} people matching name {name}')\n",
    "    print(person_idx[0])\n",
    "    document = get_person(int(person_idx[0]))['document']\n",
    "    print(f'*** Nearest-neighbors for {name}: ***')\n",
    "    get_nearest_neighbors(document, person_idx)"
   ]
  },
  {
   "cell_type": "code",
   "execution_count": 16,
   "id": "1395b5fa-5834-4218-99de-630a7ea8d112",
   "metadata": {},
   "outputs": [
    {
     "name": "stdout",
     "output_type": "stream",
     "text": [
      "671350\n",
      "*** Nearest-neighbors for Barack Obama: ***\n",
      "75269 Barack Obama , Sr. . 75.74%\n",
      "654466 Rahm Emanuel 60.60%\n",
      "374986 Hillary Rodham Clinton 57.85%\n",
      "460976 Michelle Obama 56.53%\n",
      "192810 Barack Obama Presidential Primary Campaign , 2008 55.79%\n",
      "71616 Abraham Lincoln 53.40%\n",
      "642361 Hubert Humphrey 50.58%\n",
      "250101 John Kerry 49.96%\n",
      "404145 Max Baucus 49.72%\n",
      "135163 Roy Blunt 48.80%\n"
     ]
    }
   ],
   "source": [
    "get_nearest_neighbors_by_name(\"Barack Obama\")"
   ]
  },
  {
   "cell_type": "code",
   "execution_count": 17,
   "id": "b5b7944b-433c-438c-a24f-c64b8ec55df1",
   "metadata": {},
   "outputs": [
    {
     "name": "stdout",
     "output_type": "stream",
     "text": [
      "413761\n",
      "*** Nearest-neighbors for Walt Disney: ***\n",
      "339104 Thomas Edison 47.87%\n",
      "418604 Roy O. Disney 47.34%\n",
      "539371 Walter Lantz 44.97%\n",
      "547356 Walter Dyett 44.61%\n",
      "7148 Walt Bellamy 43.94%\n",
      "677767 Matt Damon 42.85%\n",
      "560698 Elias Disney 42.64%\n",
      "623234 Walter E. Sachs 40.13%\n",
      "96578 Dick Clark 39.50%\n",
      "77943 Lillian Disney 39.47%\n"
     ]
    }
   ],
   "source": [
    "get_nearest_neighbors_by_name(\"Walt Disney\")"
   ]
  },
  {
   "cell_type": "code",
   "execution_count": 18,
   "id": "a2f5a190-b919-4411-a5d0-17feb5bef331",
   "metadata": {},
   "outputs": [
    {
     "name": "stdout",
     "output_type": "stream",
     "text": [
      "429678\n",
      "*** Nearest-neighbors for Jerry Seinfeld: ***\n",
      "574680 Jerry Siegel 49.91%\n",
      "86849 Jerry Stiller 49.57%\n",
      "211885 Rob Huebel 44.26%\n",
      "98555 Jim Belushi 43.69%\n",
      "699343 Geri Jewell 42.66%\n",
      "599136 Jerry Jewell 39.88%\n",
      "437339 Peter Steinfeld 39.83%\n",
      "249657 Gilbert Gottfried 39.68%\n",
      "70522 Ray Liotta 39.11%\n",
      "504532 Rob Wiethoff 38.90%\n"
     ]
    }
   ],
   "source": [
    "get_nearest_neighbors_by_name(\"Jerry Seinfeld\")"
   ]
  },
  {
   "cell_type": "code",
   "execution_count": 41,
   "id": "e00011b0-6144-4ec3-a4cf-deccbdc2baab",
   "metadata": {},
   "outputs": [],
   "source": [
    "import re\n",
    "\n",
    "def get_profile(ex):\n",
    "    table_info = ex['input_text']['table']\n",
    "    return dict(zip(table_info['column_header'], table_info['content']))\n",
    "\n",
    "def get_document_with_redacted_name_and_birthday(ex, mask_token='<mask>'):\n",
    "    document = ex['document']\n",
    "    profile = get_profile(ex)\n",
    "    birth_date = profile.get('birth_date', '').lower()\n",
    "    name = profile.get('name', profile['article_title']).lower()\n",
    "    words_to_mask = birth_date.split() + name.split()\n",
    "    \n",
    "    for w in words_to_mask:\n",
    "        document = re.sub(\n",
    "            (r'\\b{}\\b').format(re.escape(w)),\n",
    "            mask_token, document, count=0\n",
    "        )\n",
    "    return document"
   ]
  },
  {
   "cell_type": "code",
   "execution_count": 20,
   "id": "0042c995-4caa-430f-8585-c8f376814ccf",
   "metadata": {},
   "outputs": [],
   "source": [
    "def get_nearest_neighbors_by_name_redacted(name: str):\n",
    "    person_idx = (label_names == name).nonzero()[0]\n",
    "    if len(person_idx) != 1:\n",
    "        raise ValueError(f'found {len(person_idx)} people matching name {name}')\n",
    "    print(person_idx[0])\n",
    "    ex = get_person(int(person_idx[0]))\n",
    "    document = ex['document']\n",
    "    redacted_document = get_document_with_redacted_name_and_birthday(ex)\n",
    "    print(f'*** Nearest-neighbors for {name}: ***')\n",
    "    get_nearest_neighbors(redacted_document, person_idx)"
   ]
  },
  {
   "cell_type": "code",
   "execution_count": 21,
   "id": "dca2971d-20c5-42f7-a9c7-f169bda4fdf0",
   "metadata": {},
   "outputs": [
    {
     "name": "stdout",
     "output_type": "stream",
     "text": [
      "429678\n",
      "*** Nearest-neighbors for Jerry Seinfeld: ***\n",
      "574680 Jerry Siegel 49.91%\n",
      "86849 Jerry Stiller 49.57%\n",
      "211885 Rob Huebel 44.26%\n",
      "98555 Jim Belushi 43.69%\n",
      "699343 Geri Jewell 42.66%\n",
      "599136 Jerry Jewell 39.88%\n",
      "437339 Peter Steinfeld 39.83%\n",
      "249657 Gilbert Gottfried 39.68%\n",
      "70522 Ray Liotta 39.11%\n",
      "504532 Rob Wiethoff 38.90%\n"
     ]
    }
   ],
   "source": [
    "jerry_seinfeld = get_person(429678)\n",
    "get_nearest_neighbors_by_name('Jerry Seinfeld')"
   ]
  },
  {
   "cell_type": "code",
   "execution_count": 22,
   "id": "952c1508-6686-4c49-b4fc-3e98ea86e054",
   "metadata": {},
   "outputs": [
    {
     "name": "stdout",
     "output_type": "stream",
     "text": [
      "429678\n",
      "*** Nearest-neighbors for Jerry Seinfeld: ***\n",
      "307272 Hank Azaria 63.28%\n",
      "243031 Rodger Bumpass 62.99%\n",
      "70522 Ray Liotta 62.97%\n",
      "404535 Jerry Doyle 62.20%\n",
      "162597 Harold Ramis 61.17%\n",
      "9446 Spike Lee 60.73%\n",
      "723533 Judd Apatow 60.68%\n",
      "508131 Jeff Foxworthy 59.10%\n",
      "598952 J. B. Smoove 57.90%\n",
      "291054 J. Allen Williams 57.68%\n"
     ]
    }
   ],
   "source": [
    "get_nearest_neighbors_by_name_redacted('Jerry Seinfeld')"
   ]
  },
  {
   "cell_type": "code",
   "execution_count": 23,
   "id": "1b8dca7d-95a7-4732-8268-621bdebbe526",
   "metadata": {},
   "outputs": [
    {
     "name": "stdout",
     "output_type": "stream",
     "text": [
      "677767\n",
      "*** Nearest-neighbors for Matt Damon: ***\n",
      "4620 Matt Stone 64.70%\n",
      "586050 Ethan Hawke 62.54%\n",
      "296080 Matthew Weiner 61.92%\n",
      "532669 Griffin Dunne 61.80%\n",
      "135652 Matthew Mcconaughey 61.27%\n",
      "391723 Ryan Phillippe 60.55%\n",
      "602277 Matt Reeves 60.18%\n",
      "297958 Matthew Morrison 60.14%\n",
      "272823 Matt Letscher 58.05%\n",
      "311898 Matt Bennett 57.49%\n"
     ]
    }
   ],
   "source": [
    "get_nearest_neighbors_by_name_redacted('Matt Damon')"
   ]
  },
  {
   "cell_type": "code",
   "execution_count": 30,
   "id": "64f8db94-e9d3-440d-8d91-34f05f1f532f",
   "metadata": {},
   "outputs": [
    {
     "data": {
      "text/plain": [
       "\"matthew paige `` <mask> '' <mask> ( ; born october 8 , 1970 ) is an american actor , screenwriter and producer .\\n<mask> and ben affleck wrote an academy award-winning screenplay , `` good will hunting '' ( 1997 ) , for which he also received a number of best actor nominations .\\nhe is among forbes magazine 's most bankable stars and one of the top-40 highest-grossing actors of all time .\\nin addition to the many awards and nominations <mask> has received , such as academy , golden globe and other industry awards , for his work in the film industry -- in 2007 , <mask> received a star on the hollywood walk of fame and was named the sexiest man alive by `` people '' magazine .\\n<mask> has become known for his versatility , starring in commercially and critically successful films such as the rogue secret agent jason bourne in the first three installments of the `` bourne '' series , the youthful thief linus caldwell in the `` ocean 's trilogy '' , the anti-hero in `` the talented mr. ripley '' ( 1999 ) , a fallen angel in `` dogma '' ( 1999 ) , a morally divided young soldier in `` saving private ryan '' ( 1998 ) , and a conjoined twin in `` stuck on you '' ( 2003 ) .\\nhe won further critical acclaim for his performances in dramas such as `` syriana '' ( 2005 ) and `` the good shepherd '' ( 2006 ) , as well as for his role as a villain in the crime drama `` the departed '' ( 2006 ) .\\namong his critically and commercially unsuccessful films are the romance western `` all the pretty horses '' and the sports drama `` the legend of bagger vance '' ( both released in 2000 ) , the fantasy adventure film `` the brothers grimm '' ( 2005 ) and the war thriller `` green zone '' ( 2010 ) .\\n<mask> has also performed voice-over work and established several production companies .\\n<mask> has been actively involved in charitable work , including the one campaign , h2o africa foundation , feeding america , and water.org .\\nwith his wife , luciana bozán barroso , <mask> has three daughters and a stepdaughter from barroso 's prior marriage .\\n\""
      ]
     },
     "execution_count": 30,
     "metadata": {},
     "output_type": "execute_result"
    }
   ],
   "source": [
    "get_document_with_redacted_name_and_birthday(get_person(677_767))"
   ]
  },
  {
   "cell_type": "code",
   "execution_count": 24,
   "id": "5c8bae18-fa11-4ec3-a408-41b6a1a3f6b1",
   "metadata": {},
   "outputs": [
    {
     "name": "stdout",
     "output_type": "stream",
     "text": [
      "665717\n",
      "*** Nearest-neighbors for Ronaldinho: ***\n",
      "169761 Alex 58.42%\n",
      "664081 Robinho 56.86%\n",
      "515310 Fred 55.62%\n",
      "535328 Renato 54.47%\n",
      "2221 Ronaldo 51.95%\n",
      "360052 Kaká 50.97%\n",
      "560092 Romário 48.08%\n",
      "692581 Hani Al-dhabit 47.89%\n",
      "447864 Carlos Alberto 47.22%\n",
      "549263 Lincoln 46.45%\n"
     ]
    }
   ],
   "source": [
    "get_nearest_neighbors_by_name_redacted('Ronaldinho')"
   ]
  },
  {
   "cell_type": "code",
   "execution_count": 25,
   "id": "b5c4b932-3c0d-4641-847a-b1967af38474",
   "metadata": {},
   "outputs": [
    {
     "name": "stdout",
     "output_type": "stream",
     "text": [
      "502074\n",
      "*** Nearest-neighbors for Albert Einstein: ***\n",
      "693823 Hermann Weyl 73.52%\n",
      "582377 Werner Heisenberg 70.85%\n",
      "6823 Pascual Jordan 69.23%\n",
      "225426 Jules Henri Poincaré 63.01%\n",
      "501980 Joseph Smith Iii 61.75%\n",
      "498361 James Franck 61.34%\n",
      "218918 Erich Regener 60.63%\n",
      "257805 Adolf Hitler 60.20%\n",
      "623393 Vladimir Lenin 58.92%\n",
      "247822 Max Born 58.54%\n"
     ]
    }
   ],
   "source": [
    "get_nearest_neighbors_by_name_redacted('Albert Einstein')"
   ]
  },
  {
   "cell_type": "code",
   "execution_count": 26,
   "id": "f4202e98-0452-4bee-9537-157fc54e39a1",
   "metadata": {},
   "outputs": [
    {
     "name": "stdout",
     "output_type": "stream",
     "text": [
      "227326\n",
      "*** Nearest-neighbors for Richard Feynman: ***\n",
      "671361 Luis Walter Alvarez 71.49%\n",
      "357427 Mohammad Abdus Salam Ur 65.16%\n",
      "639750 Isidor Isaac Rabi 62.06%\n",
      "498299 Robert Hofstadter 59.96%\n",
      "694453 David Bohm 58.37%\n",
      "233659 Julian Schwinger 57.85%\n",
      "567047 Polykarp Kusch 57.48%\n",
      "611525 Seth Neddermeyer 54.89%\n",
      "226989 Clinton Joseph Davisson 53.74%\n",
      "530813 H. P. Lovecraft 53.68%\n"
     ]
    }
   ],
   "source": [
    "get_nearest_neighbors_by_name_redacted('Richard Feynman')"
   ]
  },
  {
   "cell_type": "code",
   "execution_count": 27,
   "id": "dc55c1e7-f7da-4451-8367-68aa2a8d58cc",
   "metadata": {},
   "outputs": [
    {
     "name": "stdout",
     "output_type": "stream",
     "text": [
      "257805\n",
      "*** Nearest-neighbors for Adolf Hitler: ***\n",
      "379644 Heinrich Himmler 100.00%\n",
      "357886 Kurt Waldheim 93.75%\n",
      "441664 Joseph Goebbels 91.47%\n",
      "192442 Franz Joseph Hermann Michael Maria Von Papen Zu Köningen 86.76%\n",
      "282285 Ernst Rüdiger Camillo Starhemberg 84.38%\n",
      "533722 Ernst Kaltenbrunner 82.26%\n",
      "42629 Hermann Göring 81.04%\n",
      "640081 Karl Dönitz 80.94%\n",
      "530315 Robert Ley 77.82%\n",
      "672653 Reinhard Heydrich 73.41%\n"
     ]
    }
   ],
   "source": [
    "get_nearest_neighbors_by_name_redacted('Adolf Hitler')"
   ]
  },
  {
   "cell_type": "code",
   "execution_count": 28,
   "id": "0accc223-14e9-4939-bd67-a1184a058bab",
   "metadata": {},
   "outputs": [
    {
     "name": "stdout",
     "output_type": "stream",
     "text": [
      "257805\n",
      "*** Nearest-neighbors for Adolf Hitler: ***\n",
      "379644 Heinrich Himmler 100.00%\n",
      "357886 Kurt Waldheim 93.75%\n",
      "441664 Joseph Goebbels 91.47%\n",
      "192442 Franz Joseph Hermann Michael Maria Von Papen Zu Köningen 86.76%\n",
      "282285 Ernst Rüdiger Camillo Starhemberg 84.38%\n",
      "533722 Ernst Kaltenbrunner 82.26%\n",
      "42629 Hermann Göring 81.04%\n",
      "640081 Karl Dönitz 80.94%\n",
      "530315 Robert Ley 77.82%\n",
      "672653 Reinhard Heydrich 73.41%\n"
     ]
    }
   ],
   "source": [
    "get_nearest_neighbors_by_name_redacted('Adolf Hitler')"
   ]
  },
  {
   "cell_type": "code",
   "execution_count": 42,
   "id": "001129aa-9767-4ec6-92d1-bdefac3078ff",
   "metadata": {},
   "outputs": [
    {
     "name": "stdout",
     "output_type": "stream",
     "text": [
      "299329\n",
      "*** Nearest-neighbors for Lebron James: ***\n",
      "662299 James Jones 71.85%\n",
      "686723 Anderson Varejão 69.81%\n",
      "600196 Richard Jefferson 69.70%\n",
      "261438 Kevin Love 68.92%\n",
      "622895 Dwayne Bowe 63.97%\n",
      "15588 Carmelo Anthony 63.82%\n",
      "478226 Jason Kapono 62.06%\n",
      "151490 Timofey Mozgov 59.46%\n",
      "647844 Jae Crowder 59.06%\n",
      "9820 Jamal Crawford 58.67%\n"
     ]
    }
   ],
   "source": [
    "get_nearest_neighbors_by_name_redacted('Lebron James')"
   ]
  },
  {
   "cell_type": "code",
   "execution_count": 31,
   "id": "620d5fa2-a080-44e8-92ea-0887a2049599",
   "metadata": {},
   "outputs": [],
   "source": [
    "def display_profile_by_index(idx: int):\n",
    "    display(HTML(make_prof_html(get_person(idx)['profile'])))"
   ]
  },
  {
   "cell_type": "code",
   "execution_count": 32,
   "id": "0e1bd614-3c1b-4dfc-9162-3cfa35053357",
   "metadata": {},
   "outputs": [
    {
     "data": {
      "text/html": [
       "<table style=\"border: 1px solid black\"><tbody><tr><th><b>caption</b></th><td>damon at the paris premiere of -rcb- -rcb-</td></tr><tr><th><b>name</b></th><td>matt damon</td></tr><tr><th><b>image_size</b></th><td>220px</td></tr><tr><th><b>image</b></th><td>matt damon 2014.jpg</td></tr><tr><th><b>article_title</b></th><td>matt damon</td></tr></tbody></table>"
      ],
      "text/plain": [
       "<IPython.core.display.HTML object>"
      ]
     },
     "metadata": {},
     "output_type": "display_data"
    }
   ],
   "source": [
    "display_profile_by_index(677_767)"
   ]
  },
  {
   "cell_type": "code",
   "execution_count": 37,
   "id": "e6ef1e30-6510-43f7-be6c-adda3ad49cc0",
   "metadata": {},
   "outputs": [
    {
     "data": {
      "text/html": [
       "<table style=\"border: 1px solid black\"><tbody><tr><th><b>nfl</b></th><td>fox725424</td></tr><tr><th><b>name</b></th><td>vernon fox</td></tr><tr><th><b>finalteam</b></th><td>denver broncos</td></tr><tr><th><b>college</b></th><td>fresno state</td></tr><tr><th><b>position</b></th><td>safety</td></tr><tr><th><b>weight</b></th><td>203</td></tr><tr><th><b>finalyear</b></th><td>2009</td></tr><tr><th><b>undraftedyear</b></th><td>2002</td></tr><tr><th><b>debutyear</b></th><td>2002</td></tr><tr><th><b>debutteam</b></th><td>san diego chargers</td></tr><tr><th><b>birth_place</b></th><td>las vegas , nevada</td></tr><tr><th><b>heightft</b></th><td>5</td></tr><tr><th><b>birth_date</b></th><td>9 october 1979</td></tr><tr><th><b>article_title</b></th><td>vernon fox</td></tr><tr><th><b>heightin</b></th><td>10</td></tr><tr><th><b>number</b></th><td>36 , 39</td></tr></tbody></table>"
      ],
      "text/plain": [
       "<IPython.core.display.HTML object>"
      ]
     },
     "metadata": {},
     "output_type": "display_data"
    }
   ],
   "source": [
    "display_profile_by_index(677_760)"
   ]
  },
  {
   "cell_type": "code",
   "execution_count": 38,
   "id": "22f65c5f-d78e-447b-8ba7-2e917a605316",
   "metadata": {},
   "outputs": [
    {
     "data": {
      "text/html": [
       "<table style=\"border: 1px solid black\"><tbody><tr><th><b>nationalgoals</b></th><td>2 3 18 33</td></tr><tr><th><b>fullname</b></th><td>ronaldo de assis moreira</td></tr><tr><th><b>position</b></th><td>attacking midfielder / forward</td></tr><tr><th><b>pcupdate</b></th><td>13 august 2015</td></tr><tr><th><b>years</b></th><td>1987 2008 -- 2011 2011 -- 2012 2012 -- 2014 2014 -- -- 2015 2015 -- 1998 2001 -- 2003 2003 -- 2008</td></tr><tr><th><b>ntupdate</b></th><td>23 april 2013</td></tr><tr><th><b>nationalcaps</b></th><td>6 5 27 97</td></tr><tr><th><b>height</b></th><td>1.81 m ftin on</td></tr><tr><th><b>youthclubs</b></th><td>grêmio</td></tr><tr><th><b>caps</b></th><td>52 55 145 76 33 47 25 3</td></tr><tr><th><b>image</b></th><td>ronaldinho 72.jpg</td></tr><tr><th><b>nationalteam</b></th><td>brazil u17 brazil u20 brazil u23 brazil</td></tr><tr><th><b>birth_date</b></th><td>21 march 1980</td></tr><tr><th><b>article_title</b></th><td>ronaldinho</td></tr><tr><th><b>currentclub</b></th><td>fluminense</td></tr><tr><th><b>clubs</b></th><td>grêmio fluminense paris saint-germain barcelona milan flamengo atlético mineiro querétaro</td></tr><tr><th><b>caption</b></th><td>ronaldinho in january 2013</td></tr><tr><th><b>name</b></th><td>ronaldinho</td></tr><tr><th><b>nationalyears</b></th><td>1996 1999 1999 -- 2005 1999 --</td></tr><tr><th><b>image_size</b></th><td>235</td></tr><tr><th><b>birth_place</b></th><td>porto alegre , brazil</td></tr><tr><th><b>clubnumber</b></th><td>10</td></tr><tr><th><b>goals</b></th><td>21 17 70 20 15 17 8 0</td></tr><tr><th><b>youthyears</b></th><td>1987 -- 1998</td></tr></tbody></table>"
      ],
      "text/plain": [
       "<IPython.core.display.HTML object>"
      ]
     },
     "metadata": {},
     "output_type": "display_data"
    }
   ],
   "source": [
    "display_profile_by_index(665_717)"
   ]
  },
  {
   "cell_type": "code",
   "execution_count": 43,
   "id": "d4ae436a-d2c6-4888-b6a6-3df267c06823",
   "metadata": {},
   "outputs": [
    {
     "data": {
      "text/html": [
       "<table style=\"border: 1px solid black\"><tbody><tr><th><b>position</b></th><td>small forward</td></tr><tr><th><b>draft_pick</b></th><td>1</td></tr><tr><th><b>years</b></th><td>2003 end 2014 start -- present start -- 2009 end 2010 start -- 2013</td></tr><tr><th><b>nationality</b></th><td>american</td></tr><tr><th><b>team</b></th><td>cleveland cavaliers cleveland cavaliers miami heat cleveland cavaliers</td></tr><tr><th><b>bbr</b></th><td>jamesle01</td></tr><tr><th><b>high_school</b></th><td>st. -rrb- vincent -- st. mary -lrb- akron , ohio</td></tr><tr><th><b>draft_team</b></th><td>cleveland cavaliers</td></tr><tr><th><b>draft_year</b></th><td>2003</td></tr><tr><th><b>height_in</b></th><td>8</td></tr><tr><th><b>profile</b></th><td>lebron_james</td></tr><tr><th><b>image</b></th><td>lebron james -lrb- 15662939969 -rrb- . jpg</td></tr><tr><th><b>birth_date</b></th><td>30 december 1984</td></tr><tr><th><b>article_title</b></th><td>lebron james</td></tr><tr><th><b>league</b></th><td>nba</td></tr><tr><th><b>number</b></th><td>23</td></tr><tr><th><b>letter</b></th><td>j</td></tr><tr><th><b>career_start</b></th><td>2003</td></tr><tr><th><b>weight_lb</b></th><td>250</td></tr><tr><th><b>caption</b></th><td>james with the cavaliers in november 2014</td></tr><tr><th><b>height_ft</b></th><td>6</td></tr><tr><th><b>draft_round</b></th><td>1</td></tr><tr><th><b>birth_place</b></th><td>akron , ohio</td></tr></tbody></table>"
      ],
      "text/plain": [
       "<IPython.core.display.HTML object>"
      ]
     },
     "metadata": {},
     "output_type": "display_data"
    }
   ],
   "source": [
    "display_profile_by_index(299_329)"
   ]
  },
  {
   "cell_type": "code",
   "execution_count": null,
   "id": "953b1b84-8afb-4705-b569-29c57fe8c811",
   "metadata": {},
   "outputs": [],
   "source": []
  }
 ],
 "metadata": {
  "kernelspec": {
   "display_name": "Python 3 (ipykernel)",
   "language": "python",
   "name": "python3"
  },
  "language_info": {
   "codemirror_mode": {
    "name": "ipython",
    "version": 3
   },
   "file_extension": ".py",
   "mimetype": "text/x-python",
   "name": "python",
   "nbconvert_exporter": "python",
   "pygments_lexer": "ipython3",
   "version": "3.9.7"
  }
 },
 "nbformat": 4,
 "nbformat_minor": 5
}
