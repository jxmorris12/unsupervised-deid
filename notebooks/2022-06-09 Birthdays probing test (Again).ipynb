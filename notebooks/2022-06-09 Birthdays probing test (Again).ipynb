{
 "cells": [
  {
   "cell_type": "markdown",
   "id": "54dd8d98-0748-478b-8c82-6b77cfa44e53",
   "metadata": {},
   "source": [
    "# Birthdays probing test\n",
    "\n",
    "(trying birthday-day probing with newest model.)\n"
   ]
  },
  {
   "cell_type": "code",
   "execution_count": 1,
   "id": "7d252cb9-4ee5-42f2-98df-af6e72555090",
   "metadata": {},
   "outputs": [],
   "source": [
    "import sys\n",
    "sys.path.append('/home/jxm3/research/deidentification/unsupervised-deidentification')"
   ]
  },
  {
   "cell_type": "code",
   "execution_count": null,
   "id": "529344f2-556a-49e3-92e4-b5055c9b0469",
   "metadata": {},
   "outputs": [
    {
     "name": "stdout",
     "output_type": "stream",
     "text": [
      "Warning: set num_workers to 1, expect dataloader bottleneck\n",
      "Initializing WikipediaDataModule with num_workers = 1 and mask token `<mask>`\n",
      "loading wiki_bio[1.2.0] split train[:10%]\n"
     ]
    },
    {
     "name": "stderr",
     "output_type": "stream",
     "text": [
      "Using custom data configuration default\n",
      "Reusing dataset wiki_bio (/home/jxm3/.cache/huggingface/datasets/wiki_bio/default/1.2.0/c05ce066e9026831cd7535968a311fc80f074b58868cfdffccbc811dff2ab6da)\n"
     ]
    },
    {
     "name": "stdout",
     "output_type": "stream",
     "text": [
      "loading wiki_bio[1.2.0] split val[:20%]\n"
     ]
    },
    {
     "name": "stderr",
     "output_type": "stream",
     "text": [
      "Using custom data configuration default\n",
      "Reusing dataset wiki_bio (/home/jxm3/.cache/huggingface/datasets/wiki_bio/default/1.2.0/c05ce066e9026831cd7535968a311fc80f074b58868cfdffccbc811dff2ab6da)\n",
      "Loading cached processed dataset at /home/jxm3/.cache/huggingface/datasets/wiki_bio/default/1.2.0/c05ce066e9026831cd7535968a311fc80f074b58868cfdffccbc811dff2ab6da/cache-f836a1db7401e15d.arrow\n",
      "Loading cached processed dataset at /home/jxm3/.cache/huggingface/datasets/wiki_bio/default/1.2.0/c05ce066e9026831cd7535968a311fc80f074b58868cfdffccbc811dff2ab6da/cache-7d07543b6205ca87.arrow\n"
     ]
    },
    {
     "data": {
      "application/vnd.jupyter.widget-view+json": {
       "model_id": "25d733121580462d813db641effcb0b9",
       "version_major": 2,
       "version_minor": 0
      },
      "text/plain": [
       "  0%|          | 0/58266 [00:00<?, ?ex/s]"
      ]
     },
     "metadata": {},
     "output_type": "display_data"
    }
   ],
   "source": [
    "from dataloader import WikipediaDataModule\n",
    "import os\n",
    "\n",
    "num_cpus = len(os.sched_getaffinity(0))\n",
    "\n",
    "dm = WikipediaDataModule(\n",
    "    document_model_name_or_path=\"roberta-base\",\n",
    "    profile_model_name_or_path=\"google/tapas-base\",\n",
    "    max_seq_length=128,\n",
    "    dataset_name='wiki_bio',\n",
    "    dataset_train_split='train[:10%]', # not used in this notebook\n",
    "    dataset_val_split='val[:20%]',\n",
    "    dataset_version='1.2.0',\n",
    "    word_dropout_ratio=0.0,\n",
    "    word_dropout_perc=0.0,\n",
    "    num_workers=1,\n",
    "    train_batch_size=64,\n",
    "    eval_batch_size=64\n",
    ")\n",
    "dm.setup(\"fit\")"
   ]
  },
  {
   "cell_type": "code",
   "execution_count": 5,
   "id": "29132408-7f12-472e-896b-494b99fda702",
   "metadata": {},
   "outputs": [
    {
     "name": "stdout",
     "output_type": "stream",
     "text": [
      "/home/jxm3/research/deidentification/unsupervised-deidentification/saves/ca__roberta__tapas__idf__dropout_-1.0_1.0_0.0__e3072__ls0.1/deid-wikibio-3_default/1jjn2o39_684/checkpoints/last.ckpt\n"
     ]
    },
    {
     "name": "stderr",
     "output_type": "stream",
     "text": [
      "Some weights of the model checkpoint at roberta-base were not used when initializing RobertaModel: ['lm_head.bias', 'lm_head.dense.weight', 'lm_head.layer_norm.weight', 'lm_head.layer_norm.bias', 'lm_head.decoder.weight', 'lm_head.dense.bias']\n",
      "- This IS expected if you are initializing RobertaModel from the checkpoint of a model trained on another task or with another architecture (e.g. initializing a BertForSequenceClassification model from a BertForPreTraining model).\n",
      "- This IS NOT expected if you are initializing RobertaModel from the checkpoint of a model that you expect to be exactly identical (initializing a BertForSequenceClassification model from a BertForSequenceClassification model).\n"
     ]
    },
    {
     "name": "stdout",
     "output_type": "stream",
     "text": [
      "Initialized model with learning_rate = 1e-05 and patience 1\n"
     ]
    }
   ],
   "source": [
    "from model import CoordinateAscentModel\n",
    "from model_cfg import model_paths_dict\n",
    "\n",
    "checkpoint_path = model_paths_dict[\"model_8_1day\"]\n",
    "print(checkpoint_path)\n",
    "\n",
    "\n",
    "model = CoordinateAscentModel.load_from_checkpoint(\n",
    "    checkpoint_path,\n",
    "    document_model_name_or_path=\"roberta-base\",\n",
    "    profile_model_name_or_path=\"google/tapas-base\",\n",
    "    learning_rate=1e-5,\n",
    "    pretrained_profile_encoder=False,\n",
    "    lr_scheduler_factor=0.5,\n",
    "    lr_scheduler_patience=1,\n",
    "    train_batch_size=1,\n",
    "    num_workers=1,\n",
    "    gradient_clip_val=10.0,\n",
    ")"
   ]
  },
  {
   "cell_type": "markdown",
   "id": "f7ea5280-96de-48cd-9ccc-23d8c3f3237d",
   "metadata": {},
   "source": [
    "## Get the birthday data"
   ]
  },
  {
   "cell_type": "code",
   "execution_count": 6,
   "id": "774c9b7c-aedb-4ea6-9635-4c9ddd5c0639",
   "metadata": {},
   "outputs": [
    {
     "data": {
      "text/plain": [
       "17"
      ]
     },
     "execution_count": 6,
     "metadata": {},
     "output_type": "execute_result"
    }
   ],
   "source": [
    "import datetime\n",
    "\n",
    "d = datetime.datetime.strptime('17 january 1943', \"%d %B %Y\")\n",
    "d.day"
   ]
  },
  {
   "cell_type": "code",
   "execution_count": 68,
   "id": "d2c6da6f-9788-4a13-bb05-46383951d49a",
   "metadata": {},
   "outputs": [],
   "source": [
    "from typing import List, Tuple\n",
    "\n",
    "from tqdm.notebook import tqdm\n",
    "\n",
    "import datetime\n",
    "import re\n",
    "\n",
    "\n",
    "def process_dataset(_dataset: datasets.Dataset) -> List[Tuple[int, int, int]]:\n",
    "    _processed_data = []\n",
    "    for idx, d in enumerate(tqdm(_dataset, 'processing birthdays')):\n",
    "        profile = d['profile']\n",
    "        # print(profile)\n",
    "        date_str_matches = re.search(r\"birth_date \\|\\| ([\\d]{1,4} [a-z]+ [\\d]{1,4})\", profile)\n",
    "        if date_str_matches:\n",
    "            date_str = date_str_matches.group(1)\n",
    "            # print(date_str)\n",
    "            # parse to datetime.datetime\n",
    "            try:\n",
    "                dt = datetime.datetime.strptime(date_str, \"%d %B %Y\")\n",
    "            except ValueError as e:\n",
    "                # print(e)\n",
    "                continue\n",
    "            # day_class_num = (dt.month - 1) * 31 + (dt.day - 1)\n",
    "            # _processed_data.append((idx, day_class_num))\n",
    "            _processed_data.append((idx, dt.month-1, dt.day-1))\n",
    "    return _processed_data"
   ]
  },
  {
   "cell_type": "markdown",
   "id": "7f793a8c-de55-4c12-8dd2-c3e6fa1f9e60",
   "metadata": {},
   "source": [
    "## Create birthday data module"
   ]
  },
  {
   "cell_type": "code",
   "execution_count": 66,
   "id": "ce4eaea4-daf0-4996-96c9-0826a537b835",
   "metadata": {},
   "outputs": [],
   "source": [
    "from pytorch_lightning import LightningDataModule\n",
    "from torch.utils.data import DataLoader\n",
    "import datasets\n",
    "\n",
    "num_cpus = os.cpu_count()\n",
    "\n",
    "class BirthdayDataModule(LightningDataModule):\n",
    "    train_dataset: List[Tuple[int, int, int]]\n",
    "    val_dataset: List[Tuple[int, int, int]]\n",
    "    batch_size: int\n",
    "    def __init__(self, dm: WikipediaDataModule, batch_size: int = 128):\n",
    "        super().__init__()\n",
    "        self.train_dataset = process_dataset(dm.train_dataset)\n",
    "        self.val_dataset = process_dataset(dm.val_dataset)\n",
    "        self.batch_size = batch_size\n",
    "        self.num_workers = min(4, num_cpus)\n",
    "\n",
    "    def setup(self, stage: str) -> None:\n",
    "        return\n",
    "\n",
    "    def train_dataloader(self) -> DataLoader:\n",
    "        return DataLoader(\n",
    "            self.train_dataset,\n",
    "            batch_size=self.batch_size,\n",
    "            num_workers=self.num_workers,\n",
    "            shuffle=False # Only shuffle for train\n",
    "        )\n",
    "\n",
    "    def val_dataloader(self) -> DataLoader:\n",
    "        return DataLoader(\n",
    "            self.val_dataset,\n",
    "            batch_size=self.batch_size,\n",
    "            num_workers=self.num_workers,\n",
    "            shuffle=False\n",
    "        )\n"
   ]
  },
  {
   "cell_type": "code",
   "execution_count": null,
   "id": "13aa79a4-cced-4f94-a39b-1534759fd5ff",
   "metadata": {},
   "outputs": [],
   "source": [
    "birthday_dm = BirthdayDataModule(dm)"
   ]
  },
  {
   "cell_type": "code",
   "execution_count": 51,
   "id": "ef34e292-1cf6-410a-b316-1af20e898807",
   "metadata": {},
   "outputs": [
    {
     "data": {
      "text/plain": [
       "[]"
      ]
     },
     "execution_count": 51,
     "metadata": {},
     "output_type": "execute_result"
    }
   ],
   "source": [
    "birthday_dm.train_dataset"
   ]
  },
  {
   "cell_type": "code",
   "execution_count": 72,
   "id": "7b8abd32-4f44-45a8-a08f-fbd06e77783b",
   "metadata": {},
   "outputs": [
    {
     "name": "stdout",
     "output_type": "stream",
     "text": [
      "43032 10761\n"
     ]
    }
   ],
   "source": [
    "print(len(birthday_dm.train_dataset), len(birthday_dm.val_dataset))"
   ]
  },
  {
   "cell_type": "code",
   "execution_count": 73,
   "id": "8df1781c-b9d1-420c-add9-394c89a6c4e2",
   "metadata": {},
   "outputs": [
    {
     "name": "stdout",
     "output_type": "stream",
     "text": [
      "[tensor([  1,   2,   3,   4,   5,   6,   7,  12,  14,  15,  17,  19,  20,  21,\n",
      "         23,  25,  26,  27,  28,  29,  30,  31,  33,  36,  37,  38,  39,  40,\n",
      "         41,  43,  44,  45,  46,  47,  48,  50,  51,  53,  54,  55,  56,  57,\n",
      "         58,  59,  60,  61,  62,  63,  64,  65,  67,  68,  69,  70,  72,  73,\n",
      "         74,  75,  77,  78,  79,  80,  81,  82,  83,  85,  86,  87,  88,  89,\n",
      "         90,  92,  94,  95,  96,  97,  98,  99, 100, 101, 102, 103, 104, 106,\n",
      "        107, 108, 109, 110, 111, 113, 114, 115, 117, 118, 120, 121, 123, 124,\n",
      "        126, 128, 129, 130, 131, 132, 133, 135, 136, 137, 138, 139, 141, 142,\n",
      "        143, 145, 146, 147, 149, 152, 154, 155, 156, 158, 159, 160, 161, 162,\n",
      "        163, 164]), tensor([ 7,  3,  0,  4,  7,  2, 11,  7,  6,  5,  3,  1,  2,  6,  3,  4,  3,  5,\n",
      "         5,  8,  5,  8,  4,  0,  1,  7,  4,  7,  8,  7,  8,  9,  4,  3,  1, 11,\n",
      "        11,  8,  2,  4,  1,  7,  4, 10,  5,  0,  8,  1, 10,  5,  9,  9,  9,  2,\n",
      "         5,  6,  4,  1,  8,  9, 10,  1,  1,  4,  8,  4,  8,  0, 11,  2, 10,  8,\n",
      "         5,  2, 10,  2,  0,  2, 11,  2,  6,  1,  4,  8,  8,  3,  5,  6,  9, 11,\n",
      "         2,  5, 11,  7,  9,  5,  1,  8,  3,  9,  4,  6, 11,  3,  7,  6, 10, 10,\n",
      "         4,  1,  4,  1,  9,  1,  7,  3,  9,  3,  7,  6,  9, 11, 10,  6,  5, 11,\n",
      "         9,  6]), tensor([15, 13, 18, 15, 15, 21, 28, 20,  2, 15,  3, 26, 27,  0, 16, 13, 26, 25,\n",
      "         2,  2, 19,  1, 12, 29, 17, 11, 14,  8, 18, 28, 16,  0, 22,  8,  9,  5,\n",
      "         6,  3,  1,  1, 22,  0, 20, 21, 25, 23, 11,  8,  3, 25,  9,  3,  1,  1,\n",
      "        21,  8,  4, 21,  6,  5, 18, 13, 18, 28, 17,  5, 24, 21, 25, 29, 10, 11,\n",
      "         3, 26, 19, 21, 23, 18,  9, 22, 10, 15,  1, 12, 14,  8, 12, 29,  7, 19,\n",
      "        14, 23,  7, 20,  7, 14, 16,  3,  8, 12, 17,  2, 24,  4,  3, 16, 29, 20,\n",
      "        28, 11, 14, 25,  2,  6, 28,  8, 19, 15, 21, 12, 11, 25,  1, 21, 21, 22,\n",
      "        19, 30])]\n"
     ]
    }
   ],
   "source": [
    "print(next(iter(birthday_dm.train_dataloader())))"
   ]
  },
  {
   "cell_type": "markdown",
   "id": "e2982e8b-786a-4e7e-a0c8-957ecbef6e29",
   "metadata": {},
   "source": [
    "## Create birthday model"
   ]
  },
  {
   "cell_type": "code",
   "execution_count": null,
   "id": "1057c57f-21af-4795-953b-68ab3a829427",
   "metadata": {},
   "outputs": [
    {
     "data": {
      "application/vnd.jupyter.widget-view+json": {
       "model_id": "a87428259d1f4a20bee5d5d34f2c417e",
       "version_major": 2,
       "version_minor": 0
      },
      "text/plain": [
       "Precomputing train embeddings:   0%|          | 0/911 [00:00<?, ?it/s]"
      ]
     },
     "metadata": {},
     "output_type": "display_data"
    },
    {
     "name": "stderr",
     "output_type": "stream",
     "text": [
      "Exception ignored in: <function _MultiProcessingDataLoaderIter.__del__ at 0x7f9921cb0dc0>\n",
      "Traceback (most recent call last):\n",
      "  File \"/home/jxm3/.conda/envs/torch/lib/python3.9/site-packages/torch/utils/data/dataloader.py\", line 1328, in __del__\n",
      "    self._shutdown_workers()\n",
      "  File \"/home/jxm3/.conda/envs/torch/lib/python3.9/site-packages/torch/utils/data/dataloader.py\", line 1320, in _shutdown_workers\n",
      "    if w.is_alive():\n",
      "  File \"/home/jxm3/.conda/envs/torch/lib/python3.9/multiprocessing/process.py\", line 160, in is_alive\n",
      "    assert self._parent_pid == os.getpid(), 'can only test a child process'\n",
      "AssertionError: can only test a child process\n",
      "Exception ignored in: <function _MultiProcessingDataLoaderIter.__del__ at 0x7f9921cb0dc0>\n",
      "Traceback (most recent call last):\n",
      "  File \"/home/jxm3/.conda/envs/torch/lib/python3.9/site-packages/torch/utils/data/dataloader.py\", line 1328, in __del__\n",
      "    self._shutdown_workers()\n",
      "  File \"/home/jxm3/.conda/envs/torch/lib/python3.9/site-packages/torch/utils/data/dataloader.py\", line 1320, in _shutdown_workers\n",
      "    if w.is_alive():\n",
      "  File \"/home/jxm3/.conda/envs/torch/lib/python3.9/multiprocessing/process.py\", line 160, in is_alive\n",
      "    assert self._parent_pid == os.getpid(), 'can only test a child process'\n",
      "AssertionError: can only test a child process\n"
     ]
    }
   ],
   "source": [
    "import numpy as np\n",
    "import torch\n",
    "\n",
    "def precompute_profile_embeddings():\n",
    "    model.profile_model.cuda()\n",
    "    model.profile_model.eval()\n",
    "    model.profile_embed.cuda()\n",
    "    model.profile_embed.eval()\n",
    "\n",
    "\n",
    "    model.train_profile_embeddings = np.zeros((len(dm.train_dataset), model.shared_embedding_dim))\n",
    "    for train_batch in tqdm(dm.train_dataloader(), desc=\"Precomputing train embeddings\", colour=\"teal\", leave=False):\n",
    "        with torch.no_grad():\n",
    "            profile_embeddings = model.forward_profile(batch=train_batch)\n",
    "        model.train_profile_embeddings[train_batch[\"text_key_id\"]] = profile_embeddings.cpu()\n",
    "    model.train_profile_embeddings = torch.tensor(model.train_profile_embeddings, dtype=torch.float32)\n",
    "    \n",
    "    model.val_profile_embeddings = np.zeros((len(dm.val_dataset), model.shared_embedding_dim))\n",
    "    for val_batch in tqdm(dm.val_dataloader()[0], desc=\"Precomputing val embeddings\", colour=\"green\", leave=False):\n",
    "        with torch.no_grad():\n",
    "            profile_embeddings = model.forward_profile(batch=val_batch)\n",
    "        model.val_profile_embeddings[val_batch[\"text_key_id\"]] = profile_embeddings.cpu()\n",
    "    model.val_profile_embeddings = torch.tensor(model.val_profile_embeddings, dtype=torch.float32)\n",
    "\n",
    "precompute_profile_embeddings()"
   ]
  },
  {
   "cell_type": "code",
   "execution_count": 31,
   "id": "f799b54b-e8b6-4b02-aab7-790ebf372897",
   "metadata": {},
   "outputs": [
    {
     "data": {
      "text/plain": [
       "14566"
      ]
     },
     "execution_count": 31,
     "metadata": {},
     "output_type": "execute_result"
    }
   ],
   "source": [
    "len(model.val_profile_embeddings)"
   ]
  },
  {
   "cell_type": "code",
   "execution_count": 79,
   "id": "07850e58-4195-4b64-bc1c-899d3df4820b",
   "metadata": {},
   "outputs": [],
   "source": [
    "from typing import Dict\n",
    "\n",
    "import torch\n",
    "import torchmetrics\n",
    "import transformers\n",
    "\n",
    "from pytorch_lightning import LightningModule\n",
    "from transformers import AdamW\n",
    "\n",
    "class BirthdayModel(LightningModule):\n",
    "    \"\"\"Probes the PROFILE for birthday info.\"\"\"\n",
    "    profile_embeddings: torch.Tensor\n",
    "    classifier: torch.nn.Module\n",
    "    learning_rate: float\n",
    "    \n",
    "    def __init__(self, model: CoordinateAscentModel, learning_rate: float):\n",
    "        super().__init__()\n",
    "        # We can pre-calculate these embeddings bc\n",
    "        self.train_profile_embeddings = torch.tensor(model.train_profile_embeddings.cpu())\n",
    "        self.val_profile_embeddings = torch.tensor(model.val_profile_embeddings.cpu())\n",
    "        self.month_classifier = torch.nn.Sequential(\n",
    "            torch.nn.Linear(model.shared_embedding_dim, 64),\n",
    "            # torch.nn.Dropout(p=0.01),\n",
    "            torch.nn.Linear(64, 12),\n",
    "        )\n",
    "        self.day_classifier = torch.nn.Sequential(\n",
    "            torch.nn.Linear(model.shared_embedding_dim, 64),\n",
    "            # torch.nn.Dropout(p=0.01),\n",
    "            torch.nn.Linear(64, 31),\n",
    "        )\n",
    "        self.learning_rate = learning_rate\n",
    "        self.train_accuracy = torchmetrics.Accuracy()\n",
    "        self.val_accuracy   = torchmetrics.Accuracy()\n",
    "        self.loss_criterion = torch.nn.CrossEntropyLoss()\n",
    "\n",
    "    def training_step(self, batch: Tuple[int, int], batch_idx: int) -> torch.Tensor:\n",
    "        profile_idxs, months, days = batch\n",
    "        assert ((0 <= profile_idxs) & (profile_idxs < len(self.train_profile_embeddings))).all()\n",
    "        assert ((0 <= months) & (months < 12)).all()\n",
    "        assert ((0 <= days) & (days < 31)).all()\n",
    "        \n",
    "        clf_device = next(self.month_classifier.parameters()).device\n",
    "        with torch.no_grad():\n",
    "            embedding = self.train_profile_embeddings[profile_idxs].to(clf_device)\n",
    "        \n",
    "        \n",
    "        month_logits = self.month_classifier(embedding)\n",
    "        day_logits = self.day_classifier(embedding)\n",
    "        \n",
    "        \n",
    "        month_loss = torch.nn.functional.cross_entropy(month_logits, months)\n",
    "        day_loss = torch.nn.functional.cross_entropy(day_logits, days)\n",
    "        \n",
    "        self.log('train_acc_month', self.train_accuracy(month_logits, months))\n",
    "        self.log('train_acc_day', self.train_accuracy(day_logits, days))\n",
    "        \n",
    "        if batch_idx == 0:\n",
    "            print('train_acc_month', self.train_accuracy(month_logits, months))\n",
    "            print('train_acc_day', self.train_accuracy(day_logits, days))\n",
    "        \n",
    "        return (month_loss + day_loss)\n",
    "    \n",
    "    def validation_step(self, batch: Dict[str, torch.Tensor], batch_idx: int):\n",
    "        profile_idxs, months, days = batch\n",
    "        assert ((0 <= profile_idxs) & (profile_idxs < len(self.val_profile_embeddings))).all()\n",
    "        assert ((0 <= months) & (months < 12)).all()\n",
    "        assert ((0 <= days) & (days < 31)).all()\n",
    "        \n",
    "        clf_device = next(self.month_classifier.parameters()).device\n",
    "        with torch.no_grad():\n",
    "            embedding = self.val_profile_embeddings[profile_idxs].to(clf_device)\n",
    "        \n",
    "        \n",
    "        month_logits = self.month_classifier(embedding)\n",
    "        day_logits = self.day_classifier(embedding)\n",
    "        \n",
    "        \n",
    "        month_loss = torch.nn.functional.cross_entropy(month_logits, months)\n",
    "        day_loss = torch.nn.functional.cross_entropy(day_logits, days)\n",
    "        \n",
    "        self.log('val_acc_month', self.val_accuracy(month_logits, months))\n",
    "        self.log('val_acc_day', self.val_accuracy(day_logits, days))\n",
    "        \n",
    "        if batch_idx == 0:\n",
    "            print('val_acc_month', self.val_accuracy(month_logits, months))\n",
    "            print('val_acc_day', self.val_accuracy(day_logits, days))\n",
    "\n",
    "        return (month_loss + day_loss)\n",
    "\n",
    "    def configure_optimizers(self):\n",
    "        \"\"\"Prepare optimizer and schedule (linear warmup and decay)\"\"\"\n",
    "        optimizer = AdamW(\n",
    "            list(self.parameters()), lr=self.learning_rate\n",
    "        )\n",
    "        return optimizer\n",
    "            "
   ]
  },
  {
   "cell_type": "markdown",
   "id": "01e8da2e-b0c4-417e-8a39-34e2b20fdbb4",
   "metadata": {},
   "source": [
    "## Train it"
   ]
  },
  {
   "cell_type": "code",
   "execution_count": 80,
   "id": "99ae16d1-a388-4352-8e46-ef86bc8232ea",
   "metadata": {},
   "outputs": [
    {
     "name": "stderr",
     "output_type": "stream",
     "text": [
      "Global seed set to 42\n"
     ]
    }
   ],
   "source": [
    "from pytorch_lightning import Trainer, seed_everything\n",
    "\n",
    "seed_everything(42)\n",
    "\n",
    "num_validations_per_epoch = 4"
   ]
  },
  {
   "cell_type": "code",
   "execution_count": 92,
   "id": "f9ca3e84-33e7-4cde-a4ad-a12334cbcb8a",
   "metadata": {},
   "outputs": [
    {
     "name": "stderr",
     "output_type": "stream",
     "text": [
      "<ipython-input-79-085278cbc870>:19: UserWarning: To copy construct from a tensor, it is recommended to use sourceTensor.clone().detach() or sourceTensor.clone().detach().requires_grad_(True), rather than torch.tensor(sourceTensor).\n",
      "  self.train_profile_embeddings = torch.tensor(model.train_profile_embeddings.cpu())\n",
      "<ipython-input-79-085278cbc870>:20: UserWarning: To copy construct from a tensor, it is recommended to use sourceTensor.clone().detach() or sourceTensor.clone().detach().requires_grad_(True), rather than torch.tensor(sourceTensor).\n",
      "  self.val_profile_embeddings = torch.tensor(model.val_profile_embeddings.cpu())\n",
      "GPU available: True, used: True\n",
      "TPU available: False, using: 0 TPU cores\n",
      "IPU available: False, using: 0 IPUs\n"
     ]
    }
   ],
   "source": [
    "birthday_model = BirthdayModel(model, 1e-4)\n",
    "birthday_dm.batch_size = 2048\n",
    "\n",
    "# os.environ['CUDA_LAUNCH_BLOCKING'] = '1'\n",
    "trainer = Trainer(\n",
    "    default_root_dir=f\"saves/jup/birthday_probing\",\n",
    "    val_check_interval=1.0,\n",
    "    max_epochs=100,\n",
    "    log_every_n_steps=500,\n",
    "    gpus=torch.cuda.device_count(),\n",
    ")"
   ]
  },
  {
   "cell_type": "code",
   "execution_count": 93,
   "id": "3ad30bce-e533-47d8-9cd0-756bd000973d",
   "metadata": {},
   "outputs": [
    {
     "name": "stderr",
     "output_type": "stream",
     "text": [
      "LOCAL_RANK: 0 - CUDA_VISIBLE_DEVICES: [0]\n",
      "Set SLURM handle signals.\n",
      "\n",
      "  | Name             | Type             | Params\n",
      "------------------------------------------------------\n",
      "0 | month_classifier | Sequential       | 197 K \n",
      "1 | day_classifier   | Sequential       | 198 K \n",
      "2 | train_accuracy   | Accuracy         | 0     \n",
      "3 | val_accuracy     | Accuracy         | 0     \n",
      "4 | loss_criterion   | CrossEntropyLoss | 0     \n",
      "------------------------------------------------------\n",
      "396 K     Trainable params\n",
      "0         Non-trainable params\n",
      "396 K     Total params\n",
      "1.585     Total estimated model params size (MB)\n"
     ]
    },
    {
     "data": {
      "application/vnd.jupyter.widget-view+json": {
       "model_id": "",
       "version_major": 2,
       "version_minor": 0
      },
      "text/plain": [
       "Validation sanity check: 0it [00:00, ?it/s]"
      ]
     },
     "metadata": {},
     "output_type": "display_data"
    },
    {
     "name": "stderr",
     "output_type": "stream",
     "text": [
      "Global seed set to 42\n"
     ]
    },
    {
     "name": "stdout",
     "output_type": "stream",
     "text": [
      "val_acc_month tensor(0.0757, device='cuda:0')\n",
      "val_acc_day tensor(0.0312, device='cuda:0')\n"
     ]
    },
    {
     "name": "stderr",
     "output_type": "stream",
     "text": [
      "/home/jxm3/.conda/envs/torch/lib/python3.9/site-packages/pytorch_lightning/trainer/data_loading.py:432: UserWarning: The number of training samples (22) is smaller than the logging interval Trainer(log_every_n_steps=500). Set a lower value for log_every_n_steps if you want to see logs for the training epoch.\n",
      "  rank_zero_warn(\n"
     ]
    },
    {
     "data": {
      "application/vnd.jupyter.widget-view+json": {
       "model_id": "d946d3b31de74a68a9eb23fd14e9136c",
       "version_major": 2,
       "version_minor": 0
      },
      "text/plain": [
       "Training: 0it [00:00, ?it/s]"
      ]
     },
     "metadata": {},
     "output_type": "display_data"
    },
    {
     "name": "stdout",
     "output_type": "stream",
     "text": [
      "train_acc_month tensor(0.0757, device='cuda:0')\n",
      "train_acc_day tensor(0.0361, device='cuda:0')\n"
     ]
    },
    {
     "data": {
      "application/vnd.jupyter.widget-view+json": {
       "model_id": "",
       "version_major": 2,
       "version_minor": 0
      },
      "text/plain": [
       "Validating: 0it [00:00, ?it/s]"
      ]
     },
     "metadata": {},
     "output_type": "display_data"
    },
    {
     "name": "stdout",
     "output_type": "stream",
     "text": [
      "val_acc_month tensor(0.2812, device='cuda:0')\n",
      "val_acc_day tensor(0.0879, device='cuda:0')\n",
      "train_acc_month tensor(0.2979, device='cuda:0')\n",
      "train_acc_day tensor(0.0801, device='cuda:0')\n"
     ]
    },
    {
     "data": {
      "application/vnd.jupyter.widget-view+json": {
       "model_id": "",
       "version_major": 2,
       "version_minor": 0
      },
      "text/plain": [
       "Validating: 0it [00:00, ?it/s]"
      ]
     },
     "metadata": {},
     "output_type": "display_data"
    },
    {
     "name": "stdout",
     "output_type": "stream",
     "text": [
      "val_acc_month tensor(0.4473, device='cuda:0')\n",
      "val_acc_day tensor(0.0879, device='cuda:0')\n",
      "train_acc_month tensor(0.4487, device='cuda:0')\n",
      "train_acc_day tensor(0.1025, device='cuda:0')\n"
     ]
    },
    {
     "data": {
      "application/vnd.jupyter.widget-view+json": {
       "model_id": "",
       "version_major": 2,
       "version_minor": 0
      },
      "text/plain": [
       "Validating: 0it [00:00, ?it/s]"
      ]
     },
     "metadata": {},
     "output_type": "display_data"
    },
    {
     "name": "stdout",
     "output_type": "stream",
     "text": [
      "val_acc_month tensor(0.5806, device='cuda:0')\n",
      "val_acc_day tensor(0.1064, device='cuda:0')\n",
      "train_acc_month tensor(0.5791, device='cuda:0')\n",
      "train_acc_day tensor(0.1279, device='cuda:0')\n"
     ]
    },
    {
     "data": {
      "application/vnd.jupyter.widget-view+json": {
       "model_id": "",
       "version_major": 2,
       "version_minor": 0
      },
      "text/plain": [
       "Validating: 0it [00:00, ?it/s]"
      ]
     },
     "metadata": {},
     "output_type": "display_data"
    },
    {
     "name": "stdout",
     "output_type": "stream",
     "text": [
      "val_acc_month tensor(0.6567, device='cuda:0')\n",
      "val_acc_day tensor(0.1250, device='cuda:0')\n",
      "train_acc_month tensor(0.6567, device='cuda:0')\n",
      "train_acc_day tensor(0.1431, device='cuda:0')\n"
     ]
    },
    {
     "data": {
      "application/vnd.jupyter.widget-view+json": {
       "model_id": "",
       "version_major": 2,
       "version_minor": 0
      },
      "text/plain": [
       "Validating: 0it [00:00, ?it/s]"
      ]
     },
     "metadata": {},
     "output_type": "display_data"
    },
    {
     "name": "stdout",
     "output_type": "stream",
     "text": [
      "val_acc_month tensor(0.7124, device='cuda:0')\n",
      "val_acc_day tensor(0.1392, device='cuda:0')\n",
      "train_acc_month tensor(0.7041, device='cuda:0')\n",
      "train_acc_day tensor(0.1543, device='cuda:0')\n"
     ]
    },
    {
     "data": {
      "application/vnd.jupyter.widget-view+json": {
       "model_id": "",
       "version_major": 2,
       "version_minor": 0
      },
      "text/plain": [
       "Validating: 0it [00:00, ?it/s]"
      ]
     },
     "metadata": {},
     "output_type": "display_data"
    },
    {
     "name": "stdout",
     "output_type": "stream",
     "text": [
      "val_acc_month tensor(0.7490, device='cuda:0')\n",
      "val_acc_day tensor(0.1514, device='cuda:0')\n",
      "train_acc_month tensor(0.7466, device='cuda:0')\n",
      "train_acc_day tensor(0.1597, device='cuda:0')\n"
     ]
    },
    {
     "data": {
      "application/vnd.jupyter.widget-view+json": {
       "model_id": "",
       "version_major": 2,
       "version_minor": 0
      },
      "text/plain": [
       "Validating: 0it [00:00, ?it/s]"
      ]
     },
     "metadata": {},
     "output_type": "display_data"
    },
    {
     "name": "stdout",
     "output_type": "stream",
     "text": [
      "val_acc_month tensor(0.7783, device='cuda:0')\n",
      "val_acc_day tensor(0.1641, device='cuda:0')\n",
      "train_acc_month tensor(0.7778, device='cuda:0')\n",
      "train_acc_day tensor(0.1655, device='cuda:0')\n"
     ]
    },
    {
     "data": {
      "application/vnd.jupyter.widget-view+json": {
       "model_id": "",
       "version_major": 2,
       "version_minor": 0
      },
      "text/plain": [
       "Validating: 0it [00:00, ?it/s]"
      ]
     },
     "metadata": {},
     "output_type": "display_data"
    },
    {
     "name": "stdout",
     "output_type": "stream",
     "text": [
      "val_acc_month tensor(0.7988, device='cuda:0')\n",
      "val_acc_day tensor(0.1772, device='cuda:0')\n",
      "train_acc_month tensor(0.7993, device='cuda:0')\n",
      "train_acc_day tensor(0.1743, device='cuda:0')\n"
     ]
    },
    {
     "data": {
      "application/vnd.jupyter.widget-view+json": {
       "model_id": "",
       "version_major": 2,
       "version_minor": 0
      },
      "text/plain": [
       "Validating: 0it [00:00, ?it/s]"
      ]
     },
     "metadata": {},
     "output_type": "display_data"
    },
    {
     "name": "stdout",
     "output_type": "stream",
     "text": [
      "val_acc_month tensor(0.8203, device='cuda:0')\n",
      "val_acc_day tensor(0.1836, device='cuda:0')\n",
      "train_acc_month tensor(0.8213, device='cuda:0')\n",
      "train_acc_day tensor(0.1831, device='cuda:0')\n"
     ]
    },
    {
     "data": {
      "application/vnd.jupyter.widget-view+json": {
       "model_id": "",
       "version_major": 2,
       "version_minor": 0
      },
      "text/plain": [
       "Validating: 0it [00:00, ?it/s]"
      ]
     },
     "metadata": {},
     "output_type": "display_data"
    },
    {
     "name": "stdout",
     "output_type": "stream",
     "text": [
      "val_acc_month tensor(0.8403, device='cuda:0')\n",
      "val_acc_day tensor(0.1938, device='cuda:0')\n",
      "train_acc_month tensor(0.8384, device='cuda:0')\n",
      "train_acc_day tensor(0.1973, device='cuda:0')\n"
     ]
    },
    {
     "data": {
      "application/vnd.jupyter.widget-view+json": {
       "model_id": "",
       "version_major": 2,
       "version_minor": 0
      },
      "text/plain": [
       "Validating: 0it [00:00, ?it/s]"
      ]
     },
     "metadata": {},
     "output_type": "display_data"
    },
    {
     "name": "stdout",
     "output_type": "stream",
     "text": [
      "val_acc_month tensor(0.8594, device='cuda:0')\n",
      "val_acc_day tensor(0.2007, device='cuda:0')\n",
      "train_acc_month tensor(0.8638, device='cuda:0')\n",
      "train_acc_day tensor(0.2036, device='cuda:0')\n"
     ]
    },
    {
     "data": {
      "application/vnd.jupyter.widget-view+json": {
       "model_id": "",
       "version_major": 2,
       "version_minor": 0
      },
      "text/plain": [
       "Validating: 0it [00:00, ?it/s]"
      ]
     },
     "metadata": {},
     "output_type": "display_data"
    },
    {
     "name": "stdout",
     "output_type": "stream",
     "text": [
      "val_acc_month tensor(0.8735, device='cuda:0')\n",
      "val_acc_day tensor(0.2100, device='cuda:0')\n",
      "train_acc_month tensor(0.8809, device='cuda:0')\n",
      "train_acc_day tensor(0.2100, device='cuda:0')\n"
     ]
    },
    {
     "data": {
      "application/vnd.jupyter.widget-view+json": {
       "model_id": "",
       "version_major": 2,
       "version_minor": 0
      },
      "text/plain": [
       "Validating: 0it [00:00, ?it/s]"
      ]
     },
     "metadata": {},
     "output_type": "display_data"
    },
    {
     "name": "stdout",
     "output_type": "stream",
     "text": [
      "val_acc_month tensor(0.8901, device='cuda:0')\n",
      "val_acc_day tensor(0.2207, device='cuda:0')\n",
      "train_acc_month tensor(0.8940, device='cuda:0')\n",
      "train_acc_day tensor(0.2207, device='cuda:0')\n"
     ]
    },
    {
     "data": {
      "application/vnd.jupyter.widget-view+json": {
       "model_id": "",
       "version_major": 2,
       "version_minor": 0
      },
      "text/plain": [
       "Validating: 0it [00:00, ?it/s]"
      ]
     },
     "metadata": {},
     "output_type": "display_data"
    },
    {
     "name": "stdout",
     "output_type": "stream",
     "text": [
      "val_acc_month tensor(0.9009, device='cuda:0')\n",
      "val_acc_day tensor(0.2256, device='cuda:0')\n",
      "train_acc_month tensor(0.9038, device='cuda:0')\n",
      "train_acc_day tensor(0.2256, device='cuda:0')\n"
     ]
    },
    {
     "data": {
      "application/vnd.jupyter.widget-view+json": {
       "model_id": "",
       "version_major": 2,
       "version_minor": 0
      },
      "text/plain": [
       "Validating: 0it [00:00, ?it/s]"
      ]
     },
     "metadata": {},
     "output_type": "display_data"
    },
    {
     "name": "stdout",
     "output_type": "stream",
     "text": [
      "val_acc_month tensor(0.9136, device='cuda:0')\n",
      "val_acc_day tensor(0.2354, device='cuda:0')\n",
      "train_acc_month tensor(0.9155, device='cuda:0')\n",
      "train_acc_day tensor(0.2397, device='cuda:0')\n"
     ]
    },
    {
     "data": {
      "application/vnd.jupyter.widget-view+json": {
       "model_id": "",
       "version_major": 2,
       "version_minor": 0
      },
      "text/plain": [
       "Validating: 0it [00:00, ?it/s]"
      ]
     },
     "metadata": {},
     "output_type": "display_data"
    },
    {
     "name": "stdout",
     "output_type": "stream",
     "text": [
      "val_acc_month tensor(0.9248, device='cuda:0')\n",
      "val_acc_day tensor(0.2427, device='cuda:0')\n",
      "train_acc_month tensor(0.9277, device='cuda:0')\n",
      "train_acc_day tensor(0.2510, device='cuda:0')\n"
     ]
    },
    {
     "data": {
      "application/vnd.jupyter.widget-view+json": {
       "model_id": "",
       "version_major": 2,
       "version_minor": 0
      },
      "text/plain": [
       "Validating: 0it [00:00, ?it/s]"
      ]
     },
     "metadata": {},
     "output_type": "display_data"
    },
    {
     "name": "stdout",
     "output_type": "stream",
     "text": [
      "val_acc_month tensor(0.9346, device='cuda:0')\n",
      "val_acc_day tensor(0.2505, device='cuda:0')\n",
      "train_acc_month tensor(0.9370, device='cuda:0')\n",
      "train_acc_day tensor(0.2588, device='cuda:0')\n"
     ]
    },
    {
     "data": {
      "application/vnd.jupyter.widget-view+json": {
       "model_id": "",
       "version_major": 2,
       "version_minor": 0
      },
      "text/plain": [
       "Validating: 0it [00:00, ?it/s]"
      ]
     },
     "metadata": {},
     "output_type": "display_data"
    },
    {
     "name": "stdout",
     "output_type": "stream",
     "text": [
      "val_acc_month tensor(0.9404, device='cuda:0')\n",
      "val_acc_day tensor(0.2554, device='cuda:0')\n",
      "train_acc_month tensor(0.9429, device='cuda:0')\n",
      "train_acc_day tensor(0.2690, device='cuda:0')\n"
     ]
    },
    {
     "data": {
      "application/vnd.jupyter.widget-view+json": {
       "model_id": "",
       "version_major": 2,
       "version_minor": 0
      },
      "text/plain": [
       "Validating: 0it [00:00, ?it/s]"
      ]
     },
     "metadata": {},
     "output_type": "display_data"
    },
    {
     "name": "stdout",
     "output_type": "stream",
     "text": [
      "val_acc_month tensor(0.9473, device='cuda:0')\n",
      "val_acc_day tensor(0.2622, device='cuda:0')\n",
      "train_acc_month tensor(0.9487, device='cuda:0')\n",
      "train_acc_day tensor(0.2783, device='cuda:0')\n"
     ]
    },
    {
     "data": {
      "application/vnd.jupyter.widget-view+json": {
       "model_id": "",
       "version_major": 2,
       "version_minor": 0
      },
      "text/plain": [
       "Validating: 0it [00:00, ?it/s]"
      ]
     },
     "metadata": {},
     "output_type": "display_data"
    },
    {
     "name": "stdout",
     "output_type": "stream",
     "text": [
      "val_acc_month tensor(0.9526, device='cuda:0')\n",
      "val_acc_day tensor(0.2686, device='cuda:0')\n",
      "train_acc_month tensor(0.9517, device='cuda:0')\n",
      "train_acc_day tensor(0.2876, device='cuda:0')\n"
     ]
    },
    {
     "data": {
      "application/vnd.jupyter.widget-view+json": {
       "model_id": "",
       "version_major": 2,
       "version_minor": 0
      },
      "text/plain": [
       "Validating: 0it [00:00, ?it/s]"
      ]
     },
     "metadata": {},
     "output_type": "display_data"
    },
    {
     "name": "stdout",
     "output_type": "stream",
     "text": [
      "val_acc_month tensor(0.9580, device='cuda:0')\n",
      "val_acc_day tensor(0.2686, device='cuda:0')\n",
      "train_acc_month tensor(0.9556, device='cuda:0')\n",
      "train_acc_day tensor(0.2939, device='cuda:0')\n"
     ]
    },
    {
     "data": {
      "application/vnd.jupyter.widget-view+json": {
       "model_id": "",
       "version_major": 2,
       "version_minor": 0
      },
      "text/plain": [
       "Validating: 0it [00:00, ?it/s]"
      ]
     },
     "metadata": {},
     "output_type": "display_data"
    },
    {
     "name": "stdout",
     "output_type": "stream",
     "text": [
      "val_acc_month tensor(0.9609, device='cuda:0')\n",
      "val_acc_day tensor(0.2764, device='cuda:0')\n",
      "train_acc_month tensor(0.9600, device='cuda:0')\n",
      "train_acc_day tensor(0.2993, device='cuda:0')\n"
     ]
    },
    {
     "data": {
      "application/vnd.jupyter.widget-view+json": {
       "model_id": "",
       "version_major": 2,
       "version_minor": 0
      },
      "text/plain": [
       "Validating: 0it [00:00, ?it/s]"
      ]
     },
     "metadata": {},
     "output_type": "display_data"
    },
    {
     "name": "stdout",
     "output_type": "stream",
     "text": [
      "val_acc_month tensor(0.9653, device='cuda:0')\n",
      "val_acc_day tensor(0.2783, device='cuda:0')\n",
      "train_acc_month tensor(0.9639, device='cuda:0')\n",
      "train_acc_day tensor(0.3052, device='cuda:0')\n"
     ]
    },
    {
     "data": {
      "application/vnd.jupyter.widget-view+json": {
       "model_id": "",
       "version_major": 2,
       "version_minor": 0
      },
      "text/plain": [
       "Validating: 0it [00:00, ?it/s]"
      ]
     },
     "metadata": {},
     "output_type": "display_data"
    },
    {
     "name": "stdout",
     "output_type": "stream",
     "text": [
      "val_acc_month tensor(0.9692, device='cuda:0')\n",
      "val_acc_day tensor(0.2837, device='cuda:0')\n",
      "train_acc_month tensor(0.9673, device='cuda:0')\n",
      "train_acc_day tensor(0.3101, device='cuda:0')\n"
     ]
    },
    {
     "data": {
      "application/vnd.jupyter.widget-view+json": {
       "model_id": "",
       "version_major": 2,
       "version_minor": 0
      },
      "text/plain": [
       "Validating: 0it [00:00, ?it/s]"
      ]
     },
     "metadata": {},
     "output_type": "display_data"
    },
    {
     "name": "stdout",
     "output_type": "stream",
     "text": [
      "val_acc_month tensor(0.9731, device='cuda:0')\n",
      "val_acc_day tensor(0.2939, device='cuda:0')\n",
      "train_acc_month tensor(0.9697, device='cuda:0')\n",
      "train_acc_day tensor(0.3179, device='cuda:0')\n"
     ]
    },
    {
     "data": {
      "application/vnd.jupyter.widget-view+json": {
       "model_id": "",
       "version_major": 2,
       "version_minor": 0
      },
      "text/plain": [
       "Validating: 0it [00:00, ?it/s]"
      ]
     },
     "metadata": {},
     "output_type": "display_data"
    },
    {
     "name": "stdout",
     "output_type": "stream",
     "text": [
      "val_acc_month tensor(0.9761, device='cuda:0')\n",
      "val_acc_day tensor(0.3013, device='cuda:0')\n",
      "train_acc_month tensor(0.9741, device='cuda:0')\n",
      "train_acc_day tensor(0.3306, device='cuda:0')\n"
     ]
    },
    {
     "data": {
      "application/vnd.jupyter.widget-view+json": {
       "model_id": "",
       "version_major": 2,
       "version_minor": 0
      },
      "text/plain": [
       "Validating: 0it [00:00, ?it/s]"
      ]
     },
     "metadata": {},
     "output_type": "display_data"
    },
    {
     "name": "stdout",
     "output_type": "stream",
     "text": [
      "val_acc_month tensor(0.9805, device='cuda:0')\n",
      "val_acc_day tensor(0.3057, device='cuda:0')\n",
      "train_acc_month tensor(0.9751, device='cuda:0')\n",
      "train_acc_day tensor(0.3340, device='cuda:0')\n"
     ]
    },
    {
     "data": {
      "application/vnd.jupyter.widget-view+json": {
       "model_id": "",
       "version_major": 2,
       "version_minor": 0
      },
      "text/plain": [
       "Validating: 0it [00:00, ?it/s]"
      ]
     },
     "metadata": {},
     "output_type": "display_data"
    },
    {
     "name": "stdout",
     "output_type": "stream",
     "text": [
      "val_acc_month tensor(0.9810, device='cuda:0')\n",
      "val_acc_day tensor(0.3120, device='cuda:0')\n",
      "train_acc_month tensor(0.9766, device='cuda:0')\n",
      "train_acc_day tensor(0.3418, device='cuda:0')\n"
     ]
    },
    {
     "data": {
      "application/vnd.jupyter.widget-view+json": {
       "model_id": "",
       "version_major": 2,
       "version_minor": 0
      },
      "text/plain": [
       "Validating: 0it [00:00, ?it/s]"
      ]
     },
     "metadata": {},
     "output_type": "display_data"
    },
    {
     "name": "stdout",
     "output_type": "stream",
     "text": [
      "val_acc_month tensor(0.9834, device='cuda:0')\n",
      "val_acc_day tensor(0.3188, device='cuda:0')\n",
      "train_acc_month tensor(0.9795, device='cuda:0')\n",
      "train_acc_day tensor(0.3501, device='cuda:0')\n"
     ]
    },
    {
     "data": {
      "application/vnd.jupyter.widget-view+json": {
       "model_id": "",
       "version_major": 2,
       "version_minor": 0
      },
      "text/plain": [
       "Validating: 0it [00:00, ?it/s]"
      ]
     },
     "metadata": {},
     "output_type": "display_data"
    },
    {
     "name": "stdout",
     "output_type": "stream",
     "text": [
      "val_acc_month tensor(0.9854, device='cuda:0')\n",
      "val_acc_day tensor(0.3247, device='cuda:0')\n",
      "train_acc_month tensor(0.9824, device='cuda:0')\n",
      "train_acc_day tensor(0.3555, device='cuda:0')\n"
     ]
    },
    {
     "data": {
      "application/vnd.jupyter.widget-view+json": {
       "model_id": "",
       "version_major": 2,
       "version_minor": 0
      },
      "text/plain": [
       "Validating: 0it [00:00, ?it/s]"
      ]
     },
     "metadata": {},
     "output_type": "display_data"
    },
    {
     "name": "stdout",
     "output_type": "stream",
     "text": [
      "val_acc_month tensor(0.9854, device='cuda:0')\n",
      "val_acc_day tensor(0.3320, device='cuda:0')\n",
      "train_acc_month tensor(0.9829, device='cuda:0')\n",
      "train_acc_day tensor(0.3569, device='cuda:0')\n"
     ]
    },
    {
     "data": {
      "application/vnd.jupyter.widget-view+json": {
       "model_id": "",
       "version_major": 2,
       "version_minor": 0
      },
      "text/plain": [
       "Validating: 0it [00:00, ?it/s]"
      ]
     },
     "metadata": {},
     "output_type": "display_data"
    },
    {
     "name": "stdout",
     "output_type": "stream",
     "text": [
      "val_acc_month tensor(0.9863, device='cuda:0')\n",
      "val_acc_day tensor(0.3379, device='cuda:0')\n",
      "train_acc_month tensor(0.9844, device='cuda:0')\n",
      "train_acc_day tensor(0.3628, device='cuda:0')\n"
     ]
    },
    {
     "data": {
      "application/vnd.jupyter.widget-view+json": {
       "model_id": "",
       "version_major": 2,
       "version_minor": 0
      },
      "text/plain": [
       "Validating: 0it [00:00, ?it/s]"
      ]
     },
     "metadata": {},
     "output_type": "display_data"
    },
    {
     "name": "stdout",
     "output_type": "stream",
     "text": [
      "val_acc_month tensor(0.9863, device='cuda:0')\n",
      "val_acc_day tensor(0.3408, device='cuda:0')\n",
      "train_acc_month tensor(0.9849, device='cuda:0')\n",
      "train_acc_day tensor(0.3701, device='cuda:0')\n"
     ]
    },
    {
     "data": {
      "application/vnd.jupyter.widget-view+json": {
       "model_id": "",
       "version_major": 2,
       "version_minor": 0
      },
      "text/plain": [
       "Validating: 0it [00:00, ?it/s]"
      ]
     },
     "metadata": {},
     "output_type": "display_data"
    },
    {
     "name": "stdout",
     "output_type": "stream",
     "text": [
      "val_acc_month tensor(0.9873, device='cuda:0')\n",
      "val_acc_day tensor(0.3481, device='cuda:0')\n",
      "train_acc_month tensor(0.9849, device='cuda:0')\n",
      "train_acc_day tensor(0.3750, device='cuda:0')\n"
     ]
    },
    {
     "data": {
      "application/vnd.jupyter.widget-view+json": {
       "model_id": "",
       "version_major": 2,
       "version_minor": 0
      },
      "text/plain": [
       "Validating: 0it [00:00, ?it/s]"
      ]
     },
     "metadata": {},
     "output_type": "display_data"
    },
    {
     "name": "stdout",
     "output_type": "stream",
     "text": [
      "val_acc_month tensor(0.9873, device='cuda:0')\n",
      "val_acc_day tensor(0.3525, device='cuda:0')\n",
      "train_acc_month tensor(0.9868, device='cuda:0')\n",
      "train_acc_day tensor(0.3804, device='cuda:0')\n"
     ]
    },
    {
     "data": {
      "application/vnd.jupyter.widget-view+json": {
       "model_id": "",
       "version_major": 2,
       "version_minor": 0
      },
      "text/plain": [
       "Validating: 0it [00:00, ?it/s]"
      ]
     },
     "metadata": {},
     "output_type": "display_data"
    },
    {
     "name": "stdout",
     "output_type": "stream",
     "text": [
      "val_acc_month tensor(0.9888, device='cuda:0')\n",
      "val_acc_day tensor(0.3564, device='cuda:0')\n",
      "train_acc_month tensor(0.9873, device='cuda:0')\n",
      "train_acc_day tensor(0.3843, device='cuda:0')\n"
     ]
    },
    {
     "data": {
      "application/vnd.jupyter.widget-view+json": {
       "model_id": "",
       "version_major": 2,
       "version_minor": 0
      },
      "text/plain": [
       "Validating: 0it [00:00, ?it/s]"
      ]
     },
     "metadata": {},
     "output_type": "display_data"
    },
    {
     "name": "stdout",
     "output_type": "stream",
     "text": [
      "val_acc_month tensor(0.9893, device='cuda:0')\n",
      "val_acc_day tensor(0.3599, device='cuda:0')\n",
      "train_acc_month tensor(0.9878, device='cuda:0')\n",
      "train_acc_day tensor(0.3901, device='cuda:0')\n"
     ]
    },
    {
     "data": {
      "application/vnd.jupyter.widget-view+json": {
       "model_id": "",
       "version_major": 2,
       "version_minor": 0
      },
      "text/plain": [
       "Validating: 0it [00:00, ?it/s]"
      ]
     },
     "metadata": {},
     "output_type": "display_data"
    },
    {
     "name": "stdout",
     "output_type": "stream",
     "text": [
      "val_acc_month tensor(0.9897, device='cuda:0')\n",
      "val_acc_day tensor(0.3633, device='cuda:0')\n",
      "train_acc_month tensor(0.9878, device='cuda:0')\n",
      "train_acc_day tensor(0.3940, device='cuda:0')\n"
     ]
    },
    {
     "data": {
      "application/vnd.jupyter.widget-view+json": {
       "model_id": "",
       "version_major": 2,
       "version_minor": 0
      },
      "text/plain": [
       "Validating: 0it [00:00, ?it/s]"
      ]
     },
     "metadata": {},
     "output_type": "display_data"
    },
    {
     "name": "stdout",
     "output_type": "stream",
     "text": [
      "val_acc_month tensor(0.9897, device='cuda:0')\n",
      "val_acc_day tensor(0.3672, device='cuda:0')\n",
      "train_acc_month tensor(0.9878, device='cuda:0')\n",
      "train_acc_day tensor(0.3960, device='cuda:0')\n"
     ]
    },
    {
     "data": {
      "application/vnd.jupyter.widget-view+json": {
       "model_id": "",
       "version_major": 2,
       "version_minor": 0
      },
      "text/plain": [
       "Validating: 0it [00:00, ?it/s]"
      ]
     },
     "metadata": {},
     "output_type": "display_data"
    },
    {
     "name": "stdout",
     "output_type": "stream",
     "text": [
      "val_acc_month tensor(0.9897, device='cuda:0')\n",
      "val_acc_day tensor(0.3687, device='cuda:0')\n",
      "train_acc_month tensor(0.9878, device='cuda:0')\n",
      "train_acc_day tensor(0.3994, device='cuda:0')\n"
     ]
    },
    {
     "data": {
      "application/vnd.jupyter.widget-view+json": {
       "model_id": "",
       "version_major": 2,
       "version_minor": 0
      },
      "text/plain": [
       "Validating: 0it [00:00, ?it/s]"
      ]
     },
     "metadata": {},
     "output_type": "display_data"
    },
    {
     "name": "stdout",
     "output_type": "stream",
     "text": [
      "val_acc_month tensor(0.9907, device='cuda:0')\n",
      "val_acc_day tensor(0.3716, device='cuda:0')\n",
      "train_acc_month tensor(0.9878, device='cuda:0')\n",
      "train_acc_day tensor(0.4014, device='cuda:0')\n"
     ]
    },
    {
     "data": {
      "application/vnd.jupyter.widget-view+json": {
       "model_id": "",
       "version_major": 2,
       "version_minor": 0
      },
      "text/plain": [
       "Validating: 0it [00:00, ?it/s]"
      ]
     },
     "metadata": {},
     "output_type": "display_data"
    },
    {
     "name": "stdout",
     "output_type": "stream",
     "text": [
      "val_acc_month tensor(0.9912, device='cuda:0')\n",
      "val_acc_day tensor(0.3760, device='cuda:0')\n",
      "train_acc_month tensor(0.9878, device='cuda:0')\n",
      "train_acc_day tensor(0.4067, device='cuda:0')\n"
     ]
    },
    {
     "data": {
      "application/vnd.jupyter.widget-view+json": {
       "model_id": "",
       "version_major": 2,
       "version_minor": 0
      },
      "text/plain": [
       "Validating: 0it [00:00, ?it/s]"
      ]
     },
     "metadata": {},
     "output_type": "display_data"
    },
    {
     "name": "stdout",
     "output_type": "stream",
     "text": [
      "val_acc_month tensor(0.9912, device='cuda:0')\n",
      "val_acc_day tensor(0.3770, device='cuda:0')\n",
      "train_acc_month tensor(0.9878, device='cuda:0')\n",
      "train_acc_day tensor(0.4092, device='cuda:0')\n"
     ]
    },
    {
     "data": {
      "application/vnd.jupyter.widget-view+json": {
       "model_id": "",
       "version_major": 2,
       "version_minor": 0
      },
      "text/plain": [
       "Validating: 0it [00:00, ?it/s]"
      ]
     },
     "metadata": {},
     "output_type": "display_data"
    },
    {
     "name": "stdout",
     "output_type": "stream",
     "text": [
      "val_acc_month tensor(0.9912, device='cuda:0')\n",
      "val_acc_day tensor(0.3794, device='cuda:0')\n",
      "train_acc_month tensor(0.9878, device='cuda:0')\n",
      "train_acc_day tensor(0.4126, device='cuda:0')\n"
     ]
    },
    {
     "data": {
      "application/vnd.jupyter.widget-view+json": {
       "model_id": "",
       "version_major": 2,
       "version_minor": 0
      },
      "text/plain": [
       "Validating: 0it [00:00, ?it/s]"
      ]
     },
     "metadata": {},
     "output_type": "display_data"
    },
    {
     "name": "stdout",
     "output_type": "stream",
     "text": [
      "val_acc_month tensor(0.9912, device='cuda:0')\n",
      "val_acc_day tensor(0.3843, device='cuda:0')\n",
      "train_acc_month tensor(0.9878, device='cuda:0')\n",
      "train_acc_day tensor(0.4155, device='cuda:0')\n"
     ]
    },
    {
     "data": {
      "application/vnd.jupyter.widget-view+json": {
       "model_id": "",
       "version_major": 2,
       "version_minor": 0
      },
      "text/plain": [
       "Validating: 0it [00:00, ?it/s]"
      ]
     },
     "metadata": {},
     "output_type": "display_data"
    },
    {
     "name": "stdout",
     "output_type": "stream",
     "text": [
      "val_acc_month tensor(0.9912, device='cuda:0')\n",
      "val_acc_day tensor(0.3862, device='cuda:0')\n",
      "train_acc_month tensor(0.9878, device='cuda:0')\n",
      "train_acc_day tensor(0.4170, device='cuda:0')\n"
     ]
    },
    {
     "data": {
      "application/vnd.jupyter.widget-view+json": {
       "model_id": "",
       "version_major": 2,
       "version_minor": 0
      },
      "text/plain": [
       "Validating: 0it [00:00, ?it/s]"
      ]
     },
     "metadata": {},
     "output_type": "display_data"
    },
    {
     "name": "stdout",
     "output_type": "stream",
     "text": [
      "val_acc_month tensor(0.9917, device='cuda:0')\n",
      "val_acc_day tensor(0.3911, device='cuda:0')\n",
      "train_acc_month tensor(0.9878, device='cuda:0')\n",
      "train_acc_day tensor(0.4199, device='cuda:0')\n"
     ]
    },
    {
     "data": {
      "application/vnd.jupyter.widget-view+json": {
       "model_id": "",
       "version_major": 2,
       "version_minor": 0
      },
      "text/plain": [
       "Validating: 0it [00:00, ?it/s]"
      ]
     },
     "metadata": {},
     "output_type": "display_data"
    },
    {
     "name": "stdout",
     "output_type": "stream",
     "text": [
      "val_acc_month tensor(0.9917, device='cuda:0')\n",
      "val_acc_day tensor(0.3931, device='cuda:0')\n",
      "train_acc_month tensor(0.9883, device='cuda:0')\n",
      "train_acc_day tensor(0.4224, device='cuda:0')\n"
     ]
    },
    {
     "data": {
      "application/vnd.jupyter.widget-view+json": {
       "model_id": "",
       "version_major": 2,
       "version_minor": 0
      },
      "text/plain": [
       "Validating: 0it [00:00, ?it/s]"
      ]
     },
     "metadata": {},
     "output_type": "display_data"
    },
    {
     "name": "stdout",
     "output_type": "stream",
     "text": [
      "val_acc_month tensor(0.9922, device='cuda:0')\n",
      "val_acc_day tensor(0.3950, device='cuda:0')\n",
      "train_acc_month tensor(0.9883, device='cuda:0')\n",
      "train_acc_day tensor(0.4253, device='cuda:0')\n"
     ]
    },
    {
     "data": {
      "application/vnd.jupyter.widget-view+json": {
       "model_id": "",
       "version_major": 2,
       "version_minor": 0
      },
      "text/plain": [
       "Validating: 0it [00:00, ?it/s]"
      ]
     },
     "metadata": {},
     "output_type": "display_data"
    },
    {
     "name": "stdout",
     "output_type": "stream",
     "text": [
      "val_acc_month tensor(0.9922, device='cuda:0')\n",
      "val_acc_day tensor(0.3984, device='cuda:0')\n",
      "train_acc_month tensor(0.9883, device='cuda:0')\n",
      "train_acc_day tensor(0.4282, device='cuda:0')\n"
     ]
    },
    {
     "data": {
      "application/vnd.jupyter.widget-view+json": {
       "model_id": "",
       "version_major": 2,
       "version_minor": 0
      },
      "text/plain": [
       "Validating: 0it [00:00, ?it/s]"
      ]
     },
     "metadata": {},
     "output_type": "display_data"
    },
    {
     "name": "stdout",
     "output_type": "stream",
     "text": [
      "val_acc_month tensor(0.9927, device='cuda:0')\n",
      "val_acc_day tensor(0.4014, device='cuda:0')\n",
      "train_acc_month tensor(0.9883, device='cuda:0')\n",
      "train_acc_day tensor(0.4326, device='cuda:0')\n"
     ]
    },
    {
     "data": {
      "application/vnd.jupyter.widget-view+json": {
       "model_id": "",
       "version_major": 2,
       "version_minor": 0
      },
      "text/plain": [
       "Validating: 0it [00:00, ?it/s]"
      ]
     },
     "metadata": {},
     "output_type": "display_data"
    },
    {
     "name": "stdout",
     "output_type": "stream",
     "text": [
      "val_acc_month tensor(0.9927, device='cuda:0')\n",
      "val_acc_day tensor(0.4053, device='cuda:0')\n",
      "train_acc_month tensor(0.9883, device='cuda:0')\n",
      "train_acc_day tensor(0.4346, device='cuda:0')\n"
     ]
    },
    {
     "data": {
      "application/vnd.jupyter.widget-view+json": {
       "model_id": "",
       "version_major": 2,
       "version_minor": 0
      },
      "text/plain": [
       "Validating: 0it [00:00, ?it/s]"
      ]
     },
     "metadata": {},
     "output_type": "display_data"
    },
    {
     "name": "stdout",
     "output_type": "stream",
     "text": [
      "val_acc_month tensor(0.9927, device='cuda:0')\n",
      "val_acc_day tensor(0.4053, device='cuda:0')\n",
      "train_acc_month tensor(0.9883, device='cuda:0')\n",
      "train_acc_day tensor(0.4351, device='cuda:0')\n"
     ]
    },
    {
     "data": {
      "application/vnd.jupyter.widget-view+json": {
       "model_id": "",
       "version_major": 2,
       "version_minor": 0
      },
      "text/plain": [
       "Validating: 0it [00:00, ?it/s]"
      ]
     },
     "metadata": {},
     "output_type": "display_data"
    },
    {
     "name": "stdout",
     "output_type": "stream",
     "text": [
      "val_acc_month tensor(0.9927, device='cuda:0')\n",
      "val_acc_day tensor(0.4072, device='cuda:0')\n",
      "train_acc_month tensor(0.9883, device='cuda:0')\n",
      "train_acc_day tensor(0.4380, device='cuda:0')\n"
     ]
    },
    {
     "data": {
      "application/vnd.jupyter.widget-view+json": {
       "model_id": "",
       "version_major": 2,
       "version_minor": 0
      },
      "text/plain": [
       "Validating: 0it [00:00, ?it/s]"
      ]
     },
     "metadata": {},
     "output_type": "display_data"
    },
    {
     "name": "stdout",
     "output_type": "stream",
     "text": [
      "val_acc_month tensor(0.9927, device='cuda:0')\n",
      "val_acc_day tensor(0.4092, device='cuda:0')\n",
      "train_acc_month tensor(0.9883, device='cuda:0')\n",
      "train_acc_day tensor(0.4390, device='cuda:0')\n"
     ]
    },
    {
     "data": {
      "application/vnd.jupyter.widget-view+json": {
       "model_id": "",
       "version_major": 2,
       "version_minor": 0
      },
      "text/plain": [
       "Validating: 0it [00:00, ?it/s]"
      ]
     },
     "metadata": {},
     "output_type": "display_data"
    },
    {
     "name": "stdout",
     "output_type": "stream",
     "text": [
      "val_acc_month tensor(0.9927, device='cuda:0')\n",
      "val_acc_day tensor(0.4126, device='cuda:0')\n",
      "train_acc_month tensor(0.9883, device='cuda:0')\n",
      "train_acc_day tensor(0.4409, device='cuda:0')\n"
     ]
    },
    {
     "data": {
      "application/vnd.jupyter.widget-view+json": {
       "model_id": "",
       "version_major": 2,
       "version_minor": 0
      },
      "text/plain": [
       "Validating: 0it [00:00, ?it/s]"
      ]
     },
     "metadata": {},
     "output_type": "display_data"
    },
    {
     "name": "stdout",
     "output_type": "stream",
     "text": [
      "val_acc_month tensor(0.9927, device='cuda:0')\n",
      "val_acc_day tensor(0.4150, device='cuda:0')\n",
      "train_acc_month tensor(0.9883, device='cuda:0')\n",
      "train_acc_day tensor(0.4419, device='cuda:0')\n"
     ]
    },
    {
     "data": {
      "application/vnd.jupyter.widget-view+json": {
       "model_id": "",
       "version_major": 2,
       "version_minor": 0
      },
      "text/plain": [
       "Validating: 0it [00:00, ?it/s]"
      ]
     },
     "metadata": {},
     "output_type": "display_data"
    },
    {
     "name": "stdout",
     "output_type": "stream",
     "text": [
      "val_acc_month tensor(0.9927, device='cuda:0')\n",
      "val_acc_day tensor(0.4170, device='cuda:0')\n",
      "train_acc_month tensor(0.9883, device='cuda:0')\n",
      "train_acc_day tensor(0.4463, device='cuda:0')\n"
     ]
    },
    {
     "data": {
      "application/vnd.jupyter.widget-view+json": {
       "model_id": "",
       "version_major": 2,
       "version_minor": 0
      },
      "text/plain": [
       "Validating: 0it [00:00, ?it/s]"
      ]
     },
     "metadata": {},
     "output_type": "display_data"
    },
    {
     "name": "stdout",
     "output_type": "stream",
     "text": [
      "val_acc_month tensor(0.9927, device='cuda:0')\n",
      "val_acc_day tensor(0.4185, device='cuda:0')\n",
      "train_acc_month tensor(0.9883, device='cuda:0')\n",
      "train_acc_day tensor(0.4478, device='cuda:0')\n"
     ]
    },
    {
     "data": {
      "application/vnd.jupyter.widget-view+json": {
       "model_id": "",
       "version_major": 2,
       "version_minor": 0
      },
      "text/plain": [
       "Validating: 0it [00:00, ?it/s]"
      ]
     },
     "metadata": {},
     "output_type": "display_data"
    },
    {
     "name": "stdout",
     "output_type": "stream",
     "text": [
      "val_acc_month tensor(0.9927, device='cuda:0')\n",
      "val_acc_day tensor(0.4214, device='cuda:0')\n",
      "train_acc_month tensor(0.9883, device='cuda:0')\n",
      "train_acc_day tensor(0.4487, device='cuda:0')\n"
     ]
    },
    {
     "data": {
      "application/vnd.jupyter.widget-view+json": {
       "model_id": "",
       "version_major": 2,
       "version_minor": 0
      },
      "text/plain": [
       "Validating: 0it [00:00, ?it/s]"
      ]
     },
     "metadata": {},
     "output_type": "display_data"
    },
    {
     "name": "stdout",
     "output_type": "stream",
     "text": [
      "val_acc_month tensor(0.9932, device='cuda:0')\n",
      "val_acc_day tensor(0.4233, device='cuda:0')\n",
      "train_acc_month tensor(0.9883, device='cuda:0')\n",
      "train_acc_day tensor(0.4502, device='cuda:0')\n"
     ]
    },
    {
     "data": {
      "application/vnd.jupyter.widget-view+json": {
       "model_id": "",
       "version_major": 2,
       "version_minor": 0
      },
      "text/plain": [
       "Validating: 0it [00:00, ?it/s]"
      ]
     },
     "metadata": {},
     "output_type": "display_data"
    },
    {
     "name": "stdout",
     "output_type": "stream",
     "text": [
      "val_acc_month tensor(0.9932, device='cuda:0')\n",
      "val_acc_day tensor(0.4253, device='cuda:0')\n",
      "train_acc_month tensor(0.9883, device='cuda:0')\n",
      "train_acc_day tensor(0.4507, device='cuda:0')\n"
     ]
    },
    {
     "data": {
      "application/vnd.jupyter.widget-view+json": {
       "model_id": "",
       "version_major": 2,
       "version_minor": 0
      },
      "text/plain": [
       "Validating: 0it [00:00, ?it/s]"
      ]
     },
     "metadata": {},
     "output_type": "display_data"
    },
    {
     "name": "stdout",
     "output_type": "stream",
     "text": [
      "val_acc_month tensor(0.9932, device='cuda:0')\n",
      "val_acc_day tensor(0.4277, device='cuda:0')\n",
      "train_acc_month tensor(0.9883, device='cuda:0')\n",
      "train_acc_day tensor(0.4536, device='cuda:0')\n"
     ]
    },
    {
     "data": {
      "application/vnd.jupyter.widget-view+json": {
       "model_id": "",
       "version_major": 2,
       "version_minor": 0
      },
      "text/plain": [
       "Validating: 0it [00:00, ?it/s]"
      ]
     },
     "metadata": {},
     "output_type": "display_data"
    },
    {
     "name": "stdout",
     "output_type": "stream",
     "text": [
      "val_acc_month tensor(0.9932, device='cuda:0')\n",
      "val_acc_day tensor(0.4292, device='cuda:0')\n",
      "train_acc_month tensor(0.9883, device='cuda:0')\n",
      "train_acc_day tensor(0.4585, device='cuda:0')\n"
     ]
    },
    {
     "data": {
      "application/vnd.jupyter.widget-view+json": {
       "model_id": "",
       "version_major": 2,
       "version_minor": 0
      },
      "text/plain": [
       "Validating: 0it [00:00, ?it/s]"
      ]
     },
     "metadata": {},
     "output_type": "display_data"
    },
    {
     "name": "stdout",
     "output_type": "stream",
     "text": [
      "val_acc_month tensor(0.9932, device='cuda:0')\n",
      "val_acc_day tensor(0.4321, device='cuda:0')\n",
      "train_acc_month tensor(0.9883, device='cuda:0')\n",
      "train_acc_day tensor(0.4585, device='cuda:0')\n"
     ]
    },
    {
     "data": {
      "application/vnd.jupyter.widget-view+json": {
       "model_id": "",
       "version_major": 2,
       "version_minor": 0
      },
      "text/plain": [
       "Validating: 0it [00:00, ?it/s]"
      ]
     },
     "metadata": {},
     "output_type": "display_data"
    },
    {
     "name": "stdout",
     "output_type": "stream",
     "text": [
      "val_acc_month tensor(0.9932, device='cuda:0')\n",
      "val_acc_day tensor(0.4346, device='cuda:0')\n",
      "train_acc_month tensor(0.9883, device='cuda:0')\n",
      "train_acc_day tensor(0.4604, device='cuda:0')\n"
     ]
    },
    {
     "data": {
      "application/vnd.jupyter.widget-view+json": {
       "model_id": "",
       "version_major": 2,
       "version_minor": 0
      },
      "text/plain": [
       "Validating: 0it [00:00, ?it/s]"
      ]
     },
     "metadata": {},
     "output_type": "display_data"
    },
    {
     "name": "stdout",
     "output_type": "stream",
     "text": [
      "val_acc_month tensor(0.9932, device='cuda:0')\n",
      "val_acc_day tensor(0.4370, device='cuda:0')\n",
      "train_acc_month tensor(0.9883, device='cuda:0')\n",
      "train_acc_day tensor(0.4634, device='cuda:0')\n"
     ]
    },
    {
     "data": {
      "application/vnd.jupyter.widget-view+json": {
       "model_id": "",
       "version_major": 2,
       "version_minor": 0
      },
      "text/plain": [
       "Validating: 0it [00:00, ?it/s]"
      ]
     },
     "metadata": {},
     "output_type": "display_data"
    },
    {
     "name": "stdout",
     "output_type": "stream",
     "text": [
      "val_acc_month tensor(0.9932, device='cuda:0')\n",
      "val_acc_day tensor(0.4370, device='cuda:0')\n",
      "train_acc_month tensor(0.9888, device='cuda:0')\n",
      "train_acc_day tensor(0.4663, device='cuda:0')\n"
     ]
    },
    {
     "data": {
      "application/vnd.jupyter.widget-view+json": {
       "model_id": "",
       "version_major": 2,
       "version_minor": 0
      },
      "text/plain": [
       "Validating: 0it [00:00, ?it/s]"
      ]
     },
     "metadata": {},
     "output_type": "display_data"
    },
    {
     "name": "stdout",
     "output_type": "stream",
     "text": [
      "val_acc_month tensor(0.9932, device='cuda:0')\n",
      "val_acc_day tensor(0.4419, device='cuda:0')\n",
      "train_acc_month tensor(0.9888, device='cuda:0')\n",
      "train_acc_day tensor(0.4702, device='cuda:0')\n"
     ]
    },
    {
     "data": {
      "application/vnd.jupyter.widget-view+json": {
       "model_id": "",
       "version_major": 2,
       "version_minor": 0
      },
      "text/plain": [
       "Validating: 0it [00:00, ?it/s]"
      ]
     },
     "metadata": {},
     "output_type": "display_data"
    },
    {
     "name": "stdout",
     "output_type": "stream",
     "text": [
      "val_acc_month tensor(0.9932, device='cuda:0')\n",
      "val_acc_day tensor(0.4458, device='cuda:0')\n",
      "train_acc_month tensor(0.9888, device='cuda:0')\n",
      "train_acc_day tensor(0.4707, device='cuda:0')\n"
     ]
    },
    {
     "data": {
      "application/vnd.jupyter.widget-view+json": {
       "model_id": "",
       "version_major": 2,
       "version_minor": 0
      },
      "text/plain": [
       "Validating: 0it [00:00, ?it/s]"
      ]
     },
     "metadata": {},
     "output_type": "display_data"
    },
    {
     "name": "stdout",
     "output_type": "stream",
     "text": [
      "val_acc_month tensor(0.9932, device='cuda:0')\n",
      "val_acc_day tensor(0.4473, device='cuda:0')\n",
      "train_acc_month tensor(0.9893, device='cuda:0')\n",
      "train_acc_day tensor(0.4722, device='cuda:0')\n"
     ]
    },
    {
     "data": {
      "application/vnd.jupyter.widget-view+json": {
       "model_id": "",
       "version_major": 2,
       "version_minor": 0
      },
      "text/plain": [
       "Validating: 0it [00:00, ?it/s]"
      ]
     },
     "metadata": {},
     "output_type": "display_data"
    },
    {
     "name": "stdout",
     "output_type": "stream",
     "text": [
      "val_acc_month tensor(0.9932, device='cuda:0')\n",
      "val_acc_day tensor(0.4478, device='cuda:0')\n",
      "train_acc_month tensor(0.9893, device='cuda:0')\n",
      "train_acc_day tensor(0.4751, device='cuda:0')\n"
     ]
    },
    {
     "data": {
      "application/vnd.jupyter.widget-view+json": {
       "model_id": "",
       "version_major": 2,
       "version_minor": 0
      },
      "text/plain": [
       "Validating: 0it [00:00, ?it/s]"
      ]
     },
     "metadata": {},
     "output_type": "display_data"
    },
    {
     "name": "stdout",
     "output_type": "stream",
     "text": [
      "val_acc_month tensor(0.9932, device='cuda:0')\n",
      "val_acc_day tensor(0.4487, device='cuda:0')\n",
      "train_acc_month tensor(0.9893, device='cuda:0')\n",
      "train_acc_day tensor(0.4771, device='cuda:0')\n"
     ]
    },
    {
     "data": {
      "application/vnd.jupyter.widget-view+json": {
       "model_id": "",
       "version_major": 2,
       "version_minor": 0
      },
      "text/plain": [
       "Validating: 0it [00:00, ?it/s]"
      ]
     },
     "metadata": {},
     "output_type": "display_data"
    },
    {
     "name": "stdout",
     "output_type": "stream",
     "text": [
      "val_acc_month tensor(0.9932, device='cuda:0')\n",
      "val_acc_day tensor(0.4502, device='cuda:0')\n",
      "train_acc_month tensor(0.9893, device='cuda:0')\n",
      "train_acc_day tensor(0.4800, device='cuda:0')\n"
     ]
    },
    {
     "data": {
      "application/vnd.jupyter.widget-view+json": {
       "model_id": "",
       "version_major": 2,
       "version_minor": 0
      },
      "text/plain": [
       "Validating: 0it [00:00, ?it/s]"
      ]
     },
     "metadata": {},
     "output_type": "display_data"
    },
    {
     "name": "stdout",
     "output_type": "stream",
     "text": [
      "val_acc_month tensor(0.9932, device='cuda:0')\n",
      "val_acc_day tensor(0.4517, device='cuda:0')\n",
      "train_acc_month tensor(0.9893, device='cuda:0')\n",
      "train_acc_day tensor(0.4829, device='cuda:0')\n"
     ]
    },
    {
     "data": {
      "application/vnd.jupyter.widget-view+json": {
       "model_id": "",
       "version_major": 2,
       "version_minor": 0
      },
      "text/plain": [
       "Validating: 0it [00:00, ?it/s]"
      ]
     },
     "metadata": {},
     "output_type": "display_data"
    },
    {
     "name": "stdout",
     "output_type": "stream",
     "text": [
      "val_acc_month tensor(0.9932, device='cuda:0')\n",
      "val_acc_day tensor(0.4546, device='cuda:0')\n",
      "train_acc_month tensor(0.9893, device='cuda:0')\n",
      "train_acc_day tensor(0.4868, device='cuda:0')\n"
     ]
    },
    {
     "data": {
      "application/vnd.jupyter.widget-view+json": {
       "model_id": "",
       "version_major": 2,
       "version_minor": 0
      },
      "text/plain": [
       "Validating: 0it [00:00, ?it/s]"
      ]
     },
     "metadata": {},
     "output_type": "display_data"
    },
    {
     "name": "stdout",
     "output_type": "stream",
     "text": [
      "val_acc_month tensor(0.9932, device='cuda:0')\n",
      "val_acc_day tensor(0.4561, device='cuda:0')\n",
      "train_acc_month tensor(0.9897, device='cuda:0')\n",
      "train_acc_day tensor(0.4897, device='cuda:0')\n"
     ]
    },
    {
     "data": {
      "application/vnd.jupyter.widget-view+json": {
       "model_id": "",
       "version_major": 2,
       "version_minor": 0
      },
      "text/plain": [
       "Validating: 0it [00:00, ?it/s]"
      ]
     },
     "metadata": {},
     "output_type": "display_data"
    },
    {
     "name": "stdout",
     "output_type": "stream",
     "text": [
      "val_acc_month tensor(0.9932, device='cuda:0')\n",
      "val_acc_day tensor(0.4585, device='cuda:0')\n",
      "train_acc_month tensor(0.9897, device='cuda:0')\n",
      "train_acc_day tensor(0.4907, device='cuda:0')\n"
     ]
    },
    {
     "data": {
      "application/vnd.jupyter.widget-view+json": {
       "model_id": "",
       "version_major": 2,
       "version_minor": 0
      },
      "text/plain": [
       "Validating: 0it [00:00, ?it/s]"
      ]
     },
     "metadata": {},
     "output_type": "display_data"
    },
    {
     "name": "stdout",
     "output_type": "stream",
     "text": [
      "val_acc_month tensor(0.9932, device='cuda:0')\n",
      "val_acc_day tensor(0.4595, device='cuda:0')\n",
      "train_acc_month tensor(0.9897, device='cuda:0')\n",
      "train_acc_day tensor(0.4907, device='cuda:0')\n"
     ]
    },
    {
     "data": {
      "application/vnd.jupyter.widget-view+json": {
       "model_id": "",
       "version_major": 2,
       "version_minor": 0
      },
      "text/plain": [
       "Validating: 0it [00:00, ?it/s]"
      ]
     },
     "metadata": {},
     "output_type": "display_data"
    },
    {
     "name": "stdout",
     "output_type": "stream",
     "text": [
      "val_acc_month tensor(0.9932, device='cuda:0')\n",
      "val_acc_day tensor(0.4619, device='cuda:0')\n",
      "train_acc_month tensor(0.9897, device='cuda:0')\n",
      "train_acc_day tensor(0.4922, device='cuda:0')\n"
     ]
    },
    {
     "data": {
      "application/vnd.jupyter.widget-view+json": {
       "model_id": "",
       "version_major": 2,
       "version_minor": 0
      },
      "text/plain": [
       "Validating: 0it [00:00, ?it/s]"
      ]
     },
     "metadata": {},
     "output_type": "display_data"
    },
    {
     "name": "stdout",
     "output_type": "stream",
     "text": [
      "val_acc_month tensor(0.9932, device='cuda:0')\n",
      "val_acc_day tensor(0.4619, device='cuda:0')\n",
      "train_acc_month tensor(0.9897, device='cuda:0')\n",
      "train_acc_day tensor(0.4932, device='cuda:0')\n"
     ]
    },
    {
     "data": {
      "application/vnd.jupyter.widget-view+json": {
       "model_id": "",
       "version_major": 2,
       "version_minor": 0
      },
      "text/plain": [
       "Validating: 0it [00:00, ?it/s]"
      ]
     },
     "metadata": {},
     "output_type": "display_data"
    },
    {
     "name": "stdout",
     "output_type": "stream",
     "text": [
      "val_acc_month tensor(0.9932, device='cuda:0')\n",
      "val_acc_day tensor(0.4624, device='cuda:0')\n",
      "train_acc_month tensor(0.9897, device='cuda:0')\n",
      "train_acc_day tensor(0.4951, device='cuda:0')\n"
     ]
    },
    {
     "data": {
      "application/vnd.jupyter.widget-view+json": {
       "model_id": "",
       "version_major": 2,
       "version_minor": 0
      },
      "text/plain": [
       "Validating: 0it [00:00, ?it/s]"
      ]
     },
     "metadata": {},
     "output_type": "display_data"
    },
    {
     "name": "stdout",
     "output_type": "stream",
     "text": [
      "val_acc_month tensor(0.9937, device='cuda:0')\n",
      "val_acc_day tensor(0.4648, device='cuda:0')\n",
      "train_acc_month tensor(0.9897, device='cuda:0')\n",
      "train_acc_day tensor(0.4985, device='cuda:0')\n"
     ]
    },
    {
     "data": {
      "application/vnd.jupyter.widget-view+json": {
       "model_id": "",
       "version_major": 2,
       "version_minor": 0
      },
      "text/plain": [
       "Validating: 0it [00:00, ?it/s]"
      ]
     },
     "metadata": {},
     "output_type": "display_data"
    },
    {
     "name": "stdout",
     "output_type": "stream",
     "text": [
      "val_acc_month tensor(0.9937, device='cuda:0')\n",
      "val_acc_day tensor(0.4648, device='cuda:0')\n",
      "train_acc_month tensor(0.9897, device='cuda:0')\n",
      "train_acc_day tensor(0.4990, device='cuda:0')\n"
     ]
    },
    {
     "data": {
      "application/vnd.jupyter.widget-view+json": {
       "model_id": "",
       "version_major": 2,
       "version_minor": 0
      },
      "text/plain": [
       "Validating: 0it [00:00, ?it/s]"
      ]
     },
     "metadata": {},
     "output_type": "display_data"
    },
    {
     "name": "stdout",
     "output_type": "stream",
     "text": [
      "val_acc_month tensor(0.9937, device='cuda:0')\n",
      "val_acc_day tensor(0.4663, device='cuda:0')\n",
      "train_acc_month tensor(0.9897, device='cuda:0')\n",
      "train_acc_day tensor(0.5000, device='cuda:0')\n"
     ]
    },
    {
     "data": {
      "application/vnd.jupyter.widget-view+json": {
       "model_id": "",
       "version_major": 2,
       "version_minor": 0
      },
      "text/plain": [
       "Validating: 0it [00:00, ?it/s]"
      ]
     },
     "metadata": {},
     "output_type": "display_data"
    },
    {
     "name": "stdout",
     "output_type": "stream",
     "text": [
      "val_acc_month tensor(0.9937, device='cuda:0')\n",
      "val_acc_day tensor(0.4678, device='cuda:0')\n",
      "train_acc_month tensor(0.9897, device='cuda:0')\n",
      "train_acc_day tensor(0.5000, device='cuda:0')\n"
     ]
    },
    {
     "data": {
      "application/vnd.jupyter.widget-view+json": {
       "model_id": "",
       "version_major": 2,
       "version_minor": 0
      },
      "text/plain": [
       "Validating: 0it [00:00, ?it/s]"
      ]
     },
     "metadata": {},
     "output_type": "display_data"
    },
    {
     "name": "stdout",
     "output_type": "stream",
     "text": [
      "val_acc_month tensor(0.9937, device='cuda:0')\n",
      "val_acc_day tensor(0.4678, device='cuda:0')\n",
      "train_acc_month tensor(0.9897, device='cuda:0')\n",
      "train_acc_day tensor(0.4995, device='cuda:0')\n"
     ]
    },
    {
     "data": {
      "application/vnd.jupyter.widget-view+json": {
       "model_id": "",
       "version_major": 2,
       "version_minor": 0
      },
      "text/plain": [
       "Validating: 0it [00:00, ?it/s]"
      ]
     },
     "metadata": {},
     "output_type": "display_data"
    },
    {
     "name": "stdout",
     "output_type": "stream",
     "text": [
      "val_acc_month tensor(0.9937, device='cuda:0')\n",
      "val_acc_day tensor(0.4702, device='cuda:0')\n",
      "train_acc_month tensor(0.9897, device='cuda:0')\n",
      "train_acc_day tensor(0.5024, device='cuda:0')\n"
     ]
    },
    {
     "data": {
      "application/vnd.jupyter.widget-view+json": {
       "model_id": "",
       "version_major": 2,
       "version_minor": 0
      },
      "text/plain": [
       "Validating: 0it [00:00, ?it/s]"
      ]
     },
     "metadata": {},
     "output_type": "display_data"
    },
    {
     "name": "stdout",
     "output_type": "stream",
     "text": [
      "val_acc_month tensor(0.9937, device='cuda:0')\n",
      "val_acc_day tensor(0.4707, device='cuda:0')\n",
      "train_acc_month tensor(0.9897, device='cuda:0')\n",
      "train_acc_day tensor(0.5020, device='cuda:0')\n"
     ]
    },
    {
     "data": {
      "application/vnd.jupyter.widget-view+json": {
       "model_id": "",
       "version_major": 2,
       "version_minor": 0
      },
      "text/plain": [
       "Validating: 0it [00:00, ?it/s]"
      ]
     },
     "metadata": {},
     "output_type": "display_data"
    },
    {
     "name": "stdout",
     "output_type": "stream",
     "text": [
      "val_acc_month tensor(0.9937, device='cuda:0')\n",
      "val_acc_day tensor(0.4717, device='cuda:0')\n",
      "train_acc_month tensor(0.9897, device='cuda:0')\n",
      "train_acc_day tensor(0.5034, device='cuda:0')\n"
     ]
    },
    {
     "data": {
      "application/vnd.jupyter.widget-view+json": {
       "model_id": "",
       "version_major": 2,
       "version_minor": 0
      },
      "text/plain": [
       "Validating: 0it [00:00, ?it/s]"
      ]
     },
     "metadata": {},
     "output_type": "display_data"
    },
    {
     "name": "stdout",
     "output_type": "stream",
     "text": [
      "val_acc_month tensor(0.9937, device='cuda:0')\n",
      "val_acc_day tensor(0.4746, device='cuda:0')\n",
      "train_acc_month tensor(0.9897, device='cuda:0')\n",
      "train_acc_day tensor(0.5068, device='cuda:0')\n"
     ]
    },
    {
     "data": {
      "application/vnd.jupyter.widget-view+json": {
       "model_id": "",
       "version_major": 2,
       "version_minor": 0
      },
      "text/plain": [
       "Validating: 0it [00:00, ?it/s]"
      ]
     },
     "metadata": {},
     "output_type": "display_data"
    },
    {
     "name": "stdout",
     "output_type": "stream",
     "text": [
      "val_acc_month tensor(0.9937, device='cuda:0')\n",
      "val_acc_day tensor(0.4766, device='cuda:0')\n",
      "train_acc_month tensor(0.9897, device='cuda:0')\n",
      "train_acc_day tensor(0.5063, device='cuda:0')\n"
     ]
    },
    {
     "data": {
      "application/vnd.jupyter.widget-view+json": {
       "model_id": "",
       "version_major": 2,
       "version_minor": 0
      },
      "text/plain": [
       "Validating: 0it [00:00, ?it/s]"
      ]
     },
     "metadata": {},
     "output_type": "display_data"
    },
    {
     "name": "stdout",
     "output_type": "stream",
     "text": [
      "val_acc_month tensor(0.9937, device='cuda:0')\n",
      "val_acc_day tensor(0.4800, device='cuda:0')\n",
      "train_acc_month tensor(0.9897, device='cuda:0')\n",
      "train_acc_day tensor(0.5068, device='cuda:0')\n"
     ]
    },
    {
     "data": {
      "application/vnd.jupyter.widget-view+json": {
       "model_id": "",
       "version_major": 2,
       "version_minor": 0
      },
      "text/plain": [
       "Validating: 0it [00:00, ?it/s]"
      ]
     },
     "metadata": {},
     "output_type": "display_data"
    },
    {
     "name": "stdout",
     "output_type": "stream",
     "text": [
      "val_acc_month tensor(0.9937, device='cuda:0')\n",
      "val_acc_day tensor(0.4819, device='cuda:0')\n",
      "train_acc_month tensor(0.9897, device='cuda:0')\n",
      "train_acc_day tensor(0.5093, device='cuda:0')\n"
     ]
    },
    {
     "data": {
      "application/vnd.jupyter.widget-view+json": {
       "model_id": "",
       "version_major": 2,
       "version_minor": 0
      },
      "text/plain": [
       "Validating: 0it [00:00, ?it/s]"
      ]
     },
     "metadata": {},
     "output_type": "display_data"
    },
    {
     "name": "stdout",
     "output_type": "stream",
     "text": [
      "val_acc_month tensor(0.9937, device='cuda:0')\n",
      "val_acc_day tensor(0.4844, device='cuda:0')\n",
      "train_acc_month tensor(0.9897, device='cuda:0')\n",
      "train_acc_day tensor(0.5103, device='cuda:0')\n"
     ]
    },
    {
     "data": {
      "application/vnd.jupyter.widget-view+json": {
       "model_id": "",
       "version_major": 2,
       "version_minor": 0
      },
      "text/plain": [
       "Validating: 0it [00:00, ?it/s]"
      ]
     },
     "metadata": {},
     "output_type": "display_data"
    },
    {
     "name": "stdout",
     "output_type": "stream",
     "text": [
      "val_acc_month tensor(0.9937, device='cuda:0')\n",
      "val_acc_day tensor(0.4863, device='cuda:0')\n",
      "train_acc_month tensor(0.9897, device='cuda:0')\n",
      "train_acc_day tensor(0.5107, device='cuda:0')\n"
     ]
    },
    {
     "data": {
      "application/vnd.jupyter.widget-view+json": {
       "model_id": "",
       "version_major": 2,
       "version_minor": 0
      },
      "text/plain": [
       "Validating: 0it [00:00, ?it/s]"
      ]
     },
     "metadata": {},
     "output_type": "display_data"
    },
    {
     "name": "stdout",
     "output_type": "stream",
     "text": [
      "val_acc_month tensor(0.9937, device='cuda:0')\n",
      "val_acc_day tensor(0.4863, device='cuda:0')\n",
      "train_acc_month tensor(0.9897, device='cuda:0')\n",
      "train_acc_day tensor(0.5112, device='cuda:0')\n"
     ]
    },
    {
     "data": {
      "application/vnd.jupyter.widget-view+json": {
       "model_id": "",
       "version_major": 2,
       "version_minor": 0
      },
      "text/plain": [
       "Validating: 0it [00:00, ?it/s]"
      ]
     },
     "metadata": {},
     "output_type": "display_data"
    },
    {
     "name": "stdout",
     "output_type": "stream",
     "text": [
      "val_acc_month tensor(0.9937, device='cuda:0')\n",
      "val_acc_day tensor(0.4858, device='cuda:0')\n",
      "train_acc_month tensor(0.9897, device='cuda:0')\n",
      "train_acc_day tensor(0.5142, device='cuda:0')\n"
     ]
    },
    {
     "data": {
      "application/vnd.jupyter.widget-view+json": {
       "model_id": "",
       "version_major": 2,
       "version_minor": 0
      },
      "text/plain": [
       "Validating: 0it [00:00, ?it/s]"
      ]
     },
     "metadata": {},
     "output_type": "display_data"
    },
    {
     "name": "stdout",
     "output_type": "stream",
     "text": [
      "val_acc_month tensor(0.9937, device='cuda:0')\n",
      "val_acc_day tensor(0.4888, device='cuda:0')\n",
      "train_acc_month tensor(0.9897, device='cuda:0')\n",
      "train_acc_day tensor(0.5171, device='cuda:0')\n"
     ]
    },
    {
     "data": {
      "application/vnd.jupyter.widget-view+json": {
       "model_id": "",
       "version_major": 2,
       "version_minor": 0
      },
      "text/plain": [
       "Validating: 0it [00:00, ?it/s]"
      ]
     },
     "metadata": {},
     "output_type": "display_data"
    },
    {
     "name": "stdout",
     "output_type": "stream",
     "text": [
      "val_acc_month tensor(0.9937, device='cuda:0')\n",
      "val_acc_day tensor(0.4888, device='cuda:0')\n"
     ]
    }
   ],
   "source": [
    "trainer.fit(birthday_model, birthday_dm)"
   ]
  },
  {
   "cell_type": "code",
   "execution_count": 96,
   "id": "fd810a23-72cb-4a44-9a88-9b1721b9ee69",
   "metadata": {},
   "outputs": [
    {
     "data": {
      "text/plain": [
       "{'train_acc_month': tensor(1.),\n",
       " 'train_acc_day': tensor(1.),\n",
       " 'val_acc_month': 0.9931232929229736,\n",
       " 'val_acc_day': 0.48192545771598816}"
      ]
     },
     "execution_count": 96,
     "metadata": {},
     "output_type": "execute_result"
    }
   ],
   "source": [
    "trainer.logged_metrics"
   ]
  },
  {
   "cell_type": "code",
   "execution_count": 97,
   "id": "a79f7fcf-67f9-4a6b-be6d-0e32b2dc1158",
   "metadata": {},
   "outputs": [
    {
     "data": {
      "text/plain": [
       "torch.Size([58266, 3072])"
      ]
     },
     "execution_count": 97,
     "metadata": {},
     "output_type": "execute_result"
    }
   ],
   "source": [
    "model.train_profile_embeddings.shape"
   ]
  },
  {
   "cell_type": "code",
   "execution_count": null,
   "id": "a069b344-9fd9-42a5-b834-0a4d7b4594d1",
   "metadata": {},
   "outputs": [],
   "source": []
  }
 ],
 "metadata": {
  "kernelspec": {
   "display_name": "Python 3",
   "language": "python",
   "name": "python3"
  },
  "language_info": {
   "codemirror_mode": {
    "name": "ipython",
    "version": 3
   },
   "file_extension": ".py",
   "mimetype": "text/x-python",
   "name": "python",
   "nbconvert_exporter": "python",
   "pygments_lexer": "ipython3",
   "version": "3.9.7"
  }
 },
 "nbformat": 4,
 "nbformat_minor": 5
}
