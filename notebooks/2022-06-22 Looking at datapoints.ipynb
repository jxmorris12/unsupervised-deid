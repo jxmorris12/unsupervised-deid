{
 "cells": [
  {
   "cell_type": "code",
   "execution_count": 1,
   "id": "43dd950b-5df4-41e4-8477-c7d76cf3fc6d",
   "metadata": {},
   "outputs": [
    {
     "name": "stdout",
     "output_type": "stream",
     "text": [
      "Initializing WikipediaDataModule with num_workers = 8 and mask token `<mask>`\n",
      "loading wiki_bio[1.2.0] split train[:100%]\n",
      "loading wiki_bio[1.2.0] split val[:100%]\n",
      "loading wiki_bio[1.2.0] split test[:100%]\n",
      "                        "
     ]
    }
   ],
   "source": [
    "import sys\n",
    "sys.path.append('/home/jxm3/research/deidentification/unsupervised-deidentification')\n",
    "\n",
    "from dataloader import WikipediaDataModule\n",
    "\n",
    "import numpy as np\n",
    "\n",
    "\n",
    "num_cpus = 8\n",
    "\n",
    "dm = WikipediaDataModule(\n",
    "    document_model_name_or_path='roberta-base',\n",
    "    profile_model_name_or_path='google/tapas-base',\n",
    "    dataset_name='wiki_bio',\n",
    "    dataset_train_split='train[:100%]',\n",
    "    dataset_val_split='val[:100%]',\n",
    "    dataset_test_split='test[:100%]',\n",
    "    dataset_version='1.2.0',\n",
    "    num_workers=num_cpus,\n",
    "    train_batch_size=256,\n",
    "    eval_batch_size=256,\n",
    "    max_seq_length=128,\n",
    "    sample_spans=False,\n",
    ")\n",
    "dm.setup(\"fit\")"
   ]
  },
  {
   "cell_type": "code",
   "execution_count": 3,
   "id": "92e59186-5ead-45be-aeda-e40271267a3e",
   "metadata": {},
   "outputs": [],
   "source": [
    "from typing import List, Tuple\n",
    "\n",
    "from IPython.display import HTML, display\n",
    "import html\n",
    "\n",
    "wrap_th = lambda s: f'<th>{s}</th>'\n",
    "wrap_td = lambda s: f'<td>{s}</td>'\n",
    "\n",
    "def get_person(i: int):\n",
    "    if i < len(dm.test_dataset):\n",
    "        return dm.test_dataset[i]\n",
    "    elif i < (len(dm.test_dataset) + len(dm.val_dataset)):\n",
    "        return dm.val_dataset[i - len(dm.test_dataset)]\n",
    "    else:\n",
    "        return dm.train_dataset[i - len(dm.test_dataset) - len(dm.val_dataset)]\n",
    "\n",
    "def table_from_table_rows(rows_str: str) -> List[Tuple[str, str]]:\n",
    "    return [[el.strip() for el in r.split('||')] for r in rows_str.split('\\n')]\n",
    "\n",
    "def make_prof_html(profile: str) -> str:\n",
    "    table = table_from_table_rows(profile)\n",
    "    s = '<table style=\"border: 1px solid black\"><tbody>'\n",
    "    # print('table:', table)\n",
    "    for rkey, rval in table:\n",
    "        s += '<tr>'\n",
    "        s += f'<th><b>{rkey}</b></th>'\n",
    "        s += f'<td>{rval}</td>'\n",
    "        s += '</tr>'\n",
    "    s += '</tbody></table>'\n",
    "    return s\n",
    "\n",
    "def display_profile_by_index(idx: int):\n",
    "    display(HTML(make_prof_html(get_person(idx)['profile'])))\n"
   ]
  },
  {
   "cell_type": "code",
   "execution_count": 6,
   "id": "bcd4f1f1-fd99-4865-93ce-2730dcbd80eb",
   "metadata": {},
   "outputs": [
    {
     "data": {
      "text/html": [
       "<table style=\"border: 1px solid black\"><tbody><tr><th><b>position</b></th><td>guard</td></tr><tr><th><b>draft_pick</b></th><td>27</td></tr><tr><th><b>nationality</b></th><td>turkish</td></tr><tr><th><b>team</b></th><td>fenerbahçe istanbul</td></tr><tr><th><b>draft_team</b></th><td>new york liberty</td></tr><tr><th><b>draft_year</b></th><td>2013</td></tr><tr><th><b>height_in</b></th><td>0</td></tr><tr><th><b>weight_lbs</b></th><td>132</td></tr><tr><th><b>birth_date</b></th><td>13 july 1993</td></tr><tr><th><b>article_title</b></th><td>olcay Çakır</td></tr><tr><th><b>league</b></th><td>turkish women 's basketball league euroleague women</td></tr><tr><th><b>number</b></th><td>21</td></tr><tr><th><b>draft_league</b></th><td>wnba</td></tr><tr><th><b>career_start</b></th><td>2010</td></tr><tr><th><b>name</b></th><td>olcay Çakır</td></tr><tr><th><b>height_ft</b></th><td>6</td></tr><tr><th><b>draft_round</b></th><td>3</td></tr><tr><th><b>birth_place</b></th><td>konak , İzmir , turkey</td></tr><tr><th><b>team_link</b></th><td>fenerbahçe women 's basketball</td></tr></tbody></table>"
      ],
      "text/plain": [
       "<IPython.core.display.HTML object>"
      ]
     },
     "metadata": {},
     "output_type": "display_data"
    }
   ],
   "source": [
    "display_profile_by_index(idx=24)"
   ]
  },
  {
   "cell_type": "code",
   "execution_count": 12,
   "id": "bac3ce68-e083-4979-b534-977f07637d0c",
   "metadata": {},
   "outputs": [
    {
     "data": {
      "text/plain": [
       "\"<mask> <mask> ( born <mask> <mask> <mask> in <mask> , <mask> , <mask> ) is a <mask> <mask> player .\\nthe young national plays for <mask> İstanbul as both <mask> ( 1-2 ) <mask> .\\n<mask> <mask> is 182 cm tall and weighs 60 kg .\\nshe is playing for <mask> since 2005 in youth level and since <mask> in senior level .\\n<mask> was selected 27th overall in the <mask> <mask> draft 's round <mask> by the <mask> <mask> <mask> .\\nshe is so the first ever woman <mask> player from <mask> to be drafted by the <mask> .\\nthe only <mask> <mask> player , who played in the <mask> , is nevriye yılmaz .\\n\""
      ]
     },
     "execution_count": 12,
     "metadata": {},
     "output_type": "execute_result"
    }
   ],
   "source": [
    "dm.test_dataset[24]['document_redact_lexical']"
   ]
  },
  {
   "cell_type": "code",
   "execution_count": 43,
   "id": "1c8454ea-6db5-41cb-9764-021abdf37152",
   "metadata": {},
   "outputs": [
    {
     "name": "stdout",
     "output_type": "stream",
     "text": [
      "0 olcay         mask\n",
      "1 Çakır         mask\n",
      "2 born          born\n",
      "3 13            mask\n",
      "4 july          mask\n",
      "5 1993          mask\n",
      "6 in            in\n",
      "7 konak         mask\n",
      "8 İzmir         mask\n",
      "9 turkey        mask\n",
      "10 is            is\n",
      "11 a             a\n",
      "12 turkish       mask\n",
      "13 basketball    mask\n",
      "14 player        player\n",
      "15 the           the\n",
      "16 young         young\n",
      "17 national      national\n",
      "18 plays         plays\n",
      "19 for           for\n",
      "20 fenerbahçe    mask\n",
      "21 İstanbul      İstanbul\n",
      "22 as            as\n",
      "23 both          both\n",
      "24 guard         mask\n",
      "25 1             1\n",
      "26 2             2\n",
      "27 position      mask\n",
      "28 olcay         mask\n",
      "29 Çakır         mask\n",
      "30 is            is\n",
      "31 182           182\n",
      "32 cm            cm\n",
      "33 tall          tall\n",
      "34 and           and\n",
      "35 weighs        weighs\n",
      "36 60            60\n",
      "37 kg            kg\n",
      "38 she           she\n",
      "39 is            is\n",
      "40 playing       playing\n",
      "41 for           for\n",
      "42 fenerbahçe    mask\n",
      "43 since         since\n",
      "44 2005          2005\n",
      "45 in            in\n",
      "46 youth         youth\n",
      "47 level         level\n",
      "48 and           and\n",
      "49 since         since\n",
      "50 2010          mask\n",
      "51 in            in\n",
      "52 senior        senior\n",
      "53 level         level\n",
      "54 Çakır         mask\n",
      "55 was           was\n",
      "56 selected      selected\n",
      "57 27th          27th\n",
      "58 overall       overall\n",
      "59 in            in\n",
      "60 the           the\n",
      "61 2013          mask\n",
      "62 wnba          mask\n",
      "63 draft         draft\n",
      "64 s             s\n",
      "65 round         round\n",
      "66 3             mask\n",
      "67 by            by\n",
      "68 the           the\n",
      "69 new           mask\n",
      "70 york          mask\n",
      "71 liberty       mask\n",
      "72 she           she\n",
      "73 is            is\n",
      "74 so            so\n",
      "75 the           the\n",
      "76 first         first\n",
      "77 ever          ever\n",
      "24\n"
     ]
    }
   ],
   "source": [
    "ex = dm.test_dataset[24]\n",
    "words_split_re = re.compile(r'[\\W_]+')\n",
    "\n",
    "lex_words = [w for w in words_split_re.split(ex['document_redact_lexical']) if len(w)][:78]\n",
    "doc_words = words_split_re.split(ex['document'])[:78]\n",
    "\n",
    "num_subbed_words = 0\n",
    "for i in range(len(lex_words)):\n",
    "    print(i, doc_words[i].strip(), ' ' * (12 - len(doc_words[i].strip())), lex_words[i].strip())\n",
    "    if lex_words[i] == 'mask':\n",
    "        num_subbed_words += 1\n",
    "\n",
    "print(num_subbed_words)"
   ]
  },
  {
   "cell_type": "code",
   "execution_count": null,
   "id": "a101a142-71e2-489b-88d2-511bf36c2ba9",
   "metadata": {},
   "outputs": [],
   "source": []
  }
 ],
 "metadata": {
  "kernelspec": {
   "display_name": "Python 3",
   "language": "python",
   "name": "python3"
  },
  "language_info": {
   "codemirror_mode": {
    "name": "ipython",
    "version": 3
   },
   "file_extension": ".py",
   "mimetype": "text/x-python",
   "name": "python",
   "nbconvert_exporter": "python",
   "pygments_lexer": "ipython3",
   "version": "3.9.7"
  }
 },
 "nbformat": 4,
 "nbformat_minor": 5
}
